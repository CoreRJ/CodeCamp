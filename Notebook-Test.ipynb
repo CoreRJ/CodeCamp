{
 "cells": [
  {
   "cell_type": "markdown",
   "metadata": {},
   "source": [
    "## This is a test notebook\n",
    "\n",
    "Jupyter Notebooks (formerly known as iPython notebooks) are composed of 'cells' that contain either text or code. "
   ]
  },
  {
   "cell_type": "markdown",
   "metadata": {},
   "source": [
    "This cell contains text. "
   ]
  },
  {
   "cell_type": "markdown",
   "metadata": {},
   "source": [
    "The cell below is a code cell, as indicated by  \"<span style=\"color:blue\">In [ ]</span>\". "
   ]
  },
  {
   "cell_type": "code",
   "execution_count": null,
   "metadata": {
    "collapsed": false
   },
   "outputs": [],
   "source": []
  },
  {
   "cell_type": "markdown",
   "metadata": {},
   "source": [
    "You can type code in the box on the right of  \"<span style=\"color:blue\">In [ ]</span>\" which you can then run by clicking the 'run cell' button in the toolbar above. The run button looks like this: <img src=\"https://kingsgeocomputation.files.wordpress.com/2016/08/runcellbutton.png\"> \n",
    "\n",
    "Try running some code by typing `print(\"Hello World\")` in the code cell above and running it by clicking the run button (on the toolbar, not the image of the run button!). "
   ]
  },
  {
   "cell_type": "markdown",
   "metadata": {},
   "source": [
    "Hopefully the words `Hello World` have appeared below the code cell above. Well done, you just ran some code!\n",
    "\n",
    "Use the code cell below to try something else. Like `2 + 2`"
   ]
  },
  {
   "cell_type": "code",
   "execution_count": null,
   "metadata": {
    "collapsed": true
   },
   "outputs": [],
   "source": []
  },
  {
   "cell_type": "markdown",
   "metadata": {},
   "source": [
    "You can add your own cells to notebooks by going to the Insert menu, then selecting Insert Cell Above (or Below).\n",
    "\n",
    "For more on how to use Jupyter Notebooks follow this nice and easy tutorial from [OpenTechSchool](http://opentechschool.github.io/python-data-intro/core/notebook.html)"
   ]
  }
 ],
 "metadata": {
  "anaconda-cloud": {},
  "kernelspec": {
   "display_name": "Python [Root]",
   "language": "python",
   "name": "Python [Root]"
  },
  "language_info": {
   "codemirror_mode": {
    "name": "ipython",
    "version": 2
   },
   "file_extension": ".py",
   "mimetype": "text/x-python",
   "name": "python",
   "nbconvert_exporter": "python",
   "pygments_lexer": "ipython2",
   "version": "2.7.12"
  }
 },
 "nbformat": 4,
 "nbformat_minor": 0
}
