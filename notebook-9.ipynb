{
 "cells": [
  {
   "cell_type": "markdown",
   "metadata": {},
   "source": [
    "# Notebook-9: Wrapping Up (Paths, Terminals & Style)"
   ]
  },
  {
   "cell_type": "markdown",
   "metadata": {},
   "source": [
    "### Lesson Content \n",
    "\n",
    "- Paths\n",
    "    - How to interact with the file system\n",
    "    - Special paths (`.`, `..`, and `/`)\n",
    "- Terminals\n",
    "    - Why use the command line?\n",
    "    - Moving around using the command line\n",
    "    - Other handy command line tools\n",
    "- Style\n",
    "    - Why style matters\n",
    "    - Python style\n",
    "- Why???\n",
    "    - Why did I enter this world of pain?\n",
    "    - Where am I going?\n",
    "\n",
    "Welcome to the ninth, and currently _last_, Code Camp notebook! In this lesson we'll cover a number of things that don't fit anywhere else but which are essential to getting you on your way as a beginner programmer in Geocomputation.\n"
   ]
  },
  {
   "cell_type": "markdown",
   "metadata": {},
   "source": [
    "## Paths\n",
    "\n",
    "Have you ever thought about how and where files are stored on your computer? Probably not, unless you were very bored. Unfortunately, when you start programming you _do_ need to learn a bit more about this -- enough, at least, to tell Python where to find the data file that you want it to read... though you can do much more than that!\n",
    "\n",
    "_Note_: in last year's assessed practicals quite a few students got bogged down at this point and never even got started on the data analysis! This impacted their marks quite dramatically. So this may seem dull, but it's pretty important.\n",
    "\n",
    "A few starting principles:\n",
    "\n",
    "1. Directories and files all have a unique location _somewhere_ in the storage hierarchy on a drive.\n",
    "\n",
    "2. A directory (or folder) can contain both directories and files.\n",
    "\n",
    "3. The directory that sits at the bottom of the hierarchy (_i.e._ is not itself in a directory) is known as the **root directory**.\n",
    "\n",
    "4. The directory in which _your_ settings and documents are saved (_i.e._ the stuff associated with your _user_) is known as the **home directory**.\n",
    "\n",
    "5. A file must be stored in a directory (there are no root files).\n",
    "\n",
    "We'll get to a video in a second, but on a Mac you can 'view' the path in the Finder simply by clicking on any finder window and typing `Alt + Command + P` (or selecting `View > Path` from the menu bar). This will show the current path in a strip along the bottom of the finder window. Pay attention to the Path view in the movie below.\n",
    "\n",
    "[![The Path (Graphical Version)](http://img.youtube.com/vi/U0hrKz5Ajrg/0.jpg)](http://www.youtube.com/watch?v=U0hrKz5Ajrg \"The Path (Graphical Version)\")"
   ]
  },
  {
   "cell_type": "markdown",
   "metadata": {},
   "source": [
    "## Paths in a Terminal\n",
    "\n",
    "Sooner or later you are going to have to learn how to use the Terminal/Shell, so we might as well get started now. In particular, learning to the use the Terminal is going to help a _lot_ in learning about paths and in fixing subtle problems with your programmes. Here's the _same_ process of navigating from a directory called `KCL Modules` down to the 2017-18 Geocomputation Teaching directory as you just saw above, but using the Terminal:\n",
    "\n",
    "[![The Path (Terminal Version)](http://img.youtube.com/vi/qxvhsuOKGaY/0.jpg)](http://www.youtube.com/watch?v=qxvhsuOKGaY \"The Path (Terminal Version)\")"
   ]
  },
  {
   "cell_type": "markdown",
   "metadata": {},
   "source": [
    "### Some Key Terminal Commands\n",
    "\n",
    "In the Terminal video just above you'll have seen several seemingly cryptic commands -- we'll examine them in more detail below, but the important ones to note in this video are:\n",
    "\n",
    "- `ls` lists the contents of the current directory\n",
    "- `cd` changes from the current directory\n",
    "\n",
    "### Navigating Using the Terminal\n",
    "\n",
    "You need to think of the terminal as having a 'location in' or a 'view of' your computer: it's the same as clicking through the Finder (or Windows Explorer) in that you have to move 'down' into sub-folders or 'up' into parent directories to see what's available at that 'level' of the drive. \n",
    "\n",
    "So in the movie you've just watched:\n",
    "1. I started the movie while in a directory called `KCL Teaching` that (you see at the end) sits under `/Users/my.blurred.username/Documents/`.\n",
    "2. I listed the files and directories in `KCL Teaching` using `ls`.\n",
    "3. I then changed directory (using `cd`) into the directory called `KCL Modules` (and note that, because there's a space in the directory name I had to write this as `KCL\\ Modules`... that's because the Terminal couldn't otherwise tell if we meant to move to a directory called `KCL` and then run a command called `Modules`; it's a long story).\n",
    "4. I then changed directory again into a directory called `Undergraduate` -- if you're keeping track this now means that we're 'in' `/Users/my.blurred.username/Documents/KCL\\ Teaching/KCL\\ Modules/Undergraduate/`\n",
    "5. We carry on navigating down the hierarchy until we reach the 2017-18 teaching folder, at which point I print the working directory to show you where we've ended up and that it's the same location as we reached using the Finder in the other video. \n",
    "\n",
    "For people who are used to just saving a document pretty much anywhere on their computer (or iPad or iPhone) and having it accessible via Spotlight/Search functions this can take a _lot_ of getting used to, but remember that in learning to program we're gradually stripping away the bells and whistles that sit between you and what the computer's actually doing. "
   ]
  },
  {
   "cell_type": "markdown",
   "metadata": {},
   "source": [
    "### The Benefits\n",
    "\n",
    "Learning to program involves a _lot_ of delayed gratification: you will need to invest quite a bit of time in learning to crawl before you can walk, and walk before you can run. A well-designed programming language like Python can make it easier to learn each step, but it still won't make it easy. We've said this before and we'll say it again (and again, and again) that you _must_ think of this as learning a language: at first very little will make sense and you won't be able to say much more than 'hello, my name is X', but if you _practice_ and really _think_ about what you're doing it will get easier and easier, and faster and faster, to program.\n",
    "\n",
    "Learning to navigate around your hard drive using the Terminal is a good case in point: why learn to do this when you could just dump all of your data into one directory and then never need to think about it again? \n",
    "\n",
    "Two reasons:\n",
    "\n",
    "1. Because you will need to think _logically_ and in an _organised_ way about how you manage data when you start doing data analysis: you will almost never receive raw data that doesn't require some work; so if you save your raw data and your processed data in the same directory how can you be sure you've loaded the right file? It's much easier to have two folders -- `raw` or `source`, and `clean` or `output` -- and use Python to read in raw data from one directory and writing the processed data out to a different directory than it would be using Excel's `File > Save As`. That's because the path is just a _string_ and you can easily work with it as an array like any other!\n",
    "\n",
    "2. Because once you've learned how to use the path on your _own_ computer, you can use the _same_ techniques to navigate a web server or computer on the other side of the planet using URLs (which are just paths with some special 'sauce' that tell Python that the file it needs isn't on this computer).\n",
    "\n",
    "Here's an example using some code that probably won't make sense _now_, but will do later:"
   ]
  },
  {
   "cell_type": "code",
   "execution_count": null,
   "metadata": {},
   "outputs": [],
   "source": [
    "import csv\n",
    "import requests as r\n",
    "\n",
    "url = 'https://raw.githubusercontent.com/kingsgeocomp/geocomputation/master/CitiesWithWikipediaData.csv'\n",
    "data = r.get(url)\n",
    "content = data.content.decode('utf-8').splitlines()\n",
    "cr = csv.reader(content)\n",
    "\n",
    "for row in cr:\n",
    "    if row[3] != 'Population':\n",
    "        print(row[1] + \" has population \" + \"{:,}\".format(int(row[3])))"
   ]
  },
  {
   "cell_type": "markdown",
   "metadata": {},
   "source": [
    "We're going to revisit a lot of this as part of the next module, but just to highlight a few things:\n",
    "\n",
    "1. We got a CSV file from somewhere using `requests` (I don't even know where GitHub's servers are based),\n",
    "2. We 'parsed' it into a list (each `row` becomes a list thanks to the magic of the `csv` library that we `import`),\n",
    "3. We skip the first row (because it's a 'header' row and doesn't contain data),\n",
    "4. We print out the 2nd and 4th columns of the CSV file.\n",
    "\n",
    "You can see what the source looked like [here](https://raw.githubusercontent.com/kingsgeocomp/geocomputation/master/CitiesWithWikipediaData.csv). And you'll note that the URL looks _exactly_ like the path that we saw when we used the Terminal on my computer to visit the 2017-18 teaching directory. \n",
    "\n",
    "So if you grasp the concept in one context, you can apply it in others. _That_ is scalability!"
   ]
  },
  {
   "cell_type": "markdown",
   "metadata": {},
   "source": [
    "### Special Paths\n",
    "\n",
    "Finally, there are a few 'special' paths that you need to know about when using the Terminal or Python:\n",
    "\n",
    "- `/` is the **root directory** (so `cd /` would take you to the 'root' of the hard drive)\n",
    "- `~` is the **home directory** (this is a shortcut: it's the same as typing `cd /Users/myusername/`)\n",
    "- `.` means the **current directory** (this is avoid ambiguity: `cd ./myusername/Documents` would assume that in the current directory there is a sub-directory called `Documents` under `myusername`)\n",
    "- `..` means the **next directory up** (this is so that you don't have to type out `cd /Users/myusername/Settings` just to go from `Documents` 'over' to `Settings`; instead, you can use `cd ../Settings/`.\n",
    "\n",
    "In terms of terminology: any path that starts with a `/` is an _**absolute path**_ because we are starting from the _**root**_ directory; any path that starts with either `..` or `.` is a _**relative path**_ because it is starting from the _**current**_ directory and is relative to where the Terminal or program 'is' now.\n",
    "\n",
    "### Windows vs Everyone Else\n",
    "\n",
    "For historical reasons, Windows has long been just a bit different from Unix/Linux/Mac in how paths are specified: on Windows it has long been the case that the path separator was `\\`, not `/` (`:` also isn't allowed in file name on a Mac for historical reasons)!\n",
    "\n",
    "So the following Unix/Mac path: `/Users/myusername/Documents/`\n",
    "\n",
    "On a Windows machine would usually be: `\\Users\\myusername\\Documents\\`\n",
    "\n",
    "If you remember that on a Unix/Mac we use `\\` to manage things like spaces in a directory name then you can see how it gets pretty confusing and complicated pretty quickly when you start to program... But in Python we can cope with _both_ of these situations and others using the `os` library (short for 'operating system'); see the examples below!\n",
    "\n",
    "**Remember**: to turn code you need click in the code block below and then either type `Ctrl+Enter` or hit the 'Run' button on the menu bar above."
   ]
  },
  {
   "cell_type": "code",
   "execution_count": null,
   "metadata": {},
   "outputs": [],
   "source": [
    "import os\n",
    "# Create a path by joining together the input arguments\n",
    "print(os.path.join('Users','myusername','Documents'))\n",
    "print(\" \")\n",
    "# Create an absolute path (starts with '/') and file names that contain spaces (we don't need to worry about spaces)\n",
    "print(os.path.join('/','Users','myusername','Documents','My Work','Code Camp'))\n",
    "print(\" \")\n",
    "# Create a relative path (starts with '..') and file names that contain spaces (we don't need to worry about spaces)\n",
    "print(os.path.join('..','Documents','My Work','Code Camp'))\n",
    "print(\" \")\n",
    "# 'Expand' the current user's home directory (~) into an absolute path\n",
    "print(os.path.expanduser(\"~\"))\n",
    "print(\" \")\n",
    "# 'Expand' the current directory path (.) into an absolute path\n",
    "print(os.path.abspath('.'))\n",
    "print(\" \")"
   ]
  },
  {
   "cell_type": "markdown",
   "metadata": {},
   "source": [
    "That's quite a lot of new content to get your head around, so you might want to spend some time exploring your own computer using the Terminal (Shell/Power Shell on Windows) to get the hang of how paths work. All you'll need are: `cd`, `ls`, and `pwd` (or [their Windows equivalents](https://access.redhat.com/documentation/en-US/Red_Hat_Enterprise_Linux/4/html/Step_by_Step_Guide/ap-doslinux.html) and [here for more](https://courses.cs.washington.edu/courses/cse140/13wi/shell-usage.html#windows)) to get started!"
   ]
  },
  {
   "cell_type": "markdown",
   "metadata": {},
   "source": [
    "## Power Terminal Features\n",
    "\n",
    "You might recall that we previously said that [all programmers are lazy](notebook-1.ipynb), and understanding this laziness is the key to thinking that most Terminal (and Python) commands look like the result of monkeys hitting keys at random to being able to write code without constantly having to check Google. Let's revisit some of the commeands we've just seen:\n",
    "\n",
    "| Command | Short For... | What It Does |\n",
    "|:------- |:------------ |:------------ |\n",
    "| ls | list | List the contents of the directory I'm about to give you ('`ls ~`' lists the contents of your home directory; '`ls ..`' lists the contents of the parent directory; etc.) |\n",
    "| cd | change directory | Move to the path I'm about to give you ('`cd ~`' moves you to your home directory; '`cd ..`' moves you to the parent directory; etc.) | \n",
    "| pwd | print working directory | Show the path of the current current directory (_i.e._ where am I now?) |\n",
    "| head | Get the head of a file | Print the first few lines of the specified file (_e.g._ `head somefile.csv`) |\n",
    "| tail | Get the tail of a file | Print the last few lines of the specified file (_e.g._ `tail -n 2 somefile.csv`) |\n",
    "| clear | Clear the Terminal | When the Terminal looks really busy with junk you don't need just type `clear` |\n",
    "| exit | Exit the Terminal | To close an open Terminal window |\n",
    "| mv | Move a directory or file | Like dragging things in the Finder window (_e.g._ `mv somefile.csv ../another_dir/` to move the file `somefile.csv` _over_ to a directory named `another_dir` that is accessible from the parent directory of this one) |\n",
    "| cp | Copy a directory or file | Like dragging things in the Finder window (_e.g._ `cp somefile.csv ../another_dir/` to make a copy of the file `somefile.csv` in a directory named `another_dir` that is accessible from the parent directory of this one) |\n",
    "\n",
    "You can see how all of these commands are basically abbreviations/mnemonics that make it easy for programmers to be lazy, but productive: less time typing == more time thinking/doing."
   ]
  },
  {
   "cell_type": "markdown",
   "metadata": {},
   "source": [
    "## Style\n",
    "\n",
    "As with any other type of creative writing -- make no mistake, writing code is a creative activity! -- different people have different styles of writing. Extending the language metaphor, different programming languages have different styles as well and you can often tell what programming language someone learned first (or best) by the way they write their code in _any_ programming language. While it's _nice_ to work in the style that is considered 'best' in each language, what is more important is that you are consistent in how you write: that way, another person reading your code can get used to the way that you write and make better sense of what you're trying to do.\n",
    "\n",
    "### Variable Names\n",
    "\n",
    "So here are some common styles for variable names:\n",
    "\n",
    "| Variable Name | Language | Rationale |\n",
    "|:--------------|:---------|:----------|\n",
    "| my_variable | Python, Perl | Underscores (\"\\_\") make it easy to read 'words' in a variable name |\n",
    "| MyVariable | Java | Mixed Caps makes for shorter variable names that are easier to type |\n",
    "| my.variable | R | R allows full-stops in variable names, no other language does |\n",
    "\n"
   ]
  },
  {
   "cell_type": "markdown",
   "metadata": {},
   "source": [
    "## Why???"
   ]
  }
 ],
 "metadata": {
  "kernelspec": {
   "display_name": "Python [default]",
   "language": "python",
   "name": "python3"
  },
  "language_info": {
   "codemirror_mode": {
    "name": "ipython",
    "version": 3
   },
   "file_extension": ".py",
   "mimetype": "text/x-python",
   "name": "python",
   "nbconvert_exporter": "python",
   "pygments_lexer": "ipython3",
   "version": "3.6.1"
  }
 },
 "nbformat": 4,
 "nbformat_minor": 2
}
