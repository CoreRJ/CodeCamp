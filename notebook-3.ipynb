{
 "cells": [
  {
   "cell_type": "markdown",
   "metadata": {},
   "source": [
    "# Notebook-3: Dealing with Errors & Debugging\n",
    "   "
   ]
  },
  {
   "cell_type": "markdown",
   "metadata": {},
   "source": [
    "#### Lesson Topics: \n",
    "\n",
    "- Introduction to errors \n",
    "    - Syntax Errors\n",
    "    - Exceptions \n",
    "- How to read errors\n",
    "-  Learn to find help\n",
    "\n",
    "Welcome to the third Code Camp notebook! This lesson is all about learning to deal with the (unavoidable) errors that you wil encounter when programming in Ptyhon. Errors occupy in fact a fairly good portion of a programmer's life, and  learning how to interpret them and minimize their consequences is thus a crucial skill to master. \n",
    "\n",
    "*DISCLAIMER: This notebook is heavily based on the fantastic [official Python Docs](https://docs.python.org/2/tutorial/errors.html) about Errors and Exception. Check them out for further examples.*\n",
    "\n",
    "checkout [this](https://www.odoo.com/forum/help-1/question/how-to-read-and-understand-errors-from-tracebacks-9704)"
   ]
  },
  {
   "cell_type": "markdown",
   "metadata": {},
   "source": [
    "# Introduction to errors\n",
    "---\n",
    "\n",
    "Until now we haven't explicitly mentioned what happens when your code breaks, but, as you have seen from previous examples (and probably  after you've tried to solve some excercises), when there's something wrong in the code Python stops its execution and returns and error message.\n",
    "\n",
    "Consider this:"
   ]
  },
  {
   "cell_type": "code",
   "execution_count": 6,
   "metadata": {
    "collapsed": false
   },
   "outputs": [
    {
     "ename": "SyntaxError",
     "evalue": "invalid syntax (<ipython-input-6-9bf4eef14fd8>, line 1)",
     "output_type": "error",
     "traceback": [
      "\u001b[1;36m  File \u001b[1;32m\"<ipython-input-6-9bf4eef14fd8>\"\u001b[1;36m, line \u001b[1;32m1\u001b[0m\n\u001b[1;33m    prnt \"Ouch!\"\u001b[0m\n\u001b[1;37m               ^\u001b[0m\n\u001b[1;31mSyntaxError\u001b[0m\u001b[1;31m:\u001b[0m invalid syntax\n"
     ]
    }
   ],
   "source": [
    "prnt \"Ouch!\""
   ]
  },
  {
   "cell_type": "markdown",
   "metadata": {},
   "source": [
    "Or our familiar \"divsion by zero\" example:"
   ]
  },
  {
   "cell_type": "code",
   "execution_count": 4,
   "metadata": {
    "collapsed": false
   },
   "outputs": [
    {
     "name": "stdout",
     "output_type": "stream",
     "text": [
      "This will produce an error:\n"
     ]
    },
    {
     "ename": "ZeroDivisionError",
     "evalue": "integer division or modulo by zero",
     "output_type": "error",
     "traceback": [
      "\u001b[1;31m---------------------------------------------------------------------------\u001b[0m",
      "\u001b[1;31mZeroDivisionError\u001b[0m                         Traceback (most recent call last)",
      "\u001b[1;32m<ipython-input-4-69e02ead9d25>\u001b[0m in \u001b[0;36m<module>\u001b[1;34m()\u001b[0m\n\u001b[0;32m      1\u001b[0m \u001b[1;32mprint\u001b[0m \u001b[1;34m\"This will produce an error:\"\u001b[0m\u001b[1;33m\u001b[0m\u001b[0m\n\u001b[1;32m----> 2\u001b[1;33m \u001b[1;36m45\u001b[0m \u001b[1;33m/\u001b[0m \u001b[1;36m0\u001b[0m\u001b[1;33m\u001b[0m\u001b[0m\n\u001b[0m",
      "\u001b[1;31mZeroDivisionError\u001b[0m: integer division or modulo by zero"
     ]
    }
   ],
   "source": [
    "print \"This will produce an error:\"\n",
    "45 / 0"
   ]
  },
  {
   "cell_type": "markdown",
   "metadata": {},
   "source": [
    "As you can see there are different outputs printed by the Python interpreter in response to an error. Although it's not the most crucial distinction, there are roughly two main kinds of errors: **Syntax Errors** and **Exceptions**."
   ]
  },
  {
   "cell_type": "markdown",
   "metadata": {},
   "source": [
    "## Syntax Errors\n",
    "\n",
    "A Syntax Error is probably goign to the be the most frequent error you might incur. It in occurs when the Python interpreter while *[parsing](https://en.wikipedia.org/wiki/Parsing)* (i.e. processing the symbols you've written in your program) finds something out of place.\n",
    "\n",
    "In the first example for instance, the error consists in a misspelled `print` command:\n",
    "\n",
    "```python\n",
    "File \"<ipython-input-6-9bf4eef14fd8>\", line 1\n",
    "    prnt \"Ouch!\"\n",
    "               ^\n",
    "SyntaxError: invalid syntax\n",
    "```\n",
    "\n",
    "Let's read the erorr message together, top-to-bottom: \n",
    "- First of all the interpreter is kind enough to print out the file name and the line number where it thinks the error is at.\n",
    "- In addition, it prints the actual line  containing the faulty code, adding below a little caret character ( ‸ ),   an arrow pointing to the line section where the error has been spot. Keep in mind that the error has been fired by the token *preciding the arrow*. So that's the roughly the spot from where you should look for inconsitencies. \n",
    "- Lastly it prints out loud and clear that the error is related to the syntax.\n",
    "\n",
    "```python\n",
    "SyntaxError: invalid syntax\n",
    "```\n",
    "\n",
    "It really can't get better than this. Let's try to see if you can fix some bits of broken code by reading the errors and spotting the place where I've made some mistakes.\n",
    "\n",
    "\n"
   ]
  },
  {
   "cell_type": "markdown",
   "metadata": {},
   "source": [
    "### A Challenge for You!"
   ]
  },
  {
   "cell_type": "code",
   "execution_count": 13,
   "metadata": {
    "collapsed": false
   },
   "outputs": [
    {
     "ename": "SyntaxError",
     "evalue": "invalid syntax (<ipython-input-13-b2c4653cdbf8>, line 2)",
     "output_type": "error",
     "traceback": [
      "\u001b[1;36m  File \u001b[1;32m\"<ipython-input-13-b2c4653cdbf8>\"\u001b[1;36m, line \u001b[1;32m2\u001b[0m\n\u001b[1;33m    print \"the \"  projection + \" preserves distances the along central meridian\"\u001b[0m\n\u001b[1;37m                           ^\u001b[0m\n\u001b[1;31mSyntaxError\u001b[0m\u001b[1;31m:\u001b[0m invalid syntax\n"
     ]
    }
   ],
   "source": [
    "projection=\"Cassini\" + \"-\" + \"Soldner\" \n",
    "print \"the \"  projection + \" preserves distances the along central meridian\""
   ]
  },
  {
   "cell_type": "markdown",
   "metadata": {},
   "source": [
    "*HINT*: Remeber to look at the token *before* the little arrow!"
   ]
  },
  {
   "cell_type": "code",
   "execution_count": 14,
   "metadata": {
    "collapsed": false
   },
   "outputs": [
    {
     "ename": "SyntaxError",
     "evalue": "invalid syntax (<ipython-input-14-313caab9ac37>, line 1)",
     "output_type": "error",
     "traceback": [
      "\u001b[1;36m  File \u001b[1;32m\"<ipython-input-14-313caab9ac37>\"\u001b[1;36m, line \u001b[1;32m1\u001b[0m\n\u001b[1;33m    other_projection \"Mollweide\"\u001b[0m\n\u001b[1;37m                               ^\u001b[0m\n\u001b[1;31mSyntaxError\u001b[0m\u001b[1;31m:\u001b[0m invalid syntax\n"
     ]
    }
   ],
   "source": [
    "other_projection \"Mollweide\"\n",
    "print \"in the \" + other_projection + \"projection, meridians are ellipses\""
   ]
  },
  {
   "cell_type": "markdown",
   "metadata": {},
   "source": [
    "## Exceptions\n",
    "\n",
    "Even if your code is syntatically exemplary, errors might still occurs for a wide variety of reasons. That's a sad reality but it will happen more often than not.  But fear not! The Python interpreter has embedded a taxonomy of specific errors ([here's a list](https://docs.python.org/2/library/exceptions.html)), such that when these errors occur , it will identify them and promptly warn you. These errors are referred to as *Exceptions*.\n",
    "\n",
    "Let's start by considering these two *Exception errors* examples:"
   ]
  },
  {
   "cell_type": "code",
   "execution_count": 21,
   "metadata": {
    "collapsed": false
   },
   "outputs": [
    {
     "ename": "NameError",
     "evalue": "name 'london' is not defined",
     "output_type": "error",
     "traceback": [
      "\u001b[1;31m---------------------------------------------------------------------------\u001b[0m",
      "\u001b[1;31mNameError\u001b[0m                                 Traceback (most recent call last)",
      "\u001b[1;32m<ipython-input-21-8cfc33a674c8>\u001b[0m in \u001b[0;36m<module>\u001b[1;34m()\u001b[0m\n\u001b[1;32m----> 1\u001b[1;33m \u001b[1;32mprint\u001b[0m \u001b[0mlondon\u001b[0m \u001b[1;33m+\u001b[0m \u001b[1;34m\"has an approx. popoulation of 8.5 million people \"\u001b[0m\u001b[1;33m\u001b[0m\u001b[0m\n\u001b[0m",
      "\u001b[1;31mNameError\u001b[0m: name 'london' is not defined"
     ]
    }
   ],
   "source": [
    "print london + \"has an approx. popoulation of 8.5 million people \"\n"
   ]
  },
  {
   "cell_type": "code",
   "execution_count": 22,
   "metadata": {
    "collapsed": false
   },
   "outputs": [
    {
     "ename": "TypeError",
     "evalue": "cannot concatenate 'str' and 'float' objects",
     "output_type": "error",
     "traceback": [
      "\u001b[1;31m---------------------------------------------------------------------------\u001b[0m",
      "\u001b[1;31mTypeError\u001b[0m                                 Traceback (most recent call last)",
      "\u001b[1;32m<ipython-input-22-c5a8fab9df81>\u001b[0m in \u001b[0;36m<module>\u001b[1;34m()\u001b[0m\n\u001b[1;32m----> 1\u001b[1;33m \u001b[1;34m\"london has an approx. popoulation of\"\u001b[0m \u001b[1;33m+\u001b[0m \u001b[1;36m8.5\u001b[0m \u001b[1;33m+\u001b[0m \u001b[1;34m\"million people \"\u001b[0m\u001b[1;33m\u001b[0m\u001b[0m\n\u001b[0m",
      "\u001b[1;31mTypeError\u001b[0m: cannot concatenate 'str' and 'float' objects"
     ]
    }
   ],
   "source": [
    "\"london has an approx. popoulation of\" + 8.5 + \"million people \"\n"
   ]
  },
  {
   "cell_type": "markdown",
   "metadata": {},
   "source": [
    "And now let's reconsidering the \"Division By Zero\" Exception:"
   ]
  },
  {
   "cell_type": "code",
   "execution_count": 23,
   "metadata": {
    "collapsed": false
   },
   "outputs": [
    {
     "ename": "ZeroDivisionError",
     "evalue": "integer division or modulo by zero",
     "output_type": "error",
     "traceback": [
      "\u001b[1;31m---------------------------------------------------------------------------\u001b[0m",
      "\u001b[1;31mZeroDivisionError\u001b[0m                         Traceback (most recent call last)",
      "\u001b[1;32m<ipython-input-23-d9b484deda59>\u001b[0m in \u001b[0;36m<module>\u001b[1;34m()\u001b[0m\n\u001b[1;32m----> 1\u001b[1;33m \u001b[1;36m4\u001b[0m \u001b[1;33m/\u001b[0m \u001b[1;36m0\u001b[0m\u001b[1;33m\u001b[0m\u001b[0m\n\u001b[0m",
      "\u001b[1;31mZeroDivisionError\u001b[0m: integer division or modulo by zero"
     ]
    }
   ],
   "source": [
    "4 / 0"
   ]
  },
  {
   "cell_type": "markdown",
   "metadata": {},
   "source": [
    "First of all we can see that every error displays a specific message in the last line. That's because* Exceptions* are different from plain *Syntax Errors*, they come in different types which are recognized by Python and printed accordingly. In our three examples the *Exceptions* where: `NameError`, `TypeError`and `ZeroDivisionError`. These are the names of the exception's types\n",
    "\n",
    "\n",
    "Similarly to *Syntax Errors*, the remaining part of the error message gives us useful pointers to fix the code:\n",
    "\n",
    "- Once again Python starts with the location. This time though, it doesn't immediately point to a specific line but rather it explicits the *stack traceback*[1](https://en.wikipedia.org/wiki/Stack_trace)[2](https://en.wikipedia.org/wiki/Call_stack#STACK-FRAME) level (i.e. **very roughly speaking** the list of operations  active in your code) where some mischief happened. \n",
    "\n",
    "- Luckly, there's a line reference in the following line (see the purple arrow (--->) pointing at line 1)\n",
    "\n",
    "```python\n",
    "\n",
    "<ipython-input-23-d9b484deda59> in <module>()      \n",
    "----> 1 4 / 0\n",
    "\n",
    "ZeroDivisionError: integer division or modulo by zero\n",
    "\n",
    "```\n",
    "\n",
    "At this point you might wonder why the difference with *Syntax Errors*, and if you should do something different. Indeed, *Exceptions* are clearly specified in the language for two main reasons:\n",
    "\n",
    "- It allows you to restrict the range of possibilities regarding what went wrong, allowing a faster and easier debugging.  - Since, in a sense, *Exceptions*  are \"named\" errors, it's easier for the programmer to spot and \"catch\" them. This is done with some particular sequence of statements such `TRY/EXCEPT/FINALLY`. These are advanced concepts though, so don't worry too much about them now. Rather focus on interpreting the message and in spotting both the line and the point where the error is located."
   ]
  },
  {
   "cell_type": "markdown",
   "metadata": {},
   "source": [
    "### A Challenge for You!"
   ]
  },
  {
   "cell_type": "code",
   "execution_count": 32,
   "metadata": {
    "collapsed": false
   },
   "outputs": [
    {
     "ename": "TypeError",
     "evalue": "unsupported operand type(s) for +: 'float' and 'str'",
     "output_type": "error",
     "traceback": [
      "\u001b[1;31m---------------------------------------------------------------------------\u001b[0m",
      "\u001b[1;31mTypeError\u001b[0m                                 Traceback (most recent call last)",
      "\u001b[1;32m<ipython-input-32-5011f6ac5ef4>\u001b[0m in \u001b[0;36m<module>\u001b[1;34m()\u001b[0m\n\u001b[0;32m      1\u001b[0m \u001b[0mlondon_population\u001b[0m\u001b[1;33m=\u001b[0m \u001b[1;36m8.6\u001b[0m\u001b[1;33m\u001b[0m\u001b[0m\n\u001b[1;32m----> 2\u001b[1;33m \u001b[1;32mprint\u001b[0m \u001b[0mlondon_population\u001b[0m \u001b[1;33m+\u001b[0m \u001b[1;34m\" is greater than \"\u001b[0m \u001b[1;33m+\u001b[0m \u001b[0mparis_population\u001b[0m\u001b[1;33m\u001b[0m\u001b[0m\n\u001b[0m",
      "\u001b[1;31mTypeError\u001b[0m: unsupported operand type(s) for +: 'float' and 'str'"
     ]
    }
   ],
   "source": [
    "london_population= 8.6\n",
    "print london_population + \" is greater than \" + paris_population "
   ]
  },
  {
   "cell_type": "markdown",
   "metadata": {},
   "source": [
    "HINT: define a new variable with the amount of people living in the French capital"
   ]
  },
  {
   "cell_type": "code",
   "execution_count": 31,
   "metadata": {
    "collapsed": false
   },
   "outputs": [
    {
     "ename": "TypeError",
     "evalue": "unsupported operand type(s) for /: 'float' and 'str'",
     "output_type": "error",
     "traceback": [
      "\u001b[1;31m---------------------------------------------------------------------------\u001b[0m",
      "\u001b[1;31mTypeError\u001b[0m                                 Traceback (most recent call last)",
      "\u001b[1;32m<ipython-input-31-dde44c5ab326>\u001b[0m in \u001b[0;36m<module>\u001b[1;34m()\u001b[0m\n\u001b[0;32m      1\u001b[0m \u001b[0mlondon_population\u001b[0m\u001b[1;33m=\u001b[0m \u001b[1;36m8.6\u001b[0m\u001b[1;33m\u001b[0m\u001b[0m\n\u001b[0;32m      2\u001b[0m \u001b[0mparis_population\u001b[0m \u001b[1;33m=\u001b[0m \u001b[1;34m'2.4'\u001b[0m\u001b[1;33m\u001b[0m\u001b[0m\n\u001b[1;32m----> 3\u001b[1;33m \u001b[0mlondon_population\u001b[0m \u001b[1;33m/\u001b[0m \u001b[0mparis_population\u001b[0m\u001b[1;33m\u001b[0m\u001b[0m\n\u001b[0m",
      "\u001b[1;31mTypeError\u001b[0m: unsupported operand type(s) for /: 'float' and 'str'"
     ]
    }
   ],
   "source": [
    "paris_population = '2.4'\n",
    "london_population / paris_population "
   ]
  },
  {
   "cell_type": "markdown",
   "metadata": {},
   "source": [
    "HINT: Rember that you can convert a number into a string with the appropriate function"
   ]
  },
  {
   "cell_type": "markdown",
   "metadata": {},
   "source": [
    "# How to read errors\n",
    "---\n",
    "\n",
    "Here's a \"rule of thumb\" list of actions to take when Python throws an error at you:\n",
    "\n",
    "- *Don't Panic!*\n",
    "- Take a deep breath and *READ CAREFULLY* the error message.\n",
    "- Ask yourself: is it a *Syntax Error* or an *Exception*?\n",
    "- In both cases: where's the faulty line?\n",
    "- For  *Syntax Errors*: where's the little caret character ( ‸ ) pointing at?\n",
    "- For *Exceptions*: what kind of exception is that? Read the [Official Docs](https://docs.python.org/2/library/exceptions.html) and try to make sense of it\n",
    "- *No, really. Don't Panic!*"
   ]
  },
  {
   "cell_type": "markdown",
   "metadata": {},
   "source": [
    "# Learn to find help\n",
    "---\n",
    "\n",
    "As we briefely mentioned in the opening Notebook-0, [Google is your friend!](http://lmgtfy.com/?q=%22Learning+what+questions+to+ask+is+a+skill+in+itself%22+-Somebody+smart). And we really mean it. \n",
    "\n",
    "![stackOverflow](img/stack-overflow.jpg)\n",
    "\n",
    "Learning what to look for when something goes awry in your code is the first step in order to fix it. The second is  consulting all the available resources (and then -only then- you *might* think about asking for help).\n",
    "Thus knowing where to look for additional information is of paramount importance. The largest website/community/forum online that programmers from all over the world (and regardless of the technology/programming language they are using) consult daily is **StackOverflow**.\n",
    "\n",
    "Its name itself is a nerdy inside joke to a *bad* situation in programming:\n",
    "\n",
    ">When a program attempts to use more space than is available on the call stack... the stack is said to overflow, typically resulting in a program crash. (source: [Wikipedia](https://en.wikipedia.org/wiki/Stack_overflow) )\n",
    "\n",
    "AS the name implies that's the first resource that you want to consult in case your programs is not behaving as expected. For a quick overview of it's features refer directly to [StackOverflow's intro section](http://stackoverflow.com/tour).\n",
    "\n",
    "Lastly, in order to maximise your chances of success (and to avoid flooding the board with unclear and repetitive questions) read thoroughly the [How do I ask a good question?](http://stackoverflow.com/help/how-to-ask) section and  always refer to the [Help Center](http://stackoverflow.com/help/asking).\n",
    "\n",
    "This is not meant to put you off in any way, but rather to let you know from the first moment what is the appropriate Netiquette and accetable code of conduct that will make you stand out as competent programmer, even when you are asking for help.\n",
    "\n",
    "\n"
   ]
  },
  {
   "cell_type": "markdown",
   "metadata": {},
   "source": [
    "### Code (Applied Geo-example)"
   ]
  },
  {
   "cell_type": "markdown",
   "metadata": {},
   "source": [
    "If in the previous notebook we didn't even left the UK, this time we'll fly to the far away magical [Null Island](https://en.wikipedia.org/wiki/Null_Island).\n",
    "\n",
    "![null-islan](img/null-island.png)\n",
    "\n",
    "From its official government's [touristic office](http://www.nullisland.com/):\n",
    "   \n",
    "> The Republic of Null Island\t \n",
    "> *LIKE NO PLACE ON EARTH!*\n",
    "\n",
    "\n",
    "In order to get there, you'll have to first solve the exercise, avoiding those pesky *Syntax Errors* and *Exceptions\"!"
   ]
  },
  {
   "cell_type": "code",
   "execution_count": 4,
   "metadata": {
    "collapsed": false
   },
   "outputs": [
    {
     "name": "stdout",
     "output_type": "stream",
     "text": [
      "https://www.openstreetmap.org/?mlat=0.08&mlon=0.0#map=5/0.0/0.0\n"
     ]
    }
   ],
   "source": [
    "longitude = ???(0.0)\n",
    "latitude ??? str(0.0)\n",
    "\n",
    "\n",
    "# King's College marker\n",
    "KCL_position = \"https://www.openstreetmap.org/?mlat=\"+???+\"8&mlon=\"+longitude+\"#map=5/\"+latitude+\"/\"+longitude\n",
    "          \n",
    "prnt KCL_position\n"
   ]
  },
  {
   "cell_type": "markdown",
   "metadata": {},
   "source": [
    "**Congratulations on your finishing you second lesson, and enjoy your trip to the beautiful Null Island!*** \n",
    "\n",
    "\n"
   ]
  },
  {
   "cell_type": "markdown",
   "metadata": {},
   "source": [
    "To conclude: remember to always read the output, and try to understand what Python is telling you. You might learn a lot from these simple messages! "
   ]
  },
  {
   "cell_type": "markdown",
   "metadata": {},
   "source": [
    "### Further references:\n",
    "\n",
    "\n",
    "For more information on the island you might watch this [short video](https://motherboard.vice.com/read/a-journey-to-the-center-of-null-island). \n",
    "\n",
    "If you are on Twitter, don't forget to follow the [Null Island buoy](https://twitter.com/NullIslandBuoy)!\n",
    "\n",
    "\n",
    "General list or resources\n",
    "- [Awesome list of resources](https://github.com/vinta/awesome-python)\n",
    "- [Python Docs](https://docs.python.org/2.7/tutorial/introduction.html)\n",
    "- [HitchHiker's guide to Python](http://docs.python-guide.org/en/latest/intro/learning/)\n",
    "- [Python for Informatics](http://www.pythonlearn.com/book_007.pdf)\n",
    "- [Learn Python the Hard Way](http://learnpythonthehardway.org/book/)\n",
    "- [CodeAcademy](https://www.codecademy.com/learn/python)\n",
    "\n"
   ]
  },
  {
   "cell_type": "code",
   "execution_count": null,
   "metadata": {
    "collapsed": true
   },
   "outputs": [],
   "source": []
  }
 ],
 "metadata": {
  "anaconda-cloud": {},
  "kernelspec": {
   "display_name": "Python [Root]",
   "language": "python",
   "name": "Python [Root]"
  },
  "language_info": {
   "codemirror_mode": {
    "name": "ipython",
    "version": 2
   },
   "file_extension": ".py",
   "mimetype": "text/x-python",
   "name": "python",
   "nbconvert_exporter": "python",
   "pygments_lexer": "ipython2",
   "version": "2.7.12"
  }
 },
 "nbformat": 4,
 "nbformat_minor": 0
}
