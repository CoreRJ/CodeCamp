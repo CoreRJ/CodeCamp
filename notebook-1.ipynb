{
 "cells": [
  {
   "cell_type": "markdown",
   "metadata": {},
   "source": [
    "# Notebooke-1: Thinking like a computer\n",
    "## Or why a Geographer should learn to program these days"
   ]
  },
  {
   "cell_type": "markdown",
   "metadata": {},
   "source": [
    "### Lesson Content \n",
    "\n",
    "TO-DO for J&J: \n",
    "\n",
    "- rationales about programming and geography, \n",
    "- cool use cases: geocomputation, spatial statistics in Python, R, Javascript, interactive webmaps, databases etc etc..\n",
    "- how computers work\n",
    "- how programmers think\n",
    "- how should you think about yourself and the pc\n",
    "\n",
    "\n"
   ]
  },
  {
   "cell_type": "code",
   "execution_count": null,
   "metadata": {
    "collapsed": true
   },
   "outputs": [],
   "source": [
    "### References:\n",
    "\n",
    "- a **must read** [the hard way is easier](http://learnpythonthehardway.org/book/intro.html)\n",
    "- two easy and accessible videos to start wrapping your head around programming (although they are not Python-centric) [1](https://www.youtube.com/watch?v=qUVWM2Q4vAU) and [2](https://www.youtube.com/watch?v=AImF__7FyzM)"
   ]
  }
 ],
 "metadata": {
  "kernelspec": {
   "display_name": "Python 2",
   "language": "python",
   "name": "python2"
  },
  "language_info": {
   "codemirror_mode": {
    "name": "ipython",
    "version": 2
   },
   "file_extension": ".py",
   "mimetype": "text/x-python",
   "name": "python",
   "nbconvert_exporter": "python",
   "pygments_lexer": "ipython2",
   "version": "2.7.11"
  }
 },
 "nbformat": 4,
 "nbformat_minor": 0
}
