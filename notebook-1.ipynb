{
 "cells": [
  {
   "cell_type": "markdown",
   "metadata": {},
   "source": [
    "# Notebooke-1: Thinking like a computer\n",
    "## Or why a Geographer should learn to program these days"
   ]
  },
  {
   "cell_type": "markdown",
   "metadata": {},
   "source": [
    "### Lesson Content \n",
    "\n",
    "TO-DO for J&J: \n",
    "\n",
    "- rationales about programming and geography, \n",
    "- cool use cases: geocomputation, spatial statistics in Python, R, Javascript, interactive webmaps, databases etc etc..\n",
    "- how computers work\n",
    "- how programmers think\n",
    "- how should you think about yourself and the pc\n",
    "- Python what? General and short intro to the language + a mention to the fact we're using 2.7 NOT 3.XX\n",
    "- Why Python & Geography (or scientific computing in general..)\n",
    "\n"
   ]
  },
  {
   "cell_type": "markdown",
   "metadata": {},
   "source": [
    "#### Python what?\n",
    "\n",
    "A few good points from [Python In A Nutshell](http://mbrochh.github.io/python-101/#/6/1) by [Martin Brochhaus](https://github.com/mbrochh)\n",
    "\n",
    "* Python\n",
    "  * Invented by [Guido van Rossum](https://en.wikipedia.org/wiki/Guido_van_Rossum) in the late 1980s\n",
    "  * Very easy to read syntax\n",
    "    * Uses plain English for many functions and operators\n",
    "    * Uses four spaces of indentation for code blocks\n",
    "    * Has a comprehensive style guide: [PEP8](https://www.python.org/dev/peps/pep-0008/)\n",
    "    * No unnecessary special characters,<br />\n",
    "      like semicolons at the end of the line\n",
    "\n",
    "\n",
    "* Python is not a **compiled language**, but an **interpreted** language\n",
    "  * This means, in order to run a Python script,<br />\n",
    "    you need to install the Python interpreter\n",
    "  * Pro: You never need to compile your code.\n",
    "  * Con: If you want to install your software on other<br />\n",
    "    people's computers, they need to install the interpreter as well.\n",
    "\n",
    "\n",
    "* Python is not the fastest language\n",
    "    * If you want to write a game, better use C\n",
    "* Python is not the safest language\n",
    "    * If you want to fly a rocket to Mars, ask Elon Musk what he is using\n",
    "* Python is a very readable, learnable and maintainable language\n",
    "    * If you want to build a business, use Python"
   ]
  },
  {
   "cell_type": "code",
   "execution_count": 1,
   "metadata": {
    "collapsed": false
   },
   "outputs": [
    {
     "ename": "SyntaxError",
     "evalue": "invalid syntax (<ipython-input-1-39baa70dafcc>, line 3)",
     "output_type": "error",
     "traceback": [
      "\u001b[0;36m  File \u001b[0;32m\"<ipython-input-1-39baa70dafcc>\"\u001b[0;36m, line \u001b[0;32m3\u001b[0m\n\u001b[0;31m    - a **must read** [the hard way is easier](http://learnpythonthehardway.org/book/intro.html)\u001b[0m\n\u001b[0m                  ^\u001b[0m\n\u001b[0;31mSyntaxError\u001b[0m\u001b[0;31m:\u001b[0m invalid syntax\n"
     ]
    }
   ],
   "source": [
    "### References:\n",
    "\n",
    "- a **must read** [the hard way is easier](http://learnpythonthehardway.org/book/intro.html)\n",
    "- two easy and accessible videos to start wrapping your head around programming (although they are not Python-centric) [1](https://www.youtube.com/watch?v=qUVWM2Q4vAU) and [2](https://www.youtube.com/watch?v=AImF__7FyzM)"
   ]
  }
 ],
 "metadata": {
  "kernelspec": {
   "display_name": "Python [Root]",
   "language": "python",
   "name": "Python [Root]"
  },
  "language_info": {
   "codemirror_mode": {
    "name": "ipython",
    "version": 2
   },
   "file_extension": ".py",
   "mimetype": "text/x-python",
   "name": "python",
   "nbconvert_exporter": "python",
   "pygments_lexer": "ipython2",
   "version": "2.7.12"
  }
 },
 "nbformat": 4,
 "nbformat_minor": 0
}
