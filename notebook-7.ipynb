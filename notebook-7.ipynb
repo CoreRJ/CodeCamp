{
 "cells": [
  {
   "cell_type": "markdown",
   "metadata": {},
   "source": [
    "# Notebook-7: Introduction to Functions"
   ]
  },
  {
   "cell_type": "markdown",
   "metadata": {},
   "source": [
    "\n",
    "### Lesson Content \n",
    "\n",
    "- Function Anatomy 101\n",
    "    - Function definiton & call\n",
    "    - Arguments\n",
    "    - Return statement\n",
    "- Function calling!\n",
    "    - Assign a function to a variable\n",
    "    - Function as a parameter to another function\n",
    "\n",
    "\n",
    "Welcome to the seventh Code Camp notebook! In this lesson we'll cover *functions* in Python, a concept that you've already used (more or less knowingly so). This time we'll dig deeper though, explaining more in detail what is a funciton, how to define one, how to use it and when...etc etc...\n",
    "\n",
    "But let's start from the a basic idea: as we saw with the concept of *iteration*, programmers are lazy, and they tend not to repeat boring tasks. \n",
    "\n",
    "![automate](img/automate_all_the_things.jpeg)\n",
    "\n",
    "This idea to avoid \"wasting time re-inventing the wheel\" and the pragmatic attitude it entails have been pretty much summed up in the acronym **D.R.Y.** (Do not Repeat Yourself): If you are doing something more than once, ask yourself if there's a way to encapsulate what you are doing in a piece of code, an to use just that code instead of re-writing everything. **D.R.Y.** is the opposite of **W.E.T.** (We Enjoy Typing or Write Everything Twice), which on the contrary describes perfectly the other, more verbose, end of the spectrum.\n",
    "\n",
    "This attitude has also practical consequences, as it helps you, as a programmer to phisycally (well, digitally!) mantain a claner code-base which is a) much more readable b) easier to mantain c) less error prone.\n",
    "\n",
    "Functions can be used for this purpose, they express the idea of performing an action on something, and can thus be used to encapsulate bits of your work in an efficient way."
   ]
  },
  {
   "cell_type": "markdown",
   "metadata": {},
   "source": [
    "## Function Anatomy 101\n",
    "\n",
    "As I mentioned above, we already met and used functions, especially when we dealt with lists and dictionaries"
   ]
  },
  {
   "cell_type": "code",
   "execution_count": 1,
   "metadata": {
    "collapsed": false
   },
   "outputs": [
    {
     "data": {
      "text/plain": [
       "4"
      ]
     },
     "execution_count": 1,
     "metadata": {},
     "output_type": "execute_result"
    }
   ],
   "source": [
    "# remember len() ?\n",
    "myList = [1,\"two\", False, 9.99]\n",
    "len(myList)"
   ]
  },
  {
   "cell_type": "code",
   "execution_count": 3,
   "metadata": {
    "collapsed": false
   },
   "outputs": [
    {
     "data": {
      "text/plain": [
       "1"
      ]
     },
     "execution_count": 3,
     "metadata": {},
     "output_type": "execute_result"
    }
   ],
   "source": [
    "# or index?\n",
    "myList.index(\"two\")"
   ]
  },
  {
   "cell_type": "markdown",
   "metadata": {},
   "source": [
    "As we briefly mentioned in notebook-5, every word followed by a set of parenthesis is function. The word is the function's *name*, and whatever other comma-separated word you put within the paranthesis are the function's *parameters*. Like so:\n",
    "\n",
    "```python\n",
    "\n",
    "function_name(optional_parameter_1, optional_parameter_2)\n",
    "\n",
    "```\n",
    "\n",
    "So how do we *instantiate* a function (i.e. create one)? Like IF, WHILE and other statements, also functions have a specific syntax you have to follow. In particular there are important two important steps: the funciton definition and the function call.\n",
    "\n",
    "This is a function definition:\n",
    "\n",
    "```python\n",
    "def myFirstFunc():\n",
    "    print \"Nice to meet you!\"\n",
    "```\n",
    "\n",
    "Let's see what happened there:\n",
    "- To define a function you have to use the reserved *keyword* `def` (which is basically a special word reserved just for the Python interpeter, that you cannot use for other purposes). \n",
    "- After `def` you can specify the function's name. `myFirstFunc` in this case.\n",
    "- After the function's name there's the set of parenthesis and a colon.\n",
    "- Notice that whatever comes after is *indented*. Does this remindes you of something? You guessed correctly, that's like an IF statement. And the reason is the same too! It indicated to the Python interpreter that whatever is indented *belongs* to the function. Is like saying: \"Look man, I'm going to define this `myFirstFunc` function, and whatever is indented afterwards is the *function's body*, the set of instructions that specifies what this function should do\". NOTE: Other languages might accomplish the same result using curly braces for instance ( *{}* ) but Python is more terse and uses indentation. \n",
    "\n",
    "\n",
    "## Function definiton & call\n",
    "\n",
    "Cool, and now that we have defined a function how can we use it? Same as what we did with `len` and `range`. We are going to *call* it, appending the set of parenthesis to its name!\n"
   ]
  },
  {
   "cell_type": "code",
   "execution_count": 6,
   "metadata": {
    "collapsed": false
   },
   "outputs": [
    {
     "name": "stdout",
     "output_type": "stream",
     "text": [
      "Nice to meet you!\n"
     ]
    }
   ],
   "source": [
    "# function definition\n",
    "def myFirstFunc():\n",
    "    print \"Nice to meet you!\"\n",
    "\n",
    "# function call\n",
    "myFirstFunc()"
   ]
  },
  {
   "cell_type": "markdown",
   "metadata": {},
   "source": [
    "#### A challenge for you!"
   ]
  },
  {
   "cell_type": "code",
   "execution_count": null,
   "metadata": {
    "collapsed": true
   },
   "outputs": [],
   "source": [
    "# define a function called \"sunnyDay\" \n",
    "# that prints the string \"what a lovely day!\"\n",
    "def ??? :\n",
    "    print ???"
   ]
  },
  {
   "cell_type": "code",
   "execution_count": 7,
   "metadata": {
    "collapsed": false
   },
   "outputs": [
    {
     "name": "stdout",
     "output_type": "stream",
     "text": [
      "Object `gloomyDay` not found.\n",
      "Object `` not found.\n"
     ]
    }
   ],
   "source": [
    "# and now one called gloomyDay \n",
    "# that prints \"this rain sucks!\"\n",
    "??? gloomyDay??\n",
    "???print \"this rain sucks!\""
   ]
  },
  {
   "cell_type": "markdown",
   "metadata": {},
   "source": [
    "Notice that the sequence function definiton *and then* function call is important! Think about it: how would Python know what we are referring to (i.e. what is the `myFirstFunction` he has to call, if we never specified it?\n",
    "\n",
    "It's the same as with variables. Try to `print` one before having defined it, and Python will complain!"
   ]
  },
  {
   "cell_type": "code",
   "execution_count": 8,
   "metadata": {
    "collapsed": false
   },
   "outputs": [
    {
     "ename": "NameError",
     "evalue": "name 'myVariable' is not defined",
     "output_type": "error",
     "traceback": [
      "\u001b[0;31m---------------------------------------------------------------------------\u001b[0m",
      "\u001b[0;31mNameError\u001b[0m                                 Traceback (most recent call last)",
      "\u001b[0;32m<ipython-input-8-5228067488eb>\u001b[0m in \u001b[0;36m<module>\u001b[0;34m()\u001b[0m\n\u001b[0;32m----> 1\u001b[0;31m \u001b[0;32mprint\u001b[0m \u001b[0mmyVariable\u001b[0m\u001b[0;34m\u001b[0m\u001b[0m\n\u001b[0m\u001b[1;32m      2\u001b[0m \u001b[0mmyVariable\u001b[0m \u001b[0;34m=\u001b[0m \u001b[0;34m\"Hallo Hallo!\"\u001b[0m\u001b[0;34m\u001b[0m\u001b[0m\n",
      "\u001b[0;31mNameError\u001b[0m: name 'myVariable' is not defined"
     ]
    }
   ],
   "source": [
    "print myVariable\n",
    "myVariable = \"Hallo Hallo!\""
   ]
  },
  {
   "cell_type": "markdown",
   "metadata": {},
   "source": [
    "#### A challenge for you!\n",
    "\n",
    "Once again, read out loud the error message. What is saying to you? Quite explicit, isn't it? :)"
   ]
  },
  {
   "cell_type": "markdown",
   "metadata": {},
   "source": [
    "## Arguments\n",
    "\n",
    "As you might have noticed so far we didn't specified any function `parameters`. They are not a strict requirement in fact, it depends what you want to use the function for. You will definetely need though, whe you are using a function to process some *input* and *return* some *output*.\n",
    "\n",
    "```python\n",
    "def myFunction( input_parameter ):\n",
    "# do something to the input\n",
    "    return input_parameter\n",
    "```"
   ]
  },
  {
   "cell_type": "code",
   "execution_count": 12,
   "metadata": {
    "collapsed": false
   },
   "outputs": [
    {
     "name": "stdout",
     "output_type": "stream",
     "text": [
      "Hi! My  name is: Gerardus\n"
     ]
    }
   ],
   "source": [
    "def printMyName( name ):\n",
    "    print \"Hi! My  name is: \"+ name\n",
    "\n",
    "printMyName(\"Gerardus\")"
   ]
  },
  {
   "cell_type": "markdown",
   "metadata": {},
   "source": [
    "#### A challenge for you!"
   ]
  },
  {
   "cell_type": "code",
   "execution_count": null,
   "metadata": {
    "collapsed": true
   },
   "outputs": [],
   "source": [
    "# print you name\n",
    "printMyName(???)"
   ]
  },
  {
   "cell_type": "markdown",
   "metadata": {},
   "source": [
    "In the function `printMyName` we used just one parameter as input, but we are not constrained to that. We can in fact input multiple *comma-separated* parameters:"
   ]
  },
  {
   "cell_type": "code",
   "execution_count": 14,
   "metadata": {
    "collapsed": false
   },
   "outputs": [
    {
     "name": "stdout",
     "output_type": "stream",
     "text": [
      "Hi! My name is Gerardus Merkatoor\n"
     ]
    }
   ],
   "source": [
    "def whoAmI(name, surname):\n",
    "    print \"Hi! My name is \"+name + \" \" + surname\n",
    "\n",
    "whoAmI(\"Gerardus\", \"Merkatoor\")"
   ]
  },
  {
   "cell_type": "markdown",
   "metadata": {},
   "source": [
    "#### A challenge for you!"
   ]
  },
  {
   "cell_type": "code",
   "execution_count": null,
   "metadata": {
    "collapsed": true
   },
   "outputs": [],
   "source": [
    "# define and use a function that takes in input a <name> and <age>\n",
    "# and prints the phrase <name> + \"is\" + <age> +\" years old\""
   ]
  },
  {
   "cell_type": "markdown",
   "metadata": {},
   "source": [
    "Now I'd like you to focus on a particuarly important concept: the names we are using for the parameters are *de facto* creating new variables, that you can use in the *function body* (the indented block of code). Outside of that block they cease to exist though!"
   ]
  },
  {
   "cell_type": "code",
   "execution_count": 15,
   "metadata": {
    "collapsed": false
   },
   "outputs": [
    {
     "ename": "NameError",
     "evalue": "name 'name' is not defined",
     "output_type": "error",
     "traceback": [
      "\u001b[0;31m---------------------------------------------------------------------------\u001b[0m",
      "\u001b[0;31mNameError\u001b[0m                                 Traceback (most recent call last)",
      "\u001b[0;32m<ipython-input-15-ad71376baaad>\u001b[0m in \u001b[0;36m<module>\u001b[0;34m()\u001b[0m\n\u001b[1;32m      3\u001b[0m \u001b[0;34m\u001b[0m\u001b[0m\n\u001b[1;32m      4\u001b[0m \u001b[0;34m\u001b[0m\u001b[0m\n\u001b[0;32m----> 5\u001b[0;31m \u001b[0;32mprint\u001b[0m \u001b[0mname\u001b[0m\u001b[0;34m\u001b[0m\u001b[0m\n\u001b[0m",
      "\u001b[0;31mNameError\u001b[0m: name 'name' is not defined"
     ]
    }
   ],
   "source": [
    "def whoAmI(name, surname):\n",
    "    print \"Hi! My name is \"+name + \" \" + surname\n",
    "\n",
    "\n",
    "print name"
   ]
  },
  {
   "cell_type": "markdown",
   "metadata": {},
   "source": [
    "Notice how the ErrorMessage is the same as before when we tried to `print` a variable that wasn't defined yet? It's the same here: the variables defined as parameters exist only in the indented code block of the function (the [function *scope*](http://python-textbok.readthedocs.io/en/latest/Variables_and_Scope.html) )\n",
    "\n",
    "\n",
    "## Return statement\n",
    "\n",
    "If you want to use the value elaborated within a function, outside of the function itself, you have to return it using the *reserved keyword* `return`:"
   ]
  },
  {
   "cell_type": "code",
   "execution_count": 18,
   "metadata": {
    "collapsed": false
   },
   "outputs": [
    {
     "data": {
      "text/plain": [
       "3"
      ]
     },
     "execution_count": 18,
     "metadata": {},
     "output_type": "execute_result"
    }
   ],
   "source": [
    "def sumTwoQuantities (firstQuantity , secondQuantity):\n",
    "    return firstQuantity + secondQuantity\n",
    "\n",
    "sumTwoQuantities(1,2)\n"
   ]
  },
  {
   "cell_type": "markdown",
   "metadata": {},
   "source": [
    "the `return` keyword, quite literally, returns whatever you tell it to, so that it become accessible outside the function scope. You can do whatever you want want with the returned value, like assign it to a new variable:"
   ]
  },
  {
   "cell_type": "code",
   "execution_count": 22,
   "metadata": {
    "collapsed": false
   },
   "outputs": [
    {
     "name": "stdout",
     "output_type": "stream",
     "text": [
      "This is the returned value: 7\n"
     ]
    },
    {
     "ename": "TypeError",
     "evalue": "'int' object is not callable",
     "output_type": "error",
     "traceback": [
      "\u001b[0;31m---------------------------------------------------------------------------\u001b[0m",
      "\u001b[0;31mTypeError\u001b[0m                                 Traceback (most recent call last)",
      "\u001b[0;32m<ipython-input-22-9ce9ec322e62>\u001b[0m in \u001b[0;36m<module>\u001b[0;34m()\u001b[0m\n\u001b[1;32m      3\u001b[0m \u001b[0;31m# notice the casting from int to str!\u001b[0m\u001b[0;34m\u001b[0m\u001b[0;34m\u001b[0m\u001b[0m\n\u001b[1;32m      4\u001b[0m \u001b[0;32mprint\u001b[0m \u001b[0;34m\"This is the returned value: \"\u001b[0m\u001b[0;34m+\u001b[0m \u001b[0mstr\u001b[0m\u001b[0;34m(\u001b[0m\u001b[0mreturnedValue\u001b[0m\u001b[0;34m)\u001b[0m\u001b[0;34m\u001b[0m\u001b[0m\n\u001b[0;32m----> 5\u001b[0;31m \u001b[0;32mprint\u001b[0m \u001b[0mreturnedValue\u001b[0m\u001b[0;34m(\u001b[0m\u001b[0;36m2\u001b[0m\u001b[0;34m,\u001b[0m\u001b[0;36m5\u001b[0m\u001b[0;34m)\u001b[0m\u001b[0;34m\u001b[0m\u001b[0m\n\u001b[0m",
      "\u001b[0;31mTypeError\u001b[0m: 'int' object is not callable"
     ]
    }
   ],
   "source": [
    "returnedValue = sumTwoQuantities(4, 3)\n",
    "\n",
    "# notice the casting from int to str!\n",
    "print \"This is the returned value: \"+ str(returnedValue)"
   ]
  },
  {
   "cell_type": "markdown",
   "metadata": {},
   "source": [
    "one important thing to remember is that `return` ends the list of instructions contained in a function. Meaning that  whatever code is written below `return`*AND still indented in the function scope* won't be executed\n",
    "\n",
    "```python\n",
    "def genericFunc(parameter):\n",
    "    # do something to parameter\n",
    "    # ...\n",
    "    # do something else..\n",
    "    # ...\n",
    "    return \n",
    "    # this line won't be ever executed! how sad!\n",
    "    # nope. this won't either, sorry.    \n",
    "``\n",
    "    "
   ]
  },
  {
   "cell_type": "markdown",
   "metadata": {},
   "source": [
    "#### A challenge for you!"
   ]
  },
  {
   "cell_type": "code",
   "execution_count": 25,
   "metadata": {
    "collapsed": false
   },
   "outputs": [
    {
     "name": "stdout",
     "output_type": "stream",
     "text": [
      "2\n",
      "5\n"
     ]
    }
   ],
   "source": [
    "# guess what number will be printed\n",
    "def printNumbers():\n",
    "    print 2\n",
    "    print 5\n",
    "    return\n",
    "    print 9999\n",
    "    print 800000\n",
    "\n",
    "printNumbers()"
   ]
  },
  {
   "cell_type": "markdown",
   "metadata": {},
   "source": [
    "Now that you have seen a bit more what is happening in a function, we can combine some concepts that we have seen in previous notebooks to produce interesting bits of code. Take a look at how I've combined the `range` function, and the `for in` loop to print only the odd numbers for a given range."
   ]
  },
  {
   "cell_type": "code",
   "execution_count": 36,
   "metadata": {
    "collapsed": false
   },
   "outputs": [
    {
     "name": "stdout",
     "output_type": "stream",
     "text": [
      "1\n",
      "3\n",
      "5\n",
      "7\n",
      "9\n"
     ]
    }
   ],
   "source": [
    "# What about a function that prints only the odd numbers for a given range?\n",
    "def oddNumbers(inputRange):\n",
    "    for i in range(inputRange):\n",
    "        if i%2 != 0:\n",
    "            print i\n",
    "\n",
    "\n",
    "oddNumbers(10)"
   ]
  },
  {
   "cell_type": "markdown",
   "metadata": {},
   "source": [
    "#### A Challenge for you!"
   ]
  },
  {
   "cell_type": "code",
   "execution_count": null,
   "metadata": {
    "collapsed": true
   },
   "outputs": [],
   "source": [
    "# modify the oddNumbers function\n",
    "# so that in case it hits an even number\n",
    "# it'll print \"Eough, an even number!\"\n",
    "\n",
    "# What about a function that prints only the odd numbers for a given range?\n",
    "def oddNumbers(inputRange):\n",
    "    for i in range(inputRange):\n",
    "        if i%2 != 0:\n",
    "            print i\n",
    "#        you code here \n",
    "# HINT : remember IF ELSE \n",
    "\n",
    "\n",
    "# try also to change the range in input\n",
    "oddNumbers()\n"
   ]
  },
  {
   "cell_type": "markdown",
   "metadata": {},
   "source": [
    "## Function Calling!\n",
    "\n",
    "So, we've seen that a function is a chunk of code that encapsulates a speficic behaviour. And we refer to that chunck calling the function name with a set of parenthesis. \n",
    "\n",
    "### Assign a function to a variable\n",
    "\n",
    "We can also, like with variables, refer to that behaviour by attaching another variable name to the function (remember that in Python [variable names are like tags attached to something?](http://python.net/~goodger/projects/pycon/2007/idiomatic/handout.html#other-languages-have-variables))\n",
    "\n"
   ]
  },
  {
   "cell_type": "code",
   "execution_count": 28,
   "metadata": {
    "collapsed": false
   },
   "outputs": [
    {
     "data": {
      "text/plain": [
       "6"
      ]
     },
     "execution_count": 28,
     "metadata": {},
     "output_type": "execute_result"
    }
   ],
   "source": [
    "def functionName (firstQuantity , secondQuantity):\n",
    "    return firstQuantity + secondQuantity\n",
    "\n",
    "# assign new variable to the function\n",
    "anotherName = functionName\n",
    "\n",
    "# now I can call the original function\n",
    "# with the new name\n",
    "anotherName(2,4)"
   ]
  },
  {
   "cell_type": "markdown",
   "metadata": {},
   "source": [
    "The imporant bit to understand in the preceding example is that both names (i.e. `functionName` and `anotherName`) point to the same function. They refer to the same thing."
   ]
  },
  {
   "cell_type": "markdown",
   "metadata": {},
   "source": [
    "#### A challenge for you!"
   ]
  },
  {
   "cell_type": "code",
   "execution_count": 30,
   "metadata": {
    "collapsed": false
   },
   "outputs": [
    {
     "name": "stdout",
     "output_type": "stream",
     "text": [
      "Hi Gerardus\n"
     ]
    }
   ],
   "source": [
    "# what will be the output of this code?\n",
    "# print didYouForget to find it out\n",
    "\n",
    "def myName(name):\n",
    "   return \"Hi \" + name\n",
    "sayMyName = myName\n",
    "didYouForget = sayMyName(\"Gerardus\")\n",
    "\n",
    "\n"
   ]
  },
  {
   "cell_type": "markdown",
   "metadata": {},
   "source": [
    "### Functions as parameters of other functions\n",
    "\n",
    "This leads us to another intersting idea: since moving around functions is so easy, what happens when we use them as inputs to other functions?"
   ]
  },
  {
   "cell_type": "code",
   "execution_count": 38,
   "metadata": {
    "collapsed": false
   },
   "outputs": [
    {
     "name": "stdout",
     "output_type": "stream",
     "text": [
      "12\n",
      "12\n"
     ]
    }
   ],
   "source": [
    "def addTwo(inputNumber):\n",
    "    return inputNumber + 2\n",
    "\n",
    "def multiplyByThree(inputFunc):\n",
    "    print inputFunc * 3\n",
    "\n",
    "# you can use multiplyByThree\n",
    "# with a regular argument as input     \n",
    "multiplyByThree(4)\n",
    "\n",
    "# but also with a function as input\n",
    "multiplyByThree(addTwo(2))"
   ]
  },
  {
   "cell_type": "markdown",
   "metadata": {},
   "source": [
    "#### A Challenge for you!"
   ]
  },
  {
   "cell_type": "code",
   "execution_count": null,
   "metadata": {
    "collapsed": true
   },
   "outputs": [],
   "source": [
    "# define a new function moduloDivision\n",
    "# that checks the result of the input against a modulo division\n",
    "# IF TRUE it prints \"no remainder!\"\n",
    "# ELSE prints \"here's the remainder\"+ remainder\n",
    "\n",
    "# Use it to check the value produced by either addTwo or multiplyByThree"
   ]
  },
  {
   "cell_type": "markdown",
   "metadata": {},
   "source": [
    "# Code (Applied Geo-example)\n",
    "\n",
    "Ok, if you made it this far you are definitely on the right track to became an awesome geocomp'er!\n",
    "\n",
    "The geo-excercise I'll give you this time is a real-world problem that you might face one day in your career as geospatial professionals.\n",
    "\n",
    "A colleague of yours used a GPS to survey at regular intervals the dispersion of pollutants in a patch of terrain. Unfortunately, after a good start..he forgot to record all the remaining points! \n",
    "\n",
    "But that's not a terrible problem, as the transect has a perfect West-East orientation and direction, and all the points are spaced by a the same value dX of 0.03 degrees longitude, i.e.:\n",
    "\n",
    "(0.0102, 51.592)-----(X+dX,Y)-----(X+2dX,Y)-----(X+3dX,Y)--->\n",
    "      \n",
    "Using what we've seen so far, try to create a `GeoJSON featureCollection` of points. To give you a head start, I've provided some *scaffolding*.\n",
    "\n",
    "HINT: Being the skilled geographer that you are, you immediately realise that actually you've got all the coordinates that you need, even for the missing points (i.e. the latitude values will remain constant..)"
   ]
  },
  {
   "cell_type": "code",
   "execution_count": 53,
   "metadata": {
    "collapsed": false
   },
   "outputs": [
    {
     "name": "stdout",
     "output_type": "stream",
     "text": [
      "{'type': 'FeatureCollection', 'features': [{'geometry': {'type': 'Point', 'coordinates': [0.01, 51.592]}, 'type': 'Feature', 'properties': {}}, [{'geometry': {'type': 'Point', 'coordinates': [0.04, 51.592]}, 'type': 'Feature', 'properties': {}}, {'geometry': {'type': 'Point', 'coordinates': [0.06999999999999999, 51.592]}, 'type': 'Feature', 'properties': {}}, {'geometry': {'type': 'Point', 'coordinates': [0.09999999999999999, 51.592]}, 'type': 'Feature', 'properties': {}}]]}\n"
     ]
    }
   ],
   "source": [
    "# define a new featureCollection\n",
    "# it's simply a dictionary\n",
    "# we are going to add new point features (dictionaries as well)\n",
    "# in its features property (which is a list, so we'll have to append them )\n",
    "transect = {\n",
    "  \"type\": \"FeatureCollection\",\n",
    "  \"features\": [\n",
    "    {\n",
    "      \"type\": \"Feature\",\n",
    "      \"properties\": {},\n",
    "      \"geometry\": {\n",
    "        \"type\": \"Point\",\n",
    "        \"coordinates\": [\n",
    "          0.0100,\n",
    "          51.592\n",
    "        ]\n",
    "      }\n",
    "    }\n",
    "# -------------------------------------------------------------\n",
    "#         here is where the remaining three points have to go\n",
    "# -------------------------------------------------------------\n",
    "  ]\n",
    "}\n",
    "\n",
    "# initial coordinate list\n",
    "initial_coordinates = [0.0100, 51.592]\n",
    "# dX delta \n",
    "gap = 0.03\n",
    "# new empty list where I'm going to put all the new dictionaries \n",
    "# a.k.a. all the new points\n",
    "three_new_points = []\n",
    "\n",
    "\n",
    "for i in range(3):\n",
    "#   define a new point \n",
    "    new_point = {\n",
    "      \"type\": \"Feature\",\n",
    "      \"properties\": {},\n",
    "      \"geometry\": {\n",
    "        \"type\": \"Point\",\n",
    "        \"coordinates\": []\n",
    "\n",
    "      }\n",
    "    }\n",
    "# create a new list with the updated coordinates\n",
    "    new_coordinates = [???[0] + gap, initial_coordinates[1]]\n",
    "# assign the new coordinates to the coordinates key\n",
    "# in the new point dictionary\n",
    "    new_point[\"geometry\"][\"coordinates\"] = new_coordinates\n",
    "# append the new point dictionary to the list of new points\n",
    "    three_new_points.append(???)\n",
    "# increment the longitude\n",
    "    gap += 0.03\n",
    "\n",
    "\n",
    "# out of the For Loop\n",
    "# append the list with all the three new points\n",
    "# to the features list within the transect dictionary\n",
    "transect[\"features\"].append(???)\n",
    "print transect"
   ]
  },
  {
   "cell_type": "markdown",
   "metadata": {
    "collapsed": true
   },
   "source": [
    "**Congratulations on finishing your sixth notebook!**"
   ]
  },
  {
   "cell_type": "markdown",
   "metadata": {},
   "source": [
    "\n",
    "### Further references:\n",
    "\n",
    "General list or resources\n",
    "- [Awesome list of resources](https://github.com/vinta/awesome-python)\n",
    "- [Python Docs](https://docs.python.org/2.7/tutorial/introduction.html)\n",
    "- [HitchHiker's guide to Python](http://docs.python-guide.org/en/latest/intro/learning/)\n",
    "- [Python for Informatics](http://www.pythonlearn.com/book_007.pdf)\n",
    "- [Learn Python the Hard Way - Lists](http://learnpythonthehardway.org/book/ex32.html)\n",
    "- [Learn Python the Hard Way - Dictionaries](http://learnpythonthehardway.org/book/ex39.html)\n",
    "- [CodeAcademy](https://www.codecademy.com/courses/python-beginner-en-pwmb1/0/1)\n",
    "\n"
   ]
  }
 ],
 "metadata": {
  "anaconda-cloud": {},
  "kernelspec": {
   "display_name": "Python [Root]",
   "language": "python",
   "name": "Python [Root]"
  },
  "language_info": {
   "codemirror_mode": {
    "name": "ipython",
    "version": 2
   },
   "file_extension": ".py",
   "mimetype": "text/x-python",
   "name": "python",
   "nbconvert_exporter": "python",
   "pygments_lexer": "ipython2",
   "version": "2.7.12"
  }
 },
 "nbformat": 4,
 "nbformat_minor": 0
}
