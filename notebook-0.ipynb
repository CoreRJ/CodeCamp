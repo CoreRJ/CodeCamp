{
 "cells": [
  {
   "cell_type": "markdown",
   "metadata": {},
   "source": [
    "# Notebook-0: Set-Up\n"
   ]
  },
  {
   "cell_type": "markdown",
   "metadata": {},
   "source": [
    "## Aims & Objectives\n",
    "\n",
    "The goal of Notebook-0 is to get you set-up to:\n",
    "1. Learn the basics of writing code from home, and \n",
    "2. Get you connected to tools that can help you when things go wrong (they always do!), and\n",
    "3. Back up your work (see \\#2). \n",
    "We'll be using all of this from your first day on the Geocomputation module, so it's best that you get started now so that it's not all 'brand new' to you in the practical!\n",
    "\n",
    "With this in mind, by the end of this lesson you will:\n",
    "- Be signed up and logged in to Slack\n",
    "- Be signed up and logged in to Dropbox\n",
    "- Be ready to start writing some simple code"
   ]
  },
  {
   "cell_type": "markdown",
   "metadata": {},
   "source": [
    "## Slack"
   ]
  },
  {
   "cell_type": "markdown",
   "metadata": {},
   "source": [
    "### What is Slack?\n",
    "\n",
    "<img src=\"img/Slack.png\",width=300>\n",
    "\n",
    "[Slack](http://www.slack.com/) is a “messaging app for teams” that is designed to reduced email, organise conversations & topics of discussion, and pull in relevant data from a host of other services in a flexible, fully-searchable way. All in real-time. \n",
    "\n",
    "We want you to use Slack for four reasons:\n",
    "1. KEATS is clunky and formal -- it works well for one-to-many communication, but not so much for ‘chat’.\n",
    "2. Slack offers a searchable history -- you will have access to this archive for the next 2 years and beyond.\n",
    "3. You (and we) can access Slack on every major platform and Operating System (OSX, Windows, iOS, Android, and Windows Phone) and via a browser quickly.\n",
    "4. Slack is used in the ‘real world’ by everyone from Apple to PayPal and the JPL. This is how developers work.\n",
    "Last year, many students wanted to Direct Message (DM) us, which meant that others couldn't benefit from our answers and we ended up answering the same question multiple times. This year, we will only answer coding questions that have been asked publicly in the appropriate channel. \n",
    "\n",
    "Let's be clear: learning to code is hard. We expect _all_ of you to end up needing help at some point and we will _not_ be marking down anyone who asks for help in a public channel. The best way to learn is as a _community_ -- this is a very different model of learning from the 'usual' one in a lecture class or seminar, and we want you to get the maximum benefit from it!"
   ]
  },
  {
   "cell_type": "markdown",
   "metadata": {},
   "source": [
    "### Getting set up with Slack\n",
    "\n",
    "Getting started with Slack is simple:\n",
    "1. [Download](https://slack.com/downloads) the Slack client for your computer and phone.\n",
    "2. Sign up for the [kclgsa2016](https://kclgsa2016.slack.com/x-66301338055-66300711317/signup) Slack team.\n",
    "3. Make sure you subscribe to all of the available channels so that you don't miss any updates."
   ]
  },
  {
   "cell_type": "markdown",
   "metadata": {},
   "source": [
    "## Dropbox"
   ]
  },
  {
   "cell_type": "markdown",
   "metadata": {},
   "source": [
    "### What is Dropbox?\n",
    "\n",
    "<img src=\"img/Dropbox.png\",width=300>\n",
    "\n",
    "Dropbox is a cloud-based file synchronisation tool: files placed in the special Dropbox folder on a computer are automatically uploaded to the Dropbox servers, and automatically downloaded to any other computer on which you have set up Dropbox. Subsequent changes are also synchronised, and you can even go to the web interface to recover a deleted file or the previous version of a file. \n",
    "\n",
    "Basically, Dropbox can be your saviour when you lose a USB key or forget your computer at home."
   ]
  },
  {
   "cell_type": "markdown",
   "metadata": {},
   "source": [
    "### Getting set up with Dropbox\n",
    "\n",
    "Getting started with Dropbox is _also_ easy:\n",
    "1. Sign up for a [new account](https://db.tt/VwSUYmkf).\n",
    "2. [Download](https://www.dropbox.com/downloading) the Dropbox app for your computer and phone.\n",
    "3. Start the Dropbox app and enter the login details for your new account.\n",
    "\n",
    "Find the Dropbox folder that has been created and drag a file (any _small_ file) into this folder. Wait 10 seconds, and then visit [Dropbox.com](https://www.dropbox.com/). Assuming that you are logged in (which you should be from step \\#1) then you should see this file appear in the web interface of Dropbox. \n",
    "\n",
    "If you install the Dropbox app on your phone (and set it up with the same username and password) then after launching the app you should see the file from your computer listed there. Handy right?"
   ]
  },
  {
   "cell_type": "markdown",
   "metadata": {},
   "source": [
    "## Getting started with Python\n",
    "\n",
    "That was the easy bit. We're now going to get you set up with the [Python](https://www.python.org) programming language and something called [Jupyter](http://jupyter.org) notebooks so that you can write and run code in your web browser. You will have two choices below:\n",
    "1. Running Python online\n",
    "2. Running Python on your computer\n",
    "\n",
    "We recommend \\#1 as a starting point, but if you have problems with the online service (you will sometimes get a 'No Vacancy' message when a lot of people are online) then we recommend trying option \\#2! It's not much more work, but \\#1 involves _no_ work.\n",
    "\n",
    "When you start the Geocomputation module in the Autumn you will still be using notebooks and Python, but we'll running them on the _GeoCUP_ system to give you more control over the code and libraries that you use. What we're doing now, however, is the best way to get you started since it doesn't require you to download 15GB of data!\n",
    "\n",
    "### How will I know if I've done the right thing?\n",
    "\n",
    "We are trying to get you to the Jupyter web application. If, after following either of the procedures set out below, you see something like the image below then you succeeded!\n",
    "\n",
    "![Jupyter Web Application](img/Jupyter.png)"
   ]
  },
  {
   "cell_type": "markdown",
   "metadata": {},
   "source": [
    "#### Using Jupyter\n",
    "\n",
    "Jupyter 'notebooks' allow you to see the lesson content, the code, and the output of the code in one place. Like this..."
   ]
  },
  {
   "cell_type": "code",
   "execution_count": 2,
   "metadata": {
    "collapsed": false
   },
   "outputs": [
    {
     "name": "stdout",
     "output_type": "stream",
     "text": [
      "Hello there! I am a line of code\n"
     ]
    }
   ],
   "source": [
    "## I am code! See how I look different from the other content on this page? \n",
    "## Even the text color has changed. See how the next line appears twice:\n",
    "## once as something that is 'code', and once (below that) as the result of\n",
    "## the code being run?\n",
    "print(\"Hello there! I am a line of code\")"
   ]
  },
  {
   "cell_type": "markdown",
   "metadata": {},
   "source": [
    "The above line only works in a Jupyter notebook, but notice how it is clearly marked out from the rest of this text making it easy to read? There's even a hanging <span style=\"color:blue;weight:bold\">In [2]:</span> that tells you this is the second bit of code on the page. All code will be formatted -- 'marked up' in programming parlance -- in a way that distinguishes it from the explanations and lesson content that we are providing. Although it might be tempting to just skip to the code and ignore what we've written, we think you'll find that the explanations and instructions are rather important."
   ]
  },
  {
   "cell_type": "markdown",
   "metadata": {},
   "source": [
    "### Running Python Online\n",
    "\n",
    "#### Requirements\n",
    "- A modern browser\n",
    "- Being online"
   ]
  },
  {
   "cell_type": "markdown",
   "metadata": {},
   "source": [
    "#### Installing a Modern Browser\n",
    "As the [Juptyer Docs](http://jupyter-notebook-beginner-guide.readthedocs.io/en/latest/install.html) rightly point out, in order to get started you will need a \"modern, standards-compliant browser\".\n",
    "\n",
    "In plain-English:\n",
    "\n",
    "> _Either Mozilla Firefox or Google Chrome will work well. Try to avoid MS Explorer._\n",
    "\n",
    "We are writing _this_ Jupyter notebook using OSX Safari, so that should also be fine."
   ]
  },
  {
   "cell_type": "markdown",
   "metadata": {},
   "source": [
    "#### Using Try.Jupyter.org\n",
    "\n",
    "Jupyter provides a kind of 'try before you buy' service online at http://try.jupyter.org/. \n",
    "\n",
    "If you get a 'No Vacancy' message like what you see below then you will either: a) need to be patient; or b) look at _Running Python on Your Computer_.\n",
    "\n",
    "![No Vacancy](img/NoVacancy.png)"
   ]
  },
  {
   "cell_type": "markdown",
   "metadata": {},
   "source": [
    "### Running Python on Your Computer\n",
    "\n",
    "#### Requirements\n",
    "- A modern browser\n",
    "- Python"
   ]
  },
  {
   "cell_type": "markdown",
   "metadata": {},
   "source": [
    "#### Installing a Modern Browser\n",
    "As the [Juptyer Docs](http://jupyter-notebook-beginner-guide.readthedocs.io/en/latest/install.html) rightly point out, in order to get started you will need a \"modern, standards-compliant browser\".\n",
    "\n",
    "In plain-English:\n",
    "\n",
    "> _Either Mozilla Firefox or Google Chrome will work well. Try to avoid MS Explorer._\n",
    "\n",
    "We are writing _this_ Jupyter notebook using OSX Safari, so that should also be fine."
   ]
  },
  {
   "cell_type": "markdown",
   "metadata": {},
   "source": [
    "#### Installing Python\n",
    "\n",
    "Python comes installed by default on some Operating Systems, but to make things simple we want you to install [Anaconda](https://www.continuum.io/downloads).\n",
    "\n",
    "Anaconda installs the latest and greatest version of Python, along with tools for installing the 'libraries' (more on these in a later notebook!) that provide a lot of useful functionality for your applications. \n",
    "\n",
    "To download and install Anaconda follow the instructions [here](http://jupyter.readthedocs.io/en/latest/install.html#id3). _**Note**: you should install Python 2.7, not Python 3.5; we'll explain why later._\n"
   ]
  },
  {
   "cell_type": "markdown",
   "metadata": {},
   "source": [
    "#### Test everything\n",
    "\n",
    "Let's make sure that everything is now working and that you can run the notebooks.\n",
    "\n",
    "<span style=\"color:red;weight:bolder;font-size:18pt\">This needs two videos. Don't worry about the 'cd' bit for either, just get the server up and running then show them how to load a .ipynb file</span>\n",
    "\n",
    "Please have a look at Jupyter's [help page](http://jupyter-notebook-beginner-guide.readthedocs.io/en/latest/execute.html) where it provides information about starting up and running the notebooks:\n",
    "\t\n",
    "> *(Windows): The Jupyter Notebook App can be launched by clicking on the Jupyter Notebook icon installed by Anaconda in the start menu (Windows) or by typing in a terminal (cmd on Windows): `jupyter notebook`*\n",
    "\n",
    "> *(Mac OSX): Click on spotlight, type 'terminal' to open a terminal window. Enter the startup folder by typing cd /some_folder_name. Type jupyter notebook to launch the Jupyter Notebook App (it will appear in a new browser window or tab).*\n",
    "\n",
    "If something goes wrong: **don't panic**! Sometimes there will be... complications... since every computer is unique, and sometimes something that works on 99% of systems seems to fail on the 100th. But before you think that there's something wrong with your computer, please _re-read_ the instructions above and make sure that you've followed them fully at each and every step. \n",
    "\n",
    "If you still can't get Jupyter to work, then [Google is your friend](http://lmgtfy.com/?q=%22Learning+what+questions+to+ask+is+a+skill+in+itself%22+(Somebody+smart). Read first (see the References section for a selection of informative websites and resources) and when you'll have a clearer definition of your probelem ask questions in clear and simple terms."
   ]
  },
  {
   "cell_type": "markdown",
   "metadata": {},
   "source": [
    "## Bonus!\n",
    "\n",
    "### More about Juptyer\n",
    "\n",
    "Now that you have your shiny new technology 'stack' installed on your machine, explore it! \n",
    "\n",
    "For a quick primer on how to use a Jupyter Notebook follow this nice and easy tutorial from [OpenTechSchool](http://opentechschool.github.io/python-data-intro/core/notebook.html)\n",
    "\n",
    "### Git & Github\n",
    "Github (in an **absolutely simplistic** description) is a webiste used to store programming files. Think about it as a \"Dropbox for programmers\". Github (and Git the system it uses behind the scene) do much more than this, but for the moment being let's stop here. If you are interested in learning more about Git and Github check out these resources:\n",
    "\n",
    "- [Github Guides](https://guides.github.com/activities/hello-world/)\n",
    "- [Github for Cats](http://ericsteinborn.com/github-for-cats)\n",
    "- [TryGit!](https://try.github.io/levels/1/challenges/1)"
   ]
  },
  {
   "cell_type": "code",
   "execution_count": null,
   "metadata": {
    "collapsed": true
   },
   "outputs": [],
   "source": []
  }
 ],
 "metadata": {
  "kernelspec": {
   "display_name": "Python 2",
   "language": "python",
   "name": "python2"
  },
  "language_info": {
   "codemirror_mode": {
    "name": "ipython",
    "version": 2
   },
   "file_extension": ".py",
   "mimetype": "text/x-python",
   "name": "python",
   "nbconvert_exporter": "python",
   "pygments_lexer": "ipython2",
   "version": "2.7.11"
  }
 },
 "nbformat": 4,
 "nbformat_minor": 0
}
