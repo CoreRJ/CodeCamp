{
 "cells": [
  {
   "cell_type": "markdown",
   "metadata": {},
   "source": [
    "# Notebook-0: Set-Up\n"
   ]
  },
  {
   "cell_type": "markdown",
   "metadata": {},
   "source": [
    "### Lesson Aims\n",
    "\n",
    "The overall goal of this Notebook-0 is to get you set-up with the technical bits that you'll use further down the line. \n",
    "\n",
    "\n",
    "\n",
    "At the end of this lesson you will:\n",
    "\n",
    "- *Install a modern browser*: Get yourself the latest \n",
    "- *Install Python*: This is the programming language you will learn.\n",
    "- *Install Jupyter*: It's \"environment\" you will use to learn Python, and that allows you to run the Jupyter Notebooks.\n",
    "- *Download the exercises*: Chek-out how in [this section](#)\n",
    "- *Test everything!*: Make sure that everything works and that you can run the Jupyter Notebooks.\n",
    "\n",
    "While it may be a bit plain, keep at it! Follow thoroughly the instructions provided hereafter and on the referred webistes and you'll be up-and-running in no time.\n",
    "   "
   ]
  },
  {
   "cell_type": "markdown",
   "metadata": {},
   "source": [
    "### Install a Modern Browser\n",
    "As the [Juptyer Docs](http://jupyter-notebook-beginner-guide.readthedocs.io/en/latest/install.html) rightly point out, in order to get started  the very basic step\n",
    "\n",
    "> *consists in installing a modern, standard-compliant browser. Either Mozilla Firefox or Google Chrome will work well. Try to avoid MS Explorer*.\n",
    "\n",
    "So stop everything you're doing, go on the interwebs, and get yourself a new shiny browser!"
   ]
  },
  {
   "cell_type": "markdown",
   "metadata": {},
   "source": [
    "### Install Python && Juptyer\n",
    "\n",
    "Python comes installed by default on some Operative Systems (i.e. Ubuntu Linux, MacOS..), while on others you have to explicitly install if yourself, as you would with a program or an app.\n",
    "\n",
    "Regardless of the OS present on your machine (and thus of the Python version that might or might not come with it!), we are going firstly to install [Anaconda](https://www.continuum.io/downloads).\n",
    "\n",
    "Anaconda is basically a collection of the python programming language and of it most used libraries, already bundled up for you convenience. And yes, it includes even the Jupyter Notebooks!\n",
    "\n",
    "To download and install Anaconda follow the instructions [here](http://jupyter.readthedocs.io/en/latest/install.html#id3).\n",
    "\n"
   ]
  },
  {
   "cell_type": "markdown",
   "metadata": {},
   "source": [
    "#### Download the exercises\n",
    "\n",
    "The way a Jupyter Notebook works is that it allows you to see both the lesson content,  the code, and the output of the code outcome (after it has been executed), e.g.:\n",
    "\n",
    " \n"
   ]
  },
  {
   "cell_type": "markdown",
   "metadata": {},
   "source": [
    "This is a paragraph of content. Quite informative indeed!"
   ]
  },
  {
   "cell_type": "code",
   "execution_count": 6,
   "metadata": {},
   "outputs": [
    {
     "name": "stdout",
     "output_type": "stream",
     "text": [
      "Hello there! I am the output of the previous line of code\n"
     ]
    }
   ],
   "source": [
    "## This is a code \"cell\". See how it is rendered differently? Even the text color changed.\n",
    "## And watch in the cell below the output of the following line of code\n",
    "print(\"Hello there! I am the output of the previous line of code\")\n"
   ]
  },
  {
   "cell_type": "markdown",
   "metadata": {},
   "source": [
    "\n",
    "\n",
    "So, while Github (the website you're visiting at the moment) is capable of *displaying* the Python code, you can't really interact with it. It's \"static\".\n",
    "\n",
    "Wouldn't it be much more fun and fruitful if you could actually **run** (i.e. execute) that code on you own machine? \n",
    "\n",
    "To do so you'll of course need both Python, the Jupyter Notebooks and the exercises on your computer.\n",
    "\n",
    "Since (hopefully) by now you have the first two installed, let's download the latter.\n",
    "\n",
    "You have two possibilities:\n",
    "\n",
    "- METHOD A: download the whole Github \"*repository*\" (repo-WUT? check out the [Bonus section](#bonus!) to learn more about Github )click the green button on the top-right corner that says \"clone or download\") and decompress the `.zip` file.    \n",
    "- METHOD B: if you want to have just the single notebook and not the whole repository then click on the notebook name, this will bring you to the rendered notebook. Click on 'raw', and then right-click on the web-page and 'save-as' wherever you want that file on your local filesystem\n"
   ]
  },
  {
   "cell_type": "markdown",
   "metadata": {},
   "source": [
    "#### Test everything\n",
    "\n",
    "Make sure that everything works and that you can run the notebooks.\n",
    "\n",
    "From Jupyter's [web-page](http://jupyter-notebook-beginner-guide.readthedocs.io/en/latest/execute.html):\n",
    "\t\n",
    ">*(Windows): The Jupyter Notebook App can be launched by clicking on the Jupyter Notebook icon installed by Anaconda in the start menu (Windows) or by typing in a terminal (cmd on Windows): `jupyter notebook`*\n",
    "> *(Mac OSX): Click on spotlight, type 'terminal' to open a terminal window. Enter the startup folder by typing cd /some_folder_name. Type jupyter notebook to launch the Jupyter Notebook App (it will appear in a new browser window or tab).*\n",
    "\n",
    "If something goes wrong: Don't panic! Even thought everything has been installed smoothly, it doesn't necessarily mean that it will work. There might be plenty of other complications at a \"lower level\" in the machine guts. \n",
    "\n",
    "Might this be you first  first dip in the programming world. Re-read every instruction passage and make sure you've followed it accordingly. \n",
    "\n",
    "Also [Google is your friend](http://lmgtfy.com/?q=%22Learning+what+questions+to+ask+is+a+skill+in+itself%22+(Somebody+smart). Read first (see the References section for a selection of informative websites and resources) and when you'll have a clearer definition of your probelem ask questions in clear and simple terms.\n",
    "\n"
   ]
  },
  {
   "cell_type": "markdown",
   "metadata": {},
   "source": [
    "#### Bonus!\n",
    "\n",
    "##### Git & Github\n",
    "Github (in an **absolutely simplistic** description) is a webiste used to store programming files. Think about it as a \"Dropbox for programmers\". Github (and Git the system it uses behind the scene) do much more than this, but for the moment being let's stop here. If you are interested in learning more about Git and Github check out these resources:\n",
    "\n",
    "- [Github Guides](https://guides.github.com/activities/hello-world/)\n",
    "- [Github for Cats](http://ericsteinborn.com/github-for-cats)\n",
    "- [TryGit!](https://try.github.io/levels/1/challenges/1)\n",
    "    \n",
    "\n",
    "##### Juptyer Primer\n",
    "\n",
    "Now that you have your shiny new technology 'stack' installed on your machine, explore it! \n",
    "\n",
    "Fora quick-primer on how to move around and interact with a Jupyter Notebook follow this nice and easy tutorial from [OpenTechSchool](http://opentechschool.github.io/python-data-intro/core/notebook.html)"
   ]
  }
 ],
 "metadata": {
  "kernelspec": {
   "display_name": "Python 2",
   "language": "python",
   "name": "python2"
  },
  "language_info": {
   "codemirror_mode": {
    "name": "ipython",
    "version": 2
   },
   "file_extension": ".py",
   "mimetype": "text/x-python",
   "name": "python",
   "nbconvert_exporter": "python",
   "pygments_lexer": "ipython2",
   "version": "2.7.11"
  }
 },
 "nbformat": 4,
 "nbformat_minor": 0
}
