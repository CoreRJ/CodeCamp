{
 "cells": [
  {
   "cell_type": "markdown",
   "metadata": {},
   "source": [
    "# Notebook-0: Set-Up\n"
   ]
  },
  {
   "cell_type": "markdown",
   "metadata": {},
   "source": [
    "### Lesson Aims\n",
    "\n",
    "The overall goal of this Notebook-0 is to get you set-up with the technical bits that you'll use further down the line. \n",
    "\n",
    "\n",
    "\n",
    "At the end of this lesson you will:\n",
    "\n",
    "- **Install a modern browser**: Get yourself the latest \n",
    "- **Install Python**: This is the programming language you will learn.\n",
    "- **Install Jupyter**: It's \"environment\" you will use to learn Python, and that allows you to run the Jupyter Notebooks.\n",
    "- **Download the exercises**: Chek-out how in [this section](#)\n",
    "- **Test everything!**: Make sure that everything works and that you can run the Jupyter Notebooks.\n",
    "\n",
    "While it may be a bit plain, keep at it! Follow thoroughly the instructions provided hereafter and on the referred webistes and you'll be up-and-running in no time.\n",
    "   "
   ]
  },
  {
   "cell_type": "markdown",
   "metadata": {},
   "source": [
    "### Install a Modern Browser\n",
    "As the Juptyer Docs rightly point out, the very basic step in order to get started \n",
    "\n",
    "> consists in installing a modern, standard-compliant browser. Either Mozilla Firefox or Google Chrome will work well. Try to avoid MS Explorer.\n",
    "\n",
    "So sto everything you're doing, go on the interwebs, and get yourself a new shiny browser!"
   ]
  },
  {
   "cell_type": "markdown",
   "metadata": {},
   "source": [
    "### Install Python && Juptyer\n",
    "\n",
    "Python comes installed by default on some Operative Systems (i.e. Ubuntu Linux, MacOS..), while on others you have to explicitly install if yourself, as you would with a program or an app.\n",
    "\n",
    "Regardless of the OS present on your machine (and thus of the Python version that might or might not come with it!), we are going firstly to install [Anaconda](https://www.continuum.io/downloads).\n",
    "\n",
    "Anaconda is basically a collection of the python programming language and of it most used libraries, already bundled up for you convenience. And yes, it includes even the Jupyter Notebooks!\n",
    "\n",
    "To download and install Anaconda follow the instructions [here](http://jupyter.readthedocs.io/en/latest/install.html#id3).\n",
    "\n"
   ]
  },
  {
   "cell_type": "markdown",
   "metadata": {},
   "source": [
    "#### Download the exercises\n",
    "\n",
    "The way a Jupyter Notebook works is that it allows you to see both the instructions, the code, and its outcome after you run it, e.g.:\n",
    "![](./img/jupyter-example.png)\n",
    "\n",
    "While Github (the website you're visiting at the moment) is capable of *displaying* the Python code, wouldn't it be much more fun and fruitful if you could actually **run** (i.e. execute) that code on you own machine? \n",
    "\n",
    "To do so you'll of course need both Python, the Jupyter Notebooks and the exercises on your computer.\n",
    "\n",
    "Since (hopefully) by now you have the first two installed, let's download the latter.\n",
    "\n",
    "You have two possibilities:\n",
    "\t- METHOD A: download the whole Github \"*repository*\" (repo-WUT? check out the [Bonus section](#/Bonus) to learn more about Github )click the green button on the top-right corner that says \"clone or download\") and decompress the `.zip` file.\n",
    "\t- METHOD B: if you want to have just the single notebook and not the whole repository then click on the notebook name, this will bring you to the rendered notebook. Click on 'raw', and then right-click on the web-page and 'save-as' wherever you want that file on your local filesystem\n",
    "\n",
    " \n"
   ]
  },
  {
   "cell_type": "markdown",
   "metadata": {},
   "source": [
    "#### Test everything\n",
    "\n",
    "Make sure that everything works and that you can run the notebooks.\n",
    "\n",
    "- From Jupyter's [web-page](http://jupyter-notebook-beginner-guide.readthedocs.io/en/latest/execute.html):\n",
    "\t\n",
    "\t> (*Windows*): The Jupyter Notebook App can be launched by clicking on the Jupyter Notebook icon installed by Anaconda in the start menu (Windows) or by typing in a terminal (cmd on Windows): `jupyter notebook`\n",
    "        \n",
    "This will be your first dip in the programming world: in fact, even thought everything has been installed smoothly, it doesn't necessarily mean that it will work. There might be plenty of other complications at a \"lower level\" in the machine guts. Don't panic! Might this be you first lesson and try to see if you are able to run the Jupyter Notebooks "
   ]
  },
  {
   "cell_type": "markdown",
   "metadata": {},
   "source": [
    "#### Bonus!\n",
    "\n",
    "##### Git & Github\n",
    "Github (in an **absolutely simplistic** description) is a webiste used to store programming files. Think about it as a \"Dropbox for programmers\". Github (and Git the system it uses behind the scene) do much more than this, but for the moment being let's stop here. If you are interested in learning more about Git and Github check out these reseources:\n",
    "\n",
    "    - [github Guides](https://guides.github.com/activities/hello-world/)\n",
    "    - [Github for Cats](http://ericsteinborn.com/github-for-cats)\n",
    "    - [TryGit!](https://try.github.io/levels/1/challenges/1)\n",
    "    \n",
    "\n",
    "##### Juptyer Primer\n",
    "\n",
    "Now that you have your shiny new technology 'stack' installed on your machine, explore it! \n",
    "\n",
    "For a quick-primer on how to move around and interact with a Jupyter Notebook follow this nice and easy tutorial from [OpenTechSchool](http://opentechschool.github.io/python-data-intro/core/notebook.html)"
   ]
  }
 ],
 "metadata": {
  "kernelspec": {
   "display_name": "Python 2",
   "language": "python",
   "name": "python2"
  },
  "language_info": {
   "codemirror_mode": {
    "name": "ipython",
    "version": 2
   },
   "file_extension": ".py",
   "mimetype": "text/x-python",
   "name": "python",
   "nbconvert_exporter": "python",
   "pygments_lexer": "ipython2",
   "version": "2.7.11"
  }
 },
 "nbformat": 4,
 "nbformat_minor": 0
}
