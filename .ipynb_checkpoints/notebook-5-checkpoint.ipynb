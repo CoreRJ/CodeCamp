{
 "cells": [
  {
   "cell_type": "markdown",
   "metadata": {},
   "source": [
    "# Notebook-5: Lists and Dictionaries"
   ]
  },
  {
   "cell_type": "markdown",
   "metadata": {},
   "source": [
    "### Lesson Content \n",
    "\n",
    "- Lists\n",
    "    - Operations\n",
    "       \n",
    "    - Functions\n",
    "- Dictionaries\n",
    "- Introduction to recursion\n",
    "\n",
    "Welcome to the fifth Code Camp notebook! In this lesson we'll introduce more advanced *data types* other than the numeric (*integers* and *floats*) and textual (*strings*) that we have seen so far. \n",
    "\n",
    "These new types will allow us to express much more complex concepts with ease."
   ]
  },
  {
   "cell_type": "markdown",
   "metadata": {},
   "source": [
    "# Lists\n",
    "----\n",
    "\n",
    "A *list* (as the name implies) is effectively a collection of items, a comma-separated sequence of elements, grouped together between a pair of square brackets ( *[]* ):"
   ]
  },
  {
   "cell_type": "code",
   "execution_count": 1,
   "metadata": {
    "collapsed": false
   },
   "outputs": [
    {
     "data": {
      "text/plain": [
       "[1, 2, 4, 5]"
      ]
     },
     "execution_count": 1,
     "metadata": {},
     "output_type": "execute_result"
    }
   ],
   "source": [
    "[1,2,4,5]"
   ]
  },
  {
   "cell_type": "markdown",
   "metadata": {},
   "source": [
    "A list is a truly versatile data type: you can use it to group elements from all the other types that we have seen so far!"
   ]
  },
  {
   "cell_type": "code",
   "execution_count": 1,
   "metadata": {
    "collapsed": false
   },
   "outputs": [
    {
     "data": {
      "text/plain": [
       "['hi I am', 2312, 'mixing', 6.6, 90, 'strings, integers and floats']"
      ]
     },
     "execution_count": 1,
     "metadata": {},
     "output_type": "execute_result"
    }
   ],
   "source": [
    "['hi I am', 2312, 'mixing', 6.6, 90, 'strings, integers and floats' ]"
   ]
  },
  {
   "cell_type": "markdown",
   "metadata": {},
   "source": [
    "To access an element within a list you use an **index**. This is a new and important concept, so try to make it truly yours before moving forward in the notebook.\n",
    "\n",
    "Let's make an example. Say we want to fetch the second item in a list. We will need to access it via the *index notation* like so:"
   ]
  },
  {
   "cell_type": "code",
   "execution_count": 5,
   "metadata": {
    "collapsed": false
   },
   "outputs": [
    {
     "name": "stdout",
     "output_type": "stream",
     "text": [
      "2312\n"
     ]
    }
   ],
   "source": [
    "myList = ['hi', 2312, 'mixing', 6.6, 90, 'strings, integers and floats' ]\n",
    "secondElement =  myList[1]\n",
    "print secondElement"
   ]
  },
  {
   "cell_type": "markdown",
   "metadata": {},
   "source": [
    "See what I've done there?\n",
    "\n",
    "I've assigned to the the variable `myList` a list with 6 elements. Then I accessed its second element by writing that element's index between a pair of square brackets (next to the list's name). Lastly, I've assinged the second element to another variable called `secondElement` which I then told Python to `print`.\n",
    "\n",
    "Wait a sec- didn't I say *second* element? Why then the index is 1?\n",
    "\n",
    "Good observation! That's because list's indexes are *zero-based* (a fancy way to say that the count starts from 0 insted that from 1).\n",
    "\n",
    "To recap:"
   ]
  },
  {
   "cell_type": "code",
   "execution_count": 16,
   "metadata": {
    "collapsed": false
   },
   "outputs": [
    {
     "name": "stdout",
     "output_type": "stream",
     "text": [
      "The first element is :first\n",
      "The third element is :third\n"
     ]
    }
   ],
   "source": [
    "myNewList = ['first', 'second', 'third']\n",
    "print \"The first element is :\" + myNewList[0]\n",
    "print \"The third element is :\" + myNewList[2]"
   ]
  },
  {
   "cell_type": "markdown",
   "metadata": {},
   "source": [
    "#### A challenge for you!"
   ]
  },
  {
   "cell_type": "code",
   "execution_count": 11,
   "metadata": {
    "collapsed": false
   },
   "outputs": [
    {
     "ename": "SyntaxError",
     "evalue": "invalid syntax (<ipython-input-11-118fdbac7b25>, line 2)",
     "output_type": "error",
     "traceback": [
      "\u001b[1;36m  File \u001b[1;32m\"<ipython-input-11-118fdbac7b25>\"\u001b[1;36m, line \u001b[1;32m2\u001b[0m\n\u001b[1;33m    print \"The second element is :\" + myNewList[???]\u001b[0m\n\u001b[1;37m                                                ^\u001b[0m\n\u001b[1;31mSyntaxError\u001b[0m\u001b[1;31m:\u001b[0m invalid syntax\n"
     ]
    }
   ],
   "source": [
    "# print the second element in the list\n",
    "print \"The second element is :\" + myNewList[???]"
   ]
  },
  {
   "cell_type": "markdown",
   "metadata": {},
   "source": [
    "What happens when you try to access an element using a wrong index? Say, for instance, an index that is doesn't exist in the list. In that case Python, as usual will inform us with an explicative *error message* that we've attempted to do something wrong, pointing us to the faulty line of code."
   ]
  },
  {
   "cell_type": "code",
   "execution_count": 20,
   "metadata": {
    "collapsed": false
   },
   "outputs": [
    {
     "ename": "IndexError",
     "evalue": "list index out of range",
     "output_type": "error",
     "traceback": [
      "\u001b[0;31m---------------------------------------------------------------------------\u001b[0m",
      "\u001b[0;31mIndexError\u001b[0m                                Traceback (most recent call last)",
      "\u001b[0;32m<ipython-input-20-777fadaac723>\u001b[0m in \u001b[0;36m<module>\u001b[0;34m()\u001b[0m\n\u001b[0;32m----> 1\u001b[0;31m \u001b[0;32mprint\u001b[0m \u001b[0mmyNewList\u001b[0m\u001b[0;34m[\u001b[0m\u001b[0;36m200\u001b[0m\u001b[0;34m]\u001b[0m\u001b[0;34m\u001b[0m\u001b[0m\n\u001b[0m",
      "\u001b[0;31mIndexError\u001b[0m: list index out of range"
     ]
    }
   ],
   "source": [
    "print myNewList[200]"
   ]
  },
  {
   "cell_type": "markdown",
   "metadata": {},
   "source": [
    "#### A challenge for you!"
   ]
  },
  {
   "cell_type": "markdown",
   "metadata": {},
   "source": [
    "Do you remember the past lesson on *syntax errors* and *exceptions*? What is the error message displayed in the code above? Is it an *exception* or something's wrong with the *syntax*? Can you find the explanation for what's going in the [Official Documentation](https://www.google.ie/url?sa=t&rct=j&q=&esrc=s&source=web&cd=3&ved=0ahUKEwiN3s-0qr7OAhVGIcAKHYBLAE4QFggoMAI&url=https%3A%2F%2Fdocs.python.org%2F2%2Ftutorial%2Ferrors.html&usg=AFQjCNG6q1juN8ZVXOEqOYWxE18Cv5X_qw&sig2=o92WLjkV1PNNfgpW1w9n0g&cad=rja)? "
   ]
  },
  {
   "cell_type": "markdown",
   "metadata": {},
   "source": [
    "Notice that, even if you didn't know it, you have already been working with a similar data structure so far. *Strings* are in facts sequences themeselves, and elements within a string can be accessed too via a *zero-based index*."
   ]
  },
  {
   "cell_type": "code",
   "execution_count": 3,
   "metadata": {
    "collapsed": false
   },
   "outputs": [
    {
     "name": "stdout",
     "output_type": "stream",
     "text": [
      "A\n"
     ]
    }
   ],
   "source": [
    "myStringVariable = \"ABC\"\n",
    "print myStringVariable[0]"
   ]
  },
  {
   "cell_type": "markdown",
   "metadata": {},
   "source": [
    "If you want to access more than one item at a time, you can specify a range using  two numbers (the initial and final index position), separated by a comma.  This operation will allow you to retrieve a portion of the list. This operation is called *list slicing* (Again keep in mind that indexes start from 0!)."
   ]
  },
  {
   "cell_type": "code",
   "execution_count": 2,
   "metadata": {
    "collapsed": false
   },
   "outputs": [
    {
     "name": "stdout",
     "output_type": "stream",
     "text": [
      "THIS \n"
     ]
    }
   ],
   "source": [
    "shortSentence = \"Now I'll just print THIS word, between the 20th and the 25th character: \"\n",
    "print shortSentence[20:25] "
   ]
  },
  {
   "cell_type": "markdown",
   "metadata": {},
   "source": [
    "#### A challenge for you!"
   ]
  },
  {
   "cell_type": "code",
   "execution_count": 4,
   "metadata": {
    "collapsed": false
   },
   "outputs": [
    {
     "ename": "SyntaxError",
     "evalue": "invalid syntax (<ipython-input-4-bf9efc618009>, line 3)",
     "output_type": "error",
     "traceback": [
      "\u001b[1;36m  File \u001b[1;32m\"<ipython-input-4-bf9efc618009>\"\u001b[1;36m, line \u001b[1;32m3\u001b[0m\n\u001b[1;33m    print shortSentence2[???:???]\u001b[0m\n\u001b[1;37m                         ^\u001b[0m\n\u001b[1;31mSyntaxError\u001b[0m\u001b[1;31m:\u001b[0m invalid syntax\n"
     ]
    }
   ],
   "source": [
    "# print from the second to the fourth (included) character in the following string\n",
    "shortSentence2 = \"A12B34c7.0\"\n",
    "print shortSentence2[???:???] "
   ]
  },
  {
   "cell_type": "markdown",
   "metadata": {},
   "source": [
    "To print from a certain position onwards simply omit the final index (the revers applies to get all characters *before* a given index)"
   ]
  },
  {
   "cell_type": "code",
   "execution_count": 6,
   "metadata": {
    "collapsed": false
   },
   "outputs": [
    {
     "name": "stdout",
     "output_type": "stream",
     "text": [
      "Now I'll just print the last two words starting from the 17th position:  HERE onwards\n"
     ]
    }
   ],
   "source": [
    "stringToPrint = \"I will print from HERE onwards\"\n",
    "print \"Now I'll just print the last two words starting from the 17th position: \"+ stringToPrint[17:] "
   ]
  },
  {
   "cell_type": "markdown",
   "metadata": {},
   "source": [
    "strings have also plenty of methods that might prove to be quite handy, for a larger overview checkout [this reference](https://en.wikibooks.org/wiki/Python_Programming/Variables_and_Strings) "
   ]
  },
  {
   "cell_type": "markdown",
   "metadata": {},
   "source": [
    "## List operations\n",
    "\n",
    "As we started to see, there are certain operations that you can do with lists to manipulate their content.\n",
    "\n",
    "A good example of this is the re-assignement of an element:"
   ]
  },
  {
   "cell_type": "code",
   "execution_count": 17,
   "metadata": {
    "collapsed": false
   },
   "outputs": [
    {
     "name": "stdout",
     "output_type": "stream",
     "text": [
      "['first', 'second', 'third']\n",
      "['first', 'new element', 'third']\n"
     ]
    }
   ],
   "source": [
    "# I'm going to reassing the item in the 2nd position\n",
    "print myNewList\n",
    "myNewList[1] = 'new element'\n",
    "print myNewList"
   ]
  },
  {
   "cell_type": "markdown",
   "metadata": {},
   "source": [
    "This operation shouldn't surprise you too much. What we've done is simply accessing the item via its *index*, and setting it to a new value using the *assignement* operator (the \"=\" sign ).  It's effectively similar to assigning directly the variable contained in the list at the given index to a certain value.\n",
    "\n",
    "You can also operate on entire lists themeselves, rather than on their elements. For instance, given two lists you might want to add them "
   ]
  },
  {
   "cell_type": "code",
   "execution_count": 35,
   "metadata": {
    "collapsed": false
   },
   "outputs": [
    {
     "name": "stdout",
     "output_type": "stream",
     "text": [
      "['Babbage', 'Lovelace', 'Torvald', 'Knuth']\n"
     ]
    }
   ],
   "source": [
    "britishProgrammers = [\"Babbage\", \"Lovelace\"]\n",
    "nonBritishProgrammers = [\"Torvald\", \"Knuth\"]\n",
    "famousProgrammers = britishProgrammers + nonBritishProgrammers\n",
    "print famousProgrammers"
   ]
  },
  {
   "cell_type": "markdown",
   "metadata": {},
   "source": [
    "(you can even multiply them, although for this particular instance is kinda pointless)"
   ]
  },
  {
   "cell_type": "code",
   "execution_count": 43,
   "metadata": {
    "collapsed": false
   },
   "outputs": [
    {
     "name": "stdout",
     "output_type": "stream",
     "text": [
      "['Babbage', 'Ada Lovelace', 'Babbage', 'Ada Lovelace']\n"
     ]
    }
   ],
   "source": [
    "print britishProgrammers * 2"
   ]
  },
  {
   "cell_type": "markdown",
   "metadata": {},
   "source": [
    "#### A challenge for you!"
   ]
  },
  {
   "cell_type": "code",
   "execution_count": 27,
   "metadata": {
    "collapsed": false
   },
   "outputs": [
    {
     "ename": "SyntaxError",
     "evalue": "invalid syntax (<ipython-input-27-c5890f87e364>, line 2)",
     "output_type": "error",
     "traceback": [
      "\u001b[0;36m  File \u001b[0;32m\"<ipython-input-27-c5890f87e364>\"\u001b[0;36m, line \u001b[0;32m2\u001b[0m\n\u001b[0;31m    otherNonBritishProgrammers = [\"Wozniak\" ??? \"Van Rossum\"]\u001b[0m\n\u001b[0m                                            ^\u001b[0m\n\u001b[0;31mSyntaxError\u001b[0m\u001b[0;31m:\u001b[0m invalid syntax\n"
     ]
    }
   ],
   "source": [
    "# check the syntax to properly define a new list \n",
    "otherNonBritishProgrammers = [\"Wozniak\" ??? \"Van Rossum\"]\n",
    "# then print all the non british programmers\n",
    "print nonBritishProgrammers ??? otherNonBritishProgrammers"
   ]
  },
  {
   "cell_type": "markdown",
   "metadata": {},
   "source": [
    "If you want to easily check if an item is present in a list you might want to use the **in** operator with the following format:\n",
    "\n",
    "```python\n",
    "element in list\n",
    "```\n",
    "\n",
    "The **in** operator will return `True` if the item is present, and `False` otherwise"
   ]
  },
  {
   "cell_type": "code",
   "execution_count": 30,
   "metadata": {
    "collapsed": false
   },
   "outputs": [
    {
     "name": "stdout",
     "output_type": "stream",
     "text": [
      "True\n",
      "False\n"
     ]
    }
   ],
   "source": [
    "print ('Lovelace' in britishProgrammers)\n",
    "print ('Lovelace' in nonBritishProgrammers)"
   ]
  },
  {
   "cell_type": "markdown",
   "metadata": {},
   "source": [
    "Likewise, if you want to check if an item is not present in a list, you can use the **not in ** operator who will return `True` if the item is not present, and `False` if it is present in the list (isn't it great how easily you can express such concepts in Python?)"
   ]
  },
  {
   "cell_type": "code",
   "execution_count": 31,
   "metadata": {
    "collapsed": false
   },
   "outputs": [
    {
     "name": "stdout",
     "output_type": "stream",
     "text": [
      "False\n",
      "True\n"
     ]
    }
   ],
   "source": [
    "print ('Lovelace' not in britishProgrammers)\n",
    "print ('Lovelace' not in nonBritishProgrammers)"
   ]
  },
  {
   "cell_type": "markdown",
   "metadata": {},
   "source": [
    "#### A challenge for you!"
   ]
  },
  {
   "cell_type": "code",
   "execution_count": 41,
   "metadata": {
    "collapsed": false
   },
   "outputs": [
    {
     "ename": "SyntaxError",
     "evalue": "invalid syntax (<ipython-input-41-97dff6b6d544>, line 9)",
     "output_type": "error",
     "traceback": [
      "\u001b[0;36m  File \u001b[0;32m\"<ipython-input-41-97dff6b6d544>\"\u001b[0;36m, line \u001b[0;32m9\u001b[0m\n\u001b[0;31m    if ??? in britishProgrammersNames:\u001b[0m\n\u001b[0m       ^\u001b[0m\n\u001b[0;31mSyntaxError\u001b[0m\u001b[0;31m:\u001b[0m invalid syntax\n"
     ]
    }
   ],
   "source": [
    "# Complete the missing bits\n",
    "# to  give a name to Mrs. Lovelace\n",
    "\n",
    "britishProgrammers = [\"Babbage\", \"Lovelace\"]\n",
    "britishProgrammersNames = [\"Charles\", \"Ada\"]\n",
    "\n",
    "britishProgrammers[1] = britishProgrammersNames[1] +\" \"+ britishProgrammers[1]\n",
    "\n",
    "if ??? in britishProgrammersNames:\n",
    "  print \"Mrs. \"+ ???[1] +\" is considered to be the first woman programmer\" \n",
    "else:\n",
    "  print \"Oops..name not found!\"\n"
   ]
  },
  {
   "cell_type": "markdown",
   "metadata": {},
   "source": [
    "append\n",
    "insert\n",
    "index\n",
    "\n",
    "range with 1 2 3 arguments\n",
    "What is the result of this code?\n",
    "nums = list(range(3, 15, 3))\n",
    "print(nums[2])"
   ]
  },
  {
   "cell_type": "markdown",
   "metadata": {},
   "source": [
    "## List functions\n",
    "\n",
    "So far we have seen some ways to operate on lists, like *indexes* and *list slicing*. There are also other ways,  like the functions `range`, `len`, `append`, `insert` and `index` you can use to manipulate lists.\n",
    "\n",
    "*SIDENOTE:* Notice that I've started to use the term *function*, which is something that we haven't really seen so far.  Don't stress too much about it (we'll cover them in a coming notebook) but, just so you know, you can think of them as mathematical functions: operators that take something in input, perform some calculation on it, and return something in output. \n",
    "\n",
    "You tell Python to *execute a function* by specifying the function's name, followed by a set of parenthesis. The parenthesis serve also to contain the optional input. The functions `range` and `len` are good examples:\n",
    "\n",
    "```python\n",
    "function_to_be_executed( input )\n",
    "# i.e. len(britishProgrammers)\n",
    "#      range(britishProgrammers)\n",
    "\n",
    "```\n",
    "\n",
    "The functions `append`, `insert` and `index` are instead used a bit differently. They are in fact properly called *methods* of the list *class* (Again, waaaay ahed of ourselves here, but just to introduce you to two words you will come meet again in your future career as a geocomp'er). \n",
    "\n",
    "Suffice to say that, in order to use them, you always need to prepend the name of list you whish to act upon, like so:\n",
    "\n",
    "```python\n",
    "name_of_list.function_to_use( input )\n",
    "# i.e. britishProgrammers.append( \"something\" )\n",
    "```\n",
    "\n",
    "The logic being, that, since they are functions specific to a certain category of things (the class list in this case) it seems reasonable to invoke them as if they came out of the category itself. \n",
    "\n",
    "\n",
    "\n",
    "But enough with these advanced concepts, they are much easier to use in practice! Let's start by taking a closer look at list functions now."
   ]
  },
  {
   "cell_type": "markdown",
   "metadata": {},
   "source": [
    "With `append` you can insert an element into a list. Remember that before we could only change the content of an item but not really *add* an item to a list (well, ok, you could technically add a one-item list to another..)"
   ]
  },
  {
   "cell_type": "code",
   "execution_count": 44,
   "metadata": {
    "collapsed": false
   },
   "outputs": [
    {
     "name": "stdout",
     "output_type": "stream",
     "text": [
      "['Babbage', 'Ada Lovelace', 'Turing']\n"
     ]
    }
   ],
   "source": [
    "britishProgrammers.append(\"Turing\")\n",
    "print britishProgrammers"
   ]
  },
  {
   "cell_type": "markdown",
   "metadata": {},
   "source": [
    "That's cool, but as you noticed `append` inserts the new item as the last element in the list. What if you want it to go somewhere else?\n",
    "\n",
    "With `insert` you can also specify a position"
   ]
  },
  {
   "cell_type": "code",
   "execution_count": 51,
   "metadata": {
    "collapsed": false
   },
   "outputs": [
    {
     "name": "stdout",
     "output_type": "stream",
     "text": [
      "['Torvald', 'Swartz', 'Swartz', 'Knuth']\n",
      "['Torvald', 'Swartz', 'Swartz', 'Swartz', 'Knuth']\n"
     ]
    }
   ],
   "source": [
    "print nonBritishProgrammers\n",
    "nonBritishProgrammers.insert(1, \"Swartz\")\n",
    "print nonBritishProgrammers"
   ]
  },
  {
   "cell_type": "markdown",
   "metadata": {},
   "source": [
    "Lastly, with the `index` method you can easily ask Python which is the index position for a given item"
   ]
  },
  {
   "cell_type": "code",
   "execution_count": 52,
   "metadata": {
    "collapsed": false
   },
   "outputs": [
    {
     "name": "stdout",
     "output_type": "stream",
     "text": [
      "4\n"
     ]
    }
   ],
   "source": [
    "# Say you want to know in which position \n",
    "# is now situated the item \"Knuth\"\n",
    "print nonBritishProgrammers.index(\"Knuth\")"
   ]
  },
  {
   "cell_type": "markdown",
   "metadata": {},
   "source": [
    "#### A challenge for you!"
   ]
  },
  {
   "cell_type": "markdown",
   "metadata": {},
   "source": [
    "Add the famous [Grace Hopper](https://en.wikipedia.org/wiki/Grace_Hopper) (inventress of the first compiler!) to the list non british programmers. And then print its index"
   ]
  },
  {
   "cell_type": "code",
   "execution_count": 23,
   "metadata": {
    "collapsed": false
   },
   "outputs": [
    {
     "ename": "IndexError",
     "evalue": "list assignment index out of range",
     "output_type": "error",
     "traceback": [
      "\u001b[0;31m---------------------------------------------------------------------------\u001b[0m",
      "\u001b[0;31mIndexError\u001b[0m                                Traceback (most recent call last)",
      "\u001b[0;32m<ipython-input-23-a08d4fd47ab4>\u001b[0m in \u001b[0;36m<module>\u001b[0;34m()\u001b[0m\n\u001b[0;32m----> 1\u001b[0;31m \u001b[0mbritishProgrammers\u001b[0m\u001b[0;34m[\u001b[0m\u001b[0;36m2\u001b[0m\u001b[0;34m]\u001b[0m\u001b[0;34m=\u001b[0m\u001b[0;36m4\u001b[0m\u001b[0;34m\u001b[0m\u001b[0m\n\u001b[0m\u001b[1;32m      2\u001b[0m \u001b[0;32mprint\u001b[0m \u001b[0mbritishProgrammers\u001b[0m\u001b[0;34m\u001b[0m\u001b[0m\n",
      "\u001b[0;31mIndexError\u001b[0m: list assignment index out of range"
     ]
    }
   ],
   "source": [
    "britishProgrammers.???(\"Hopper\") \n",
    "print britishProgrammers.???(\"Hopper\")"
   ]
  },
  {
   "cell_type": "markdown",
   "metadata": {},
   "source": [
    "Cool, so those were some of the *methods you can invoke on* a list. Let's focus now on some *functions* that take lists as input.\n",
    "\n",
    "With the function `len` you can immediately know the `len`-gth of a given list:"
   ]
  },
  {
   "cell_type": "code",
   "execution_count": 69,
   "metadata": {
    "collapsed": false
   },
   "outputs": [
    {
     "name": "stdout",
     "output_type": "stream",
     "text": [
      "3\n"
     ]
    }
   ],
   "source": [
    "print len(britishProgrammers)"
   ]
  },
  {
   "cell_type": "code",
   "execution_count": 70,
   "metadata": {
    "collapsed": false
   },
   "outputs": [
    {
     "name": "stdout",
     "output_type": "stream",
     "text": [
      "There are 5 elements in the list nonBritishProgrammers\n"
     ]
    }
   ],
   "source": [
    "length_of_non_brits = len(nonBritishProgrammers)\n",
    "# notice the casting from Int to Str!\n",
    "print \"There are \" + str(length_of_list) + \" elements in the list nonBritishProgrammers\""
   ]
  },
  {
   "cell_type": "markdown",
   "metadata": {},
   "source": [
    "#### A challenge for you!"
   ]
  },
  {
   "cell_type": "code",
   "execution_count": 71,
   "metadata": {
    "collapsed": false
   },
   "outputs": [
    {
     "ename": "SyntaxError",
     "evalue": "invalid syntax (<ipython-input-71-b19d9be70e14>, line 2)",
     "output_type": "error",
     "traceback": [
      "\u001b[0;36m  File \u001b[0;32m\"<ipython-input-71-b19d9be70e14>\"\u001b[0;36m, line \u001b[0;32m2\u001b[0m\n\u001b[0;31m    length_of_brits = ???(britishProgrammers)\u001b[0m\n\u001b[0m                      ^\u001b[0m\n\u001b[0;31mSyntaxError\u001b[0m\u001b[0;31m:\u001b[0m invalid syntax\n"
     ]
    }
   ],
   "source": [
    "# complete the missing bits\n",
    "length_of_brits = ???(britishProgrammers)\n",
    "print \"Is nonBritishProgrammers' length bigger than britishProgrammers? \" +  ???( length_of_non_brits > length_of_brits )"
   ]
  },
  {
   "cell_type": "markdown",
   "metadata": {},
   "source": [
    "The function `range` is instead used to create a sequence of values in a list. It's quite handy for instance when you have to type lots of sequentially ordered numbers:"
   ]
  },
  {
   "cell_type": "code",
   "execution_count": 75,
   "metadata": {
    "collapsed": false
   },
   "outputs": [
    {
     "data": {
      "text/plain": [
       "[0, 1, 2, 3, 4, 5, 6, 7, 8, 9]"
      ]
     },
     "execution_count": 75,
     "metadata": {},
     "output_type": "execute_result"
    }
   ],
   "source": [
    "range(10)"
   ]
  },
  {
   "cell_type": "code",
   "execution_count": 76,
   "metadata": {
    "collapsed": false
   },
   "outputs": [
    {
     "data": {
      "text/plain": [
       "list"
      ]
     },
     "execution_count": 76,
     "metadata": {},
     "output_type": "execute_result"
    }
   ],
   "source": [
    "# note: to check if the output of range()\n",
    "# is effectively a list, \n",
    "# we can use the type() function\n",
    "type(range(10))"
   ]
  },
  {
   "cell_type": "markdown",
   "metadata": {},
   "source": [
    "Notice also that, when called with just one parameter in input, the range operator assumes you are starting the range from 0. To define the lower boundary of your range, use two inputs:"
   ]
  },
  {
   "cell_type": "code",
   "execution_count": 77,
   "metadata": {
    "collapsed": false
   },
   "outputs": [
    {
     "data": {
      "text/plain": [
       "[5, 6, 7, 8, 9]"
      ]
     },
     "execution_count": 77,
     "metadata": {},
     "output_type": "execute_result"
    }
   ],
   "source": [
    "range(5,10)"
   ]
  },
  {
   "cell_type": "markdown",
   "metadata": {},
   "source": [
    "You can even have a sequence of numbers with a given step, which you have to specify as the third parameter:"
   ]
  },
  {
   "cell_type": "code",
   "execution_count": 78,
   "metadata": {
    "collapsed": false
   },
   "outputs": [
    {
     "data": {
      "text/plain": [
       "[5, 10, 15]"
      ]
     },
     "execution_count": 78,
     "metadata": {},
     "output_type": "execute_result"
    }
   ],
   "source": [
    "range (5,20,5)"
   ]
  },
  {
   "cell_type": "markdown",
   "metadata": {},
   "source": [
    "#### A challenge for you!"
   ]
  },
  {
   "cell_type": "code",
   "execution_count": 87,
   "metadata": {
    "collapsed": false
   },
   "outputs": [
    {
     "name": "stdout",
     "output_type": "stream",
     "text": [
      "15\n"
     ]
    }
   ],
   "source": [
    "# what do you think will be the output of this code?\n",
    "# fix it to find out!\n",
    "sequence_of_numbers = range(5,30,5)\n",
    "print(sequence_of_numbers[2])"
   ]
  },
  {
   "cell_type": "markdown",
   "metadata": {},
   "source": [
    "# Dictionaries\n",
    "----\n",
    "\n"
   ]
  },
  {
   "cell_type": "markdown",
   "metadata": {},
   "source": [
    "# Introduction to recursion"
   ]
  },
  {
   "cell_type": "markdown",
   "metadata": {},
   "source": [
    "# Code (Applied Geo-Example)\n",
    "---\n",
    "\n",
    "The aim of the excercise is to build a tiny program that allows a user to choose a given London borough from a list, and get in return both its total population and a link to a OpenStreetMap that pin points its location.\n",
    "\n",
    "We are going to introduce a function called `input` that, as the name implies, takes an input from the user (interactively, that is!). We'll use it to interact with the user of our program. The input is going to be saved in a variable called `user_input`.\n",
    "\n",
    "I've provided a basic scaffolding of the code. It covers the case where the user choses the City borough, or inputs something wrong. Complete the script to cover the remaining cases using the scaffolded code.\n",
    "\n",
    "HINT: You will need to use `elif` statements to check for the various cases that use user might input.\n",
    "\n"
   ]
  },
  {
   "cell_type": "code",
   "execution_count": 2,
   "metadata": {
    "collapsed": false
   },
   "outputs": [
    {
     "name": "stdout",
     "output_type": "stream",
     "text": [
      "\n",
      "Choose a neighbourhood by type the corresponding number:\n",
      "1- City of London\n",
      "2- Lambeth\n",
      "3- Camden\n",
      "4- Hackney\n",
      "3\n"
     ]
    }
   ],
   "source": [
    "# some initial configuration to make every work\n",
    "import sys\n",
    "reload(sys)\n",
    "sys.setdefaultencoding(\"utf-8\")\n",
    "\n",
    "# variable with the City's total population\n",
    "city_of_London = 7.375\n",
    "# City's map marker\n",
    "city_coords = \"http://www.openstreetmap.org/?mlat=51.5151&mlon=-0.0933#map=14/51.5151/-0.0933\"\n",
    "\n",
    "# Other use cases\n",
    "# camden = 220.338\n",
    "# camden_coords = \"http://www.openstreetmap.org/?mlat=51.5424&mlon=-0.2252#map=12/51.5424/-0.2252\"\n",
    "# hackney = 246.270\n",
    "# hackney_coords = \"http://www.openstreetmap.org/?mlat=51.5432&mlon=-0.0709#map=13/51.5432/-0.0709\"\n",
    "# lambeth = 303.086\n",
    "# lambeth_coords = http://www.openstreetmap.org/?mlat=51.5013&mlon=-0.1172#map=13/51.5013/-0.1172\n",
    "\n",
    "# Let's ask the user for some input\n",
    "# and store his answer\n",
    "user_input = input(\"\"\"\n",
    "Choose a neighbourhood by type the corresponding number:\n",
    "1- City of London\n",
    "2- Lambeth\n",
    "3- Camden\n",
    "4- Hackney\n",
    "\"\"\")\n",
    "\n",
    "# Arbitrarily assign case 1 to City of London borough\n",
    "if user_input == 1:    \n",
    "    choosen_borough = city_of_London\n",
    "    borough_coordinates = city_coords \n",
    "    # print the output\n",
    "    # notice we are casting the user answer to string\n",
    "    print \"You have choosen number : \"+ str(user_input)\n",
    "    print \"The corresponding borough has a population of \"+ str(choosen_borough) +\" thousand people\"\n",
    "    print \"Visit the borough clicking here: \" + borough_coordinates\n",
    "# ---------------\n",
    "# add more cases here...\n",
    "# ---------------\n",
    "else:\n",
    "    print \"That's not in my system. Please try again!\"\n",
    "\n",
    "\n",
    "\n"
   ]
  },
  {
   "cell_type": "markdown",
   "metadata": {
    "collapsed": true
   },
   "source": [
    "**Congratulations on finishing your third lesson, and enjoy your trip to the beautiful Null Island!*** \n",
    "\n",
    "\n"
   ]
  },
  {
   "cell_type": "markdown",
   "metadata": {},
   "source": [
    "\n",
    "### Further references:\n",
    "\n",
    "General list or resources\n",
    "- [Awesome list of resources](https://github.com/vinta/awesome-python)\n",
    "- [Python Docs](https://docs.python.org/2.7/tutorial/introduction.html)\n",
    "- [HitchHiker's guide to Python](http://docs.python-guide.org/en/latest/intro/learning/)\n",
    "- [Python for Informatics](http://www.pythonlearn.com/book_007.pdf)\n",
    "- [Learn Python the Hard Way - Lists](http://learnpythonthehardway.org/book/ex32.html)\n",
    "- [Learn Python the Hard Way - Dictionaries](http://learnpythonthehardway.org/book/ex39.html)\n",
    "- [CodeAcademy](https://www.codecademy.com/courses/python-beginner-en-pwmb1/0/1)\n",
    "\n"
   ]
  }
 ],
 "metadata": {
  "anaconda-cloud": {},
  "kernelspec": {
   "display_name": "Python [Root]",
   "language": "python",
   "name": "Python [Root]"
  },
  "language_info": {
   "codemirror_mode": {
    "name": "ipython",
    "version": 2
   },
   "file_extension": ".py",
   "mimetype": "text/x-python",
   "name": "python",
   "nbconvert_exporter": "python",
   "pygments_lexer": "ipython2",
   "version": "2.7.12"
  }
 },
 "nbformat": 4,
 "nbformat_minor": 0
}
