{
 "cells": [
  {
   "cell_type": "markdown",
   "metadata": {},
   "source": [
    "# Notebook-8: Introduction to Functions"
   ]
  },
  {
   "cell_type": "markdown",
   "metadata": {},
   "source": [
    "### Lesson Content \n",
    "\n",
    "- Function Anatomy 101\n",
    "    - Function definiton & call\n",
    "    - Arguments\n",
    "    - Return statement\n",
    "- Function calling!\n",
    "    - Assign a function to a variable\n",
    "    - Function as a parameter to another function\n",
    "\n",
    "\n",
    "Welcome to the eight Code Camp notebook! In this lesson we'll cover *functions* in Python, a concept that you've already used (more or less knowingly so). This time we'll dig deeper though, explaining more in detail what is a funciton, how to define one, how to use it and when...etc etc...\n",
    "\n",
    "But let's start from the a basic idea: as we saw with the concept of *iteration*, programmers are lazy, and they tend not to repeat boring tasks. \n",
    "\n",
    "![automate](img/automate_all_the_things.jpeg)\n",
    "\n",
    "This idea to avoid \"wasting time re-inventing the wheel\" and the pragmatic attitude it entails have been pretty much summed up in the acronym **D.R.Y.** (Do not Repeat Yourself): If you are doing something more than once, ask yourself if there's a way to encapsulate what you are doing in a piece of code, an to use just that code instead of re-writing everything.\n",
    "\n",
    "**D.R.Y.** is the opposite of **W.E.T.** (We Enjoy Typing or Write Everything Twice), which on the contrary describes perfectly the other, more verbose, end of the spectrum.\n",
    "\n",
    "This attitude has also practical consequences, as it helps you, the programmer, to phisycally (well, digitally!) mantain a claner code-base which is a) much more readable b) easier to mantain c) less error-prone. This also enforces you to structure your code in small digestible bits, that in the longer run (and as lines of code keeps piling up) will help you mantain your sanity!\n",
    "\n",
    "Functions can thus be used for this purpose: they express the idea of performing an action on something, and can hence be used to encapsulate bits of your work in an efficient way."
   ]
  },
  {
   "cell_type": "markdown",
   "metadata": {},
   "source": [
    "## Function Anatomy 101\n",
    "\n",
    "As I mentioned above, we already met and used functions, especially when we dealt with lists and dictionaries"
   ]
  },
  {
   "cell_type": "code",
   "execution_count": 1,
   "metadata": {
    "collapsed": false
   },
   "outputs": [
    {
     "data": {
      "text/plain": [
       "4"
      ]
     },
     "execution_count": 1,
     "metadata": {},
     "output_type": "execute_result"
    }
   ],
   "source": [
    "# remember len() ?\n",
    "myList = [1,\"two\", False, 9.99]\n",
    "len(myList)"
   ]
  },
  {
   "cell_type": "code",
   "execution_count": 3,
   "metadata": {
    "collapsed": false
   },
   "outputs": [
    {
     "data": {
      "text/plain": [
       "1"
      ]
     },
     "execution_count": 3,
     "metadata": {},
     "output_type": "execute_result"
    }
   ],
   "source": [
    "# or index?\n",
    "myList.index(\"two\")"
   ]
  },
  {
   "cell_type": "markdown",
   "metadata": {},
   "source": [
    "As we briefly mentioned in notebook-5, every word followed by a set of parenthesis is function. The word is the function's *name*, and whatever other comma-separated word you put within the paranthesis become the function's *parameters*. Like so:\n",
    "\n",
    "```python\n",
    "\n",
    "function_name(optional_parameter_1, optional_parameter_2 , etc, etc..)\n",
    "\n",
    "```\n",
    "\n",
    "So how do we *instantiate* a function (i.e. create one)? Like IF, WHILE and other statements, also functions have a specific syntax you have to follow. In particular there are two important steps: the *function definition* and the *function call*.\n",
    "\n",
    "This is a function definition:\n",
    "\n",
    "```python\n",
    "def myFirstFunc():\n",
    "    print \"Nice to meet you!\"\n",
    "```\n",
    "\n",
    "Let's see what happened there:\n",
    "- To define a function you have to use the reserved *keyword* `def` (which is basically a special word reserved just for the Python interpeter, that you cannot use for other purposes). \n",
    "- After `def` you can specify the function's name. `myFirstFunc` in this case.\n",
    "- After the function's name there's the set of parenthesis and a colon.\n",
    "- Notice that whatever comes after is *indented*. Does this remindes you of something? You guessed correctly, that's like an IF statement. And the reason is the same too! It indicates to the Python interpreter that whatever is indented *belongs* to the function. Is like saying: \"Look man, I'm going to define this `myFirstFunc` function, and whatever is indented afterwards is part of the function\". That is in fact what we call the *function's body*, the set of instructions that specifies what this function should do. NOTE: Other languages might accomplish the same result using curly braces for instance ( *{}* ) but Python is more terse and uses indentation instad of cluttering the code with additional symbols. \n",
    "\n",
    "\n",
    "## Function definiton & call\n",
    "\n",
    "Cool, now that we have defined a function how can we use it? Same as what we did with `len` and `range`. We are going to *call* it, appending the set of parenthesis to its name!\n"
   ]
  },
  {
   "cell_type": "code",
   "execution_count": 6,
   "metadata": {
    "collapsed": false
   },
   "outputs": [
    {
     "name": "stdout",
     "output_type": "stream",
     "text": [
      "Nice to meet you!\n"
     ]
    }
   ],
   "source": [
    "# function definition\n",
    "def myFirstFunc():\n",
    "    print \"Nice to meet you!\"\n",
    "\n",
    "# function call\n",
    "myFirstFunc()"
   ]
  },
  {
   "cell_type": "markdown",
   "metadata": {},
   "source": [
    "#### A challenge for you!"
   ]
  },
  {
   "cell_type": "code",
   "execution_count": null,
   "metadata": {
    "collapsed": true
   },
   "outputs": [],
   "source": [
    "# define a function called \"sunnyDay\" \n",
    "# that prints the string \"what a lovely day!\"\n",
    "def ??? :\n",
    "    print ???"
   ]
  },
  {
   "cell_type": "code",
   "execution_count": 7,
   "metadata": {
    "collapsed": false
   },
   "outputs": [
    {
     "name": "stdout",
     "output_type": "stream",
     "text": [
      "Object `gloomyDay` not found.\n",
      "Object `` not found.\n"
     ]
    }
   ],
   "source": [
    "# and now one called gloomyDay \n",
    "# that prints \"this rain sucks!\"\n",
    "??? gloomyDay??\n",
    "???print \"this rain sucks!\""
   ]
  },
  {
   "cell_type": "markdown",
   "metadata": {},
   "source": [
    "Notice that the sequence function definiton *and then* function call is important! Think about it: how would Python know what we are referring to (i.e. what is the `myFirstFunction` he has to call, if we never specified it?\n",
    "\n",
    "It's the same as with variables. Try to `print` one before having defined it, and Python will complain!"
   ]
  },
  {
   "cell_type": "code",
   "execution_count": 8,
   "metadata": {
    "collapsed": false
   },
   "outputs": [
    {
     "ename": "NameError",
     "evalue": "name 'myVariable' is not defined",
     "output_type": "error",
     "traceback": [
      "\u001b[0;31m---------------------------------------------------------------------------\u001b[0m",
      "\u001b[0;31mNameError\u001b[0m                                 Traceback (most recent call last)",
      "\u001b[0;32m<ipython-input-8-5228067488eb>\u001b[0m in \u001b[0;36m<module>\u001b[0;34m()\u001b[0m\n\u001b[0;32m----> 1\u001b[0;31m \u001b[0;32mprint\u001b[0m \u001b[0mmyVariable\u001b[0m\u001b[0;34m\u001b[0m\u001b[0m\n\u001b[0m\u001b[1;32m      2\u001b[0m \u001b[0mmyVariable\u001b[0m \u001b[0;34m=\u001b[0m \u001b[0;34m\"Hallo Hallo!\"\u001b[0m\u001b[0;34m\u001b[0m\u001b[0m\n",
      "\u001b[0;31mNameError\u001b[0m: name 'myVariable' is not defined"
     ]
    }
   ],
   "source": [
    "print myVariable\n",
    "myVariable = \"Hallo Hallo!\""
   ]
  },
  {
   "cell_type": "markdown",
   "metadata": {},
   "source": [
    "#### A challenge for you!\n",
    "\n",
    "Once again, read (out loud!) the error message. What is it saying to you? Quite explicit, isn't it? :)"
   ]
  },
  {
   "cell_type": "markdown",
   "metadata": {},
   "source": [
    "## Arguments\n",
    "\n",
    "As you might have noticed so far we didn't specified any function `parameters`. They are not, in fact, a strict requirement. It just depends what you want to use the function for. You will definetely need them though whenever you are using a function to process some *input* and *return* some *output*. In that case you'll the paramter is the input you are *passing* to the function.\n",
    "\n",
    "```python\n",
    "def myFunction( input_parameter ):\n",
    "# do something to the input\n",
    "    return input_parameter\n",
    "```"
   ]
  },
  {
   "cell_type": "code",
   "execution_count": 12,
   "metadata": {
    "collapsed": false
   },
   "outputs": [
    {
     "name": "stdout",
     "output_type": "stream",
     "text": [
      "Hi! My  name is: Gerardus\n"
     ]
    }
   ],
   "source": [
    "def printMyName( name ):\n",
    "    print \"Hi! My  name is: \"+ name\n",
    "\n",
    "printMyName(\"Gerardus\")"
   ]
  },
  {
   "cell_type": "markdown",
   "metadata": {},
   "source": [
    "#### A challenge for you!"
   ]
  },
  {
   "cell_type": "code",
   "execution_count": null,
   "metadata": {
    "collapsed": true
   },
   "outputs": [],
   "source": [
    "# print you name\n",
    "printMyName(???)"
   ]
  },
  {
   "cell_type": "markdown",
   "metadata": {},
   "source": [
    "In the function `printMyName` we used just one parameter as input, but we are not constrained to that. We can in fact input multiple *comma-separated* parameters:"
   ]
  },
  {
   "cell_type": "code",
   "execution_count": 14,
   "metadata": {
    "collapsed": false
   },
   "outputs": [
    {
     "name": "stdout",
     "output_type": "stream",
     "text": [
      "Hi! My name is Gerardus Merkatoor\n"
     ]
    }
   ],
   "source": [
    "def whoAmI(name, surname):\n",
    "    print \"Hi! My name is \"+name + \" \" + surname\n",
    "\n",
    "whoAmI(\"Gerardus\", \"Merkatoor\")"
   ]
  },
  {
   "cell_type": "markdown",
   "metadata": {},
   "source": [
    "#### A challenge for you!"
   ]
  },
  {
   "cell_type": "code",
   "execution_count": 1,
   "metadata": {
    "collapsed": true
   },
   "outputs": [],
   "source": [
    "# define and use a function that takes in input a <name> and <age>\n",
    "# and prints the phrase: <name> + \"is\" + <age> +\" years old\""
   ]
  },
  {
   "cell_type": "markdown",
   "metadata": {},
   "source": [
    "Now I'd like you to focus on a particuarly important concept: the names we are using for the parameters are *de facto* creating new variables, that you can use in the *function body* (the indented block of code). Outside of that block they cease to exist though!"
   ]
  },
  {
   "cell_type": "code",
   "execution_count": 15,
   "metadata": {
    "collapsed": false
   },
   "outputs": [
    {
     "ename": "NameError",
     "evalue": "name 'name' is not defined",
     "output_type": "error",
     "traceback": [
      "\u001b[0;31m---------------------------------------------------------------------------\u001b[0m",
      "\u001b[0;31mNameError\u001b[0m                                 Traceback (most recent call last)",
      "\u001b[0;32m<ipython-input-15-ad71376baaad>\u001b[0m in \u001b[0;36m<module>\u001b[0;34m()\u001b[0m\n\u001b[1;32m      3\u001b[0m \u001b[0;34m\u001b[0m\u001b[0m\n\u001b[1;32m      4\u001b[0m \u001b[0;34m\u001b[0m\u001b[0m\n\u001b[0;32m----> 5\u001b[0;31m \u001b[0;32mprint\u001b[0m \u001b[0mname\u001b[0m\u001b[0;34m\u001b[0m\u001b[0m\n\u001b[0m",
      "\u001b[0;31mNameError\u001b[0m: name 'name' is not defined"
     ]
    }
   ],
   "source": [
    "def whoAmI(name, surname):\n",
    "    print \"Hi! My name is \"+name + \" \" + surname\n",
    "\n",
    "\n",
    "print name"
   ]
  },
  {
   "cell_type": "markdown",
   "metadata": {},
   "source": [
    "Notice how the ErrorMessage is the same as before when we tried to `print` a variable that wasn't defined yet? It's the same concept: the variables defined as parameters exist only in the indented code block of the function (the [function *scope*](http://python-textbok.readthedocs.io/en/latest/Variables_and_Scope.html) )\n",
    "\n",
    "\n",
    "## Return statement\n",
    "\n",
    "If you want to use the value elaborated within a function, outside of the function itself, you have to return it using the *reserved keyword* `return`:"
   ]
  },
  {
   "cell_type": "code",
   "execution_count": 18,
   "metadata": {
    "collapsed": false
   },
   "outputs": [
    {
     "data": {
      "text/plain": [
       "3"
      ]
     },
     "execution_count": 18,
     "metadata": {},
     "output_type": "execute_result"
    }
   ],
   "source": [
    "def sumTwoQuantities (firstQuantity , secondQuantity):\n",
    "    return firstQuantity + secondQuantity\n",
    "\n",
    "sumTwoQuantities(1,2)\n"
   ]
  },
  {
   "cell_type": "markdown",
   "metadata": {},
   "source": [
    "the `return` keyword, quite literally, returns whatever you tell it to, so that it become accessible outside the function scope. You can do whatever you want with the returned value, like assign it to a new variable:"
   ]
  },
  {
   "cell_type": "code",
   "execution_count": 22,
   "metadata": {
    "collapsed": false
   },
   "outputs": [
    {
     "name": "stdout",
     "output_type": "stream",
     "text": [
      "This is the returned value: 7\n"
     ]
    },
    {
     "ename": "TypeError",
     "evalue": "'int' object is not callable",
     "output_type": "error",
     "traceback": [
      "\u001b[0;31m---------------------------------------------------------------------------\u001b[0m",
      "\u001b[0;31mTypeError\u001b[0m                                 Traceback (most recent call last)",
      "\u001b[0;32m<ipython-input-22-9ce9ec322e62>\u001b[0m in \u001b[0;36m<module>\u001b[0;34m()\u001b[0m\n\u001b[1;32m      3\u001b[0m \u001b[0;31m# notice the casting from int to str!\u001b[0m\u001b[0;34m\u001b[0m\u001b[0;34m\u001b[0m\u001b[0m\n\u001b[1;32m      4\u001b[0m \u001b[0;32mprint\u001b[0m \u001b[0;34m\"This is the returned value: \"\u001b[0m\u001b[0;34m+\u001b[0m \u001b[0mstr\u001b[0m\u001b[0;34m(\u001b[0m\u001b[0mreturnedValue\u001b[0m\u001b[0;34m)\u001b[0m\u001b[0;34m\u001b[0m\u001b[0m\n\u001b[0;32m----> 5\u001b[0;31m \u001b[0;32mprint\u001b[0m \u001b[0mreturnedValue\u001b[0m\u001b[0;34m(\u001b[0m\u001b[0;36m2\u001b[0m\u001b[0;34m,\u001b[0m\u001b[0;36m5\u001b[0m\u001b[0;34m)\u001b[0m\u001b[0;34m\u001b[0m\u001b[0m\n\u001b[0m",
      "\u001b[0;31mTypeError\u001b[0m: 'int' object is not callable"
     ]
    }
   ],
   "source": [
    "returnedValue = sumTwoQuantities(4, 3)\n",
    "\n",
    "# notice the casting from int to str!\n",
    "print \"This is the returned value: \"+ str(returnedValue)"
   ]
  },
  {
   "cell_type": "markdown",
   "metadata": {},
   "source": [
    "one important thing to remember is that `return` ends the list of instructions contained in a function. Meaning that  whatever code is written below `return` *and yet still indented in the function scope* won't be executed\n",
    "\n",
    "```python\n",
    "def genericFunc(parameter):\n",
    "    # do something to parameter\n",
    "    # ...\n",
    "    # do something else..\n",
    "    # ...\n",
    "    return \n",
    "    # this line won't be ever executed! how sad!\n",
    "    # nope. this won't either, sorry.    \n",
    "```\n",
    "    "
   ]
  },
  {
   "cell_type": "markdown",
   "metadata": {},
   "source": [
    "#### A challenge for you!"
   ]
  },
  {
   "cell_type": "code",
   "execution_count": 2,
   "metadata": {
    "collapsed": false
   },
   "outputs": [
    {
     "name": "stdout",
     "output_type": "stream",
     "text": [
      "2\n",
      "5\n"
     ]
    }
   ],
   "source": [
    "# guess which will be the highest number\n",
    "# to be printed\n",
    "def printNumbers():\n",
    "    print 2\n",
    "    print 5\n",
    "    return\n",
    "    print 9999\n",
    "    print 800000\n",
    "\n",
    "printNumbers()"
   ]
  },
  {
   "cell_type": "markdown",
   "metadata": {},
   "source": [
    "Now that you have seen a bit more what is happening in a function, we can combine some concepts that we have seen in previous notebooks to produce interesting bits of code. Take a look at how I've combined the `range` function, and the `for in` loop to print only the odd numbers for a given range."
   ]
  },
  {
   "cell_type": "code",
   "execution_count": 36,
   "metadata": {
    "collapsed": false
   },
   "outputs": [
    {
     "name": "stdout",
     "output_type": "stream",
     "text": [
      "1\n",
      "3\n",
      "5\n",
      "7\n",
      "9\n"
     ]
    }
   ],
   "source": [
    "# What about a function that prints only the odd numbers for a given range?\n",
    "def oddNumbers(inputRange):\n",
    "    for i in range(inputRange):\n",
    "        if i%2 != 0:\n",
    "            print i\n",
    "\n",
    "\n",
    "oddNumbers(10)"
   ]
  },
  {
   "cell_type": "markdown",
   "metadata": {},
   "source": [
    "#### A Challenge for you!"
   ]
  },
  {
   "cell_type": "code",
   "execution_count": null,
   "metadata": {
    "collapsed": true
   },
   "outputs": [],
   "source": [
    "# modify the oddNumbers function\n",
    "# so that in case it hits an even number\n",
    "# it'll print \"Eough, an even number!\"\n",
    "\n",
    "def oddNumbers(inputRange):\n",
    "    for i in range(inputRange):\n",
    "        if i%2 != 0:\n",
    "            print i\n",
    "# ---------------------\n",
    "#        you code here \n",
    "# ---------------------\n",
    "# HINT : remember the IF ELSE statment?\n",
    "\n",
    "\n",
    "# try also to change the range in input for a spin!\n",
    "oddNumbers()\n"
   ]
  },
  {
   "cell_type": "markdown",
   "metadata": {},
   "source": [
    "## Function Calling!\n",
    "\n",
    "So, we've seen that a function is a chunk of code that encapsulates a speficic action. And we refer to that chunck calling the function name with a set of parenthesis. \n",
    "\n",
    "### Assign a function to a variable\n",
    "\n",
    "We can also, like with variables, refer to that action by attaching another variable name to the function (remember that in Python [variable names are like tags attached to something?](http://python.net/~goodger/projects/pycon/2007/idiomatic/handout.html#other-languages-have-variables))\n",
    "\n"
   ]
  },
  {
   "cell_type": "code",
   "execution_count": 28,
   "metadata": {
    "collapsed": false
   },
   "outputs": [
    {
     "data": {
      "text/plain": [
       "6"
      ]
     },
     "execution_count": 28,
     "metadata": {},
     "output_type": "execute_result"
    }
   ],
   "source": [
    "def functionName (firstQuantity , secondQuantity):\n",
    "    return firstQuantity + secondQuantity\n",
    "\n",
    "# assign new variable to the function\n",
    "anotherName = functionName\n",
    "\n",
    "# now I can call the original function\n",
    "# with the new name\n",
    "anotherName(2,4)"
   ]
  },
  {
   "cell_type": "markdown",
   "metadata": {},
   "source": [
    "The imporant bit to understand in the preceding example is that both names (i.e. `functionName` and `anotherName`) point to the same function. They refer to the same thing."
   ]
  },
  {
   "cell_type": "markdown",
   "metadata": {},
   "source": [
    "#### A challenge for you!"
   ]
  },
  {
   "cell_type": "code",
   "execution_count": 3,
   "metadata": {
    "collapsed": false
   },
   "outputs": [
    {
     "ename": "SyntaxError",
     "evalue": "invalid syntax (<ipython-input-3-234a00ea9028>, line 9)",
     "output_type": "error",
     "traceback": [
      "\u001b[0;36m  File \u001b[0;32m\"<ipython-input-3-234a00ea9028>\"\u001b[0;36m, line \u001b[0;32m9\u001b[0m\n\u001b[0;31m    print ???\u001b[0m\n\u001b[0m          ^\u001b[0m\n\u001b[0;31mSyntaxError\u001b[0m\u001b[0;31m:\u001b[0m invalid syntax\n"
     ]
    }
   ],
   "source": [
    "# what will be the output of this code?\n",
    "# print didYouForget to find it out\n",
    "\n",
    "def myName(name):\n",
    "   return \"Hi \" + name\n",
    "sayMyName = myName\n",
    "didYouForget = sayMyName(\"Gerardus\")\n",
    "\n",
    "print ???\n"
   ]
  },
  {
   "cell_type": "markdown",
   "metadata": {},
   "source": [
    "### Functions as parameters of other functions\n",
    "\n",
    "This leads us to another intersting idea: since moving around functions is so easy, what happens when we use them as inputs to other functions?"
   ]
  },
  {
   "cell_type": "code",
   "execution_count": 38,
   "metadata": {
    "collapsed": false
   },
   "outputs": [
    {
     "name": "stdout",
     "output_type": "stream",
     "text": [
      "12\n",
      "12\n"
     ]
    }
   ],
   "source": [
    "def addTwo(inputNumber):\n",
    "    return inputNumber + 2\n",
    "\n",
    "def multiplyByThree(inputFunc):\n",
    "    print inputFunc * 3\n",
    "\n",
    "# you can use multiplyByThree\n",
    "# with a regular argument as input     \n",
    "multiplyByThree(4)\n",
    "\n",
    "# but also with a function as input\n",
    "multiplyByThree(addTwo(2))"
   ]
  },
  {
   "cell_type": "markdown",
   "metadata": {},
   "source": [
    "#### A Challenge for you!"
   ]
  },
  {
   "cell_type": "code",
   "execution_count": null,
   "metadata": {
    "collapsed": true
   },
   "outputs": [],
   "source": [
    "# define a new function moduloDivision\n",
    "# that checks the result of the input against a modulo division\n",
    "# IF TRUE it prints \"no remainder!\"\n",
    "# ELSE prints \"here's the remainder\"+ remainder\n",
    "\n",
    "# Use it to check the value produced by either addTwo or multiplyByThree"
   ]
  },
  {
   "cell_type": "markdown",
   "metadata": {},
   "source": [
    "# Code (Applied Geo-example)\n",
    "\n",
    "For the last Geo-Example, let's revisit a couple of old exercises, combining them and making them a bit more sophisticated with the help of our newly acquired concept of functions.\n",
    "\n",
    "This time we are going extend our interactive program that allows a user to choose a given London borough, and will make it return:\n",
    "- the ratio of the borough population to London's total population\n",
    "- a valid GeoJSON Point with the name and ratio encoded in the Point \"properties\" attribute\n",
    "\n",
    "Also this time we are going to use the `raw_input()` function to interactively save the user's input in a variable called `user_input`. Since we are asking for a borough's name, we will use a function, called `getBorough`  to check if an item with a similar name is present in a given list of boroughs. If this is `True` then we'll return this item.\n",
    "\n",
    "Once we got hold of the borough, it'll be time to add the new properties `coordinates` and `ratio`. \n",
    "\n",
    "I've provided a basic scaffolding of the code with comments to explain the steps. What the program is missing thoough is a function to calculate the ratio!\n",
    "\n",
    "Try to define one function called `calcRatio` that:\n",
    "- takes two parameters (numerator and denominator)\n",
    "- casts them to float\n",
    "- returns the ratio:  numerator/denominator * 100\n",
    "\n",
    "And then apply it where due to see if it works!\n",
    "\n",
    "Also, complete all the missing bits(???)\n",
    "\n",
    "Good Luck!"
   ]
  },
  {
   "cell_type": "code",
   "execution_count": 2,
   "metadata": {
    "collapsed": false
   },
   "outputs": [
    {
     "name": "stdout",
     "output_type": "stream",
     "text": [
      "\n",
      "    Choose a neighbourhood by typing its name:\n",
      "    - For City of London type: city\n",
      "    - For Lambeth type: lambeth\n",
      "    - For Camden type: camden\n",
      "    - For Hackney type: hackney\n",
      "    \n",
      "    lambet\n",
      "That's not in my system. Please try again!\n"
     ]
    }
   ],
   "source": [
    "# just importing a module to print \n",
    "# the GeoJSON in the appropriate format\n",
    "import json\n",
    "\n",
    "# ---------------------------\n",
    "# Variables\n",
    "# ---------------------------\n",
    "\n",
    "# London's total population\n",
    "london_pop = 7375000\n",
    "\n",
    "# marker GeoJSON scaffolding\n",
    "myBorough = {\n",
    "  \"type\": \"FeatureCollection\",\n",
    "  \"features\": [\n",
    "    {\n",
    "      \"type\": \"Feature\",\n",
    "      \"properties\": {},\n",
    "      \"geometry\": {\n",
    "        \"type\": \"Point\",\n",
    "        \"coordinates\": [\n",
    "        ]\n",
    "      }\n",
    "    }\n",
    "  ]\n",
    "}\n",
    "\n",
    "# list with some of London's borough. Feel free to add more! \n",
    "london_boroughs = [{ \"name\": \"city\",\n",
    " \"population\": 8072,\n",
    " \"coordinates\" : [-0.0933, 51.5151]\n",
    "},\n",
    "{ \"name\": \"camden\",\n",
    " \"population\": 220338,\n",
    " \"coordinates\" : [-0.2252,1.5424]\n",
    "},\n",
    "{ \"name\": \"hackney\",\n",
    " \"population\": 220338,\n",
    " \"coordinates\" : [-0.0709, 51.5432]\n",
    "},\n",
    "{ \"name\": \"lambeth\",\n",
    " \"population\": 303086,\n",
    " \"coordinates\" : [-0.1172,51.5013]\n",
    "}]\n",
    "\n",
    "# let's ask the user for some input!\n",
    "user_input = raw_input(\"\"\"\n",
    "    Choose a neighbourhood by typing its name:\n",
    "    - For City of London type: city\n",
    "    - For Lambeth type: lambeth\n",
    "    - For Camden type: camden\n",
    "    - For Hackney type: hackney\n",
    "    \n",
    "    \"\"\")\n",
    "\n",
    "# ---------------------------\n",
    "# Functions\n",
    "# ---------------------------\n",
    "\n",
    "# calculate pop. ratio\n",
    "def calcRatio(???,???):\n",
    "# do your magic here\n",
    "# then return it!\n",
    "\n",
    "\n",
    "\n",
    "# getBorough returns a borough from a list\n",
    "def getBorough(userInput, boroughList):    \n",
    "# iterate over the list\n",
    "    for borough in boroughList:\n",
    "# check if the name inputted by the user is equal to the \"name\" property\n",
    "# of the current item we are looking at in the iteration\n",
    "# if this condition is True:\n",
    "        if borough[\"name\"] == user_input:\n",
    "# return the item\n",
    "            return borough\n",
    "# else continue to iterate and check the next item in the list \n",
    "        else:\n",
    "            continue\n",
    " \n",
    "\n",
    "\n",
    "# ---------------------------\n",
    "#  Let's go!\n",
    "# ---------------------------\n",
    "\n",
    "try:\n",
    "# get the borough from the list    \n",
    "    borough = getBorough(???, london_boroughs)\n",
    "# calculate pop ratio for the boroough to London's tot.\n",
    "    boroughRatio = calcRatio(borough[\"population\"], ???)\n",
    "# add the new ratio property to the GeoJSON object\n",
    "    myBorough[\"features\"][0][\"properties\"][\"popRatio\"] = boroughRatio\n",
    "# add the coordinates property to the GeoJSON object\n",
    "    ???[\"features\"][0][\"geometry\"][???] = borough[\"coordinates\"]\n",
    "# print the result in the appropriate format\n",
    "    print json.dumps(myBorough)\n",
    "# if there's any error, raise and exception!            \n",
    "except:\n",
    "    print \"That's not in my system. Please try again!\""
   ]
  },
  {
   "cell_type": "markdown",
   "metadata": {
    "collapsed": true
   },
   "source": [
    "**Congratulations on finishing your eight notebook!**"
   ]
  },
  {
   "cell_type": "markdown",
   "metadata": {},
   "source": [
    "\n",
    "### Further references:\n",
    "\n",
    "General list or resources\n",
    "- [Awesome list of resources](https://github.com/vinta/awesome-python)\n",
    "- [Python Docs](https://docs.python.org/2.7/tutorial/introduction.html)\n",
    "- [HitchHiker's guide to Python](http://docs.python-guide.org/en/latest/intro/learning/)\n",
    "- [Python for Informatics](http://www.pythonlearn.com/book_007.pdf)\n",
    "- [Learn Python the Hard Way - Lists](http://learnpythonthehardway.org/book/ex32.html)\n",
    "- [Learn Python the Hard Way - Dictionaries](http://learnpythonthehardway.org/book/ex39.html)\n",
    "- [CodeAcademy](https://www.codecademy.com/courses/python-beginner-en-pwmb1/0/1)\n",
    "\n"
   ]
  }
 ],
 "metadata": {
  "anaconda-cloud": {},
  "kernelspec": {
   "display_name": "Python [Root]",
   "language": "python",
   "name": "Python [Root]"
  },
  "language_info": {
   "codemirror_mode": {
    "name": "ipython",
    "version": 2
   },
   "file_extension": ".py",
   "mimetype": "text/x-python",
   "name": "python",
   "nbconvert_exporter": "python",
   "pygments_lexer": "ipython2",
   "version": "2.7.12"
  }
 },
 "nbformat": 4,
 "nbformat_minor": 0
}
