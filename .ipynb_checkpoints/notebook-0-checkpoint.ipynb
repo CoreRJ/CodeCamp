{
 "cells": [
  {
   "cell_type": "markdown",
   "metadata": {},
   "source": [
    "# Notebook-0: Set-Up\n"
   ]
  },
  {
   "cell_type": "markdown",
   "metadata": {},
   "source": [
    "### Lesson Aims\n",
    "\n",
    "The overall goal of this Notebook-0 is to get you set-up with the technical bits that you'll use further down the line. \n",
    "\n",
    "The Jupyter Notebook format will allow you to see both the instructions, the code, and its outcome on this website, e.g.:\n",
    "![](./img/jupyter-example.png)\n",
    "\n",
    "However, wouldn't it be much more fun and fruitful if you could actually **run** (i.e. execute) that code on you own machine? \n",
    "\n",
    "To do so, you will need to:\n",
    "\n",
    "- **Install Python**: This is the programming language you will learn.\n",
    "- **Install Jupyter**: It's \"environment\" you will use to learn Python, and that allows you to run the Jupyter Notebooks.\n",
    "- **Download the lectures**: Chek-out how in [this section](#)\n",
    "- **Test it!**: Make sure that everything works and that you can run the Jupyter Notebooks.\n",
    "\n",
    "While it may be a bit plain, keep at it! Follow thoroughly the instructions provided hereafter and on the referred webistes and you'll be up-and-running in no time.\n",
    "   "
   ]
  },
  {
   "cell_type": "markdown",
   "metadata": {},
   "source": [
    "### Install Python\n",
    "\n",
    "Python comes installed by default on some Operative Systems (i.e. Ubuntu Linux, MacOS..), while on others you have to explicitly install if yourself, as you would for a program or an \"app\".\n",
    "\n",
    "Regardless of the OS present on your machine (and thus of the Python version that might come with it!), we are going firstly to install Anaconda which is basically a collection of the python programming language and of it most used libraries, already bundled up for you convenience.\n",
    "To download and install Anaconda follow the instructions [here](http://jupyter.readthedocs.io/en/latest/install.html#id3).\n",
    "\n"
   ]
  },
  {
   "cell_type": "markdown",
   "metadata": {},
   "source": [
    "#### Install Jupyter"
   ]
  },
  {
   "cell_type": "markdown",
   "metadata": {},
   "source": [
    "#### Download the notebooks\n",
    "\t- METHOD A: download the whole repository (click the green button on the top-right corner that says \"clone or download\") and decompress the `.zip` file.\n",
    "\t- METHOD B: if you want to have just the single notebook and not the whole repository then click on the notebook name, this will bring you to the rendered notebook. Click on 'raw', and then right-click on the web-page and 'save-as' wherever you want that file on your local filesystem\n",
    "\n",
    "   \n"
   ]
  },
  {
   "cell_type": "markdown",
   "metadata": {},
   "source": [
    "- **Test it!**: Make sure that everything works and that you can run the notebooks.this will your first dip in the programming world. Even thought everything has been installed smoothly it doesn't necessariliy mean that it will work. There might be plenty of other complications at a lower level in the machine. Don't panic! Might this be you first lesson and try to see if you are able to run the Jupyter Notebooks \n",
    "\n",
    "- Run the notebook! From Jupyter's [web-page](http://jupyter-notebook-beginner-guide.readthedocs.io/en/latest/execute.html):\n",
    "\t\n",
    "\t> (*Windows*): The Jupyter Notebook App can be launched by clicking on the Jupyter Notebook icon installed by Anaconda in the start menu (Windows) or by typing in a terminal (cmd on Windows): `jupyter notebook`\n",
    "        "
   ]
  },
  {
   "cell_type": "markdown",
   "metadata": {},
   "source": [
    "#### Bonus!\n",
    "\n",
    "Now that you have your shiny new technology 'stack' installed on your machine, explore it! \n",
    "\n",
    "For a quick-primer on how to move around and interact with a Jupyter Notebook follow this nice and easy tutorial from [OpenTechSchool](http://opentechschool.github.io/python-data-intro/core/notebook.html)"
   ]
  },
  {
   "cell_type": "markdown",
   "metadata": {},
   "source": [
    "#### code from scratch\n",
    "    "
   ]
  },
  {
   "cell_type": "code",
   "execution_count": 9,
   "metadata": {
    "collapsed": true
   },
   "outputs": [],
   "source": [
    "# define a variable named 'satellite' with value 'landsat'\n",
    "satellite = 'landsat'"
   ]
  },
  {
   "cell_type": "markdown",
   "metadata": {},
   "source": [
    "#### supported code"
   ]
  },
  {
   "cell_type": "code",
   "execution_count": 7,
   "metadata": {
    "collapsed": false
   },
   "outputs": [
    {
     "ename": "NameError",
     "evalue": "name 'pr_nt' is not defined",
     "output_type": "error",
     "traceback": [
      "\u001b[1;31m---------------------------------------------------------------------------\u001b[0m",
      "\u001b[1;31mNameError\u001b[0m                                 Traceback (most recent call last)",
      "\u001b[1;32m<ipython-input-7-96671c6511c4>\u001b[0m in \u001b[0;36m<module>\u001b[1;34m()\u001b[0m\n\u001b[0;32m      1\u001b[0m \u001b[1;31m# fill up the gaps \"__\"  in the following example to make the code work\u001b[0m\u001b[1;33m\u001b[0m\u001b[1;33m\u001b[0m\u001b[0m\n\u001b[0;32m      2\u001b[0m \u001b[0msatellite\u001b[0m \u001b[1;33m=\u001b[0m \u001b[1;34m'landsat'\u001b[0m\u001b[1;33m\u001b[0m\u001b[0m\n\u001b[1;32m----> 3\u001b[1;33m \u001b[0mpr_nt\u001b[0m\u001b[1;33m(\u001b[0m\u001b[1;34m\"Hello\"\u001b[0m \u001b[1;33m+\u001b[0m \u001b[0msatellite\u001b[0m\u001b[1;33m)\u001b[0m\u001b[1;33m\u001b[0m\u001b[0m\n\u001b[0m",
      "\u001b[1;31mNameError\u001b[0m: name 'pr_nt' is not defined"
     ]
    }
   ],
   "source": [
    "# fill up the gaps \"__\"  in the following example to make the code work\n",
    "satellite = 'landsat'\n",
    "pr_nt(\"Hello\" + satellite)"
   ]
  },
  {
   "cell_type": "markdown",
   "metadata": {},
   "source": [
    "#### broken code"
   ]
  },
  {
   "cell_type": "code",
   "execution_count": 8,
   "metadata": {
    "collapsed": false
   },
   "outputs": [
    {
     "ename": "TypeError",
     "evalue": "cannot concatenate 'str' and 'int' objects",
     "output_type": "error",
     "traceback": [
      "\u001b[1;31m---------------------------------------------------------------------------\u001b[0m",
      "\u001b[1;31mTypeError\u001b[0m                                 Traceback (most recent call last)",
      "\u001b[1;32m<ipython-input-8-2010b3ea846c>\u001b[0m in \u001b[0;36m<module>\u001b[1;34m()\u001b[0m\n\u001b[1;32m----> 1\u001b[1;33m \u001b[1;32mprint\u001b[0m\u001b[1;33m(\u001b[0m\u001b[0msatellite\u001b[0m \u001b[1;33m+\u001b[0m \u001b[1;34m\"Near Infrared (NI) band captures light in the wavelength from\"\u001b[0m\u001b[1;33m+\u001b[0m \u001b[1;36m770\u001b[0m \u001b[1;33m+\u001b[0m\u001b[1;34m\" to \"\u001b[0m\u001b[1;33m+\u001b[0m \u001b[1;36m900\u001b[0m\u001b[1;33m+\u001b[0m\u001b[1;34m\" nanometers.\"\u001b[0m \u001b[1;33m)\u001b[0m\u001b[1;33m\u001b[0m\u001b[0m\n\u001b[0m",
      "\u001b[1;31mTypeError\u001b[0m: cannot concatenate 'str' and 'int' objects"
     ]
    }
   ],
   "source": [
    "# mmh..something's broken in the following line of code. \n",
    "# can you spot the error(s)?\n",
    "# HINT: remember what we said about different data types...\n",
    "print(satellite + \"Near Infrared (NI) band captures light in the wavelength from\"+ 770 +\" to \"+ 900+\" nanometers.\" )\n"
   ]
  },
  {
   "cell_type": "markdown",
   "metadata": {},
   "source": [
    "### Code (Applied to Geo-examples)"
   ]
  }
 ],
 "metadata": {
  "kernelspec": {
   "display_name": "Python 2",
   "language": "python",
   "name": "python2"
  },
  "language_info": {
   "codemirror_mode": {
    "name": "ipython",
    "version": 2
   },
   "file_extension": ".py",
   "mimetype": "text/x-python",
   "name": "python",
   "nbconvert_exporter": "python",
   "pygments_lexer": "ipython2",
   "version": "2.7.11"
  }
 },
 "nbformat": 4,
 "nbformat_minor": 0
}
