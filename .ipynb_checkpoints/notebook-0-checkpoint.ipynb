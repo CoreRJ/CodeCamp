{
 "cells": [
  {
   "cell_type": "markdown",
   "metadata": {},
   "source": [
    "# Notebook-0: Set-Up"
   ]
  },
  {
   "cell_type": "markdown",
   "metadata": {},
   "source": [
    "## Aims & Objectives\n",
    "\n",
    "The goal of Notebook-0 is to get you set-up to:\n",
    "1. Learn the basics of writing code from home, and \n",
    "2. Get you connected to tools that can help you when things go wrong (they always do!), and\n",
    "3. Back up your work (see \\#2). \n",
    "We'll be using all of this from your first day on the Geocomputation module, so it's best that you get started now so that it's not all 'brand new' to you in the practical!\n",
    "\n",
    "With this in mind, by the end of this lesson you will:\n",
    "- Be signed up and logged in to Slack\n",
    "- Be signed up and logged in to Dropbox\n",
    "- Be ready to start writing some simple code"
   ]
  },
  {
   "cell_type": "markdown",
   "metadata": {},
   "source": [
    "## Slack"
   ]
  },
  {
   "cell_type": "markdown",
   "metadata": {},
   "source": [
    "### What is Slack?\n",
    "\n",
    "<img src=\"img/Slack.png\",width=300>\n",
    "\n",
    "[Slack](http://www.slack.com/) is a “messaging app for teams” that is designed to reduced email, organise conversations & topics of discussion, and pull in relevant data from a host of other services in a flexible, fully-searchable way. All in real-time. \n",
    "\n",
    "We want you to use Slack for four reasons:\n",
    "1. KEATS is rather clunky and formal -- it works well for one-to-many communication, but not so much for ‘chat’.\n",
    "2. Slack offers a searchable history -- you will have access to this archive for the next 2 years and beyond.\n",
    "3. You (and we) can access Slack on every major platform and Operating System (OSX, Windows, iOS, Android, and Windows Phone) and via a browser quickly.\n",
    "4. Slack is used in the ‘real world’ by everyone from Apple to PayPal and the JPL. This is how developers work.\n",
    "Last year, many students wanted to Direct Message (DM) us, which meant that others couldn't benefit from our answers and we ended up answering the same question multiple times. This year, we will only answer coding questions that have been asked publicly in the appropriate channel. \n",
    "\n",
    "Let's be clear: learning to code is hard. We expect _all_ of you to end up needing help at some point and we will _not_ be marking down anyone who asks for help in a public channel. The best way to learn is as a _community_ -- this is a very different model of learning from the 'usual' one in a lecture class or seminar, and we want you to get the maximum benefit from it!"
   ]
  },
  {
   "cell_type": "markdown",
   "metadata": {},
   "source": [
    "### Getting set up with Slack\n",
    "\n",
    "Getting started with Slack is simple:\n",
    "1. [Download](https://slack.com/downloads) the Slack client for your computer and phone.\n",
    "2. When creating your Slack account, _use your name as your username_ (so we can easily identify you!). For example, James' username is jamesmillington \n",
    "2. Sign up for the [kclgsa2016](https://kclgsa2016.slack.com/x-66301338055-66300711317/signup) Slack team.\n",
    "3. Make sure you subscribe to all of the available channels so that you don't miss any updates."
   ]
  },
  {
   "cell_type": "markdown",
   "metadata": {},
   "source": [
    "## KEATS\n",
    "Although we want to use Slack to facilitate the development of our GSA community, we will still use KEATS for all the forma aspects of the modules you take. KEATS will be used to:\n",
    "\n",
    "1. Submit coursework and take quizzes\n",
    "2. Host lecture slides and practical materials for you to download\n",
    "3. Provide formal information about the module (syllabus etc.)\n",
    "\n",
    "We will inform you when you will need to use KEATS for accessing materials etc, but you should remember KEATS is still a useful resource for you and you should check your module pages frequently.  "
   ]
  },
  {
   "cell_type": "markdown",
   "metadata": {},
   "source": [
    "## Dropbox"
   ]
  },
  {
   "cell_type": "markdown",
   "metadata": {},
   "source": [
    "### What is Dropbox?\n",
    "\n",
    "<img src=\"img/Dropbox.png\",width=300>\n",
    "\n",
    "Dropbox is a cloud-based file synchronisation tool: files placed in the special Dropbox folder on a computer are automatically uploaded to the Dropbox servers, and automatically downloaded to any other computer on which you have set up Dropbox. Subsequent changes are also synchronised, and you can even go to the web interface to recover a deleted file or the previous version of a file. \n",
    "\n",
    "Basically, Dropbox can be your saviour when you lose a USB key or forget your computer at home. But also. by using dropbox it means you will always have your files in the same directory, whether you are working on your own laptop, using the _GeoCUP_ (more on that later) or on a campus machine. This (hopefully) will save you from having to continually change bits of your code to point to the right files (if this sentence doesn't make sense right now, it will do in time). Ultimately, we strongly recommend you get you Dropbox if you are not already."
   ]
  },
  {
   "cell_type": "markdown",
   "metadata": {},
   "source": [
    "### Getting set up with Dropbox\n",
    "\n",
    "Getting started with Dropbox is _also_ easy:\n",
    "1. Sign up for a [new account](https://db.tt/VwSUYmkf).\n",
    "2. [Download](https://www.dropbox.com/downloading) the Dropbox app for your computer and phone.\n",
    "3. Start the Dropbox app and enter the login details for your new account.\n",
    "\n",
    "Find the Dropbox folder that has been created and drag a file (any _small_ file) into this folder. Wait 10 seconds, and then visit [Dropbox.com](https://www.dropbox.com/). Assuming that you are logged in (which you should be from step \\#1) then you should see this file appear in the web interface of Dropbox. \n",
    "\n",
    "If you install the Dropbox app on your phone (and set it up with the same username and password) then after launching the app you should see the file from your computer listed there. Handy right?"
   ]
  },
  {
   "cell_type": "markdown",
   "metadata": {},
   "source": [
    "## Getting started with Python and notebooks\n",
    "\n",
    "That was the easy bit. We're now going to get you set up with the [Python](https://www.python.org) programming language and something called [Jupyter](http://jupyter.org) notebooks so that you can write and run code in your web browser. We will be using Python and notebooks [Jupyter notebooks were previously known as iPython notebooks, we'll just call them notebooks] throughout GSA, so it's important to get them set up correctly and to understand how they are used. \n",
    "\n",
    "There are two options for using notebooks with Python:\n",
    "1. Running everything online (try.jupyter)\n",
    "2. Running Python and notebooks on your computer\n",
    "\n",
    "We recommend \\#1 as a starting point, but if you have problems with the online service (you will sometimes get a 'No Vacancy' message when a lot of people are using the servce and there is no capacity on the servers for you to be added) then we recommend trying option \\#2!\n",
    "\n",
    "When you start the Geocomputation module in the Autumn you will still be using notebooks and Python, but we'll running them on the _GeoCUP_ system to give you more control over the code and libraries that you use. What we're doing now, however, is the best way to get you started since it doesn't require you to download 15GB of data to set up _GeoCUP_!"
   ]
  },
  {
   "cell_type": "markdown",
   "metadata": {},
   "source": [
    "### A modern browser\n",
    "\n",
    "A primary requirement for using notebooks, whether online or on your own computer, is a _\"[modern, standards-compliant browser](http://jupyter-notebook-beginner-guide.readthedocs.io/en/latest/install.html)\"_.\n",
    "\n",
    "In plain-English:\n",
    "\n",
    "> _Either Mozilla Firefox or Google Chrome will work well. Try to avoid MS Explorer._\n",
    "\n",
    "Download and install [Firefox](https://www.mozilla.org/en-US/firefox/new/) or [Chrome](https://www.google.co.uk/chrome/browser/desktop/index.html) (for free) if you don't already have one of them. We have also found that OSX Safari works, so that should also be fine. However, to repeat, _avoid Microsoft Internet Explorer_ and use Firefox, Chrome or Safari for _all_ your browsing needs. \n",
    "\n",
    "A secondary requirement - vital to run notebooks online but generally always useful - is that you are online! We'll leave that to you to work out :)"
   ]
  },
  {
   "cell_type": "markdown",
   "metadata": {},
   "source": [
    "#### How will I know if I've done the right thing?\n",
    "\n",
    "If, after following either of the procedures set out below to start a notebook, you'll know you have been successful if your browser looks something like the image below!\n",
    "\n",
    "![Jupyter Web Application](https://kingsgeocomputation.files.wordpress.com/2016/08/runningnotebook1.png)"
   ]
  },
  {
   "cell_type": "markdown",
   "metadata": {},
   "source": [
    "### 1. Using try.jupyter.org to run notebooks online\n",
    "\n",
    "To run everything online (option #1 above) use Jupyter's online Python notebook service at http://try.jupyter.org/. \n",
    "\n",
    "If you get a 'No Vacancy' message (like what you see below) when you access the link above, then you will either: \n",
    "- need to be patient, or\n",
    "- look at [Running Python and Notebooks on Your Computer](#2.-Running-Python-and-Notebooks-on-Your-Computer)\n",
    "\n",
    "![No Vacancy](https://kingsgeocomputation.files.wordpress.com/2016/08/novacancy.png)"
   ]
  },
  {
   "cell_type": "markdown",
   "metadata": {},
   "source": [
    "### 2. Running Python and Notebooks on Your Computer\n",
    "\n",
    "#### Requirements\n",
    "- A modern browser (you should now [have one of these](#A-modern-browser)) \n",
    "- Python (a [programming language](https://www.python.org/))."
   ]
  },
  {
   "cell_type": "markdown",
   "metadata": {},
   "source": [
    "#### Installing Python\n",
    "\n",
    "Python comes installed by default on some Operating Systems, but to make things simple, and so that everyone is running the same version, we want you to install [Anaconda](https://www.continuum.io/downloads).\n",
    "\n",
    "Anaconda installs a version of Python, along with tools for installing the 'libraries' that provide a lot of useful functionality for your applications (more on these in a later notebook!). \n",
    "\n",
    "To [download](https://www.continuum.io/downloads) and install the  **_Python 2.7_** version of Anaconda for your operating system from here: https://www.continuum.io/downloads. Unless you are using a very old computer, you will want the 64-bit version (see images below for which installer file to download). Note: the file to download will be >300MB (so download over wifi!).\n",
    "\n",
    "![InstallAnacondaWindows](https://kingsgeocomputation.files.wordpress.com/2016/08/installanacondawindows.png)\n",
    "![InstallAnacondaOSX](https://kingsgeocomputation.files.wordpress.com/2016/08/installanacondaosx.png)\n",
    "\n",
    "During installation you may be asked if you want to “Register Anaconda as my default Python 2.7”? and if you want to “Add Anaconda to my PATH environment variable”. You should respond positively to both of these option by checking the appropriate boxes (see below).\n",
    "\n",
    "![InstallAnacondaoptions](https://kingsgeocomputation.files.wordpress.com/2016/08/anacondainstall1.png)"
   ]
  },
  {
   "cell_type": "markdown",
   "metadata": {},
   "source": [
    "#### Test everything\n",
    "\n",
    "Now you have installed Anaconda, let's make sure that Python and Jupyter are now working so that you can run the notebooks. We have created videos to show the process of checking installation has worked (see below) but you will also find it useful to have a look at Jupyter's [help page](http://jupyter-notebook-beginner-guide.readthedocs.io/en/latest/execute.html).\n",
    "\n",
    "If something goes wrong: **don't panic**! Sometimes there will be... complications... since every computer is unique, and sometimes something that works on 99% of systems seems to fail on the 100th. But before you think that there's something wrong with your computer, please _re-read_ the instructions on Jupyter's [help page](http://jupyter-notebook-beginner-guide.readthedocs.io/en/latest/execute.html) to make sure that you've followed them fully at each and every step, and use the videos below. \n",
    "\n",
    "If you still can't get things to work, then [Google is your friend](http://lmgtfy.com/?q=%22Learning+what+questions+to+ask+is+a+skill+in+itself%22+-Somebody+smart). Read first (see the References section for a selection of informative websites and resources) and when you'll have a clearer definition of your probelem ask questions in clear and simple terms.\n",
    "\n"
   ]
  },
  {
   "cell_type": "markdown",
   "metadata": {},
   "source": [
    "#### Testing on Windows\n",
    "As it states on the Jupyter [help page](http://jupyter-notebook-beginner-guide.readthedocs.io/en/latest/execute.html)\n",
    "\n",
    "> *(Windows): The Jupyter Notebook App can be launched by clicking on the Jupyter Notebook icon installed by Anaconda in the start menu (Windows) or by typing in a terminal (cmd on Windows): `jupyter notebook`*\n",
    "\n",
    "Click the image below to view a [YouTube video showing the process of checking installation in Windows](https://youtu.be/yKW6gXlbWPk), including how to run Jupyter from a terminal (known as the Command Primpt on Windows):\n",
    "\n",
    "[![IMAGE ALT TEXT HERE](http://img.youtube.com/vi/yKW6gXlbWPk/0.jpg)](http://www.youtube.com/watch?v=yKW6gXlbWPk)\n",
    "\n",
    "Common reasons your Windows installation may not work as shown in [the Windows video](https://youtu.be/yKW6gXlbWPk) are:\n",
    "\n",
    "1. If Python does not launch this may be because the folder (aka directory) containing the python executable file (_python.exe_) was not correctly added to the [PATH environment variable](https://en.wikipedia.org/wiki/PATH_(variable)) when installing Anaconda. To fix this, you will need to find where the Anaconda folder (diretory) has been created on your computer (for James it was _C:\\Users\\k1076631\\AppData\\Local\\Continuum\\Anaconda2_) and [add that directory to your PATH environment variable](http://www.computerhope.com/issues/ch000549.htm).    \n",
    "\n",
    "2. In the video above we set the directory to run Python and Jupyter from to _c:\\Users\\k1076631_. That directory was chosen so James could access the notebooks files on his computer. Remember you will need to change _k1076631_ to whatever _your_ Windows username is. If you cannot run Python and Jupyter from that directory, you might try another directory. Or see the suggestion for how to change the startup Notebook Dashboard folder on the Jupyter [help page](http://jupyter-notebook-beginner-guide.readthedocs.io/en/latest/execute.html#change-jupyter-notebook-startup-folder-windows). \n",
    "\n",
    "3. If you need help running the Command Prompt as an Administrator try Google [for help](http://www.howtogeek.com/howto/windows-vista/run-a-command-as-administrator-from-the-windows-vista-run-box/)\n",
    "\n",
    "If none of this works try uninstalling Anaconda (using a ['normal' Windows uninstall](http://www.bleepingcomputer.com/tutorials/uninstall-a-program-in-windows/)) and re-install Anaconda. \n",
    "\n",
    "If you have been through all the instructions and tried re-installing, you can try asking for help on Slack. "
   ]
  },
  {
   "cell_type": "markdown",
   "metadata": {},
   "source": [
    "#### Testing on Mac\n",
    "\n",
    "<span style=\"color:red;weight:bolder;font-size:18pt\">Mac video here. Don't worry about the 'cd' bit for either, just get the server up and running then show them how to load a .ipynb file</span>\n",
    "\n",
    "\n",
    "\n",
    "Please have a look at Jupyter's [help page](http://jupyter-notebook-beginner-guide.readthedocs.io/en/latest/execute.html) where it provides information about starting up and running the notebooks:\n",
    "\t\n",
    "\n",
    "\n",
    "> *(Mac OSX): Click on spotlight, type 'terminal' to open a terminal window. Enter the startup folder by typing cd /some_folder_name. Type jupyter notebook to launch the Jupyter Notebook App (it will appear in a new browser window or tab).*\n"
   ]
  },
  {
   "cell_type": "markdown",
   "metadata": {},
   "source": [
    "#### Using Jupyter\n",
    "\n",
    "<span style=\"color:red;weight:bolder;font-size:18pt\">Need to explain how to download the notebook files from github first... What is best way to tell them to do that?</span>\n",
    "\n",
    "Jupyter 'notebooks' allow you to see the lesson content, the code, and the output of the code in one place. Like this...\n",
    "\n",
    " "
   ]
  },
  {
   "cell_type": "code",
   "execution_count": 2,
   "metadata": {
    "collapsed": false
   },
   "outputs": [
    {
     "name": "stdout",
     "output_type": "stream",
     "text": [
      "Hello there! I am a line of code\n"
     ]
    }
   ],
   "source": [
    "## I am code! See how I look different from the other content on this page? \n",
    "## Even the text color has changed. See how the next line appears twice:\n",
    "## once as something that is 'code', and once (below that) as the result of\n",
    "## the code being run?\n",
    "print(\"Hello there! I am a line of code\")"
   ]
  },
  {
   "cell_type": "markdown",
   "metadata": {},
   "source": [
    "The above line only works in a Jupyter notebook, but notice how it is clearly marked out from the rest of this text making it easy to read? There's even a hanging <span style=\"color:blue;weight:bold\">In [2]:</span> that tells you this is the second bit of code on the page. All code will be formatted -- 'marked up' in programming parlance -- in a way that distinguishes it from the explanations and lesson content that we are providing. Although it might be tempting to just skip to the code and ignore what we've written, we think you'll find that the explanations and instructions are rather important."
   ]
  },
  {
   "cell_type": "markdown",
   "metadata": {},
   "source": [
    "## Bonus!\n",
    "\n",
    "### More about Juptyer\n",
    "\n",
    "Now that you have your shiny new technology 'stack' installed on your machine, explore it! \n",
    "\n",
    "For a quick primer on how to use a Jupyter Notebook follow this nice and easy tutorial from [OpenTechSchool](http://opentechschool.github.io/python-data-intro/core/notebook.html)\n",
    "\n",
    "### Git & Github\n",
    "Github (in an **absolutely simplistic** description) is a webiste used to store programming files. Think about it as a \"Dropbox for programmers\". Github (and Git the system it uses behind the scene) do much more than this, but for the moment being let's stop here. If you are interested in learning more about Git and Github check out these resources:\n",
    "\n",
    "- [Github Guides](https://guides.github.com/activities/hello-world/)\n",
    "- [Github for Cats](http://ericsteinborn.com/github-for-cats)\n",
    "- [TryGit!](https://try.github.io/levels/1/challenges/1)"
   ]
  },
  {
   "cell_type": "markdown",
   "metadata": {
    "collapsed": true
   },
   "source": [
    "<span style=\"color:red;weight:bolder;font-size:18pt\">So what next? Need some detail here.... e.g. work your way through the notebooks in turn... Will they save their output as a new notebook? etc.</span>"
   ]
  }
 ],
 "metadata": {
  "anaconda-cloud": {},
  "kernelspec": {
   "display_name": "Python [Root]",
   "language": "python",
   "name": "Python [Root]"
  },
  "language_info": {
   "codemirror_mode": {
    "name": "ipython",
    "version": 2
   },
   "file_extension": ".py",
   "mimetype": "text/x-python",
   "name": "python",
   "nbconvert_exporter": "python",
   "pygments_lexer": "ipython2",
   "version": "2.7.12"
  }
 },
 "nbformat": 4,
 "nbformat_minor": 0
}
