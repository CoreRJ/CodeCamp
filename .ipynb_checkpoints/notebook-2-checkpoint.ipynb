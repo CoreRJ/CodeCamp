{
 "cells": [
  {
   "cell_type": "markdown",
   "metadata": {},
   "source": [
    "# Notebook-2: The Basics\n",
    "   "
   ]
  },
  {
   "cell_type": "markdown",
   "metadata": {},
   "source": [
    "## Lesson Topics: \n",
    "\n",
    "- Python syntax\n",
    "- What is a variable? \n",
    "- Simple operations (addition, concatenation, division modulo).\n",
    "- Introduction to errors. \n",
    "- Reserved words\n"
   ]
  },
  {
   "cell_type": "markdown",
   "metadata": {},
   "source": [
    "### Python Syntax\n",
    "\n",
    "Before we even start dealing with theoretical concepts is worth to keep in mind that Python, same as with natural languages like English or French, has its own syntactic and grammatic rules. And it will complain loudly (i.e. your program will \"crash\") if you \"speak it\" making mistakes!\n",
    "\n",
    "At this stage dont' worry too much about trying to memorize all the rules, they will eventually come natural. Let's start with a short set. Just keep them in mind when reading the examples and doing the excercises further down."
   ]
  },
  {
   "cell_type": "markdown",
   "metadata": {},
   "source": [
    "#### Newlines\n",
    "\n",
    "In Python you don't rely on punctuation or special characters when you want to express a \"phrase\". Instead, you divide your code in a set of instructions (in *statements* to be [more](https://docs.python.org/2/reference/simple_stmts.html) [precise](http://interactivepython.org/runestone/static/thinkcspy/SimplePythonData/StatementsandExpressions.html) ) by relying on the use of a newline character (i.e., press the `return` or `enter` key). "
   ]
  },
  {
   "cell_type": "code",
   "execution_count": 46,
   "metadata": {
    "collapsed": false
   },
   "outputs": [
    {
     "name": "stdout",
     "output_type": "stream",
     "text": [
      "Hi!\n",
      "Look, I'm on a different line\n"
     ]
    }
   ],
   "source": [
    "print \"Hi!\"\n",
    "print \"Look, I'm on a different line\""
   ]
  },
  {
   "cell_type": "markdown",
   "metadata": {},
   "source": [
    "#### Multi-line statements\n",
    "While each statement typically ends with a newline, you are still allowed to run multiple lines at the same time (or execute multi-line commands in general) putting a backslash ('\\') at the end of each of your (now multi-line) statement:"
   ]
  },
  {
   "cell_type": "code",
   "execution_count": 47,
   "metadata": {
    "collapsed": false
   },
   "outputs": [
    {
     "name": "stdout",
     "output_type": "stream",
     "text": [
      "Hi! this time, after the backslash,I'll be printed on the same line, since I'm part of the same statement\n"
     ]
    }
   ],
   "source": [
    "print \"Hi! \\\n",
    "this time, \\\n",
    "after the backslash,\\\n",
    "I'll be printed on the same line, \\\n",
    "since I'm part of the same statement\""
   ]
  },
  {
   "cell_type": "markdown",
   "metadata": {},
   "source": [
    "Also statements written within parethesis like [], {}, or () can be written on multiple lines:"
   ]
  },
  {
   "cell_type": "code",
   "execution_count": 48,
   "metadata": {
    "collapsed": false
   },
   "outputs": [
    {
     "name": "stdout",
     "output_type": "stream",
     "text": [
      "['lovelace', 'turing', 'torvalds', 'hamilton']\n"
     ]
    }
   ],
   "source": [
    "list_of_programmers = ['lovelace',\n",
    "                       'turing',\n",
    "                       'torvalds',\n",
    "                       'hamilton']\n",
    "print list_of_programmers"
   ]
  },
  {
   "cell_type": "markdown",
   "metadata": {},
   "source": [
    "Alternatively, you can run multiple statments on the same line if you interpose a semi-colon (;) between them:"
   ]
  },
  {
   "cell_type": "code",
   "execution_count": 49,
   "metadata": {
    "collapsed": false
   },
   "outputs": [
    {
     "name": "stdout",
     "output_type": "stream",
     "text": [
      "First command\n",
      "Second command, yet on the same line (in the code, not in the output)\n"
     ]
    }
   ],
   "source": [
    "print \"First command\" ; print \"Second command, yet on the same line (in the code, not in the output)\""
   ]
  },
  {
   "cell_type": "markdown",
   "metadata": {},
   "source": [
    "#### Indentation"
   ]
  },
  {
   "cell_type": "markdown",
   "metadata": {},
   "source": [
    "Similarly, also the use of whitespace is quite crucial. Python is an uncluttered language in that sense, as you don't need to type too many symbols (curly braces, etc..) as you would in other languages to structure logically your code, but you need to be careful about things like **spaces** and **indentation**, e.g.:"
   ]
  },
  {
   "cell_type": "code",
   "execution_count": 50,
   "metadata": {
    "collapsed": false,
    "scrolled": true
   },
   "outputs": [
    {
     "name": "stdout",
     "output_type": "stream",
     "text": [
      "this will work\n"
     ]
    }
   ],
   "source": [
    "print \"this will work\"\n"
   ]
  },
  {
   "cell_type": "code",
   "execution_count": 51,
   "metadata": {
    "collapsed": false
   },
   "outputs": [
    {
     "ename": "IndentationError",
     "evalue": "unexpected indent (<ipython-input-51-2528a92580c7>, line 2)",
     "output_type": "error",
     "traceback": [
      "\u001b[1;36m  File \u001b[1;32m\"<ipython-input-51-2528a92580c7>\"\u001b[1;36m, line \u001b[1;32m2\u001b[0m\n\u001b[1;33m    print \"this won't\"\u001b[0m\n\u001b[1;37m    ^\u001b[0m\n\u001b[1;31mIndentationError\u001b[0m\u001b[1;31m:\u001b[0m unexpected indent\n"
     ]
    }
   ],
   "source": [
    "#pay attention to the indentend line afterwards \n",
    "    print \"this won't\"\n"
   ]
  },
  {
   "cell_type": "markdown",
   "metadata": {},
   "source": [
    "See what I've done there? I've indented the code pressing `Tab` on my keyboard. \n",
    "\n",
    "This apparently harmless act is enough to break your code, as it changes its logic. As said before, *indentation* is crucial in Python to define blocks of code.\n",
    "\n",
    "Keep in mind that what to you seems to be two almost identical sets of instructions, to a computer appear to be radically different. Rememeber from Notebook-1 that a computer has an extremely *fast yet rigid* way of thinking, and doesn't have (at least not in this case) the same flexibility of your brain when parsing text."
   ]
  },
  {
   "cell_type": "markdown",
   "metadata": {},
   "source": [
    "Now, you might wonder, \"Ok, got it, by indenting I define *code blocks* and control my program execution, but how much do I indent?\" \n",
    "\n",
    "Well, that's a bit of a tricky question really!\n",
    "\n",
    "Although the [official specification from Guido Van Rossum (Python's creator)](https://www.python.org/dev/peps/pep-0008/#tabs-or-spaces) specifies to *4 spaces*, people sometimes indent using *2 spaces* or *one tab*. Technically [the only *true* constrain is to indent the same number of times in the same statement](http://stackoverflow.com/questions/1125653/python-4-whitespaces-indention-why). Other than that it boils down to conventions."
   ]
  },
  {
   "cell_type": "code",
   "execution_count": 86,
   "metadata": {
    "collapsed": false
   },
   "outputs": [
    {
     "name": "stdout",
     "output_type": "stream",
     "text": [
      "3\n",
      "Hey!!!\n"
     ]
    }
   ],
   "source": [
    "def incrementByOne(value):\n",
    "#see below. I'm indenting with 5 spaces\n",
    "# DISCLAIMER: this is horrible and should never be done without proper supervision.\n",
    "     print value + 1\n",
    "def heyHeyHey():\n",
    "# and now with just 4 spaces\n",
    "    print 'Hey!!!'\n",
    "\n",
    "incrementByOne(2)\n",
    "heyHeyHey()\n",
    "\n",
    "# The code still works as each different indentation belongs to a different block.\n",
    "# Anyhow, this was merely for the demonstration sake. \n",
    "# Never, EVER do it yourselves."
   ]
  },
  {
   "cell_type": "markdown",
   "metadata": {},
   "source": [
    "In general,wether you press once `Tab` or 4 times `spacebar` Python will be happy. The important rules are *to indent when due* (to define *statements* for Python's sake) and *to be consistant with your stylistic choice* (as a courtesy for other programmers that will read your code).\n",
    "\n",
    "As with many things in life this nuance rapidly evolved in a sour debate between two opposing camps (the *4 spaces* vs *one tab)* each with its own solid set of arguments. This debate so popular that has even been recently featured in a [famous sit-com](https://en.wikipedia.org/wiki/Silicon_Valley_(TV_series)): "
   ]
  },
  {
   "cell_type": "code",
   "execution_count": 87,
   "metadata": {
    "collapsed": false
   },
   "outputs": [
    {
     "data": {
      "image/jpeg": "[encoded data removed]",
      "text/html": [
       "\n",
       "        <iframe\n",
       "            width=\"400\"\n",
       "            height=\"300\"\n",
       "            src=\"https://www.youtube.com/embed/cowtgmZuai0\"\n",
       "            frameborder=\"0\"\n",
       "            allowfullscreen\n",
       "        ></iframe>\n",
       "        "
      ],
      "text/plain": [
       "<IPython.lib.display.YouTubeVideo at 0x7efd968c0a10>"
      ]
     },
     "execution_count": 87,
     "metadata": {},
     "output_type": "execute_result"
    }
   ],
   "source": [
    "from IPython.display import YouTubeVideo\n",
    "YouTubeVideo(\"cowtgmZuai0\")\n",
    "\n"
   ]
  },
  {
   "cell_type": "markdown",
   "metadata": {},
   "source": [
    "If you want to know more about Python and indentation these are worthy reads:\n",
    "\n",
    " - [Python: Myths about Indentation](http://www.secnetix.de/olli/Python/block_indentation.hawk)\n",
    " - [Reddit on the topic](https://www.reddit.com/r/learnpython/comments/1xfoxz/pep_indentation_using_4_spaces_vs_googles_2_spaces/)\n"
   ]
  },
  {
   "cell_type": "markdown",
   "metadata": {},
   "source": [
    "#### Comments\n",
    "\n",
    "Lastly, you might have noticed that sometimes in the examples above I've written lines of code that didn't get executed, for instance:\n",
    "\n",
    "```python\n",
    "# pay attention to the indentend line afterwards \n",
    "    print \"this won't\"\n",
    "```\n",
    "\n",
    "That first line is a **comment**. It is literally what the name implies, a simple way to leave a note (for your future self or for other programmers) to explain something.\n",
    "\n",
    "In Python commented lines start with an hashtag (#)"
   ]
  },
  {
   "cell_type": "code",
   "execution_count": 53,
   "metadata": {
    "collapsed": false
   },
   "outputs": [
    {
     "name": "stdout",
     "output_type": "stream",
     "text": [
      "But this one will!\n"
     ]
    }
   ],
   "source": [
    "# All these lines\n",
    "# are comments\n",
    "# and won't be executed\n",
    "print \"But this one will!\""
   ]
  },
  {
   "cell_type": "markdown",
   "metadata": {},
   "source": [
    "Same as with multi-line statements you can achieve also multi-line comments, by using triple-quoted strings ('''). For various reasons though (among which code readability and maintanability) is considered better stylistic practice to comment out each line at a time. \n",
    "\n",
    "See this [Stackoverflow discussion](http://stackoverflow.com/questions/7696924/multiline-comments-in-python) for further insights."
   ]
  },
  {
   "cell_type": "code",
   "execution_count": 54,
   "metadata": {
    "collapsed": false
   },
   "outputs": [
    {
     "name": "stdout",
     "output_type": "stream",
     "text": [
      "but that's considered poor style\n"
     ]
    }
   ],
   "source": [
    "'''\n",
    "Whooo! \n",
    "I'm a multi-line comment!\n",
    "\n",
    "Look how much space\n",
    "I take!\n",
    "\n",
    "\n",
    "'''\n",
    "\n",
    "print \"but that's considered poor style\"\n",
    "\n",
    "# this instead  \n",
    "# is a much clearer way\n",
    "# to comment your code\n",
    "# (it's also less prone to break)\n",
    "\n"
   ]
  },
  {
   "cell_type": "markdown",
   "metadata": {},
   "source": [
    "### What is a variable?\n",
    "\n",
    "Ok, now that we've established the basis of the language, let's start with some programming concepts, among which that of  *variable*.\n",
    "\n",
    "The usual definition that you might have come across (especially if you have studied other programming languages before) is that of a [variable as \"a box\"](https://www.youtube.com/watch?v=V0aBwgLRNXI) containing values, as a metaphor to represent the computer's memory cell holding a certain value your variable is referring to.\n",
    "\n",
    "e.g. :\n",
    "\n",
    "```python\n",
    "#program code:\n",
    "#-------------\n",
    "variable1 = 1\n",
    "\n",
    "# computer memory:\n",
    "#-----------------\n",
    "# variable1  --refers-to--> |1| \n",
    "# with | | being a cell in the computer memory\n",
    "```\n",
    "While this metaphor is easy to grasp, in Python it's a bit misleading. As the excellent [\"Other Languages have names\"](http://python.net/~goodger/projects/pycon/2007/idiomatic/handout.html#other-languages-have-variables) articles points out in fact, Python variables are more akin to \"tags\" that can be attached to values, rather than boxes where you can put stuff in.\n",
    "\n",
    "Consider this:"
   ]
  },
  {
   "cell_type": "code",
   "execution_count": 82,
   "metadata": {
    "collapsed": false
   },
   "outputs": [
    {
     "name": "stdout",
     "output_type": "stream",
     "text": [
      "1\n"
     ]
    }
   ],
   "source": [
    "myFirstVariable = 1\n",
    "print myFirstVariable\n"
   ]
  },
  {
   "cell_type": "code",
   "execution_count": 83,
   "metadata": {
    "collapsed": false
   },
   "outputs": [
    {
     "name": "stdout",
     "output_type": "stream",
     "text": [
      "1\n"
     ]
    }
   ],
   "source": [
    "mySecondVariable = myFirstVariable\n",
    "print mySecondVariable"
   ]
  },
  {
   "cell_type": "markdown",
   "metadata": {},
   "source": [
    "They have the same value!\n",
    "That's expected as both tags are attached to the same value.\n",
    "\n",
    "But what happens when I change the first variable `myFirstVariable`? Will the second change as well? "
   ]
  },
  {
   "cell_type": "code",
   "execution_count": 84,
   "metadata": {
    "collapsed": false
   },
   "outputs": [
    {
     "name": "stdout",
     "output_type": "stream",
     "text": [
      "2\n",
      "1\n"
     ]
    }
   ],
   "source": [
    "myFirstVariable = 2\n",
    "print myFirstVariable\n",
    "print mySecondVariable\n"
   ]
  },
  {
   "cell_type": "markdown",
   "metadata": {},
   "source": [
    "Oop!\n",
    "the second variable `mySecondVariable` didn't change at all, as it is still attached to the first value. \n",
    "Only `mySecondVariable` has been removed from the first and attached to the second value.\n",
    "\n",
    "As the [Python Programming Wikibook explains](https://en.wikibooks.org/wiki/Python_Programming/Data_Types) when you assing a variable you are just pointing this variable to an object (a value) which is stored somewhere in the memory."
   ]
  },
  {
   "cell_type": "markdown",
   "metadata": {},
   "source": [
    "Always keep in mind that Python variable act as tags. Hence when assigning new values to already *declared* variables (i.e. variables that already exist in your code) you are not overwriting the old values but simply \"moving\" the tag from one value to another.\n",
    "\n",
    "That's why in Python variables have a `name`, a `data-type` and a `value`.\n",
    "\n",
    "|       Name      | Data Type | Value |\n",
    "|:---------------:|:---------:|:-----:|\n",
    "| myFirstVariable | integer   | 1     |"
   ]
  },
  {
   "cell_type": "markdown",
   "metadata": {},
   "source": [
    "Lastly, here's a short list of name-ruling conventions in Python:\n",
    "\n",
    "- names may contain letters and/or numbers\n",
    "- names cannot begin with a number\n",
    "- names may contain an underscore ( _ )\n",
    "- names can be of any length\n",
    "- cannot use Python keywords Python is case-sensitive!! which means that x and X are two different variables\n",
    "\n",
    "As with the indentation issue though is good practice to always refer to [the offical PEP 8 -- Style Guide for Python Code](https://www.python.org/dev/peps/pep-0008/#naming-conventions)\n",
    "\n"
   ]
  },
  {
   "cell_type": "markdown",
   "metadata": {},
   "source": [
    "For more examples on Python varialbes check out also [OpenTechSchool's intro to Python](http://opentechschool.github.io/python-beginners/en/variables.html)"
   ]
  },
  {
   "cell_type": "markdown",
   "metadata": {},
   "source": [
    "### Basic Data-Types \n",
    "\n",
    "#### built-in data types\n",
    "\n",
    "In the last examples we briefely mentioned Python's *Data Types*, which refers to the typology of values that can be stored inside the computers memory. Knowing the data type of an object is crucial since it allows the machine to know what kind of operation can be computed on it.\n",
    "\n",
    "Python has a fixed hieracy of [built-in data types](https://en.wikibooks.org/wiki/Python_Programming/Data_Types):\n",
    "\n",
    "- Numeric types (int, long, float, complex, boolean)\n",
    "- Sequences (str, byte, byte array, list, tuple)\n",
    "- Sets (set, frozen set)\n",
    "- Mappings (dict)\n",
    "\n",
    "Keep in mind though that, at the lowest level of representation inside the machine, they will all be translated anyhow into a binary format (composed of 0's and 1's)."
   ]
  },
  {
   "cell_type": "markdown",
   "metadata": {},
   "source": [
    "#### Strings\n",
    "\n",
    "Strings are simply *sequences of characters* within quotes"
   ]
  },
  {
   "cell_type": "code",
   "execution_count": 88,
   "metadata": {
    "collapsed": true
   },
   "outputs": [],
   "source": [
    "firstString = \"I'm a string of text!\"\n",
    "secondString = \"Me too! *&($£(£_@~{}|?<>$)\"\n",
    "print firstString\n",
    "print secondString"
   ]
  },
  {
   "cell_type": "code",
   "execution_count": null,
   "metadata": {
    "collapsed": true
   },
   "outputs": [],
   "source": [
    "be aware though to use double quotes as a way to prevent errors if a single quote is contained in the character sequence "
   ]
  },
  {
   "cell_type": "code",
   "execution_count": 131,
   "metadata": {
    "collapsed": false
   },
   "outputs": [
    {
     "name": "stdout",
     "output_type": "stream",
     "text": [
      "I'm contained within double quotes. I'll be grand\n"
     ]
    }
   ],
   "source": [
    "print \"I'm contained within double quotes. I'll be grand\"\n"
   ]
  },
  {
   "cell_type": "code",
   "execution_count": 132,
   "metadata": {
    "collapsed": false
   },
   "outputs": [
    {
     "ename": "SyntaxError",
     "evalue": "invalid syntax (<ipython-input-132-d7b5be628e8f>, line 1)",
     "output_type": "error",
     "traceback": [
      "\u001b[1;36m  File \u001b[1;32m\"<ipython-input-132-d7b5be628e8f>\"\u001b[1;36m, line \u001b[1;32m1\u001b[0m\n\u001b[1;33m    print 'I'm sourrounded by single quotes. I'm splitted into different strings resulting in error'\u001b[0m\n\u001b[1;37m             ^\u001b[0m\n\u001b[1;31mSyntaxError\u001b[0m\u001b[1;31m:\u001b[0m invalid syntax\n"
     ]
    }
   ],
   "source": [
    "print 'I'm sourrounded by single quotes. I'm splitted into different strings resulting in error'"
   ]
  },
  {
   "cell_type": "code",
   "execution_count": 134,
   "metadata": {
    "collapsed": false
   },
   "outputs": [
    {
     "name": "stdout",
     "output_type": "stream",
     "text": [
      "But you can escape single quotes using the backslash like so: I'm escaping by single quotes. yay!\n"
     ]
    }
   ],
   "source": [
    "print 'But you can escape single quotes using the backslash like so: I\\'m escaping by single quotes. yay!'"
   ]
  },
  {
   "cell_type": "markdown",
   "metadata": {},
   "source": [
    "Note by the way that is also a string:"
   ]
  },
  {
   "cell_type": "code",
   "execution_count": 124,
   "metadata": {
    "collapsed": false
   },
   "outputs": [],
   "source": [
    "stringOfNumericCharacters = \"2016\" \n",
    "# it's simply a string of numberic characters!"
   ]
  },
  {
   "cell_type": "markdown",
   "metadata": {},
   "source": [
    "And we can easily see that by checking what is the type of a variable using the `type()` function"
   ]
  },
  {
   "cell_type": "code",
   "execution_count": 127,
   "metadata": {
    "collapsed": false
   },
   "outputs": [
    {
     "name": "stdout",
     "output_type": "stream",
     "text": [
      "<type 'str'>\n"
     ]
    }
   ],
   "source": [
    "print type(stringOfNumericCharacters) # this will output the type of stringOfNumericCharacters variable"
   ]
  },
  {
   "cell_type": "markdown",
   "metadata": {},
   "source": [
    "#### Numbers\n",
    "\n",
    "According to the official Python2.7 Docs \n",
    "\n",
    ">There are four distinct numeric types: plain integers, long integers, floating point numbers, and complex numbers. In addition, Booleans are a subtype of plain integers"
   ]
  },
  {
   "cell_type": "markdown",
   "metadata": {},
   "source": [
    "here's some examples:"
   ]
  },
  {
   "cell_type": "code",
   "execution_count": 126,
   "metadata": {
    "collapsed": false
   },
   "outputs": [],
   "source": [
    "integer = 570\n",
    "complexNumber = 1j\n",
    "boolean = True"
   ]
  },
  {
   "cell_type": "markdown",
   "metadata": {},
   "source": [
    "#### mutable vs immutable data types\n",
    "\n",
    "Apart from the basic taxonomy of data types, another important classification can be made distinguishing objects that are *mutable* vs those that are *immutable*. \n",
    "\n",
    "*An object can be defined as immutable if its content cannot be modified after it has been created.*\n",
    "\n",
    "Here's hence a second classification of Python's built-in data types according to this characteristic:\n",
    "\n",
    "| Mutable    | Immutable  |\n",
    "|------------|------------|\n",
    "| byte array | int        | \n",
    "| list       | float      |\n",
    "| set        | long       |\n",
    "| dict       | complex    |\n",
    "|            | str        |\n",
    "|            | bytes      |\n",
    "|            | tuple      |\n",
    "|            | frozen set |\n",
    "\n",
    "While this definition might be a bit abstract, it's quite important to put it down right away, as it completes what we discussed so far on how Python variables can be thought of as \"tags\" rather than \"boxes\".\n",
    "\n",
    "In fact, only mutable objects might change their values \"in place\" (i.e. what's inside the box). Immutable objects will raise an error instead, as the way to change their value is to re-assign the \"tag\" to a differnt value, rather than changing what is in place. \n",
    "\n",
    "Consider the following:"
   ]
  },
  {
   "cell_type": "code",
   "execution_count": 104,
   "metadata": {
    "collapsed": false
   },
   "outputs": [
    {
     "name": "stdout",
     "output_type": "stream",
     "text": [
      "[1, 2, 4]\n",
      "[34, 2, 4]\n"
     ]
    }
   ],
   "source": [
    "# A list is mutable data type, \n",
    "# I can modify in place\n",
    "# the object which the tag \"mutableObject\" is referring to\n",
    "mutable = [1,2,4]\n",
    "print mutable\n",
    "# Now I'll modify the first element \n",
    "mutable[0]= 34\n",
    "print mutable\n",
    "# and the object has been mutated"
   ]
  },
  {
   "cell_type": "code",
   "execution_count": 123,
   "metadata": {
    "collapsed": false
   },
   "outputs": [
    {
     "ename": "TypeError",
     "evalue": "'str' object does not support item assignment",
     "output_type": "error",
     "traceback": [
      "\u001b[1;31m---------------------------------------------------------------------------\u001b[0m",
      "\u001b[1;31mTypeError\u001b[0m                                 Traceback (most recent call last)",
      "\u001b[1;32m<ipython-input-123-b6fcd41b1550>\u001b[0m in \u001b[0;36m<module>\u001b[1;34m()\u001b[0m\n\u001b[0;32m      4\u001b[0m \u001b[1;31m# with the string ' not '\u001b[0m\u001b[1;33m\u001b[0m\u001b[1;33m\u001b[0m\u001b[0m\n\u001b[0;32m      5\u001b[0m \u001b[1;31m# this will result in an error as strings are immutable!!!\u001b[0m\u001b[1;33m\u001b[0m\u001b[1;33m\u001b[0m\u001b[0m\n\u001b[1;32m----> 6\u001b[1;33m \u001b[0mimmutable\u001b[0m\u001b[1;33m[\u001b[0m\u001b[1;36m6\u001b[0m\u001b[1;33m]\u001b[0m \u001b[1;33m=\u001b[0m \u001b[1;34m' not '\u001b[0m\u001b[1;33m\u001b[0m\u001b[0m\n\u001b[0m",
      "\u001b[1;31mTypeError\u001b[0m: 'str' object does not support item assignment"
     ]
    }
   ],
   "source": [
    "# the same is not possible for immutable objects\n",
    "immutable = 'I am immutable'\n",
    "# In the following line I'm trying to substitute the 5th character of the string\n",
    "# with the string ' not '\n",
    "# this will result in an error as strings are immutable!!!\n",
    "immutable[6] = ' not '"
   ]
  },
  {
   "cell_type": "code",
   "execution_count": 117,
   "metadata": {
    "collapsed": false
   },
   "outputs": [
    {
     "name": "stdout",
     "output_type": "stream",
     "text": [
      "I am still an immutable data type, just a different object with the same label\n"
     ]
    }
   ],
   "source": [
    "# instad I will have to resort copying it to a third variable to modify it\n",
    "immutable = immutable[0:4] + ' still an ' + immutable[5:] + ' data type, just a different object with the same label' \n",
    "print immutable"
   ]
  },
  {
   "cell_type": "markdown",
   "metadata": {},
   "source": [
    "In any case, for the moment being let's just focus on 'Strings' (which you've seen in the examples so far) and 'Numbers', and let's leave the more advanced Data-Types for later lessons."
   ]
  },
  {
   "cell_type": "markdown",
   "metadata": {},
   "source": [
    "### Simple operations"
   ]
  },
  {
   "cell_type": "markdown",
   "metadata": {},
   "source": [
    "#### String operations\n",
    "\n",
    "As string are sequences of characters it's easy to *concatenate* them (i.e. to merge them in one)"
   ]
  },
  {
   "cell_type": "code",
   "execution_count": 138,
   "metadata": {
    "collapsed": false
   },
   "outputs": [
    {
     "name": "stdout",
     "output_type": "stream",
     "text": [
      "First sentence Second sentence\n"
     ]
    }
   ],
   "source": [
    "string1 = 'First sentence'\n",
    "string2 = ' Second sentence'\n",
    "print string1 + string2"
   ]
  },
  {
   "cell_type": "code",
   "execution_count": 142,
   "metadata": {
    "collapsed": false
   },
   "outputs": [
    {
     "name": "stdout",
     "output_type": "stream",
     "text": [
      "You can also combine themlike so: First sentence\n"
     ]
    }
   ],
   "source": [
    "print 'You can also combine them'+ 'like so: '+ string1"
   ]
  },
  {
   "cell_type": "markdown",
   "metadata": {},
   "source": [
    "to access values within a string you use the `[] square bracket` operator to *slice* a portion of a string, according to a numeric index.\n",
    "\n",
    "Keep in mind wehn counting the position of a letter within a string that strings indexes start from 0!"
   ]
  },
  {
   "cell_type": "code",
   "execution_count": 143,
   "metadata": {
    "collapsed": false
   },
   "outputs": [
    {
     "name": "stdout",
     "output_type": "stream",
     "text": [
      "I'm printing the first character from the variable shortSentence \n",
      "you can even\n"
     ]
    }
   ],
   "source": [
    "shortSentence = \"I love maps!\"\n",
    "print \"I'm printing the first character from the variable shortSentence\" + shortSentence[0]\n"
   ]
  },
  {
   "cell_type": "markdown",
   "metadata": {},
   "source": [
    "You can even slice an interval using as index two numbers (the initial and final index position), separated by a comma, like so:"
   ]
  },
  {
   "cell_type": "code",
   "execution_count": 144,
   "metadata": {
    "collapsed": false
   },
   "outputs": [
    {
     "name": "stdout",
     "output_type": "stream",
     "text": [
      "Now I'll just print the second word, between the 2nd and the 8th character: love \n"
     ]
    }
   ],
   "source": [
    "print \"Now I'll just print the second word, between the 2nd and the 8th character: \"+ shortSentence[2:7] "
   ]
  },
  {
   "cell_type": "markdown",
   "metadata": {},
   "source": [
    "To print from a certain position onwards simply omit the final index (the revers applies to get all characters *before* a given index)"
   ]
  },
  {
   "cell_type": "code",
   "execution_count": 148,
   "metadata": {
    "collapsed": false
   },
   "outputs": [
    {
     "name": "stdout",
     "output_type": "stream",
     "text": [
      "Now I'll just print the last word starting from the 8th position: maps!\n"
     ]
    }
   ],
   "source": [
    "print \"Now I'll just print the last word starting from the 8th position: \"+ shortSentence[7:] "
   ]
  },
  {
   "cell_type": "markdown",
   "metadata": {},
   "source": [
    "strings have also plenty methods that might prove to be quite handy, for a larger overview checkout [this reference](https://en.wikibooks.org/wiki/Python_Programming/Variables_and_Strings) "
   ]
  },
  {
   "cell_type": "markdown",
   "metadata": {},
   "source": [
    "#### Numeric Operations\n",
    "\n",
    "You can easily use Python to compute simple numerical operations"
   ]
  },
  {
   "cell_type": "code",
   "execution_count": 178,
   "metadata": {
    "collapsed": false
   },
   "outputs": [
    {
     "data": {
      "text/plain": [
       "8"
      ]
     },
     "execution_count": 178,
     "metadata": {},
     "output_type": "execute_result"
    }
   ],
   "source": [
    "1 + 2\n",
    "2 ** 3"
   ]
  },
  {
   "cell_type": "markdown",
   "metadata": {},
   "source": [
    "however pay attention to the remainder, when diving quantities, such as in this case:"
   ]
  },
  {
   "cell_type": "code",
   "execution_count": 179,
   "metadata": {
    "collapsed": false
   },
   "outputs": [
    {
     "data": {
      "text/plain": [
       "2"
      ]
     },
     "execution_count": 179,
     "metadata": {},
     "output_type": "execute_result"
    }
   ],
   "source": [
    "# what about this? \n",
    "5 / 2"
   ]
  },
  {
   "cell_type": "markdown",
   "metadata": {},
   "source": [
    "To get the remainder you need to use the modulo (%) operator. From the [Python Docs](https://docs.python.org/2.7/reference/expressions.html)\n",
    "\n",
    ">The % (modulo) operator yields the remainder from the division of the first argument by the second."
   ]
  },
  {
   "cell_type": "code",
   "execution_count": 174,
   "metadata": {
    "collapsed": false
   },
   "outputs": [
    {
     "name": "stdout",
     "output_type": "stream",
     "text": [
      "this operation will evalute to 1 has there's a reminder\n"
     ]
    },
    {
     "data": {
      "text/plain": [
       "1"
      ]
     },
     "execution_count": 174,
     "metadata": {},
     "output_type": "execute_result"
    }
   ],
   "source": [
    "print \"this operation will evalute to 1 has there's a reminder:\"\n",
    "5%2  "
   ]
  },
  {
   "cell_type": "code",
   "execution_count": 176,
   "metadata": {
    "collapsed": false
   },
   "outputs": [
    {
     "name": "stdout",
     "output_type": "stream",
     "text": [
      "this other operation will instead evalute to 0 has there is no reminder:\n"
     ]
    },
    {
     "data": {
      "text/plain": [
       "2"
      ]
     },
     "execution_count": 176,
     "metadata": {},
     "output_type": "execute_result"
    }
   ],
   "source": [
    "print \"this other operation will instead evalute to 0 has there is no reminder:\"\n",
    "4/2"
   ]
  },
  {
   "cell_type": "markdown",
   "metadata": {},
   "source": [
    "To pass from a numeric type to another you will need to tell Python to convert between the two. This operation is called *casting*. \n",
    "\n",
    "For instance to convert from integer to float:"
   ]
  },
  {
   "cell_type": "code",
   "execution_count": 181,
   "metadata": {
    "collapsed": false
   },
   "outputs": [
    {
     "data": {
      "text/plain": [
       "10.0"
      ]
     },
     "execution_count": 181,
     "metadata": {},
     "output_type": "execute_result"
    }
   ],
   "source": [
    "myInteger = 10\n",
    "\n",
    "float(myInteger)"
   ]
  },
  {
   "cell_type": "markdown",
   "metadata": {},
   "source": [
    "To concatenate strings and nubmers you will do the same casting procedure"
   ]
  },
  {
   "cell_type": "code",
   "execution_count": 184,
   "metadata": {
    "collapsed": false
   },
   "outputs": [
    {
     "name": "stdout",
     "output_type": "stream",
     "text": [
      "This line is a concatenation of a string with an integer which has been cast to string: 10\n"
     ]
    }
   ],
   "source": [
    "print \"This line is a concatenation of a string with an integer which has been cast to string: \" + str(myInteger)"
   ]
  },
  {
   "cell_type": "markdown",
   "metadata": {},
   "source": [
    "If you want to know more about what these features entail for a programming language this is a good starting point: [Static vs Dynamic Typing of programming languages](https://pythonconquerstheuniverse.wordpress.com/2009/10/03/static-vs-dynamic-typing-of-programming-languages/)"
   ]
  },
  {
   "cell_type": "markdown",
   "metadata": {},
   "source": [
    "### Introduction to errors\n"
   ]
  },
  {
   "cell_type": "markdown",
   "metadata": {},
   "source": [
    "As you have already seen from previous outputs, when there's something wrong in the code Python stops its execution and returns and error message.Take for instance one of the earlier examples:"
   ]
  },
  {
   "cell_type": "code",
   "execution_count": 22,
   "metadata": {
    "collapsed": false
   },
   "outputs": [
    {
     "ename": "IndentationError",
     "evalue": "unexpected indent (<ipython-input-22-2528a92580c7>, line 2)",
     "output_type": "error",
     "traceback": [
      "\u001b[1;36m  File \u001b[1;32m\"<ipython-input-22-2528a92580c7>\"\u001b[1;36m, line \u001b[1;32m2\u001b[0m\n\u001b[1;33m    print \"this won't\"\u001b[0m\n\u001b[1;37m    ^\u001b[0m\n\u001b[1;31mIndentationError\u001b[0m\u001b[1;31m:\u001b[0m unexpected indent\n"
     ]
    }
   ],
   "source": [
    "#pay attention to the indentend line afterwards \n",
    "    print \"this won't\"\n"
   ]
  },
  {
   "cell_type": "markdown",
   "metadata": {},
   "source": [
    "Here Python is complaining about an error in the syntax. And he's quite explicit about it too:\n",
    "\n",
    "```python\n",
    " \n",
    " IndentationError: unexpected indent\n",
    " \n",
    "```\n",
    "\n",
    "This message, in almost plain English, warns us about an indentation error. If you read the rest of the message above, Python is also clever enough to point us the line in the code where such error happened.\n",
    "\n",
    "```python\n",
    " \n",
    " File \"<ipython-input-22-2528a92580c7>\", line 2\n",
    "\n",
    "```\n",
    "  \n",
    "\n",
    "So remember to always read the output, and try to understand what Python is telling you. You might learn a lot from these simple messages! "
   ]
  },
  {
   "cell_type": "markdown",
   "metadata": {},
   "source": [
    "### Reserved words"
   ]
  },
  {
   "cell_type": "markdown",
   "metadata": {
    "collapsed": true
   },
   "source": [
    "The last topic of the day is quite straightforward: there is a certain set of worlds that you might not use in Python, as the already have a meaning (have already been defined) for Python itself.\n",
    "\n",
    "If you thus re-assign one of such variables to another value all kinds of unexpected beahviour might happen.\n",
    "\n",
    "[Here's a list](http://pentangle.net/python/handbook/node52.html) of the un-touchable reseverd words."
   ]
  },
  {
   "cell_type": "markdown",
   "metadata": {},
   "source": [
    "### Code (general excercises)\n",
    "\n",
    "\n"
   ]
  },
  {
   "cell_type": "markdown",
   "metadata": {},
   "source": [
    "#### code from scratch\n",
    "    "
   ]
  },
  {
   "cell_type": "code",
   "execution_count": 9,
   "metadata": {
    "collapsed": true
   },
   "outputs": [],
   "source": [
    "# define a variable named 'satellite' with value 'landsat'\n",
    "satellite = 'landsat'"
   ]
  },
  {
   "cell_type": "markdown",
   "metadata": {},
   "source": [
    "#### supported code"
   ]
  },
  {
   "cell_type": "code",
   "execution_count": 7,
   "metadata": {
    "collapsed": false
   },
   "outputs": [
    {
     "ename": "NameError",
     "evalue": "name 'pr_nt' is not defined",
     "output_type": "error",
     "traceback": [
      "\u001b[1;31m---------------------------------------------------------------------------\u001b[0m",
      "\u001b[1;31mNameError\u001b[0m                                 Traceback (most recent call last)",
      "\u001b[1;32m<ipython-input-7-96671c6511c4>\u001b[0m in \u001b[0;36m<module>\u001b[1;34m()\u001b[0m\n\u001b[0;32m      1\u001b[0m \u001b[1;31m# fill up the gaps \"__\"  in the following example to make the code work\u001b[0m\u001b[1;33m\u001b[0m\u001b[1;33m\u001b[0m\u001b[0m\n\u001b[0;32m      2\u001b[0m \u001b[0msatellite\u001b[0m \u001b[1;33m=\u001b[0m \u001b[1;34m'landsat'\u001b[0m\u001b[1;33m\u001b[0m\u001b[0m\n\u001b[1;32m----> 3\u001b[1;33m \u001b[0mpr_nt\u001b[0m\u001b[1;33m(\u001b[0m\u001b[1;34m\"Hello\"\u001b[0m \u001b[1;33m+\u001b[0m \u001b[0msatellite\u001b[0m\u001b[1;33m)\u001b[0m\u001b[1;33m\u001b[0m\u001b[0m\n\u001b[0m",
      "\u001b[1;31mNameError\u001b[0m: name 'pr_nt' is not defined"
     ]
    }
   ],
   "source": [
    "# fill up the gaps \"__\"  in the following example to make the code work\n",
    "satellite = 'landsat'\n",
    "pr_nt(\"Hello\" + satellite)"
   ]
  },
  {
   "cell_type": "markdown",
   "metadata": {},
   "source": [
    "#### broken code"
   ]
  },
  {
   "cell_type": "code",
   "execution_count": 8,
   "metadata": {
    "collapsed": false
   },
   "outputs": [
    {
     "ename": "TypeError",
     "evalue": "cannot concatenate 'str' and 'int' objects",
     "output_type": "error",
     "traceback": [
      "\u001b[1;31m---------------------------------------------------------------------------\u001b[0m",
      "\u001b[1;31mTypeError\u001b[0m                                 Traceback (most recent call last)",
      "\u001b[1;32m<ipython-input-8-2010b3ea846c>\u001b[0m in \u001b[0;36m<module>\u001b[1;34m()\u001b[0m\n\u001b[1;32m----> 1\u001b[1;33m \u001b[1;32mprint\u001b[0m\u001b[1;33m(\u001b[0m\u001b[0msatellite\u001b[0m \u001b[1;33m+\u001b[0m \u001b[1;34m\"Near Infrared (NI) band captures light in the wavelength from\"\u001b[0m\u001b[1;33m+\u001b[0m \u001b[1;36m770\u001b[0m \u001b[1;33m+\u001b[0m\u001b[1;34m\" to \"\u001b[0m\u001b[1;33m+\u001b[0m \u001b[1;36m900\u001b[0m\u001b[1;33m+\u001b[0m\u001b[1;34m\" nanometers.\"\u001b[0m \u001b[1;33m)\u001b[0m\u001b[1;33m\u001b[0m\u001b[0m\n\u001b[0m",
      "\u001b[1;31mTypeError\u001b[0m: cannot concatenate 'str' and 'int' objects"
     ]
    }
   ],
   "source": [
    "# mmh..something's broken in the following line of code. \n",
    "# can you spot the error(s)?\n",
    "# HINT: remember what we said about different data types...\n",
    "print(satellite + \"Near Infrared (NI) band captures light in the wavelength from\"+ 770 +\" to \"+ 900+\" nanometers.\" )\n"
   ]
  },
  {
   "cell_type": "markdown",
   "metadata": {},
   "source": [
    "### Code (Applied Geo-example)"
   ]
  },
  {
   "cell_type": "markdown",
   "metadata": {},
   "source": [
    "Here's two variables containing King's College Longitute/Latitude coordinate position. \n",
    "\n",
    "*Cast* them in the appropriate data format within the variable `KCL_Position`.\n"
   ]
  },
  {
   "cell_type": "code",
   "execution_count": 4,
   "metadata": {
    "collapsed": false
   },
   "outputs": [
    {
     "name": "stdout",
     "output_type": "stream",
     "text": [
      "{'type': 'FeatureCollection', 'features': [{'geometry': {'type': 'Point', 'coordinates': [-0.11596798896789551, 51.51130657591914]}, 'type': 'Feature', 'properties': {'marker-color': '#7e7e7e', 'name': 'KCL', 'marker-symbol': 'building', 'marker-size': 'medium'}}]}\n"
     ]
    }
   ],
   "source": [
    "longitude = -0.11596798896789551\n",
    "latitude = 51.51130657591914\n",
    "\n",
    "KCL_position = {\n",
    "  \"type\": \"FeatureCollection\",\n",
    "  \"features\": [\n",
    "    {\n",
    "      \"type\": \"Feature\",\n",
    "      \"properties\": {\n",
    "        \"marker-color\": \"#7e7e7e\",\n",
    "        \"marker-size\": \"medium\",\n",
    "        \"marker-symbol\": \"building\",\n",
    "        \"name\": \"KCL\"\n",
    "      },\n",
    "      \"geometry\": {\n",
    "        \"type\": \"Point\",\n",
    "        \"coordinates\": [\n",
    "         longitude , \n",
    "          latitude\n",
    "        ]\n",
    "      }\n",
    "    }\n",
    "  ]\n",
    "}\n",
    "\n",
    "print KCL_position"
   ]
  },
  {
   "cell_type": "markdown",
   "metadata": {},
   "source": [
    "### Further references:\n",
    "\n",
    "<!--\n",
    "- [Awesome list of resources](https://github.com/vinta/awesome-python)\n",
    "- [HitchHiker's guide to Python](http://docs.python-guide.org/en/latest/intro/learning/)\n",
    "- [Python for Informatics](http://www.pythonlearn.com/book_007.pdf)\n",
    "- [StackOverflow: In Python, why can a function modify some arguments as perceived by the caller, but not others?](http://stackoverflow.com/questions/575196/in-python-why-can-a-function-modify-some-arguments-as-perceived-by-the-caller)\n",
    "- [Learn Python the Hard Way](http://learnpythonthehardway.org/book/)\n",
    "- [CodeAcademy](https://www.codecademy.com/learn/python)\n",
    "-->\n",
    "- [StackOverflow: Is it possible only to declare a variable without assigning any value in Python?](http://stackoverflow.com/questions/664294/is-it-possible-only-to-declare-a-variable-without-assigning-any-value-in-python)\n",
    "\n",
    "- [Python Docs](https://docs.python.org/2.7/tutorial/introduction.html)\n",
    "\n",
    "- [YouTube Video 1](https://www.youtube.com/watch?v=D48iCw3WWpI)\n",
    "- [YouTube Video 2 (*slightly* longer)](https://www.youtube.com/watch?v=rkx5_MRAV3A)\n",
    "\n"
   ]
  }
 ],
 "metadata": {
  "kernelspec": {
   "display_name": "Python 2",
   "language": "python",
   "name": "python2"
  },
  "language_info": {
   "codemirror_mode": {
    "name": "ipython",
    "version": 2
   },
   "file_extension": ".py",
   "mimetype": "text/x-python",
   "name": "python",
   "nbconvert_exporter": "python",
   "pygments_lexer": "ipython2",
   "version": "2.7.11"
  }
 },
 "nbformat": 4,
 "nbformat_minor": 0
}
