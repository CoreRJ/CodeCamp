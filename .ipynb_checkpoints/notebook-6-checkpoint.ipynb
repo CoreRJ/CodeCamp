{
 "cells": [
  {
   "cell_type": "markdown",
   "metadata": {},
   "source": [
    "# Notebook-6: Loops and Iteration"
   ]
  },
  {
   "cell_type": "markdown",
   "metadata": {},
   "source": [
    "\n",
    "### Lesson Content \n",
    "\n",
    "- While Statement\n",
    "    - While Loop\n",
    "    - Break and Continue\n",
    "    - Loop over a list   \n",
    "- For Loop    \n",
    "- Diving deeper\n",
    "\n",
    "\n",
    "Welcome to the sixth Code Camp notebook! In this lesson we cover the concept of *iteration*, which is basically the idea of *repeating the same set of instructions until a certain condition is met* (i.e. you repeat an action until you hit a given number of times). This sequence of instructions is also called a *loop*.   \n",
    "\n",
    "This is an extremely important and powerful concept, as it allows us to finally *automate* tasks! Remeber that a foundamental feature of programmers is that they are *lazy* (refresh [Larry Wall's *\"Three Virtues\"*](www.threevirtues.com) that we saw in the first notebook!) . The more you can delegate to the machine and avoid repeating boring and repetitive tasks yourself, the better it is!\n",
    "\n",
    "Of course, as the fantastic [Randall Munroe](https://xkcd.com/about/) likes to remind us, reality begs to differ..\n",
    "![xkcd-automation](img/automation.png)\n",
    "\n"
   ]
  },
  {
   "cell_type": "markdown",
   "metadata": {},
   "source": [
    "## WHILE Statement\n",
    "\n",
    "### WHILE Loop\n",
    "\n",
    "Remeber `if` statements? As we saw in notebook-4, when the Python interpreter finds an  `if` statement in your code, it checks if the specified condition evalutes to `True`. If it does it runs the *indented* block following it with the caveat that block of code is only run once.\n",
    "\n",
    "Using the `while` statement instead, as long as the condition evalutes to `True`, the block of code is run again and again.\n",
    "\n",
    "This allows us to finally do some interesting stuff:"
   ]
  },
  {
   "cell_type": "code",
   "execution_count": 31,
   "metadata": {
    "collapsed": false
   },
   "outputs": [
    {
     "name": "stdout",
     "output_type": "stream",
     "text": [
      "The counter is at: 1\n",
      "The counter is at: 2\n",
      "The counter is at: 3\n",
      "The counter is at: 4\n",
      "The counter is at: 5\n",
      "The counter is at: 6\n",
      "The counter is at: 7\n",
      "The counter is at: 8\n",
      "The counter is at: 9\n",
      "The counter is at: 10\n",
      "The while ended. Back to the rest of the code exection\n"
     ]
    }
   ],
   "source": [
    "myVariable = \"The counter is at: \"\n",
    "counter = 1\n",
    "while counter <= 10:\n",
    "    print myVariable + str(counter)\n",
    "    counter += 1\n",
    "    \n",
    "print \"The while ended. Back to the rest of the code exection\"\n"
   ]
  },
  {
   "cell_type": "markdown",
   "metadata": {},
   "source": [
    "If that looks confusing, don't worry! It's perfectly normal as that's your first example of *iteration*. Congrats!\n",
    "\n",
    "Let's take a deeper look:\n",
    "- first of all we defined a variable named `myVariable` with a string of text as value.\n",
    "- Then we defined a variable `counter` and we assigned it the value of 1. \n",
    "- Then we used the `while` statement to check if the value of `counter` was less then 10. \n",
    "- Since that condition evaluated to `True`, we added 1 to `counter` and then printed the value of `myVariable`. \n",
    "- This procedure has been run by Python *until* the `while` statement returned a `False`.\n",
    "- After that Python simply continued to execute the code outside the `while`*block*\n",
    "\n",
    "The fundamental idea is thus: *until this condition hold, repeat the instruction*.\n",
    "\n",
    "A usually confusing step while learning loops, is the fact that the value of `counter` is increasing. Remeber that we are starting the instruction from the beginning of the while *block*. So the first time that we hit it, `counter` has value of 1, but the second...it will be equal to 2, as we increased its value in the while *block* and then jumped back to the beginning of the block. At the beginning of the third iteration it will have thus value of 3, while at its end it will be incremented to 4. And so on...\n",
    "\n",
    "\n",
    "CAVEAT: pay attention to `while` *loops* as they can potentially run forever (as long as the condition they are evaluating is `True`) maxing out your machine's memory.\n",
    "\n",
    "```python\n",
    "# don't run this!\n",
    "# or if you do, save everything first\n",
    "# and then be prepared to stop the code execution manually \n",
    "# (usually by pressing CTRL+D or Cmd+D)\n",
    "# in the terminale/console\n",
    "while True:\n",
    "    print \"Forever Loop! Yeeee!\"\n",
    "```\n",
    "\n",
    "\n"
   ]
  },
  {
   "cell_type": "markdown",
   "metadata": {},
   "source": [
    "#### A challenge for you!"
   ]
  },
  {
   "cell_type": "code",
   "execution_count": 32,
   "metadata": {
    "collapsed": false
   },
   "outputs": [
    {
     "ename": "SyntaxError",
     "evalue": "invalid syntax (<ipython-input-32-7890a1c2975e>, line 5)",
     "output_type": "error",
     "traceback": [
      "\u001b[0;36m  File \u001b[0;32m\"<ipython-input-32-7890a1c2975e>\"\u001b[0;36m, line \u001b[0;32m5\u001b[0m\n\u001b[0;31m    while ??? <+ 10:\u001b[0m\n\u001b[0m          ^\u001b[0m\n\u001b[0;31mSyntaxError\u001b[0m\u001b[0;31m:\u001b[0m invalid syntax\n"
     ]
    }
   ],
   "source": [
    "# Complete the code to run a while loop\n",
    "# that prints only odd numbers \n",
    "otherCounter = 1\n",
    "onlyOddNumbers = \"This is a odd number: \"\n",
    "while ??? <= 10:\n",
    "    print onlyOddNumbers + str(otherCounter)\n",
    "    ??? += 2"
   ]
  },
  {
   "cell_type": "markdown",
   "metadata": {},
   "source": [
    "You can also run `while` loops decrementally until they meet a certain condition"
   ]
  },
  {
   "cell_type": "code",
   "execution_count": 14,
   "metadata": {
    "collapsed": false
   },
   "outputs": [
    {
     "name": "stdout",
     "output_type": "stream",
     "text": [
      "10\n",
      "9\n",
      "8\n",
      "7\n",
      "6\n",
      "5\n",
      "4\n",
      "3\n",
      "2\n",
      "1\n"
     ]
    }
   ],
   "source": [
    "# note that in this example I'm just using the counter\n",
    "# and no other variables\n",
    "myThirdCounter = 10\n",
    "while myThirdCounter != 0:\n",
    "    print myThirdCounter\n",
    "    myThirdCounter -= 1\n",
    "\n"
   ]
  },
  {
   "cell_type": "markdown",
   "metadata": {},
   "source": [
    "### Break and Continue\n",
    "\n",
    "To interrupt prematurely the execution of a while loop you can use the **`break`** statement"
   ]
  },
  {
   "cell_type": "code",
   "execution_count": 15,
   "metadata": {
    "collapsed": false
   },
   "outputs": [
    {
     "name": "stdout",
     "output_type": "stream",
     "text": [
      "1\n",
      "2\n",
      "3\n",
      "4\n",
      "time to escape this madness!\n"
     ]
    }
   ],
   "source": [
    "myFourthCounter = 1\n",
    "while myFourthCounter < 10:\n",
    "    print myFourthCounter\n",
    "    myFourthCounter += 1\n",
    "    if myFourthCounter == 5:\n",
    "        print \"time to escape this madness!\"\n",
    "        break"
   ]
  },
  {
   "cell_type": "markdown",
   "metadata": {},
   "source": [
    "Similarly, to continue the exection of a `while` loop use the **`continue`** statement. It will keep it going no matter what. This allows us to express some pretty powerful concepts. In the following example for instance I'm going to skip all even numbers, and print `WOOT!` if I hit a lucky 7 (or any number divisible by 7). To avoid crashing the Jupyter Notebook I'll `break` out code execution after hitting the 21<sup>st</sup> iteration."
   ]
  },
  {
   "cell_type": "code",
   "execution_count": 3,
   "metadata": {
    "collapsed": false
   },
   "outputs": [
    {
     "name": "stdout",
     "output_type": "stream",
     "text": [
      "A\n"
     ]
    }
   ],
   "source": [
    "# note that from now on I'll use simple names\n",
    "# like i or j\n",
    "# for variables that are only used as counters within loops\n",
    "# this is a stylistic convention to write more concise code\n",
    "\n",
    "i = 0\n",
    "while True:\n",
    "   i = i +1\n",
    "   if i % 2 == 0:\n",
    "      continue\n",
    "   if (i == 7) or (i % 7 == 0):\n",
    "      print \"WOOT!\"\n",
    "   if i == 21:\n",
    "      break\n",
    "   print i"
   ]
  },
  {
   "cell_type": "markdown",
   "metadata": {},
   "source": [
    "#### A challenge for you!"
   ]
  },
  {
   "cell_type": "code",
   "execution_count": 4,
   "metadata": {
    "collapsed": false
   },
   "outputs": [
    {
     "ename": "SyntaxError",
     "evalue": "invalid syntax (<ipython-input-4-bf9efc618009>, line 3)",
     "output_type": "error",
     "traceback": [
      "\u001b[1;36m  File \u001b[1;32m\"<ipython-input-4-bf9efc618009>\"\u001b[1;36m, line \u001b[1;32m3\u001b[0m\n\u001b[1;33m    print shortSentence2[???:???]\u001b[0m\n\u001b[1;37m                         ^\u001b[0m\n\u001b[1;31mSyntaxError\u001b[0m\u001b[1;31m:\u001b[0m invalid syntax\n"
     ]
    }
   ],
   "source": [
    "# replace the ??? in the code below\n",
    "# and use it to print only even numbers under 22\n",
    "i = 0\n",
    "while True:\n",
    "   i = i +1\n",
    "   if i % 2 != 0:\n",
    "      ???  \n",
    "   if i == 22:\n",
    "      ???\n",
    "   print i"
   ]
  },
  {
   "cell_type": "markdown",
   "metadata": {},
   "source": [
    "### Iterate over a list\n",
    "\n",
    "What you just saw with the `while` statement is effectively a way of iterating, i.e. of repeating a certain set of instruction until a given condition is met (in the previous case, until the counter variable remained smaller than the one we were checking it against). \n",
    "\n",
    "And we can use to our advantage not only to print stuff, but also for instance to retrieve all the elements in a list:"
   ]
  },
  {
   "cell_type": "code",
   "execution_count": 4,
   "metadata": {
    "collapsed": false
   },
   "outputs": [
    {
     "name": "stdout",
     "output_type": "stream",
     "text": [
      "lovelace was a british computer scientist\n",
      "turing was a british computer scientist\n"
     ]
    }
   ],
   "source": [
    "# remember our friends, the british computer scientists?\n",
    "britishCompList = [\"babbage\", \"lovelace\", \"turing\"]\n",
    "\n",
    "counter = 1\n",
    "# this is the condition python is going to check against\n",
    "stoppingCondition = len(britishCompList)\n",
    "\n",
    "while counter < stoppingCondition:\n",
    "    print britishCompList[counter] + \" was a british computer scientist\"\n",
    "# don't forget to increment the counter!!!\n",
    "    counter +=1"
   ]
  },
  {
   "cell_type": "markdown",
   "metadata": {},
   "source": [
    "Wow, lot of stuff in that chunk of code, eh? Well, once again, take a deep breath and go through it line by line.\n",
    "\n",
    "The important bits are:\n",
    "- notice that this time we used the `len` of `britishCompList` as stopping condition, instead of specifying ourselves a number.\n",
    "-  we accessed the items in the list with a regular index, like we have done in the past. The difference is that this time the index was the variable `counter`, as at each iteration `counter` assumes the value of 0, 1 ... until the stopping condition is met. This is equivalent to writing :\n",
    "\n",
    "```python\n",
    "print britishCompList[0]  # on the first iteration\n",
    "print britishCompList[1]  # on the second iteration\n",
    "```\n"
   ]
  },
  {
   "cell_type": "markdown",
   "metadata": {},
   "source": [
    "#### A challenge for you!"
   ]
  },
  {
   "cell_type": "markdown",
   "metadata": {},
   "source": [
    "But..wait a second..what about the great Babbage? Why isn't his name displayed? Certainly not because he's not worth to mention! Can you spot the reason why the iteration skipped him? \n",
    "HINT: check (using `print`) the values of `counter` and `britishCompList`. What is the condition we are asking Python to ask if it `True`?"
   ]
  },
  {
   "cell_type": "markdown",
   "metadata": {},
   "source": [
    "#### A challenge for you!"
   ]
  },
  {
   "cell_type": "code",
   "execution_count": 14,
   "metadata": {
    "collapsed": false
   },
   "outputs": [
    {
     "name": "stdout",
     "output_type": "stream",
     "text": [
      "These are geniuses too! Torvald\n",
      "These are geniuses too! Knuth\n",
      "These are geniuses too! Swartz\n"
     ]
    }
   ],
   "source": [
    "# complete the following code\n",
    "counter = ???\n",
    "nonBritishProgrammers = [\"Torvald\", \"Knuth\", \"Swartz\"]\n",
    "stoppingCondition = len(nonBritishProgrammers)\n",
    "\n",
    "while counter < stoppingCondition :\n",
    "    print \"These are geniuses too! \" + nonBritishProgrammers[counter]\n",
    "#  always remember to increment the counter!!!\n",
    "    counter +=1"
   ]
  },
  {
   "cell_type": "markdown",
   "metadata": {},
   "source": [
    "*CAVEAT*: An important condition to remember when iterating over a list is thus that lists are *zero-indexed*! If if you start you counter from 1 you will certainly miss the first item in the list (which has an index of 0). \n",
    "\n",
    "But watch out! There's more:"
   ]
  },
  {
   "cell_type": "markdown",
   "metadata": {},
   "source": [
    "#### A challenge for you!"
   ]
  },
  {
   "cell_type": "code",
   "execution_count": 17,
   "metadata": {
    "collapsed": false
   },
   "outputs": [
    {
     "name": "stdout",
     "output_type": "stream",
     "text": [
      "These are geniuses too! Torvald\n",
      "These are geniuses too! Knuth\n",
      "These are geniuses too! Swartz\n"
     ]
    }
   ],
   "source": [
    "# Can you guess why I needed to \n",
    "# subtract -1 to the list's len?\n",
    "# HINT: Check again the condition. Is the same as before?\n",
    "counter = 0\n",
    "nonBritishProgrammers = [\"Torvald\", \"Knuth\", \"Swartz\"]\n",
    "stoppingCondition = len(nonBritishProgrammers) -1\n",
    "\n",
    "while counter <= stoppingCondition :\n",
    "    print \"These are geniuses too! \" + nonBritishProgrammers[counter]\n",
    "#  always remember to increment the counter!!!\n",
    "    counter +=1"
   ]
  },
  {
   "cell_type": "markdown",
   "metadata": {},
   "source": [
    "## FOR Loop\n",
    "\n",
    "\n",
    "By Jove! What a verbose way of iterating, with all those counters and things. Especially considering how terse Python's language usually is! Surely there must be another way, isn't it?\n",
    "\n",
    "You guessed right, my friend! Let me introduce you to the `for in` statement:"
   ]
  },
  {
   "cell_type": "code",
   "execution_count": 5,
   "metadata": {
    "collapsed": false
   },
   "outputs": [
    {
     "name": "stdout",
     "output_type": "stream",
     "text": [
      "babbage\n",
      "lovelace\n",
      "turing\n"
     ]
    }
   ],
   "source": [
    "for programmer in britishCompList:\n",
    "    print programmer"
   ]
  },
  {
   "cell_type": "markdown",
   "metadata": {},
   "source": [
    "As you can see, the `for in` statement is much more concise: You simply tell Python to repeat a certain instruction (print the item in the previous example) *for AN ITEM in A SEQUENCE*.\n",
    "Python will stop automatically when the sequence is finished, without you having to worry about specifying the stopping condition (like instead you would normally do in `while` loop).\n",
    "\n",
    "Notice also that we didn't have to correctly initialise the counter value!\n",
    "\n",
    "The biggest difference between a `while` and a `for` loop is thus not simply stylistic! But also conceptual.  Let me recap with another example:"
   ]
  },
  {
   "cell_type": "code",
   "execution_count": 2,
   "metadata": {
    "collapsed": false
   },
   "outputs": [
    {
     "name": "stdout",
     "output_type": "stream",
     "text": [
      "Element number 0\n",
      "Element number 1\n",
      "Element number 2\n",
      "Element number 3\n",
      "Element number 4\n"
     ]
    }
   ],
   "source": [
    "# WHILE LOOP\n",
    "whileCounter = 0\n",
    "myList = [0,1,2,3,4]\n",
    "stoppingCondition = len(myList)\n",
    "while whileCounter < stoppingCondition:\n",
    "    print \"Element number\", myList[whileCounter]\n",
    "    whileCounter +=1 "
   ]
  },
  {
   "cell_type": "code",
   "execution_count": 3,
   "metadata": {
    "collapsed": false
   },
   "outputs": [
    {
     "name": "stdout",
     "output_type": "stream",
     "text": [
      "Element number 0\n",
      "Element number 1\n",
      "Element number 2\n",
      "Element number 3\n",
      "Element number 4\n"
     ]
    }
   ],
   "source": [
    "# FOR LOOP\n",
    "for element in myList:\n",
    "     print \"Element number\", element"
   ]
  },
  {
   "cell_type": "markdown",
   "metadata": {},
   "source": [
    "SIDENOTE: See how the value of `myList[whileCounter]` and that of `element` in the two loops are the same? That's precisely because Python is doing the indexing job for you behind the scenes.\n",
    "\n",
    "So, when should you use a `while loop` and when a `for loop`? \n",
    "\n",
    "For more information have a look at this [SO Answer](http://stackoverflow.com/questions/920645/when-to-use-while-or-the-for-in-python) and at this [Reddit thread](https://www.reddit.com/r/learnprogramming/comments/3bqzpf/python_for_loops_vs_while_loops/).\n",
    "\n",
    "Also, here's a video for you:"
   ]
  },
  {
   "cell_type": "code",
   "execution_count": 4,
   "metadata": {
    "collapsed": false
   },
   "outputs": [
    {
     "data": {
      "image/jpeg": "[encoded data removed]",
      "text/html": [
       "\n",
       "        <iframe\n",
       "            width=\"400\"\n",
       "            height=\"300\"\n",
       "            src=\"https://www.youtube.com/embed/9AJ0uoxtdCQ\"\n",
       "            frameborder=\"0\"\n",
       "            allowfullscreen\n",
       "        ></iframe>\n",
       "        "
      ],
      "text/plain": [
       "<IPython.lib.display.YouTubeVideo at 0x103f700d0>"
      ]
     },
     "execution_count": 4,
     "metadata": {},
     "output_type": "execute_result"
    }
   ],
   "source": [
    "from IPython.display import YouTubeVideo\n",
    "# Differences Between For & While Loops (in Python)\n",
    "# Video credit: Barron Stone.\n",
    "YouTubeVideo('9AJ0uoxtdCQ')"
   ]
  },
  {
   "cell_type": "markdown",
   "metadata": {},
   "source": [
    "#### A challenge for you!"
   ]
  },
  {
   "cell_type": "code",
   "execution_count": 23,
   "metadata": {
    "collapsed": false
   },
   "outputs": [
    {
     "ename": "SyntaxError",
     "evalue": "invalid syntax (<ipython-input-23-551c47de1836>, line 4)",
     "output_type": "error",
     "traceback": [
      "\u001b[0;36m  File \u001b[0;32m\"<ipython-input-23-551c47de1836>\"\u001b[0;36m, line \u001b[0;32m4\u001b[0m\n\u001b[0;31m    for ??? in numbers:\u001b[0m\n\u001b[0m        ^\u001b[0m\n\u001b[0;31mSyntaxError\u001b[0m\u001b[0;31m:\u001b[0m invalid syntax\n"
     ]
    }
   ],
   "source": [
    "# print only the odd numbers in the list\n",
    "# HINT: remember the modulo operator?\n",
    "numbers = [1,2,3,4,5,6,7,8,9,10]\n",
    "for ??? in numbers:\n",
    "    if (??? % 2):\n",
    "        print ???"
   ]
  },
  {
   "cell_type": "markdown",
   "metadata": {},
   "source": [
    "Now, as we are *lazy* programmers, let's repeat the above example combining the `range` function with a `for` loop. It will save us the hassle of typing all those numbers!"
   ]
  },
  {
   "cell_type": "code",
   "execution_count": 10,
   "metadata": {
    "collapsed": false
   },
   "outputs": [
    {
     "ename": "IndentationError",
     "evalue": "unexpected indent (<ipython-input-10-661e6aae590d>, line 2)",
     "output_type": "error",
     "traceback": [
      "\u001b[0;36m  File \u001b[0;32m\"<ipython-input-10-661e6aae590d>\"\u001b[0;36m, line \u001b[0;32m2\u001b[0m\n\u001b[0;31m    if (i % 2):\u001b[0m\n\u001b[0m    ^\u001b[0m\n\u001b[0;31mIndentationError\u001b[0m\u001b[0;31m:\u001b[0m unexpected indent\n"
     ]
    }
   ],
   "source": [
    "??? i ??? ???(10):\n",
    "    if (i % 2):\n",
    "        print i"
   ]
  },
  {
   "cell_type": "markdown",
   "metadata": {},
   "source": [
    "Cool, we have seen how to iterate over a list, but what about a dictionary? Well, if you remeber we said that you might think of a dictionary as a kind of list where each element isn't indexed by an integer, but rather by a *unique identifier (key)*.\n",
    "\n",
    "Hence, same as with lists where we iterate over the indexes, with dictionaries we are going to iterate over the keys!"
   ]
  },
  {
   "cell_type": "code",
   "execution_count": 12,
   "metadata": {
    "collapsed": false
   },
   "outputs": [
    {
     "name": "stdout",
     "output_type": "stream",
     "text": [
      "Charles\n",
      "Alan\n",
      "Ada\n"
     ]
    }
   ],
   "source": [
    "dictionary = {\n",
    "    \"Charles\": \"Babbage\",\n",
    "    \"Ada\": \"Lovelace\",\n",
    "    \"Alan\":\"Turing\"\n",
    "}\n",
    "for k in dictionary:\n",
    "    print k"
   ]
  },
  {
   "cell_type": "markdown",
   "metadata": {},
   "source": [
    "*NOTE:* I've used the variable `k`. This is simply an arbitrary word that I've choosen and not some kind of special variable. You could have used `anyRandomNameForWhatMatters`. \n",
    "\n",
    "What if you want to retrieve the values? In that case you should use not only two variables, (the first for the keys and the second for the values) but also invoke the method `iteritems()` on the dictionary, like so:"
   ]
  },
  {
   "cell_type": "code",
   "execution_count": 15,
   "metadata": {
    "collapsed": false
   },
   "outputs": [
    {
     "name": "stdout",
     "output_type": "stream",
     "text": [
      "this is the value: Babbage   for the key: Charles\n",
      "this is the value: Turing   for the key: Alan\n",
      "this is the value: Lovelace   for the key: Ada\n"
     ]
    }
   ],
   "source": [
    "for k,v in dictionary.iteritems():\n",
    "    print \"this is the value: \" + v + \"   for the key: \" + k"
   ]
  },
  {
   "cell_type": "markdown",
   "metadata": {},
   "source": [
    "Why `iteritems()`? There's a good [SO Answer](http://stackoverflow.com/a/3294899), but the reason *very broadly speaking* is that Python's default iteration happens over the *keys* (compared to other languages which might iterate over the *values*). Hence, to get the *values* you need to use this additional method (note that in Python 3 this will be simply `items()`).\n",
    "\n",
    "Anyhow, as always, focus on understanding the logic and leave this more advanced nuances for when you'll be more confident with the language.  "
   ]
  },
  {
   "cell_type": "markdown",
   "metadata": {},
   "source": [
    "#### A Challenge for you!"
   ]
  },
  {
   "cell_type": "code",
   "execution_count": 31,
   "metadata": {
    "collapsed": false
   },
   "outputs": [
    {
     "name": "stdout",
     "output_type": "stream",
     "text": [
      "KCL_marker has a property: #7e7e7e for the key: marker-color\n",
      "KCL_marker has a property: KCL for the key: name\n",
      "KCL_marker has a property:  for the key: marker-symbol\n",
      "KCL_marker has a property: medium for the key: marker-size\n"
     ]
    }
   ],
   "source": [
    "# iterate over the GeoJSON marker\n",
    "# and print its \"properties\"\n",
    "\n",
    "KCL_marker = {\n",
    "      \"type\": \"Feature\",\n",
    "      \"properties\": {\n",
    "        \"marker-color\": \"#7e7e7e\",\n",
    "        \"marker-size\": \"medium\",\n",
    "        \"marker-symbol\": \"\",\n",
    "        \"name\": \"KCL\"\n",
    "      },\n",
    "      \"geometry\": {\n",
    "        \"type\": \"Point\",\n",
    "        \"coordinates\": [\n",
    "          -0.11630058288574219,\n",
    "          51.51135999349117\n",
    "        ]\n",
    "      }\n",
    "    }\n",
    "for k,v in KCL_marker[\"???\"].???():\n",
    "    print \"KCL_marker has a property: \" + v + \" for the key: \" + k\n"
   ]
  },
  {
   "cell_type": "markdown",
   "metadata": {},
   "source": [
    "Very good, now before moving to the next advanced section let's sum up some facts about loops:\n",
    "\n",
    "- you can increment the counter\n",
    "- but also decrement it (effectively counting down!)\n",
    "- the increment doesn't need to be 1 every the time (you can increment by 2, 50, whatever..)\n",
    "- don’t forget to to indent the *block* of code after the colon!\n"
   ]
  },
  {
   "cell_type": "markdown",
   "metadata": {},
   "source": [
    "## Diving deeper\n",
    "\n",
    "Ok, now that we have dipped a toe both in the world of recursion and in that of lists and dictionaries, let's dive deeper!  What if you'd like to access the latitude value of the marker? You can see that it's *nested* deeper in the data structure of `KCL_marker`. \n",
    "\n",
    "Let's try to come up with a plan to get there, starting from the deepest level:\n",
    "\n",
    "- latitude is the first element in the `coordinates` array, hence you can access it with `coordinates[0]` (remeber arrays are zero-indexed)\n",
    "- the `coordinates` array is the value of the `coordinates` key, itslef a value of within the `geometry` dictionary. To access it you would thus do `geometry[\"coordinates\"]`\n",
    "- the `geometry` dictionary is also a key within the KCL_marker dictionary. Same as before, to access it you can use its index like so: `KCL_marker[\"geometry\"]`.\n",
    "\n",
    "Pulling all the steps together:\n",
    "\n",
    "`KCL_marker[\"geometry\"][\"coordinates\"][0]``"
   ]
  },
  {
   "cell_type": "markdown",
   "metadata": {},
   "source": [
    "#### A Challenge for you!"
   ]
  },
  {
   "cell_type": "code",
   "execution_count": 34,
   "metadata": {
    "collapsed": false
   },
   "outputs": [
    {
     "name": "stdout",
     "output_type": "stream",
     "text": [
      "WC2R 2LS\n"
     ]
    }
   ],
   "source": [
    "# Now try yourself \n",
    "# access over the GeoJSON marker\n",
    "# and print its \"properties\"\n",
    "\n",
    "KCL_marker = {\n",
    "      \"type\": \"Feature\",\n",
    "      \"properties\": {\n",
    "        \"marker-color\": \"#7e7e7e\",\n",
    "        \"marker-size\": \"medium\",\n",
    "        \"marker-symbol\": \"\",\n",
    "        \"name\": \"KCL\",\n",
    "        \"address\": [\"Strand\", \"London\", \"WC2R 2LS\", \"United Kingdom\"]\n",
    "      },\n",
    "      \"geometry\": {\n",
    "        \"type\": \"Point\",\n",
    "        \"coordinates\": [\n",
    "          -0.11630058288574219,\n",
    "          51.51135999349117\n",
    "        ]\n",
    "      }\n",
    "    }\n",
    "\n",
    "\n",
    "print \"King's post-code is: \"  KCL_marker[\"properties\"][\"???\"][???]\n",
    "\n"
   ]
  },
  {
   "cell_type": "markdown",
   "metadata": {},
   "source": [
    "Good, the previous excercise served to warm you up! Now let's take a plunge and let's try to print out all the coordinates that compose the King's building polygon.\n",
    "\n",
    "As you can see in the `GeoJSON` format, while a `point` is described by just two coordinates (literally the array for the key `coordinates`, within the `geometry` dictionary), a `Polygon` has much more points. That makes sense as a polygon is simply a sequence of dots connected one after the other (notice also the value for the key `type` changes from `Point` to `Polygon`).\n",
    "\n",
    "So how can we iterate and print out all the longitude values? Let's combine what we have seen so far:"
   ]
  },
  {
   "cell_type": "code",
   "execution_count": 39,
   "metadata": {
    "collapsed": false
   },
   "outputs": [
    {
     "name": "stdout",
     "output_type": "stream",
     "text": [
      "-0.116499066353\n",
      "-0.116214752197\n",
      "-0.115984082222\n",
      "-0.115807056427\n",
      "-0.11558175087\n",
      "-0.115769505501\n",
      "-0.115624666214\n",
      "-0.115941166878\n",
      "-0.116499066353\n"
     ]
    }
   ],
   "source": [
    "# Let's iterate over the GeoJSON\n",
    "# and print the longitude values\n",
    "\n",
    "KCL_polygon = {\n",
    "  \"type\": \"FeatureCollection\",\n",
    "  \"features\": [\n",
    "    {\n",
    "      \"type\": \"Feature\",\n",
    "      \"properties\": {\n",
    "        \"stroke\": \"#555555\",\n",
    "        \"stroke-width\": 2,\n",
    "        \"stroke-opacity\": 1,\n",
    "        \"fill\": \"#555555\",\n",
    "        \"fill-opacity\": 0.5,\n",
    "        \"name\": \"King's Building\"\n",
    "      },\n",
    "      \"geometry\": {\n",
    "        \"type\": \"Polygon\",\n",
    "        \"coordinates\": [\n",
    "          [\n",
    "            [\n",
    "              -0.11649906635284424,\n",
    "              51.51180402463422\n",
    "            ],\n",
    "            [\n",
    "              -0.11621475219726562,\n",
    "              51.51186411874213\n",
    "            ],\n",
    "            [\n",
    "              -0.11598408222198486,\n",
    "              51.51150689149124\n",
    "            ],\n",
    "            [\n",
    "              -0.11580705642700194,\n",
    "              51.51158367889365\n",
    "            ],\n",
    "            [\n",
    "              -0.11558175086975096,\n",
    "              51.5112564968885\n",
    "            ],\n",
    "            [\n",
    "              -0.11576950550079346,\n",
    "              51.51121977223106\n",
    "            ],\n",
    "            [\n",
    "              -0.11562466621398924,\n",
    "              51.51101277815347\n",
    "            ],\n",
    "            [\n",
    "              -0.11594116687774658,\n",
    "              51.51093598978878\n",
    "            ],\n",
    "            [\n",
    "              -0.11649906635284424,\n",
    "              51.51180402463422\n",
    "            ]\n",
    "          ]\n",
    "        ]\n",
    "      }\n",
    "    }\n",
    "  ]\n",
    "}\n",
    "for point in KCL_polygon[\"features\"][0][\"geometry\"][\"coordinates\"][0]:\n",
    "    print point[0]"
   ]
  },
  {
   "cell_type": "markdown",
   "metadata": {},
   "source": [
    "Now that's obviously a long and error-prone way to access some values, but it's mainly to illustrate the point."
   ]
  },
  {
   "cell_type": "markdown",
   "metadata": {},
   "source": [
    "#### A challenge for you!\n",
    "Now your turn: try to print out all the names of the universities in the variable `london_universities`. I'll give you some *boilerplate code* to get you started."
   ]
  },
  {
   "cell_type": "code",
   "execution_count": 48,
   "metadata": {
    "collapsed": false
   },
   "outputs": [
    {
     "name": "stdout",
     "output_type": "stream",
     "text": [
      "KCL\n",
      "LSE\n",
      "SOAS\n",
      "UCL\n",
      "Imperial College\n"
     ]
    }
   ],
   "source": [
    "# replace the ???s\n",
    "# to complete the code\n",
    "\n",
    "london_universities = {\n",
    "  \"type\": \"FeatureCollection\",\n",
    "  \"features\": [\n",
    "    {\n",
    "      \"type\": \"Feature\",\n",
    "      \"properties\": {\n",
    "        \"marker-color\": \"#7e7e7e\",\n",
    "        \"marker-size\": \"medium\",\n",
    "        \"marker-symbol\": \"star\",\n",
    "        \"name\": \"KCL\"\n",
    "      },\n",
    "      \"geometry\": {\n",
    "        \"type\": \"Point\",\n",
    "        \"coordinates\": [\n",
    "          -0.11630058288574219,\n",
    "          51.51135999349117\n",
    "        ]\n",
    "      }\n",
    "    },\n",
    "    {\n",
    "      \"type\": \"Feature\",\n",
    "      \"properties\": {\n",
    "        \"marker-color\": \"#7e7e7e\",\n",
    "        \"marker-size\": \"medium\",\n",
    "        \"marker-symbol\": \"circle\",\n",
    "        \"name\": \"LSE\"\n",
    "      },\n",
    "      \"geometry\": {\n",
    "        \"type\": \"Point\",\n",
    "        \"coordinates\": [\n",
    "          -0.11677265167236328,\n",
    "          51.514204388731194\n",
    "        ]\n",
    "      }\n",
    "    },\n",
    "    {\n",
    "      \"type\": \"Feature\",\n",
    "      \"properties\": {\n",
    "        \"marker-color\": \"#7e7e7e\",\n",
    "        \"marker-size\": \"medium\",\n",
    "        \"marker-symbol\": \"cross\",\n",
    "        \"name\": \"SOAS\"\n",
    "      },\n",
    "      \"geometry\": {\n",
    "        \"type\": \"Point\",\n",
    "        \"coordinates\": [\n",
    "          -0.1288318634033203,\n",
    "          51.52253624266966\n",
    "        ]\n",
    "      }\n",
    "    },\n",
    "    {\n",
    "      \"type\": \"Feature\",\n",
    "      \"properties\": {\n",
    "        \"marker-color\": \"#7e7e7e\",\n",
    "        \"marker-size\": \"medium\",\n",
    "        \"marker-symbol\": \"triangle\",\n",
    "        \"name\": \"UCL\"\n",
    "      },\n",
    "      \"geometry\": {\n",
    "        \"type\": \"Point\",\n",
    "        \"coordinates\": [\n",
    "          -0.13365983963012695,\n",
    "          51.52472577186193\n",
    "        ]\n",
    "      }\n",
    "    },\n",
    "    {\n",
    "      \"type\": \"Feature\",\n",
    "      \"properties\": {\n",
    "        \"marker-color\": \"#7e7e7e\",\n",
    "        \"marker-size\": \"medium\",\n",
    "        \"marker-symbol\": \"generic polyhedron\",\n",
    "        \"name\": \"Imperial College\"\n",
    "      },\n",
    "      \"geometry\": {\n",
    "        \"type\": \"Point\",\n",
    "        \"coordinates\": [\n",
    "          -0.17681121826171872,\n",
    "          51.49864484479821\n",
    "        ]\n",
    "      }\n",
    "    }\n",
    "  ]\n",
    "}\n",
    "\n",
    "for uni in london_universities[\"???\"]:\n",
    "    print uni[\"???\"][\"name\"]"
   ]
  },
  {
   "cell_type": "markdown",
   "metadata": {},
   "source": [
    "Instead of printing all time, we can also do something more interesting, like some the values we so diffuculty accessed in a new variable:"
   ]
  },
  {
   "cell_type": "code",
   "execution_count": 49,
   "metadata": {
    "collapsed": false
   },
   "outputs": [
    {
     "name": "stdout",
     "output_type": "stream",
     "text": [
      "['KCL', 'LSE', 'SOAS', 'UCL', 'Imperial College']\n"
     ]
    }
   ],
   "source": [
    "# declare a new empty list\n",
    "uni_names = []\n",
    "\n",
    "# let's iterate and get those names! \n",
    "for uni in london_universities[\"features\"]:\n",
    "#     remeber our friend append()?\n",
    "    uni_names.append(uni[\"properties\"][\"name\"])\n",
    "\n",
    "# out of the for loop block\n",
    "# let's print the list\n",
    "print uni_names\n",
    "    "
   ]
  },
  {
   "cell_type": "markdown",
   "metadata": {},
   "source": [
    "#### A challenge for you!"
   ]
  },
  {
   "cell_type": "code",
   "execution_count": null,
   "metadata": {
    "collapsed": true
   },
   "outputs": [],
   "source": [
    "# similarly to the above example\n",
    "# try to save a in a new list\n",
    "# the universities marker symbols\n",
    "\n",
    "uni_symbols = ???\n",
    "for uni in london_universities[\"features\"]:\n",
    "    ???.???(uni[\"properties\"][\"???\"])\n"
   ]
  },
  {
   "cell_type": "markdown",
   "metadata": {},
   "source": [
    "# Code (Applied Geo-example)\n",
    "\n",
    "Ok, if you made it this far you are definitely on the right track to became an awesome geocomp'er!\n",
    "\n",
    "The geo-excercise I'll give you this time is a real-world problem that you might face one day in your career as geospatial professionals.\n",
    "\n",
    "A colleague of yours used a GPS to survey at regular intervals the dispersion of pollutants in a patch of terrain. Unfortunately, after a good start..he forgot to record all the remaining points! \n",
    "\n",
    "But that's not a terrible problem, as the transect has a perfect West-East orientation and direction, and all the points are spaced by a the same value dX of 0.03 degrees longitude, i.e.:\n",
    "\n",
    "(0.0102, 51.592)-----(X+dX,Y)-----(X+2dX,Y)-----(X+3dX,Y)--->\n",
    "      \n",
    "Using what we've seen so far, try to create a `GeoJSON featureCollection` of points. To give you a head start, I've provided some *scaffolding*.\n",
    "\n",
    "HINT: Being the skilled geographer that you are, you immediately realise that actually you've got all the coordinates that you need, even for the missing points (i.e. the latitude values will remain constant..)"
   ]
  },
  {
   "cell_type": "code",
   "execution_count": 53,
   "metadata": {
    "collapsed": false
   },
   "outputs": [
    {
     "name": "stdout",
     "output_type": "stream",
     "text": [
      "{'type': 'FeatureCollection', 'features': [{'geometry': {'type': 'Point', 'coordinates': [0.01, 51.592]}, 'type': 'Feature', 'properties': {}}, [{'geometry': {'type': 'Point', 'coordinates': [0.04, 51.592]}, 'type': 'Feature', 'properties': {}}, {'geometry': {'type': 'Point', 'coordinates': [0.06999999999999999, 51.592]}, 'type': 'Feature', 'properties': {}}, {'geometry': {'type': 'Point', 'coordinates': [0.09999999999999999, 51.592]}, 'type': 'Feature', 'properties': {}}]]}\n"
     ]
    }
   ],
   "source": [
    "# define a new featureCollection\n",
    "# it's simply a dictionary\n",
    "# we are going to add new point features (dictionaries as well)\n",
    "# in its features property (which is a list, so we'll have to append them )\n",
    "transect = {\n",
    "  \"type\": \"FeatureCollection\",\n",
    "  \"features\": [\n",
    "    {\n",
    "      \"type\": \"Feature\",\n",
    "      \"properties\": {},\n",
    "      \"geometry\": {\n",
    "        \"type\": \"Point\",\n",
    "        \"coordinates\": [\n",
    "          0.0100,\n",
    "          51.592\n",
    "        ]\n",
    "      }\n",
    "    }\n",
    "# -------------------------------------------------------------\n",
    "#         here is where the remaining three points have to go\n",
    "# -------------------------------------------------------------\n",
    "  ]\n",
    "}\n",
    "\n",
    "# initial coordinate list\n",
    "initial_coordinates = [0.0100, 51.592]\n",
    "# dX delta \n",
    "gap = 0.03\n",
    "# new empty list where I'm going to put all the new dictionaries \n",
    "# a.k.a. all the new points\n",
    "three_new_points = []\n",
    "\n",
    "\n",
    "for i in range(3):\n",
    "#   define a new point \n",
    "    new_point = {\n",
    "      \"type\": \"Feature\",\n",
    "      \"properties\": {},\n",
    "      \"geometry\": {\n",
    "        \"type\": \"Point\",\n",
    "        \"coordinates\": []\n",
    "\n",
    "      }\n",
    "    }\n",
    "# create a new list with the updated coordinates\n",
    "    new_coordinates = [???[0] + gap, initial_coordinates[1]]\n",
    "# assign the new coordinates to the coordinates key\n",
    "# in the new point dictionary\n",
    "    new_point[\"geometry\"][\"coordinates\"] = new_coordinates\n",
    "# append the new point dictionary to the list of new points\n",
    "    three_new_points.append(???)\n",
    "# increment the longitude\n",
    "    gap += 0.03\n",
    "\n",
    "\n",
    "# out of the For Loop\n",
    "# append the list with all the three new points\n",
    "# to the features list within the transect dictionary\n",
    "transect[\"features\"].append(???)\n",
    "print transect"
   ]
  },
  {
   "cell_type": "markdown",
   "metadata": {
    "collapsed": true
   },
   "source": [
    "**Congratulations on finishing your sixth notebook!**"
   ]
  },
  {
   "cell_type": "markdown",
   "metadata": {},
   "source": [
    "\n",
    "### Further references:\n",
    "\n",
    "General list or resources\n",
    "- [Awesome list of resources](https://github.com/vinta/awesome-python)\n",
    "- [Python Docs](https://docs.python.org/2.7/tutorial/introduction.html)\n",
    "- [HitchHiker's guide to Python](http://docs.python-guide.org/en/latest/intro/learning/)\n",
    "- [Python for Informatics](http://www.pythonlearn.com/book_007.pdf)\n",
    "- [Learn Python the Hard Way - Lists](http://learnpythonthehardway.org/book/ex32.html)\n",
    "- [Learn Python the Hard Way - Dictionaries](http://learnpythonthehardway.org/book/ex39.html)\n",
    "- [CodeAcademy](https://www.codecademy.com/courses/python-beginner-en-pwmb1/0/1)\n",
    "\n"
   ]
  }
 ],
 "metadata": {
  "anaconda-cloud": {},
  "kernelspec": {
   "display_name": "Python [Root]",
   "language": "python",
   "name": "Python [Root]"
  },
  "language_info": {
   "codemirror_mode": {
    "name": "ipython",
    "version": 2
   },
   "file_extension": ".py",
   "mimetype": "text/x-python",
   "name": "python",
   "nbconvert_exporter": "python",
   "pygments_lexer": "ipython2",
   "version": "2.7.12"
  }
 },
 "nbformat": 4,
 "nbformat_minor": 0
}
