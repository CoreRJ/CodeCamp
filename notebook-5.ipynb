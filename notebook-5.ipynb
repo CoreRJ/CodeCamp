{
 "cells": [
  {
   "cell_type": "markdown",
   "metadata": {},
   "source": [
    "# Notebook-5: Lists and Dictionaries"
   ]
  },
  {
   "cell_type": "markdown",
   "metadata": {},
   "source": [
    "### Lesson Content \n",
    "\n",
    "Welcome to the fifth Code Camp notebook! In this lesson we're going to explore two, more advanced *data types*. In previous weeks we looked at numeric (*integers* and *floats*) and textual (*strings*) data, but it's probably been quite difficult to imagine how you'd assemble these simple data into something useful. The new data types (lists and dictionaries) will _begin_ to show you how that can happen, and they will allow you to 'express' much more complex concepts with ease.\n",
    "\n",
    "### What's the Difference?\n",
    "\n",
    "Up until now, our variables have only held _one_ thing: a number, or a sequence of characters in a string. In other words, `myNumber = 5` or `myString = \"Hello world!\"`. With lists and dictionaries we can store _multiple_ things – much as you would with a _real_ dictionary (which holds the definitions of lots of words) or a _real_ list (which stores, for instance, the things that you need to get done today).\n",
    "\n",
    "In fact, the simple explanations in parentheses above encompass the main difference between lists and dictionaries:\n",
    "- A _list_ is simply an *ordered* collection of 'items' (numbers, strings, etc.). You can ask for the first item in a list, the 3rd, or the 1,000th, it doesn't really matter because your list has an order and it keeps that order.\n",
    "- A _dictionary_ is an *unordered* collection of 'items' (numbers, strings, etc.). You access items in a dictionary in a similar way to how you access a real dictionary: you have a 'key' (i.e. the word for which you want the definition) and you use this to look up the 'value' (i.e. the definition of the word).\n",
    "\n",
    "There's obviously a lot more to lists and dictionaries than this, but it's a good starting point: lists = ordered, dictionaries = unordered.\n",
    "\n",
    "### In this Notebook\n",
    "\n",
    "- Lists\n",
    "    - Indexing & Slicing\n",
    "    - List operations\n",
    "        - Addition and Mulitplication\n",
    "        - You're (not) in the list!\n",
    "    - List functions\n",
    "        - insert\n",
    "        - append\n",
    "        - index\n",
    "        - len()\n",
    "        - range()\n",
    "- Dictionaries\n",
    "    - Dictionaries Methods"
   ]
  },
  {
   "cell_type": "markdown",
   "metadata": {},
   "source": [
    "# Lists\n",
    "----\n",
    "\n",
    "So a *list* is an ordered collection of items that we access by using a position. So the first items in a list is always the first item in the list, unless we change it in some way. Because lists are a different data-type, we create and use them differently from the simple variables we've seen before. You can always spot a list because it a series of items separated by commas and grouped together between a pair of square brackets ( *[...]* ).\n",
    "\n",
    "This is a list of 4 items assigned to a variable called `myList`:"
   ]
  },
  {
   "cell_type": "code",
   "execution_count": 4,
   "metadata": {
    "collapsed": false
   },
   "outputs": [
    {
     "name": "stdout",
     "output_type": "stream",
     "text": [
      "[1, 2, 4, 5]\n"
     ]
    }
   ],
   "source": [
    "myList = [1,2,4,5]\n",
    "print myList"
   ]
  },
  {
   "cell_type": "markdown",
   "metadata": {},
   "source": [
    "Lists are pretty versatile: they don't really care what kind of items you ask them to store. So you can use a list to hold elements from all the other data types that we have seen so far! Again, we assign the new list to a variable and then print it out on the next line so that you can see the `myList` 'holds' all of these different types of data."
   ]
  },
  {
   "cell_type": "code",
   "execution_count": 5,
   "metadata": {
    "collapsed": false
   },
   "outputs": [
    {
     "name": "stdout",
     "output_type": "stream",
     "text": [
      "['hi I am', 2312, 'mixing', 6.6, 90, 'strings, integers and floats']\n"
     ]
    }
   ],
   "source": [
    "myList = ['hi I am', 2312, 'mixing', 6.6, 90, 'strings, integers and floats']\n",
    "print myList"
   ]
  },
  {
   "cell_type": "markdown",
   "metadata": {},
   "source": [
    "We don't want to get too technical here, but it's important to note one thing: the reason that `myList` can hold all of those different types of data is that it still just one thing – a list – and not six things (`'hi I am', 2312, 'mixing', 6.6, 90, 'strings, integers and floats'`). Got it? It's like the difference between a person and a crowd: a crowd is one thing that holds many people inside it...\n",
    "\n",
    "## Indexing\n",
    "\n",
    "To access an element in a list you use an **index**. This is a new and important concept (and it's a term that we're going to use a _lot_ in the future), so try to really get this term into your head before moving forward in the notebook.\n",
    "\n",
    "### Accessing Elements in a List using Indexes\n",
    "\n",
    "The index is just the location of the item in the list that you want to access. So let's say that we want to fetch the second item, we access it via the *index notation* like so:"
   ]
  },
  {
   "cell_type": "code",
   "execution_count": 6,
   "metadata": {
    "collapsed": false
   },
   "outputs": [
    {
     "name": "stdout",
     "output_type": "stream",
     "text": [
      "2312\n"
     ]
    }
   ],
   "source": [
    "myList = ['hi', 2312, 'mixing', 6.6, 90, 'strings, integers and floats' ]\n",
    "secondElement =  myList[1]\n",
    "print secondElement"
   ]
  },
  {
   "cell_type": "markdown",
   "metadata": {},
   "source": [
    "See what has happened there? We have:\n",
    "\n",
    "1. Assigned a list with 6 elements to the the variable `myList`.\n",
    "2. Accessed the second element by writing that element's index between a pair of square brackets (next to the list's name). \n",
    "3. Assinged the second element to another variable called `secondElement`.\n",
    "4. Told Python to `print` the value of this new variable.\n",
    "\n",
    "Wait a sec – didn't we say *second* element? Why then the index is 1?\n",
    "\n",
    "### Zero-Indexing\n",
    "\n",
    "Good observation! That's because a list's indexes are *zero-based*: this is a fancy way to say that the count starts from 0 instead that from 1. So the first element has index 0, and the last element has index _n-1_ (i.e. the count of the number of items in the list, minus one).\n",
    "\n",
    "To recap:"
   ]
  },
  {
   "cell_type": "code",
   "execution_count": 8,
   "metadata": {
    "collapsed": false
   },
   "outputs": [
    {
     "name": "stdout",
     "output_type": "stream",
     "text": [
      "The first element is: first\n",
      "The third element is: third\n"
     ]
    }
   ],
   "source": [
    "myNewList = ['first', 'second', 'third']\n",
    "print \"The first element is: \" + myNewList[0]\n",
    "print \"The third element is: \" + myNewList[2]"
   ]
  },
  {
   "cell_type": "markdown",
   "metadata": {},
   "source": [
    "### Negative Indexing\n",
    "\n",
    "Since programmers are lazy, they also have a short-cut for accessing the _end_ of a list. Since positive numbers count from the start of a list, negative numbers count from the end:"
   ]
  },
  {
   "cell_type": "code",
   "execution_count": 10,
   "metadata": {
    "collapsed": false
   },
   "outputs": [
    {
     "name": "stdout",
     "output_type": "stream",
     "text": [
      "third\n",
      "second\n"
     ]
    }
   ],
   "source": [
    "print myNewList[-1]\n",
    "print myNewList[-2]"
   ]
  },
  {
   "cell_type": "markdown",
   "metadata": {},
   "source": [
    "You can't do `myNewList[-0]` because that's the _same_ as `myNewList[0]`, which is the first item in the list. You can also think of it this way: the last item in the list is at _n-1_ (where _n_ is the number of items in the list), so `...[-1]` is a sensible way to access the last item."
   ]
  },
  {
   "cell_type": "markdown",
   "metadata": {},
   "source": [
    "#### A challenge for you!"
   ]
  },
  {
   "cell_type": "code",
   "execution_count": 7,
   "metadata": {
    "collapsed": false
   },
   "outputs": [
    {
     "ename": "SyntaxError",
     "evalue": "invalid syntax (<ipython-input-7-5ee299ed6e5f>, line 2)",
     "output_type": "error",
     "traceback": [
      "\u001b[0;36m  File \u001b[0;32m\"<ipython-input-7-5ee299ed6e5f>\"\u001b[0;36m, line \u001b[0;32m2\u001b[0m\n\u001b[0;31m    print \"The second element is :\" + myNewList[???]\u001b[0m\n\u001b[0m                                                ^\u001b[0m\n\u001b[0;31mSyntaxError\u001b[0m\u001b[0;31m:\u001b[0m invalid syntax\n"
     ]
    }
   ],
   "source": [
    "# print the 'second' element in the list\n",
    "print \"The second element is :\" + myNewList[???]"
   ]
  },
  {
   "cell_type": "markdown",
   "metadata": {},
   "source": [
    "### Index Out of Range\n",
    "\n",
    "What happens when you try to access an element that doesn't exist? \n",
    "\n",
    "We know that `myList` has 3 elements, so what if we try to access the 200th element in the list? In that case Python, as usual, will inform us of the problem using an *error message* pointing us to the faulty line of code:"
   ]
  },
  {
   "cell_type": "code",
   "execution_count": 20,
   "metadata": {
    "collapsed": false
   },
   "outputs": [
    {
     "ename": "IndexError",
     "evalue": "list index out of range",
     "output_type": "error",
     "traceback": [
      "\u001b[0;31m---------------------------------------------------------------------------\u001b[0m",
      "\u001b[0;31mIndexError\u001b[0m                                Traceback (most recent call last)",
      "\u001b[0;32m<ipython-input-20-777fadaac723>\u001b[0m in \u001b[0;36m<module>\u001b[0;34m()\u001b[0m\n\u001b[0;32m----> 1\u001b[0;31m \u001b[0;32mprint\u001b[0m \u001b[0mmyNewList\u001b[0m\u001b[0;34m[\u001b[0m\u001b[0;36m200\u001b[0m\u001b[0;34m]\u001b[0m\u001b[0;34m\u001b[0m\u001b[0m\n\u001b[0m",
      "\u001b[0;31mIndexError\u001b[0m: list index out of range"
     ]
    }
   ],
   "source": [
    "print myNewList[200]"
   ]
  },
  {
   "cell_type": "markdown",
   "metadata": {},
   "source": [
    "#### A challenge for you!"
   ]
  },
  {
   "cell_type": "markdown",
   "metadata": {},
   "source": [
    "Do you remember the past lesson on *syntax errors* and *exceptions*? What is the error message displayed in the code above? Is it an *exception* or something's wrong with the *syntax*? Can you find the explanation for what's going in the [Official Documentation](https://www.google.ie/url?sa=t&rct=j&q=&esrc=s&source=web&cd=3&ved=0ahUKEwiN3s-0qr7OAhVGIcAKHYBLAE4QFggoMAI&url=https%3A%2F%2Fdocs.python.org%2F2%2Ftutorial%2Ferrors.html&usg=AFQjCNG6q1juN8ZVXOEqOYWxE18Cv5X_qw&sig2=o92WLjkV1PNNfgpW1w9n0g&cad=rja)? "
   ]
  },
  {
   "cell_type": "markdown",
   "metadata": {},
   "source": [
    "## A String is a List?\n",
    "\n",
    "Even if you didn't realise it, you have already been working with lists because *strings* are (basically) lists! Think about it this way: strings are an ordered sequence of characters (because 'hello' and 'olhel' are very different!) and it turns out that characters in a string can be accessed the same way we'd access a generic list."
   ]
  },
  {
   "cell_type": "code",
   "execution_count": 11,
   "metadata": {
    "collapsed": false
   },
   "outputs": [
    {
     "name": "stdout",
     "output_type": "stream",
     "text": [
      "A\n",
      "C\n"
     ]
    }
   ],
   "source": [
    "myString = \"ABC\"\n",
    "print myString[0]\n",
    "print myString[-1]"
   ]
  },
  {
   "cell_type": "markdown",
   "metadata": {},
   "source": [
    "## Slicing\n",
    "\n",
    "If you want to access more than one item at a time, then you can specify a _range_ using two indexing numbers instead of just one. If one number pulls out one element of the list, then it is stands to reason that using two numbers gives us... what? \n",
    "\n",
    "The start and end of a _group_ of items. This operation is called *list slicing*, and keep in mind that indexes start from 0!\n",
    "\n",
    "_Note_: remember too that the error above when we tried to get the 200th element was _index out of range_. So 'range' is how Python talks about more than one list element."
   ]
  },
  {
   "cell_type": "code",
   "execution_count": 12,
   "metadata": {
    "collapsed": false
   },
   "outputs": [
    {
     "name": "stdout",
     "output_type": "stream",
     "text": [
      "THIS \n"
     ]
    }
   ],
   "source": [
    "shortSentence = \"Now I'll just print THIS word, between the 20th and the 25th character: \"\n",
    "print shortSentence[20:25] "
   ]
  },
  {
   "cell_type": "markdown",
   "metadata": {},
   "source": [
    "#### A challenge for you!"
   ]
  },
  {
   "cell_type": "code",
   "execution_count": 13,
   "metadata": {
    "collapsed": false
   },
   "outputs": [
    {
     "ename": "SyntaxError",
     "evalue": "invalid syntax (<ipython-input-13-bf9efc618009>, line 3)",
     "output_type": "error",
     "traceback": [
      "\u001b[0;36m  File \u001b[0;32m\"<ipython-input-13-bf9efc618009>\"\u001b[0;36m, line \u001b[0;32m3\u001b[0m\n\u001b[0;31m    print shortSentence2[???:???]\u001b[0m\n\u001b[0m                         ^\u001b[0m\n\u001b[0;31mSyntaxError\u001b[0m\u001b[0;31m:\u001b[0m invalid syntax\n"
     ]
    }
   ],
   "source": [
    "# print from the second to the fourth (included) character in the following string\n",
    "shortSentence2 = \"A12B34c7.0\"\n",
    "print shortSentence2[???:???] "
   ]
  },
  {
   "cell_type": "markdown",
   "metadata": {},
   "source": [
    "To print the entirety of a list from a starting position onwards, just skip the final index:"
   ]
  },
  {
   "cell_type": "code",
   "execution_count": 14,
   "metadata": {
    "collapsed": false
   },
   "outputs": [
    {
     "name": "stdout",
     "output_type": "stream",
     "text": [
      "Starting from the 17th position:  HERE onwards\n"
     ]
    }
   ],
   "source": [
    "stringToPrint = \"I will print from HERE onwards\"\n",
    "print \"Starting from the 17th position: \" + stringToPrint[17:] "
   ]
  },
  {
   "cell_type": "markdown",
   "metadata": {},
   "source": [
    "Notice that there are _two_ spaces between \"position:\" and \"HERE\"? That's because the 17th character is a space. Let's make it a little more obvious:"
   ]
  },
  {
   "cell_type": "code",
   "execution_count": 15,
   "metadata": {
    "collapsed": false
   },
   "outputs": [
    {
     "name": "stdout",
     "output_type": "stream",
     "text": [
      "Starting from the 17th position: ' HERE onwards'\n"
     ]
    }
   ],
   "source": [
    "print \"Starting from the 17th position: '\" + stringToPrint[17:] + \"'\""
   ]
  },
  {
   "cell_type": "markdown",
   "metadata": {},
   "source": [
    "Got it?\n",
    "\n",
    "#### A challenge for you!\n",
    "\n",
    "Now, combining what we've seen above, how do you think you would print everything _up to the 8th character_ (which is the space between \"HERE\" and \"onwards\")?\n",
    "\n",
    "You'll need to combine:\n",
    "1. Negative indexing\n",
    "2. List slicing\n",
    "\n",
    "There are two ways to do it, one way uses only one number, the other uses two. Why don't you try to figure them both out? For 'Way 2' below the `???` is a placeholder for a full slicing operation since if we gave you more of a hint it would make it too easy.\n",
    "\n",
    "Strings have also plenty of methods that might prove to be quite useful in the future; for a fuller overview check out [this reference](https://en.wikibooks.org/wiki/Python_Programming/Variables_and_Strings)"
   ]
  },
  {
   "cell_type": "code",
   "execution_count": 16,
   "metadata": {
    "collapsed": false
   },
   "outputs": [
    {
     "ename": "SyntaxError",
     "evalue": "invalid syntax (<ipython-input-16-4fd5a77cde30>, line 1)",
     "output_type": "error",
     "traceback": [
      "\u001b[0;36m  File \u001b[0;32m\"<ipython-input-16-4fd5a77cde30>\"\u001b[0;36m, line \u001b[0;32m1\u001b[0m\n\u001b[0;31m    print \"Up to the 18th position (Way 1): '\" + stringToPrint[???:???] + \"'\"\u001b[0m\n\u001b[0m                                                               ^\u001b[0m\n\u001b[0;31mSyntaxError\u001b[0m\u001b[0;31m:\u001b[0m invalid syntax\n"
     ]
    }
   ],
   "source": [
    "print \"Up to the 18th position (Way 1): '\" + stringToPrint[???:???] + \"'\"\n",
    "print \"Up to the 18th position (Way 2): '\" + ??? + \"'\""
   ]
  },
  {
   "cell_type": "markdown",
   "metadata": {},
   "source": [
    "## List operations\n",
    "\n",
    "So far, we've only created a list, but just like a real to-do list most lists don't usually stay the same throughout the day (or the execution of your application). Their _real_ value comes when we start to change them: adding and removing items, updating an existing item, concatenting several lists (i.e. sticking them together), etc.\n",
    "\n",
    "### Replacing an item\n",
    "\n",
    "Here's how we replace an item in a list:"
   ]
  },
  {
   "cell_type": "code",
   "execution_count": 17,
   "metadata": {
    "collapsed": false
   },
   "outputs": [
    {
     "name": "stdout",
     "output_type": "stream",
     "text": [
      "['first', 'second', 'third']\n",
      "['first', 'new element', 'third']\n"
     ]
    }
   ],
   "source": [
    "# This replaces the item in the 2nd position\n",
    "print myNewList\n",
    "myNewList[1] = 'new element'\n",
    "print myNewList"
   ]
  },
  {
   "cell_type": "markdown",
   "metadata": {},
   "source": [
    "This operation shouldn't surprise you too much: we've accessed an item via its *index* and set it to a new value using the *assignement* operator (the \"=\" sign ). So if you see `list[1]` on the right side of the assignement (the \"=\") then we are _reading from_ a list, but if you see `list[1]` on the left side of the assignment then we are _writing to_ a list.\n",
    "\n",
    "Here's an example for a (small) party at a friend's place:"
   ]
  },
  {
   "cell_type": "code",
   "execution_count": 19,
   "metadata": {
    "collapsed": false
   },
   "outputs": [
    {
     "name": "stdout",
     "output_type": "stream",
     "text": [
      "['Bob', 'Doug', 'Louise', 'Nancy', 'Sarah', 'Jane']\n",
      "['Bob', 'Phil', 'Louise', 'Nancy', 'Sarah', 'Jane']\n",
      "['Phil', 'Phil', 'Louise', 'Nancy', 'Sarah', 'Jane']\n"
     ]
    }
   ],
   "source": [
    "theParty = ['Bob','Doug','Louise','Nancy','Sarah','Jane']\n",
    "print theParty\n",
    "\n",
    "theParty[1] = 'Phil' # Doug leaves and is replaced by Phil\n",
    "print theParty\n",
    "\n",
    "theParty[0] = theParty[1]\n",
    "print theParty # Phil is an evil genius and manages to replace Doug with his own clone"
   ]
  },
  {
   "cell_type": "markdown",
   "metadata": {},
   "source": [
    "Got it?\n",
    "\n",
    "### Addition and Multiplication\n",
    "\n",
    "You can also operate on entire lists at one time, rather than just on their elements individually. For instance, given two lists you might want to add them together like so:"
   ]
  },
  {
   "cell_type": "code",
   "execution_count": 20,
   "metadata": {
    "collapsed": false
   },
   "outputs": [
    {
     "name": "stdout",
     "output_type": "stream",
     "text": [
      "['Babbage', 'Lovelace', 'Torvald', 'Knuth']\n"
     ]
    }
   ],
   "source": [
    "britishProgrammers = [\"Babbage\", \"Lovelace\"]\n",
    "nonBritishProgrammers = [\"Torvald\", \"Knuth\"]\n",
    "\n",
    "famousProgrammers = britishProgrammers + nonBritishProgrammers\n",
    "print famousProgrammers"
   ]
  },
  {
   "cell_type": "markdown",
   "metadata": {},
   "source": [
    "You can even multiply them, although in this particular instance it is kind of pointless:"
   ]
  },
  {
   "cell_type": "code",
   "execution_count": 21,
   "metadata": {
    "collapsed": false
   },
   "outputs": [
    {
     "name": "stdout",
     "output_type": "stream",
     "text": [
      "['Babbage', 'Lovelace', 'Babbage', 'Lovelace']\n"
     ]
    }
   ],
   "source": [
    "print britishProgrammers * 2"
   ]
  },
  {
   "cell_type": "markdown",
   "metadata": {},
   "source": [
    "#### A challenge for you!"
   ]
  },
  {
   "cell_type": "code",
   "execution_count": 22,
   "metadata": {
    "collapsed": false
   },
   "outputs": [
    {
     "ename": "SyntaxError",
     "evalue": "invalid syntax (<ipython-input-22-27d852a1d1e3>, line 2)",
     "output_type": "error",
     "traceback": [
      "\u001b[0;36m  File \u001b[0;32m\"<ipython-input-22-27d852a1d1e3>\"\u001b[0;36m, line \u001b[0;32m2\u001b[0m\n\u001b[0;31m    otherNonBritishProgrammers = [\"Wozniak\" ??? \"Van Rossum\"]\u001b[0m\n\u001b[0m                                            ^\u001b[0m\n\u001b[0;31mSyntaxError\u001b[0m\u001b[0;31m:\u001b[0m invalid syntax\n"
     ]
    }
   ],
   "source": [
    "# Check the syntax to properly define a new list \n",
    "otherNonBritishProgrammers = [\"Wozniak\" ??? \"Van Rossum\"]\n",
    "\n",
    "# Then print out all the non british programmers\n",
    "print nonBritishProgrammers ??? otherNonBritishProgrammers"
   ]
  },
  {
   "cell_type": "markdown",
   "metadata": {},
   "source": [
    "###  You're (not) in the list!\n",
    "\n",
    "Ever stood outside a party and been told \"You're not on/in the list\"? Well, Python is like that too. In fact, Python tries as hard as possible to be _like_ English – this isn't by accident, it's by design – and once you've done a _bit_ of programming in Python you can start to guess how to do something by thinking about how you might say it in English. \n",
    "\n",
    "So if you want to check if an item exists in a list you can use the **in** operator:\n",
    "\n",
    "```python\n",
    "element in list\n",
    "```\n",
    "\n",
    "The **in** operator will return `True` if the item is present, and `False` otherwise"
   ]
  },
  {
   "cell_type": "code",
   "execution_count": 30,
   "metadata": {
    "collapsed": false
   },
   "outputs": [
    {
     "name": "stdout",
     "output_type": "stream",
     "text": [
      "True\n",
      "False\n"
     ]
    }
   ],
   "source": [
    "print ('Lovelace' in britishProgrammers)\n",
    "print ('Lovelace' in nonBritishProgrammers)"
   ]
  },
  {
   "cell_type": "markdown",
   "metadata": {},
   "source": [
    "Likewise, if you want to check if an item does not exist in a list then you can use the **not in ** operator. Let's go back to our party:"
   ]
  },
  {
   "cell_type": "code",
   "execution_count": 23,
   "metadata": {
    "collapsed": false
   },
   "outputs": [
    {
     "name": "stdout",
     "output_type": "stream",
     "text": [
      "['Phil', 'Phil', 'Louise', 'Nancy', 'Sarah', 'Jane']\n",
      "True\n",
      "False\n"
     ]
    }
   ],
   "source": [
    "print theParty\n",
    "print 'Bob' not in theParty\n",
    "print 'Jane' not in theParty"
   ]
  },
  {
   "cell_type": "markdown",
   "metadata": {},
   "source": [
    "#### A challenge for you!"
   ]
  },
  {
   "cell_type": "code",
   "execution_count": 24,
   "metadata": {
    "collapsed": false
   },
   "outputs": [],
   "source": [
    "# Complete the missing bits\n",
    "# to give a first name to Mrs. Lovelace\n",
    "firstProgrammerSurnames = [\"Babbage\", \"Lovelace\"]\n",
    "firstProgrammerNames    = [\"Charles\", \"Ada\"]\n",
    "\n",
    "firstProgrammerSurnames[1] = firstProgrammerNames[1] + \" \" + firstProgrammerSurnames[1]\n",
    "\n",
    "print \"Lady \"+ ???[1] +\" is considered to be the first (woman) programmer\" "
   ]
  },
  {
   "cell_type": "markdown",
   "metadata": {},
   "source": [
    "_Note_: Actually, Lady Ada Lovelace is a [fascinating person](https://en.wikipedia.org/wiki/Ada_Lovelace): she isn't just the first female programmer, she was the first programmer period. For many years Charles Babbage got all the credit, but lately we realised that Ada was the person who actually saw that Babbage hadn't just invented a better abacus, he'd invented a general purpose computing device! As a result, there is now a day in her honour every year that is celebrated at Google, Facebook, as well as places like King's and MIT because we want to recognise the fundamental contribution to computing made by women programmers who were long overlooked by the men.\n",
    "\n",
    "## Extending Lists\n",
    "\n",
    "We've already seen that we can combine two lists using the `+` operator, but if you wanted to add to your list constantly having to do something like this would be annoying:\n",
    "```python\n",
    "myList = [] # An empty list\n",
    "\n",
    "myList = myList + ['New item']\n",
    "myList = myList + ['Another new item']\n",
    "myList = myList + ['And another one!']\n",
    "\n",
    "print myList\n",
    "```\n",
    "Not just annoying, but also hard to read! So there's an easier way to write this in Python:\n",
    "```python\n",
    "myList = [] # An empty list\n",
    "\n",
    "myList.append('New item')\n",
    "myList.append('Another new item')\n",
    "myList.append('And another one!')\n",
    "\n",
    "print myList\n",
    "```\n",
    "\n",
    "Why don't you try typing it all in the coding area below? You'll get the same answer either way, but one is faster to write and easier to read!"
   ]
  },
  {
   "cell_type": "code",
   "execution_count": null,
   "metadata": {
    "collapsed": true
   },
   "outputs": [],
   "source": []
  },
  {
   "cell_type": "markdown",
   "metadata": {},
   "source": [
    "Appending to a list using `append(...)` is actually using something called a _function_. We've not seen this concept before and we're not going to go into it in enormous detail here (there's another notebook to introduce you to functions). The things that you need to notice at _this_ point in time are:\n",
    "\n",
    "1. That square brackets ('[' and ']') are used for list indexing.\n",
    "2. That parentheses ('(' and ')') are (normally) used for function calls.\n",
    "\n",
    "The best thing about functions is that they are like little packages of code that can do a whole bunch of things at once (e.g. add an item to a list by modifying the list directly), but you only need to remember to write `append(...)`. What did I mean just now by 'modifying the list directly'? Notice that in the first example above we had to write `myList = myList + ['New item']` because we had to write the result of concatening two lists together back to a variable, but in the second example we could just write `myList.append('New item')` and the change was made to `myList` directly! \n",
    "\n",
    "## Other List Functions\n",
    "\n",
    "There are many functions that can be applied to lists: `range`, `len`, `append`, `insert` and `index`. \n",
    "\n",
    "You tell Python to *execute a function* by specifying the function's name, followed by a set of parentheses. The parentheses serve also to contain the optional input. \n",
    "\n",
    "The functions `range` and `len` are a good examples:\n",
    "```python\n",
    "len(theParty)\n",
    "range(theParty)\n",
    "```\n",
    "Here, the function `len` (lazy short-hand for _length_) is _passed_ theParty list in order to do its magic.\n",
    "\n",
    "The functions `append`, `insert` and `index` are used a bit differently and have to be _called_ using theParty list. We're at risk of joining Alice down the rabbit-hole here, so let's just leave it at: the second set of functions are known as *methods* of the list *class*. We'll stop there. \n",
    "\n",
    "In order to use a _method_ you always need to 'prepend' the name of list you want to act upon, like so:\n",
    "\n",
    "```python\n",
    "theParty.append(\"New Guest\")\n",
    "theParty.insert()\n",
    "```\n",
    "\n",
    "The logic here is that methods are associated with specific types of things (such as lists) because you can't append something to, for instance, a number, but you can use `len` on a list, on a string, perhaps even on an integer? "
   ]
  },
  {
   "cell_type": "code",
   "execution_count": 26,
   "metadata": {
    "collapsed": false
   },
   "outputs": [
    {
     "name": "stdout",
     "output_type": "stream",
     "text": [
      "['New item', 'Another new item', 'And another one!']\n"
     ]
    }
   ],
   "source": [
    "myList = [] # An empty list\n",
    "myList = myList + ['New item']\n",
    "myList = myList + ['Another new item']\n",
    "myList = myList + ['And another one!']\n",
    "print myList"
   ]
  },
  {
   "cell_type": "markdown",
   "metadata": {},
   "source": [
    "### Append\n",
    "\n",
    "Reminder: here's appending..."
   ]
  },
  {
   "cell_type": "code",
   "execution_count": 28,
   "metadata": {
    "collapsed": false
   },
   "outputs": [
    {
     "name": "stdout",
     "output_type": "stream",
     "text": [
      "['Lovelace', 'Turing']\n"
     ]
    }
   ],
   "source": [
    "britishProgrammers = ['Lovelace']\n",
    "britishProgrammers.append(\"Turing\")\n",
    "print britishProgrammers"
   ]
  },
  {
   "cell_type": "markdown",
   "metadata": {},
   "source": [
    "### Insert\n",
    "\n",
    "That's cool, but as you noticed `append` only ever inserts the new item as the last element in the list. What if you want it to go somewhere else?\n",
    "\n",
    "With `insert` you can also specify a position"
   ]
  },
  {
   "cell_type": "code",
   "execution_count": 29,
   "metadata": {
    "collapsed": false
   },
   "outputs": [
    {
     "name": "stdout",
     "output_type": "stream",
     "text": [
      "['Torvald', 'Knuth']\n",
      "['Torvald', 'Swartz', 'Knuth']\n"
     ]
    }
   ],
   "source": [
    "print nonBritishProgrammers\n",
    "nonBritishProgrammers.insert(1, \"Swartz\")\n",
    "print nonBritishProgrammers"
   ]
  },
  {
   "cell_type": "markdown",
   "metadata": {},
   "source": [
    "### Index\n",
    "\n",
    "Lastly, with the `index` method you can easily ask Python to find the index position of a given item:"
   ]
  },
  {
   "cell_type": "code",
   "execution_count": 31,
   "metadata": {
    "collapsed": false
   },
   "outputs": [
    {
     "name": "stdout",
     "output_type": "stream",
     "text": [
      "2\n"
     ]
    }
   ],
   "source": [
    "# Say you want to know in where \"Knuth\" is \n",
    "# in the list of non-British programmers...\n",
    "print nonBritishProgrammers.index(\"Knuth\")"
   ]
  },
  {
   "cell_type": "markdown",
   "metadata": {},
   "source": [
    "#### A challenge for you!"
   ]
  },
  {
   "cell_type": "markdown",
   "metadata": {},
   "source": [
    "Add the famous [Grace Hopper](https://en.wikipedia.org/wiki/Grace_Hopper) (inventress of the first compiler!) to the list of British programmers, and then print her index position:"
   ]
  },
  {
   "cell_type": "code",
   "execution_count": 32,
   "metadata": {
    "collapsed": false
   },
   "outputs": [
    {
     "ename": "SyntaxError",
     "evalue": "invalid syntax (<ipython-input-32-7ad5a11775ad>, line 1)",
     "output_type": "error",
     "traceback": [
      "\u001b[0;36m  File \u001b[0;32m\"<ipython-input-32-7ad5a11775ad>\"\u001b[0;36m, line \u001b[0;32m1\u001b[0m\n\u001b[0;31m    nonBritishProgrammers.???(\"Hopper\")\u001b[0m\n\u001b[0m                          ^\u001b[0m\n\u001b[0;31mSyntaxError\u001b[0m\u001b[0;31m:\u001b[0m invalid syntax\n"
     ]
    }
   ],
   "source": [
    "nonBritishProgrammers.???(\"Hopper\") \n",
    "print nonBritishProgrammers.???(\"Hopper\")"
   ]
  },
  {
   "cell_type": "markdown",
   "metadata": {},
   "source": [
    "### Length\n",
    "\n",
    "Cool, so those were some of the *methods you can invoke on* a list. Let's focus now on some *functions* that take lists as an _input_.\n",
    "\n",
    "With the function `len` you can immediately know the `len`-gth of a given list:"
   ]
  },
  {
   "cell_type": "code",
   "execution_count": 33,
   "metadata": {
    "collapsed": false
   },
   "outputs": [
    {
     "name": "stdout",
     "output_type": "stream",
     "text": [
      "2\n"
     ]
    }
   ],
   "source": [
    "print len(britishProgrammers)"
   ]
  },
  {
   "cell_type": "code",
   "execution_count": 70,
   "metadata": {
    "collapsed": false
   },
   "outputs": [
    {
     "name": "stdout",
     "output_type": "stream",
     "text": [
      "There are 5 elements in the list nonBritishProgrammers\n"
     ]
    }
   ],
   "source": [
    "length_of_non_brits = len(nonBritishProgrammers)\n",
    "print \"There are \" + str(length_of_list) + \" elements in the list of non-British Programmers\""
   ]
  },
  {
   "cell_type": "markdown",
   "metadata": {},
   "source": [
    "Did you see the `str(length_of_list)`? There's another new function! We can tell because it uses the format `functionName(...some input...)`. So the function name is `str`-ing and the input is a number (the length of the list `nonBritishProgrammers`). Here's the first time we've converted between types of data: we took an integer (you can check this by adding the following line to the code above: \n",
    "```python\n",
    "print length_of_list + 1\n",
    "```\n",
    "So `length_of_list` is a number, and by calling `str(length_of_list)` we changed it to a string that we could print out. Given that programmers are lazy, can you guess how you'd convert the string \"3\" to the integer 3?\n",
    "\n",
    "#### A challenge for you!"
   ]
  },
  {
   "cell_type": "code",
   "execution_count": 71,
   "metadata": {
    "collapsed": false
   },
   "outputs": [
    {
     "ename": "SyntaxError",
     "evalue": "invalid syntax (<ipython-input-71-b19d9be70e14>, line 2)",
     "output_type": "error",
     "traceback": [
      "\u001b[0;36m  File \u001b[0;32m\"<ipython-input-71-b19d9be70e14>\"\u001b[0;36m, line \u001b[0;32m2\u001b[0m\n\u001b[0;31m    length_of_brits = ???(britishProgrammers)\u001b[0m\n\u001b[0m                      ^\u001b[0m\n\u001b[0;31mSyntaxError\u001b[0m\u001b[0;31m:\u001b[0m invalid syntax\n"
     ]
    }
   ],
   "source": [
    "# complete the missing bits\n",
    "length_of_brits = ???(britishProgrammers)\n",
    "print \"There are \" ??? \" British programmers.\""
   ]
  },
  {
   "cell_type": "markdown",
   "metadata": {},
   "source": [
    "### Range\n",
    "\n",
    "The function `range` is used instead to create a sequence of values. It accepts at *least one* parameter as input, and always returns a list as output. It's quite handy for instance when you need a list of ordered numbers:"
   ]
  },
  {
   "cell_type": "code",
   "execution_count": 75,
   "metadata": {
    "collapsed": false
   },
   "outputs": [
    {
     "data": {
      "text/plain": [
       "[0, 1, 2, 3, 4, 5, 6, 7, 8, 9]"
      ]
     },
     "execution_count": 75,
     "metadata": {},
     "output_type": "execute_result"
    }
   ],
   "source": [
    "range(10)"
   ]
  },
  {
   "cell_type": "code",
   "execution_count": 76,
   "metadata": {
    "collapsed": false
   },
   "outputs": [
    {
     "data": {
      "text/plain": [
       "list"
      ]
     },
     "execution_count": 76,
     "metadata": {},
     "output_type": "execute_result"
    }
   ],
   "source": [
    "# To check if the output of range()\n",
    "# is a list we can use the type() \n",
    "# function.\n",
    "type(range(10))"
   ]
  },
  {
   "cell_type": "markdown",
   "metadata": {},
   "source": [
    "Notice that before I said that it accepts *at least* one parameter as input. If you look in fact at the ouputted numbers you'll notice that the function assumes you are starting the range from 0. To define the lower boundary of your range, use have to use *two input parameters*:"
   ]
  },
  {
   "cell_type": "code",
   "execution_count": 77,
   "metadata": {
    "collapsed": false
   },
   "outputs": [
    {
     "data": {
      "text/plain": [
       "[5, 6, 7, 8, 9]"
      ]
     },
     "execution_count": 77,
     "metadata": {},
     "output_type": "execute_result"
    }
   ],
   "source": [
    "# See how we get a list between \n",
    "# any pair of integers?\n",
    "range(5,10)"
   ]
  },
  {
   "cell_type": "markdown",
   "metadata": {},
   "source": [
    "`range` accepts even a third parameter! Which is in fact used to specify a given step for your sequence:"
   ]
  },
  {
   "cell_type": "code",
   "execution_count": 34,
   "metadata": {
    "collapsed": false
   },
   "outputs": [
    {
     "data": {
      "text/plain": [
       "[-5, 0, 5, 10, 15]"
      ]
     },
     "execution_count": 34,
     "metadata": {},
     "output_type": "execute_result"
    }
   ],
   "source": [
    "# I want a sequence of all numbers from 5 to 20\n",
    "# with a step of 5\n",
    "range(-5,20,5)"
   ]
  },
  {
   "cell_type": "markdown",
   "metadata": {},
   "source": [
    "#### A challenge for you!\n",
    "\n",
    "What do you think will be the output of this code?"
   ]
  },
  {
   "cell_type": "code",
   "execution_count": 87,
   "metadata": {
    "collapsed": false
   },
   "outputs": [
    {
     "name": "stdout",
     "output_type": "stream",
     "text": [
      "15\n"
     ]
    }
   ],
   "source": [
    "sequence_of_numbers = range(5,30,5)\n",
    "print(sequence_of_numbers[2])"
   ]
  },
  {
   "cell_type": "markdown",
   "metadata": {},
   "source": [
    "# Dictionaries\n",
    "----\n",
    "\n",
    "\n",
    "Dictionaries are another kind of data structure that is frequently used in Python (truth be to told, same as lists, these concepts can be found also in other programming languages, often under a different name. For instance, structures like Python dictionaries might be somewhere else referred to as \"maps\", \"hashes\", or \"associative arrays\").\n",
    "\n",
    "According to the [Official Docs](https://docs.python.org/2/tutorial/datastructures.html#dictionaries):\n",
    "\n",
    "> It is best to think of a dictionary as an unordered set of key-value pairs, with the requirement that the keys are unique (within one dictionary). A pair of braces creates an empty dictionary: {}\n",
    "\n",
    "Thus dictionaries are different from lists:"
   ]
  },
  {
   "cell_type": "code",
   "execution_count": 35,
   "metadata": {
    "collapsed": false
   },
   "outputs": [
    {
     "name": "stdout",
     "output_type": "stream",
     "text": [
      "{'secondKey': 'second value', 'thirdKey': 3, 8.0: 'fourth value', 'firstKey': 'first value'}\n"
     ]
    }
   ],
   "source": [
    "myDict = {\"firstKey\": \"first value\",\n",
    "          \"secondKey\": \"second value\",\n",
    "          \"thirdKey\": 3,\n",
    "          8.0: \"fourth value\"\n",
    "         }\n",
    "print myDict"
   ]
  },
  {
   "cell_type": "markdown",
   "metadata": {},
   "source": [
    "Every kind of data type can go into a dictionary, though to keep it simple we've only used the primitive ones: strings, integers, and floats. The _only_ constraint is that the key must be *immutable* and (essentially) simple, which basically means that you can't change the value of a key later (e.g. using a variable or a function, for instance), nor can you use a list or dictionary as a key either."
   ]
  },
  {
   "cell_type": "code",
   "execution_count": 93,
   "metadata": {
    "collapsed": false
   },
   "outputs": [
    {
     "ename": "TypeError",
     "evalue": "unhashable type: 'list'",
     "output_type": "error",
     "traceback": [
      "\u001b[0;31m---------------------------------------------------------------------------\u001b[0m",
      "\u001b[0;31mTypeError\u001b[0m                                 Traceback (most recent call last)",
      "\u001b[0;32m<ipython-input-93-ec5f3725560a>\u001b[0m in \u001b[0;36m<module>\u001b[0;34m()\u001b[0m\n\u001b[1;32m      1\u001b[0m \u001b[0;31m# this will result in an error\u001b[0m\u001b[0;34m\u001b[0m\u001b[0;34m\u001b[0m\u001b[0m\n\u001b[0;32m----> 2\u001b[0;31m \u001b[0mmyFaultyDict\u001b[0m \u001b[0;34m=\u001b[0m \u001b[0;34m{\u001b[0m\u001b[0;34m[\u001b[0m\u001b[0;34m\"firstKey\"\u001b[0m\u001b[0;34m,\u001b[0m \u001b[0;36m4\u001b[0m\u001b[0;34m]\u001b[0m\u001b[0;34m:\u001b[0m \u001b[0;34m\"value\"\u001b[0m\u001b[0;34m,\u001b[0m \u001b[0;34m\"secondKey\"\u001b[0m\u001b[0;34m:\u001b[0m \u001b[0;34m\"second value\"\u001b[0m\u001b[0;34m,\u001b[0m \u001b[0;36m3\u001b[0m\u001b[0;34m:\u001b[0m \u001b[0mTrue\u001b[0m\u001b[0;34m,\u001b[0m \u001b[0;36m8.0\u001b[0m\u001b[0;34m:\u001b[0m \u001b[0;34m[\u001b[0m\u001b[0;36m5\u001b[0m\u001b[0;34m,\u001b[0m \u001b[0;34m'jon'\u001b[0m\u001b[0;34m]\u001b[0m \u001b[0;34m}\u001b[0m\u001b[0;34m\u001b[0m\u001b[0m\n\u001b[0m",
      "\u001b[0;31mTypeError\u001b[0m: unhashable type: 'list'"
     ]
    }
   ],
   "source": [
    "# this will result in an error\n",
    "myFaultyDict = {[\"firstKey\", 4]: \"value\", \"secondKey\": \"second value\", 3: True, 8.0: [5, 'jon'] }"
   ]
  },
  {
   "cell_type": "markdown",
   "metadata": {},
   "source": [
    "For more on the subject of (im)mutability checkout [this SO answer](http://stackoverflow.com/a/8059504) ).\n",
    "\n",
    "Also, did you see notice that when we printed out the dictionary `myDict` it didn't print out in the order that we put items into it? That's what we mean when we say that dictionaries are _un_-ordered. You can't assume that things are stored in a dictionary in the order in which you added them. Explaining _why_ this works this way is something you'd encounter in a 1st year Computer Science course.\n",
    "\n",
    "## Accessing Dictionaries\n",
    "\n",
    "Like lists, we access an element in a dictionary using an 'index' marked by a pair of square brackets (*[...]*). The difference is that the index is no longer an integer indicating the position of the item that we want to access, but is a *key* in the *key:value* pair."
   ]
  },
  {
   "cell_type": "code",
   "execution_count": 95,
   "metadata": {
    "collapsed": false
   },
   "outputs": [
    {
     "name": "stdout",
     "output_type": "stream",
     "text": [
      "second value\n"
     ]
    }
   ],
   "source": [
    "print myDict[\"secondKey\"]"
   ]
  },
  {
   "cell_type": "markdown",
   "metadata": {},
   "source": [
    "#### A challenge for you!"
   ]
  },
  {
   "cell_type": "code",
   "execution_count": 98,
   "metadata": {
    "collapsed": false
   },
   "outputs": [
    {
     "ename": "SyntaxError",
     "evalue": "invalid syntax (<ipython-input-98-b74321b67a60>, line 4)",
     "output_type": "error",
     "traceback": [
      "\u001b[0;36m  File \u001b[0;32m\"<ipython-input-98-b74321b67a60>\"\u001b[0;36m, line \u001b[0;32m4\u001b[0m\n\u001b[0;31m    print myDict[???]\u001b[0m\n\u001b[0m                 ^\u001b[0m\n\u001b[0;31mSyntaxError\u001b[0m\u001b[0;31m:\u001b[0m invalid syntax\n"
     ]
    }
   ],
   "source": [
    "# print the value of the third key\n",
    "# hint: remember that is not a string, \n",
    "# so there's no need to use the quotes (\"\")\n",
    "print myDict[???]"
   ]
  },
  {
   "cell_type": "markdown",
   "metadata": {},
   "source": [
    "When it comes to error messages, `dict`s and `list`s behave in similar ways. If you try to access a dictionary using a  key that doesn't exist then Python raises an *exception*. \n",
    "\n",
    "What is the name of the exception? Can you find it the [Official Docs](https://docs.python.org/2/library/exceptions.html)?"
   ]
  },
  {
   "cell_type": "code",
   "execution_count": 99,
   "metadata": {
    "collapsed": false
   },
   "outputs": [
    {
     "ename": "KeyError",
     "evalue": "99",
     "output_type": "error",
     "traceback": [
      "\u001b[0;31m---------------------------------------------------------------------------\u001b[0m",
      "\u001b[0;31mKeyError\u001b[0m                                  Traceback (most recent call last)",
      "\u001b[0;32m<ipython-input-99-3abdb049536e>\u001b[0m in \u001b[0;36m<module>\u001b[0;34m()\u001b[0m\n\u001b[0;32m----> 1\u001b[0;31m \u001b[0;32mprint\u001b[0m \u001b[0mmyDict\u001b[0m\u001b[0;34m[\u001b[0m\u001b[0;36m99\u001b[0m\u001b[0;34m]\u001b[0m\u001b[0;34m\u001b[0m\u001b[0m\n\u001b[0m",
      "\u001b[0;31mKeyError\u001b[0m: 99"
     ]
    }
   ],
   "source": [
    "print myDict[99]"
   ]
  },
  {
   "cell_type": "markdown",
   "metadata": {},
   "source": [
    "#### Creating a Simple Phone Book\n",
    "\n",
    "One of the simplest (but most useful) applications of a dictionary is as a phone book! One of us did this in BASIC back in 1989 (Yes, James is that old! Much older than Jon who definitely never did anything in BASIC, no sir!).\n",
    "\n",
    "So here are some useful contact numbers:\n",
    "1. American Emergency Number: 911\n",
    "2. British Emergency Number: 999\n",
    "3. Icelandic Emergency Number: 112\n",
    "4. French Emergency Number: 112\n",
    "5. Russian Emergency Number: 102\n",
    "\n",
    "Now, how would you create a dictionary that allowed us to look up and print out an emergency phone number based on the two-character country code? It's going to look a little like this:\n",
    "```python\n",
    "eNumbers = {\n",
    "    ...\n",
    "}\n",
    "print \"The Icelandic emergency number is \" + eNumbers['IS']\n",
    "```"
   ]
  },
  {
   "cell_type": "code",
   "execution_count": null,
   "metadata": {
    "collapsed": true
   },
   "outputs": [],
   "source": [
    "eNumbers = {\n",
    "    ???\n",
    "}"
   ]
  },
  {
   "cell_type": "markdown",
   "metadata": {},
   "source": [
    "## Lists of Lists, Dictionaries of Lists, Dictionaries of Dictionaries... Oh my!\n",
    "\n",
    "![Through the Looking Glass]('img/notebook5/alice.jpg')\n",
    "\n",
    "OK, this is where it's going to get a little weird but you're also going to see how programming is a litte like Lego: once you get the building blocks, you can make lots of cool/strange/useful contraptions from some pretty simple concepts.\n",
    "\n",
    "Remember that a list or dictionary can store _anything_: so the first item in your list could itself _be_ a list! For most people starting out on programming this is the point where their brain starts hurting (it happened to us) and you want to throw up your hands in frustration thinking \"I'm never going to understand this!\" But if you stick with it, you will. And this is really the start of the power of computation.\n",
    "\n",
    "### A Data Set of City Attributes\n",
    "\n",
    "Let's start out with what some (annoying) people would call a 'trivial' example of how a list-of-lists (LoL, though most people aren't laughing) can be useful: \n",
    "\n",
    "### A Phonebook+\n",
    "\n",
    "Let's extend this idea to what we'll call a Phonebook+. In other words, a phonebook that can _do more_ than just give us phone numbers! We're going to build on the emergency phonebook example above.\n",
    "\n",
    "#### A challenge for you!"
   ]
  },
  {
   "cell_type": "code",
   "execution_count": 121,
   "metadata": {
    "collapsed": false
   },
   "outputs": [
    {
     "name": "stdout",
     "output_type": "stream",
     "text": [
      "first\n"
     ]
    }
   ],
   "source": [
    "# let's dive deeper into dict indexing - inception style!\n",
    "# what is going to printed as output?\n",
    "# NOTE: I apologize in advance,\n",
    "# this is the purposefully both the most convoluted \n",
    "# and the most pointless\n",
    "# dictionary ever\n",
    "inceptionDict = {\n",
    "    2: \"first\",\n",
    "    \"second\": 2,\n",
    "    True: False,\n",
    "    99: [9.0, \"beep\", \"boop\"],\n",
    "    13:2,\n",
    "    14:13\n",
    "}\n",
    "\n",
    "print inceptionDict[inceptionDict[inceptionDict[14]]]"
   ]
  },
  {
   "cell_type": "markdown",
   "metadata": {},
   "source": [
    "Like list, you can check the presence/absence of a value in a dictionary, using the *in* / *not in* operators."
   ]
  },
  {
   "cell_type": "code",
   "execution_count": 124,
   "metadata": {
    "collapsed": false
   },
   "outputs": [
    {
     "name": "stdout",
     "output_type": "stream",
     "text": [
      "True\n",
      "False\n"
     ]
    }
   ],
   "source": [
    "print \"second\" in inceptionDict\n",
    "print True not in inceptionDict"
   ]
  },
  {
   "cell_type": "markdown",
   "metadata": {},
   "source": [
    "Compared to lists though, dictionaries have the dedicated *get() method* which allows not only to fetch the *value* indexed by the corresponding *key*, but also to specify a predefined value, in case the key does not exist:"
   ]
  },
  {
   "cell_type": "code",
   "execution_count": 126,
   "metadata": {
    "collapsed": false
   },
   "outputs": [
    {
     "name": "stdout",
     "output_type": "stream",
     "text": [
      "this is the pre-defined output value in case something goes wrong\n"
     ]
    }
   ],
   "source": [
    "print inceptionDict.get(\"non_existing_key\", \"this is the pre-defined output value in case something goes wrong\" )"
   ]
  },
  {
   "cell_type": "markdown",
   "metadata": {},
   "source": [
    "### Dictionary Methods\n",
    "\n",
    "We are going to see in the next notebook how to programmatically access values in a dictionary. For now, suffice to say that also dicts have (again, similarly to lists) *methods* you can *invoke on them*.\n",
    "\n",
    "Say you want to get all the *keys*. Just use:"
   ]
  },
  {
   "cell_type": "code",
   "execution_count": 1,
   "metadata": {
    "collapsed": false
   },
   "outputs": [
    {
     "name": "stdout",
     "output_type": "stream",
     "text": [
      "['Charles', 'Alan', 'Ada']\n"
     ]
    }
   ],
   "source": [
    "dictionary = {\n",
    "    \"Charles\": \"Babbage\",\n",
    "    \"Ada\": \"Lovelace\",\n",
    "    \"Alan\":\"Turing\"\n",
    "}\n",
    "\n",
    "print dictionary.keys()"
   ]
  },
  {
   "cell_type": "markdown",
   "metadata": {},
   "source": [
    "Can you guess what is the *method* name for accessing the values?"
   ]
  },
  {
   "cell_type": "code",
   "execution_count": 2,
   "metadata": {
    "collapsed": false
   },
   "outputs": [
    {
     "name": "stdout",
     "output_type": "stream",
     "text": [
      "['Babbage', 'Turing', 'Lovelace']\n"
     ]
    }
   ],
   "source": [
    "# you guessed right..it's values()!\n",
    "print dictionary.values()"
   ]
  },
  {
   "cell_type": "markdown",
   "metadata": {},
   "source": [
    "The last method I'll show you is the *items()*. We'll use it properly in the future, but anyhow, you can invoke it to access all the *key-value pairings* in a dictionary: "
   ]
  },
  {
   "cell_type": "code",
   "execution_count": 4,
   "metadata": {
    "collapsed": false
   },
   "outputs": [
    {
     "name": "stdout",
     "output_type": "stream",
     "text": [
      "[('Charles', 'Babbage'), ('Alan', 'Turing'), ('Ada', 'Lovelace')]\n"
     ]
    }
   ],
   "source": [
    "# NOTE: the output is a list of key-value pairings\n",
    "print dictionary.items()"
   ]
  },
  {
   "cell_type": "markdown",
   "metadata": {},
   "source": [
    "# Code (Applied Geo-example)"
   ]
  },
  {
   "cell_type": "markdown",
   "metadata": {},
   "source": [
    "Let's continue our trips around the world! This time though, we'll do things better, and instead of using a simple URL, we are going to use a real-word geographic data type, that you can use on a web-map or in your favourite GIS software.\n",
    "\n",
    "If you look down below at the `KCL_position` variable you'll see that we're assigning it an apparently complex and scary data structure.  Don't be afraid!  If you look closely enough you will notice that is just made out the \"building blocks\" that we've seen so far: `floats`, `lists`, `strings`..all wrapped comfortably in a cozy `dictionary`!\n",
    "\n",
    "This is simply  a formalised way to represent a *geographic marker* (a pin on the map!) in a format called `GeoJSON`.\n",
    "\n",
    "According to the awesome [Lizy Diamond](https://twitter.com/lyzidiamond?lang=en-gb) \n",
    "\n",
    ">[GeoJSON](http://geojson.org/geojson-spec.html) is an open and popular geographic data format commonly used in web applications. It is an extension of a format called [JSON](http://json.org), which stands for *JavaScript Object Notation*. Basically, JSON is a table turned on its side. GeoJSON extends JSON by adding a section called \"geometry\" such that you can define coordinates for the particular object (point, line, polygon, multi-polygon, etc). A point in a GeoJSON file might look like this:\n",
    "\n",
    "    {\n",
    "      \"type\": \"Feature\",\n",
    "      \"geometry\": {\n",
    "        \"type\": \"Point\",\n",
    "        \"coordinates\": [\n",
    "          -122.65335738658904,\n",
    "          45.512083676585156\n",
    "        ]\n",
    "      },\n",
    "      \"properties\": {\n",
    "        \"name\": \"Hungry Heart Cupcakes\",\n",
    "        \"address\": \"1212 SE Hawthorne Boulevard\",\n",
    "        \"website\": \"http://www.hungryheartcupcakes.com\",\n",
    "        \"gluten free\": \"no\"\n",
    "      }\n",
    "    }\n",
    "    \n",
    ">GeoJSON files have to have both a `\"geometry\"` section and a `\"properties\"` section. The `\"geometry\"` section houses the geographic information of the feature (its location and type) and the `\"properties\"` section houses all of the descriptive information about the feature (like fields in an attribute table). [Source](https://github.com/lyzidiamond/learn-geojson)\n",
    "\n",
    "\n",
    "Now, in order to have our first \"webmap\", we have to re-create such `GeoJSON` structure. \n",
    "\n",
    "As you can see there are two variables containing King's College Longitute/Latitude coordinate position. Unfortunately they are in the wrong data type. Also, the variable `longitude` is not included in the list `KCLCoords` and the list itself is not assigned as a value to the `KCLGeometry`dictionary.\n",
    "\n",
    "Take all the necessary steps to fix the code, using the functions we've seen so far.\n",
    "\n"
   ]
  },
  {
   "cell_type": "code",
   "execution_count": null,
   "metadata": {
    "collapsed": true
   },
   "outputs": [],
   "source": [
    "# don't worry about the following line\n",
    "# I'm simply requesting a module from Python\n",
    "# to have additional functions at my disposal\n",
    "# which usually are not immediately available\n",
    "import json\n",
    "\n",
    "# King's College coordinates\n",
    "# What format are they in? Does it seem appropriate?\n",
    "# How would you convert them back to numbers?\n",
    "longitude = '-0.11596798896789551'\n",
    "latitude = '51.51130657591914'\n",
    "\n",
    "# use the appropriate function to insert the item \n",
    "KCLCoords = [??? , latitude ]\n",
    "\n",
    "# how can you assign KCLCoords to the key KCLGeometry[\"coordinates\"]?\n",
    "KCLGeometry = {\n",
    "        \"type\": \"Point\",\n",
    "        \"coordinates\": ???\n",
    "      }\n",
    "\n",
    "KCL_position = {\n",
    "  \"type\": \"FeatureCollection\",\n",
    "  \"features\": [\n",
    "    {\n",
    "      \"type\": \"Feature\",\n",
    "      \"properties\": {\n",
    "        \"marker-color\": \"#7e7e7e\",\n",
    "        \"marker-size\": \"medium\",\n",
    "        \"marker-symbol\": \"building\",\n",
    "        \"name\": \"KCL\"\n",
    "      },\n",
    "      \"geometry\": KCLGeometry\n",
    "    }\n",
    "  ]\n",
    "}\n",
    "\n",
    "# OUTPUT\n",
    "# -----------------------------------------------------------\n",
    "# I'm justing using the \"imported\" module to print the output\n",
    "# in a nice and formatted way\n",
    "print(json.dumps(KCL_position, indent=4))\n",
    "# here I'm saving the variable to a file on your local machine\n",
    "with open('my-first-marker.geojson', 'w') as outfile:\n",
    "    json.dump(json.dumps(KCL_position, indent=4), outfile)"
   ]
  },
  {
   "cell_type": "markdown",
   "metadata": {},
   "source": [
    "After you've run the code, Python will save a new file called `my-first-marker.geojson` in the folder where you are running the notebook.\n",
    "Try to upload it on [this website (Geojson.io)](http://geojson.io/#map=2/20.0/0.0) and see what it shows!                                               "
   ]
  },
  {
   "cell_type": "markdown",
   "metadata": {
    "collapsed": true
   },
   "source": [
    "**Congratulations on finishing your fifth notebook!**"
   ]
  },
  {
   "cell_type": "markdown",
   "metadata": {},
   "source": [
    "\n",
    "### Further references:\n",
    "\n",
    "General list or resources\n",
    "- [Awesome list of resources](https://github.com/vinta/awesome-python)\n",
    "- [Python Docs](https://docs.python.org/2.7/tutorial/introduction.html)\n",
    "- [HitchHiker's guide to Python](http://docs.python-guide.org/en/latest/intro/learning/)\n",
    "- [Python for Informatics](http://www.pythonlearn.com/book_007.pdf)\n",
    "- [Learn Python the Hard Way - Lists](http://learnpythonthehardway.org/book/ex32.html)\n",
    "- [Learn Python the Hard Way - Dictionaries](http://learnpythonthehardway.org/book/ex39.html)\n",
    "- [CodeAcademy](https://www.codecademy.com/courses/python-beginner-en-pwmb1/0/1)\n",
    "\n"
   ]
  }
 ],
 "metadata": {
  "anaconda-cloud": {},
  "kernelspec": {
   "display_name": "Python 2",
   "language": "python",
   "name": "python2"
  },
  "language_info": {
   "codemirror_mode": {
    "name": "ipython",
    "version": 2
   },
   "file_extension": ".py",
   "mimetype": "text/x-python",
   "name": "python",
   "nbconvert_exporter": "python",
   "pygments_lexer": "ipython2",
   "version": "2.7.11"
  }
 },
 "nbformat": 4,
 "nbformat_minor": 0
}
