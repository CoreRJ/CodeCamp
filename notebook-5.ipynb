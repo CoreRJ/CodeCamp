{
 "cells": [
  {
   "cell_type": "markdown",
   "metadata": {},
   "source": [
    "# Notebook-5: Lists"
   ]
  },
  {
   "cell_type": "markdown",
   "metadata": {},
   "source": [
    "### Lesson Content \n",
    "\n",
    "Welcome to the fifth Code Camp notebook! In this lesson we're going to explore two, more advanced *data types*. In previous weeks we looked at numeric (*integers* and *floats*) and textual (*strings*) data, but it's probably been quite difficult to imagine how you'd assemble these simple data into something useful. The new data types (lists and dictionaries) will _begin_ to show you how that can happen, and they will allow you to 'express' much more complex concepts with ease.\n",
    "\n",
    "### What's the Difference?\n",
    "\n",
    "Up until now, our variables have only held _one_ thing: a number, or a string. \n",
    "\n",
    "In other words, we've got: `myNumber = 5` or `myString = \"Hello world!\"`. And that's it. \n",
    "\n",
    "Now, with **lists** and **dictionaries** we can store _multiple_ things: several numbers, several strings, or some mish-mash of both. This is much as you would with a _real_ dictionary (which holds the definitions of lots of words) or a _real_ list (which holds the things that you need to get done today).\n",
    "\n",
    "In fact, the simple explanations in parentheses above encompass the main difference between lists and dictionaries:\n",
    "- A _list_ is an *ordered* collection of 'items' (numbers, strings, etc.). You can ask for the first item in a list, the 3rd, or the 1,000th, it doesn't really matter because your list has an order and it keeps that order.\n",
    "- A _dictionary_ is an *unordered* collection of 'items' (numbers, strings, etc.). You access items in a dictionary in a similar way to how you access a real dictionary: you have a 'key' (i.e. the word for which you want the definition) and you use this to look up the 'value' (i.e. the definition of the word).\n",
    "\n",
    "There's obviously a lot more to lists and dictionaries than this, but it's a good starting point: lists = ordered, dictionaries = unordered.\n",
    "\n",
    "Let's start with *lists* in this notebook and we'll continue with *dictionaries* in the following.\n",
    "\n",
    "### In this Notebook\n",
    "\n",
    "- Lists\n",
    "    - Indexing & Slicing\n",
    "    - List operations\n",
    "        - Addition and Mulitplication\n",
    "        - You're (not) in the list!\n",
    "    - List functions\n",
    "        - insert\n",
    "        - append\n",
    "        - index\n",
    "        - len()\n",
    "        - range()"
   ]
  },
  {
   "cell_type": "markdown",
   "metadata": {},
   "source": [
    "----\n",
    "# Lists\n",
    "\n",
    "So a *list* is an ordered collection of items that we access by position (what Python calls the _index_). So the first item in a list is always the first item in the list. End of (well, sort of... more on this later). Because lists are a new data type, we create and use them differently from the simple variables we've seen so far. You can always spot a list because it is a series of items separated by commas and grouped together between a pair of square brackets ( *[A, B, C, ..., n]* ).\n",
    "\n",
    "Here is a list of 4 items assigned to a variable called `myList`:"
   ]
  },
  {
   "cell_type": "code",
   "execution_count": 4,
   "metadata": {
    "collapsed": false
   },
   "outputs": [
    {
     "name": "stdout",
     "output_type": "stream",
     "text": [
      "[1, 2, 4, 5]\n"
     ]
    }
   ],
   "source": [
    "myList = [1,2,4,5]\n",
    "print myList"
   ]
  },
  {
   "cell_type": "markdown",
   "metadata": {},
   "source": [
    "Lists are pretty versatile: they don't really care what kind of items you ask them to store. So you can use a list to hold elements from all the other data types that we have seen so far! Below we assign a new list to a variable called `myList` and then print it out so that you can see that it 'holds' all of these different types of data:"
   ]
  },
  {
   "cell_type": "code",
   "execution_count": 5,
   "metadata": {
    "collapsed": false
   },
   "outputs": [
    {
     "name": "stdout",
     "output_type": "stream",
     "text": [
      "['hi I am', 2312, 'mixing', 6.6, 90, 'strings, integers and floats']\n"
     ]
    }
   ],
   "source": [
    "myList = ['hi I am', 2312, 'mixing', 6.6, 90, 'strings, integers and floats']\n",
    "print myList"
   ]
  },
  {
   "cell_type": "markdown",
   "metadata": {},
   "source": [
    "We don't want to get too technical here, but it's important to note one thing: the reason that `myList` can hold all of those different types of data is that it still just one thing – a list – and not six things (`'hi I am', 2312, 'mixing', 6.6, 90, 'strings, integers and floats'`). Got it? It's like the difference between a person and a crowd: a crowd is one thing that holds many people inside it...\n",
    "\n",
    "## Indexing\n",
    "\n",
    "To access an element in a list you use an **index**. This is a new and important concept (and it's a term that we're going to use a _lot_ in the future), so try to really get this term into your head before moving forward in the notebook.\n",
    "\n",
    "### Accessing Elements in a List using Indexes\n",
    "\n",
    "The index is just the location of the item in the list that you want to access. So let's say that we want to fetch the second item, we access it via the *index notation* like so:"
   ]
  },
  {
   "cell_type": "code",
   "execution_count": 6,
   "metadata": {
    "collapsed": false
   },
   "outputs": [
    {
     "name": "stdout",
     "output_type": "stream",
     "text": [
      "2312\n"
     ]
    }
   ],
   "source": [
    "myList = ['hi', 2312, 'mixing', 6.6, 90, 'strings, integers and floats' ]\n",
    "secondElement =  myList[1]\n",
    "print secondElement"
   ]
  },
  {
   "cell_type": "markdown",
   "metadata": {},
   "source": [
    "See what has happened there? We have:\n",
    "\n",
    "1. Assigned a list with 6 elements to the the variable `myList`.\n",
    "2. Accessed the second element by writing that element's index between a pair of square brackets (next to the list's name). \n",
    "3. Assigned the second element to another variable called `secondElement`.\n",
    "4. Told Python to `print` the value of this new variable.\n",
    "\n",
    "Wait a sec – didn't we say *second* element? Why then is the index 1???\n",
    "\n",
    "### Zero-Indexing\n",
    "\n",
    "Good observation! That's because lists indexes are *zero-based*: this is a fancy way to say that the count starts from 0 instead that from 1. So the first element has index 0, and the last element has index _n-1_ (i.e. the count of the number of items in the list [_n_] minus one).\n",
    "\n",
    "To recap:"
   ]
  },
  {
   "cell_type": "code",
   "execution_count": 8,
   "metadata": {
    "collapsed": false
   },
   "outputs": [
    {
     "name": "stdout",
     "output_type": "stream",
     "text": [
      "The first element is: first\n",
      "The third element is: third\n"
     ]
    }
   ],
   "source": [
    "myNewList = ['first', 'second', 'third']\n",
    "print \"The first element is: \" + myNewList[0]\n",
    "print \"The third element is: \" + myNewList[2]"
   ]
  },
  {
   "cell_type": "markdown",
   "metadata": {},
   "source": [
    "### Negative Indexing\n",
    "\n",
    "Since programmers are lazy, they also have a short-cut for accessing the _end_ of a list. Since positive numbers count from the start of a list, negative numbers count from the end:"
   ]
  },
  {
   "cell_type": "code",
   "execution_count": 10,
   "metadata": {
    "collapsed": false
   },
   "outputs": [
    {
     "name": "stdout",
     "output_type": "stream",
     "text": [
      "third\n",
      "second\n"
     ]
    }
   ],
   "source": [
    "print myNewList[-1]\n",
    "print myNewList[-2]"
   ]
  },
  {
   "cell_type": "markdown",
   "metadata": {},
   "source": [
    "You wouldn't write `myNewList[-0]` to get at the last element because `-0` is the same as `0`, so `myNewList[-0]` is the _same_ as `myNewList[0]`, which is the first item in the list. You can remember it this way: the last item in the list is at _n-1_ (where _n_ is the number of items in the list), so `...[-1]` is a sensible way to access the last item."
   ]
  },
  {
   "cell_type": "markdown",
   "metadata": {},
   "source": [
    "#### A challenge for you!"
   ]
  },
  {
   "cell_type": "code",
   "execution_count": 1,
   "metadata": {
    "collapsed": false
   },
   "outputs": [
    {
     "ename": "SyntaxError",
     "evalue": "invalid syntax (<ipython-input-1-5ee299ed6e5f>, line 2)",
     "output_type": "error",
     "traceback": [
      "\u001b[0;36m  File \u001b[0;32m\"<ipython-input-1-5ee299ed6e5f>\"\u001b[0;36m, line \u001b[0;32m2\u001b[0m\n\u001b[0;31m    print \"The second element is :\" + myNewList[???]\u001b[0m\n\u001b[0m                                                ^\u001b[0m\n\u001b[0;31mSyntaxError\u001b[0m\u001b[0;31m:\u001b[0m invalid syntax\n"
     ]
    }
   ],
   "source": [
    "# print the 'second' element in the list\n",
    "print \"The second element is :\" + myNewList[???]"
   ]
  },
  {
   "cell_type": "markdown",
   "metadata": {},
   "source": [
    "### Index Out of Range\n",
    "\n",
    "What happens when you try to access an element that doesn't exist? \n",
    "\n",
    "We know that `myList` has 3 elements, so what if we try to access the 200th element in the list? In that case Python, as usual, will inform us of the problem using an *error message* pointing to the problem:"
   ]
  },
  {
   "cell_type": "code",
   "execution_count": 20,
   "metadata": {
    "collapsed": false
   },
   "outputs": [
    {
     "ename": "IndexError",
     "evalue": "list index out of range",
     "output_type": "error",
     "traceback": [
      "\u001b[0;31m---------------------------------------------------------------------------\u001b[0m",
      "\u001b[0;31mIndexError\u001b[0m                                Traceback (most recent call last)",
      "\u001b[0;32m<ipython-input-20-777fadaac723>\u001b[0m in \u001b[0;36m<module>\u001b[0;34m()\u001b[0m\n\u001b[0;32m----> 1\u001b[0;31m \u001b[0;32mprint\u001b[0m \u001b[0mmyNewList\u001b[0m\u001b[0;34m[\u001b[0m\u001b[0;36m200\u001b[0m\u001b[0;34m]\u001b[0m\u001b[0;34m\u001b[0m\u001b[0m\n\u001b[0m",
      "\u001b[0;31mIndexError\u001b[0m: list index out of range"
     ]
    }
   ],
   "source": [
    "print myNewList[200]"
   ]
  },
  {
   "cell_type": "markdown",
   "metadata": {},
   "source": [
    "#### A challenge for you!"
   ]
  },
  {
   "cell_type": "markdown",
   "metadata": {},
   "source": [
    "Do you remember the past lesson on *syntax errors* and *exceptions*? What is the error message displayed in the code above? Is it an *exception* or a *syntax error*? Can you find the explanation for what's going in the [Official Documentation](https://www.google.ie/url?sa=t&rct=j&q=&esrc=s&source=web&cd=3&ved=0ahUKEwiN3s-0qr7OAhVGIcAKHYBLAE4QFggoMAI&url=https%3A%2F%2Fdocs.python.org%2F2%2Ftutorial%2Ferrors.html&usg=AFQjCNG6q1juN8ZVXOEqOYWxE18Cv5X_qw&sig2=o92WLjkV1PNNfgpW1w9n0g&cad=rja)? "
   ]
  },
  {
   "cell_type": "markdown",
   "metadata": {},
   "source": [
    "## A String is a List?\n",
    "\n",
    "Even if you didn't realise it, you have already been working with lists a _bit_ because *strings* are (_basically_) lists! Think about it this way: strings are an ordered sequence of characters because 'hello' and 'olhel' are very different words! It turns out that characters in a string can be accessed the same way we'd access a generic list."
   ]
  },
  {
   "cell_type": "code",
   "execution_count": 2,
   "metadata": {
    "collapsed": false
   },
   "outputs": [
    {
     "name": "stdout",
     "output_type": "stream",
     "text": [
      "A\n",
      "F\n"
     ]
    }
   ],
   "source": [
    "myString = \"ABCDEF\"\n",
    "print myString[0]\n",
    "print myString[-1]"
   ]
  },
  {
   "cell_type": "markdown",
   "metadata": {},
   "source": [
    "## Slicing\n",
    "\n",
    "If you want to access more than one item at a time, then you can specify a _range_ using two indexing numbers instead of just one. If one number pulls out one element of the list, then it is stands to reason that using two numbers gives us... what? \n",
    "\n",
    "The start and end of a _group_ of items. This operation is called *list slicing*, and keep in mind that indexes start from 0!\n",
    "\n",
    "_Note_: remember too that the error above when we tried to get the 200th element was _index out of range_. So 'range' is how Python talks about more than one list element."
   ]
  },
  {
   "cell_type": "code",
   "execution_count": 3,
   "metadata": {
    "collapsed": false
   },
   "outputs": [
    {
     "name": "stdout",
     "output_type": "stream",
     "text": [
      "THIS \n"
     ]
    }
   ],
   "source": [
    "shortSentence = \"Now I'll just print THIS word, between the 20th and the 25th character: \"\n",
    "print shortSentence[20:25] "
   ]
  },
  {
   "cell_type": "markdown",
   "metadata": {},
   "source": [
    "#### A challenge for you!"
   ]
  },
  {
   "cell_type": "code",
   "execution_count": 5,
   "metadata": {
    "collapsed": false
   },
   "outputs": [
    {
     "ename": "SyntaxError",
     "evalue": "invalid syntax (<ipython-input-5-4958f913e9df>, line 4)",
     "output_type": "error",
     "traceback": [
      "\u001b[0;36m  File \u001b[0;32m\"<ipython-input-5-4958f913e9df>\"\u001b[0;36m, line \u001b[0;32m4\u001b[0m\n\u001b[0;31m    print shortSentence2[???:???]\u001b[0m\n\u001b[0m                         ^\u001b[0m\n\u001b[0;31mSyntaxError\u001b[0m\u001b[0;31m:\u001b[0m invalid syntax\n"
     ]
    }
   ],
   "source": [
    "# print from the second to the fourth (inclusive) \n",
    "# characters in the following string:\n",
    "shortSentence2 = \"A12B34c7.0\"\n",
    "print shortSentence2[???:???] "
   ]
  },
  {
   "cell_type": "markdown",
   "metadata": {},
   "source": [
    "To print the entirety of a list from a starting position onwards, just skip the final index:"
   ]
  },
  {
   "cell_type": "code",
   "execution_count": 7,
   "metadata": {
    "collapsed": false
   },
   "outputs": [
    {
     "name": "stdout",
     "output_type": "stream",
     "text": [
      "Starting from the 17th position:  HERE onwards\n"
     ]
    }
   ],
   "source": [
    "stringToPrint = \"I will print from HERE onwards\"\n",
    "print \"Starting from the 17th position: \" + stringToPrint[17:] "
   ]
  },
  {
   "cell_type": "markdown",
   "metadata": {},
   "source": [
    "Notice that there are _two_ spaces between \"position:\" and \"HERE\" in the printout above? That's because the 17th character is a space. Let's make it a little more obvious:"
   ]
  },
  {
   "cell_type": "code",
   "execution_count": 8,
   "metadata": {
    "collapsed": false
   },
   "outputs": [
    {
     "name": "stdout",
     "output_type": "stream",
     "text": [
      "Starting from the 17th position: ' HERE onwards'\n"
     ]
    }
   ],
   "source": [
    "print \"Starting from the 17th position: '\" + stringToPrint[17:] + \"'\""
   ]
  },
  {
   "cell_type": "markdown",
   "metadata": {},
   "source": [
    "Got it?\n",
    "\n",
    "#### A challenge for you!\n",
    "\n",
    "Now, combining what we've seen above, how do you think you would print everything _up to the 8th character_ (which is the space between \"HERE\" and \"onwards\")?\n",
    "\n",
    "You'll need to combine:\n",
    "1. Negative indexing\n",
    "2. List slicing\n",
    "\n",
    "There are two ways to do it, one way uses only one number, the other uses two. Why don't you try to figure them both out? For 'Way 2' below the `???` is a placeholder for a full slicing operation since if we gave you more of a hint it would make it too easy."
   ]
  },
  {
   "cell_type": "code",
   "execution_count": 9,
   "metadata": {
    "collapsed": false
   },
   "outputs": [
    {
     "ename": "SyntaxError",
     "evalue": "invalid syntax (<ipython-input-9-4fd5a77cde30>, line 1)",
     "output_type": "error",
     "traceback": [
      "\u001b[0;36m  File \u001b[0;32m\"<ipython-input-9-4fd5a77cde30>\"\u001b[0;36m, line \u001b[0;32m1\u001b[0m\n\u001b[0;31m    print \"Up to the 18th position (Way 1): '\" + stringToPrint[???:???] + \"'\"\u001b[0m\n\u001b[0m                                                               ^\u001b[0m\n\u001b[0;31mSyntaxError\u001b[0m\u001b[0;31m:\u001b[0m invalid syntax\n"
     ]
    }
   ],
   "source": [
    "print \"Up to the 18th position (Way 1): '\" + stringToPrint[???:???] + \"'\"\n",
    "print \"Up to the 18th position (Way 2): '\" + ??? + \"'\""
   ]
  },
  {
   "cell_type": "markdown",
   "metadata": {},
   "source": [
    "Strings have also plenty of methods that might prove to be quite useful in the future; for a fuller overview check out [this reference](https://en.wikibooks.org/wiki/Python_Programming/Variables_and_Strings).\n",
    "\n",
    "## List operations\n",
    "\n",
    "So far, we've only created a list, but just like a real to-do list most lists don't usually stay the same throughout the day (or the execution of your application). Their _real_ value comes when we start to change them: adding and removing items, updating an existing item, concatenting several lists (i.e. sticking them together), etc.\n",
    "\n",
    "### Replacing an item\n",
    "\n",
    "Here's how we replace an item in a list:"
   ]
  },
  {
   "cell_type": "code",
   "execution_count": 11,
   "metadata": {
    "collapsed": false
   },
   "outputs": [
    {
     "name": "stdout",
     "output_type": "stream",
     "text": [
      "['first', 'second', 'third']\n",
      "['first', 'new element', 'third']\n"
     ]
    }
   ],
   "source": [
    "myNewList = ['first', 'second', 'third']\n",
    "print myNewList\n",
    "\n",
    "# This replaces the item in the 2nd position\n",
    "myNewList[1] = 'new element'\n",
    "\n",
    "print myNewList"
   ]
  },
  {
   "cell_type": "markdown",
   "metadata": {},
   "source": [
    "This shouldn't surprise you too much: it's just an assignment (via `=`) after all! \n",
    "\n",
    "So if you see `list[1]` on the right side of the assignement (the \"=\") then we are _reading from_ a list, but if you see `list[1]` on the left side of the assignment then we are _writing to_ a list.\n",
    "\n",
    "Here's an example for a (small) party at a friend's place:"
   ]
  },
  {
   "cell_type": "code",
   "execution_count": 12,
   "metadata": {
    "collapsed": false
   },
   "outputs": [
    {
     "name": "stdout",
     "output_type": "stream",
     "text": [
      "['Bob', 'Doug', 'Louise', 'Nancy', 'Sarah', 'Jane']\n",
      "['Bob', 'Phil', 'Louise', 'Nancy', 'Sarah', 'Jane']\n",
      "['Phil', 'Phil', 'Louise', 'Nancy', 'Sarah', 'Jane']\n"
     ]
    }
   ],
   "source": [
    "theParty = ['Bob','Doug','Louise','Nancy','Sarah','Jane']\n",
    "print theParty\n",
    "\n",
    "theParty[1] = 'Phil' # Doug is replaced at the party by Phil\n",
    "print theParty\n",
    "\n",
    "theParty[0] = theParty[1]\n",
    "print theParty # Phil is an evil genius and manages to replace Doug with a Phil clone"
   ]
  },
  {
   "cell_type": "markdown",
   "metadata": {},
   "source": [
    "Got it?\n",
    "\n",
    "### Addition and Multiplication\n",
    "\n",
    "You can also operate on entire lists at one time, rather than just on their elements individually. For instance, given two lists you might want to add them together like so:"
   ]
  },
  {
   "cell_type": "code",
   "execution_count": 13,
   "metadata": {
    "collapsed": false
   },
   "outputs": [
    {
     "name": "stdout",
     "output_type": "stream",
     "text": [
      "['Babbage', 'Lovelace', 'Torvald', 'Knuth']\n"
     ]
    }
   ],
   "source": [
    "britishProgrammers = [\"Babbage\", \"Lovelace\"]\n",
    "nonBritishProgrammers = [\"Torvald\", \"Knuth\"]\n",
    "\n",
    "famousProgrammers = britishProgrammers + nonBritishProgrammers\n",
    "print famousProgrammers"
   ]
  },
  {
   "cell_type": "markdown",
   "metadata": {},
   "source": [
    "You can even multiply them, although in this particular instance it is kind of pointless:"
   ]
  },
  {
   "cell_type": "code",
   "execution_count": 14,
   "metadata": {
    "collapsed": false
   },
   "outputs": [
    {
     "name": "stdout",
     "output_type": "stream",
     "text": [
      "['Babbage', 'Lovelace', 'Babbage', 'Lovelace']\n"
     ]
    }
   ],
   "source": [
    "print britishProgrammers * 2"
   ]
  },
  {
   "cell_type": "markdown",
   "metadata": {},
   "source": [
    "#### A challenge for you!"
   ]
  },
  {
   "cell_type": "code",
   "execution_count": 15,
   "metadata": {
    "collapsed": false
   },
   "outputs": [
    {
     "ename": "SyntaxError",
     "evalue": "invalid syntax (<ipython-input-15-27d852a1d1e3>, line 2)",
     "output_type": "error",
     "traceback": [
      "\u001b[0;36m  File \u001b[0;32m\"<ipython-input-15-27d852a1d1e3>\"\u001b[0;36m, line \u001b[0;32m2\u001b[0m\n\u001b[0;31m    otherNonBritishProgrammers = [\"Wozniak\" ??? \"Van Rossum\"]\u001b[0m\n\u001b[0m                                            ^\u001b[0m\n\u001b[0;31mSyntaxError\u001b[0m\u001b[0;31m:\u001b[0m invalid syntax\n"
     ]
    }
   ],
   "source": [
    "# Check the syntax to properly define a new list \n",
    "otherNonBritishProgrammers = [\"Wozniak\" ??? \"Van Rossum\"]\n",
    "\n",
    "# Then print out all the non british programmers\n",
    "print nonBritishProgrammers ??? otherNonBritishProgrammers"
   ]
  },
  {
   "cell_type": "markdown",
   "metadata": {},
   "source": [
    "###  You're (not) in the list!\n",
    "\n",
    "Ever stood outside a party and been told \"You're not on/in the list\"? Well, Python is like that too. In fact, Python tries as hard as possible to be _like_ English – this isn't by accident, it's by design – and once you've done a _bit_ of programming in Python you can start to guess how to do something by thinking about how you might say it in English. \n",
    "\n",
    "So if you want to check if an item exists in a list you can use the **in** operator:\n",
    "\n",
    "```python\n",
    "element in list\n",
    "```\n",
    "\n",
    "The **in** operator will return `True` if the item is present, and `False` otherwise"
   ]
  },
  {
   "cell_type": "code",
   "execution_count": 19,
   "metadata": {
    "collapsed": false
   },
   "outputs": [
    {
     "name": "stdout",
     "output_type": "stream",
     "text": [
      "True\n",
      "False\n",
      "True\n",
      "False\n"
     ]
    }
   ],
   "source": [
    "print ('Lovelace' in britishProgrammers)\n",
    "print ('Lovelace' in nonBritishProgrammers)\n",
    "\n",
    "letters = ['a','b','c','d','e','f','g','h','i']\n",
    "print ('e' in letters)\n",
    "print ('z' in letters)"
   ]
  },
  {
   "cell_type": "markdown",
   "metadata": {},
   "source": [
    "Likewise, if you want to check if an item does not exist in a list then you can use the **not in ** operator. Let's go back to our party:"
   ]
  },
  {
   "cell_type": "code",
   "execution_count": 20,
   "metadata": {
    "collapsed": false
   },
   "outputs": [
    {
     "name": "stdout",
     "output_type": "stream",
     "text": [
      "['Phil', 'Phil', 'Louise', 'Nancy', 'Sarah', 'Jane']\n",
      "True\n",
      "False\n"
     ]
    }
   ],
   "source": [
    "print theParty\n",
    "print 'Bob' not in theParty\n",
    "print 'Jane' not in theParty"
   ]
  },
  {
   "cell_type": "markdown",
   "metadata": {},
   "source": [
    "#### A challenge for you!"
   ]
  },
  {
   "cell_type": "code",
   "execution_count": 22,
   "metadata": {
    "collapsed": false
   },
   "outputs": [
    {
     "ename": "SyntaxError",
     "evalue": "invalid syntax (<ipython-input-22-5197da96e5b3>, line 8)",
     "output_type": "error",
     "traceback": [
      "\u001b[0;36m  File \u001b[0;32m\"<ipython-input-22-5197da96e5b3>\"\u001b[0;36m, line \u001b[0;32m8\u001b[0m\n\u001b[0;31m    print \"Lady \"+ ???[1] +\" is considered to be the first (woman) programmer\"\u001b[0m\n\u001b[0m                   ^\u001b[0m\n\u001b[0;31mSyntaxError\u001b[0m\u001b[0;31m:\u001b[0m invalid syntax\n"
     ]
    }
   ],
   "source": [
    "# Complete the missing bits so that \n",
    "# we print out Ada Lovelace, her full name.\n",
    "firstProgrammerSurnames = [\"Babbage\", \"Lovelace\"]\n",
    "firstProgrammerNames    = [\"Charles\", \"Ada\"]\n",
    "\n",
    "firstProgrammerSurnames[1] = firstProgrammerNames[1] + \" \" + firstProgrammerSurnames[1]\n",
    "\n",
    "print \"Lady \"+ ???[1] +\" is considered to be the first (woman) programmer\" "
   ]
  },
  {
   "cell_type": "markdown",
   "metadata": {},
   "source": [
    "_Note_: Actually, Lady Ada Lovelace is a [fascinating person](https://en.wikipedia.org/wiki/Ada_Lovelace): she isn't just the first female programmer, she was the first programmer full-stop. For many years Charles Babbage got all the credit simply because he was a guy, but lately we realised that Ada was the person who actually saw that Babbage hadn't just invented a better abacus, he'd invented a general purpose computing device! She was so far ahead of her time that the programme she invented in her head couldn't even run on Babbage's 'simple' (i.e. remarkably complex for the time) computer, but it is not recognised as the first computer algorithm. As a result, there is now a day in her honour every year that is celebrated around the world at places like Google and Facebook, as well as at King's and MIT, because we want to recognise the fundamental contribution to computing made by women programmers. They were long overlooked by the men who thought that the hard part was the machine, not the programming (which they erroneously thought was just like typing).\n",
    "\n",
    "## Extending Lists\n",
    "\n",
    "We've already seen that we can combine two lists using the `+` operator, but if you wanted to add to your list constantly having to do something like this would be annoying:\n",
    "```python\n",
    "myList = [] # An empty list\n",
    "\n",
    "myList = myList + ['New item']\n",
    "myList = myList + ['Another new item']\n",
    "myList = myList + ['And another one!']\n",
    "\n",
    "print myList\n",
    "```\n",
    "Not just annoying, but also hard to read! So there's an easier way to write this in Python:\n",
    "```python\n",
    "myList = [] # An empty list\n",
    "\n",
    "myList.append('New item')\n",
    "myList.append('Another new item')\n",
    "myList.append('And another one!')\n",
    "\n",
    "print myList\n",
    "```\n",
    "\n",
    "Why don't you try typing it all in the coding area below? You'll get the same answer either way, but one is faster to write and easier to read!"
   ]
  },
  {
   "cell_type": "code",
   "execution_count": null,
   "metadata": {
    "collapsed": true
   },
   "outputs": [],
   "source": []
  },
  {
   "cell_type": "markdown",
   "metadata": {},
   "source": [
    "Appending to a list using `append(...)` is actually using something called a _function_. We've not really seen this concept before and we're not going to go into it in enormous detail here (there's a whole other notebook to introduce you to functions). The things that you need to notice at _this_ point in time are:\n",
    "\n",
    "1. That square brackets ('[' and ']') are used for list indexing.\n",
    "2. That parentheses ('(' and ')') are (normally) used for function calls.\n",
    "\n",
    "The best thing about functions is that they are like little packages of code that can do a whole bunch of things at once (e.g. add an item to a list by modifying the list directly), but you only need to remember to write `append(...)`. \n",
    "\n",
    "What did I mean just now by 'modifying the list directly'? Notice that in the first example above we had to write:\n",
    "```python\n",
    "myList = myList + ['New item']\n",
    "``` \n",
    "because we had to write the result of concatening two lists together back to a variable, but in the second example we could just write: \n",
    "```python \n",
    "myList.append('New item')\n",
    "```\n",
    "and the change was made to `myList` directly! \n",
    "\n",
    "## Other List Functions\n",
    "\n",
    "There are many functions that can be applied to lists such as: `range`, `len`, `insert` and `index`. \n",
    "\n",
    "You tell Python to *execute a function* by specifying the function's name, followed by a set of parentheses. The parentheses serve also to contain the optional input (the thing for the function to _operate on_). \n",
    "\n",
    "The functions `range` and `len` are a good examples:\n",
    "```python\n",
    "len(theParty)\n",
    "range(theParty)\n",
    "```\n",
    "Here, the function `len` (lazy short-hand for _length_) is _passed_ theParty list in order to do its magic.\n",
    "\n",
    "The functions `append`, `insert` and `index` are used a bit differently and have to be _called_ using theParty list. We're at risk of joining Alice down the rabbit-hole here, so let's just leave it at: the second set of functions are known as *methods* of the list *class*. We'll stop there. \n",
    "\n",
    "<img src=\"https://www.washingtonpost.com/blogs/answer-sheet/files/2013/01/alice-falling-down-rabbit-hole1.jpg\" width=\"250\" />\n",
    "\n",
    "In order to use a _method_ you always need to 'prepend' the name of list you want to act upon, like so:\n",
    "\n",
    "```python\n",
    "theParty.append(\"New Guest\")\n",
    "theParty.insert(2, \"Anastasia\")\n",
    "```\n",
    "\n",
    "The logic here is that methods are associated with specific types of things (such as lists) because you can't append something to, for instance, a number, but you can use `len` on a list, on a string, perhaps even on an integer? "
   ]
  },
  {
   "cell_type": "markdown",
   "metadata": {},
   "source": [
    "### Append\n",
    "\n",
    "Reminder: here's appending..."
   ]
  },
  {
   "cell_type": "code",
   "execution_count": 23,
   "metadata": {
    "collapsed": false
   },
   "outputs": [
    {
     "name": "stdout",
     "output_type": "stream",
     "text": [
      "['Lovelace', 'Turing']\n"
     ]
    }
   ],
   "source": [
    "britishProgrammers = ['Lovelace']\n",
    "britishProgrammers.append(\"Turing\")\n",
    "print britishProgrammers"
   ]
  },
  {
   "cell_type": "markdown",
   "metadata": {},
   "source": [
    "### Insert\n",
    "\n",
    "That's cool, but as you noticed `append` only ever inserts the new item as the last element in the list. What if you want it to go somewhere else?\n",
    "\n",
    "With `insert` you can also specify a position"
   ]
  },
  {
   "cell_type": "code",
   "execution_count": 25,
   "metadata": {
    "collapsed": false
   },
   "outputs": [
    {
     "name": "stdout",
     "output_type": "stream",
     "text": [
      "['Torvald', 'Knuth']\n",
      "['Torvald', 'Swartz', 'Knuth']\n"
     ]
    }
   ],
   "source": [
    "print nonBritishProgrammers\n",
    "nonBritishProgrammers.insert(1, \"Swartz\")\n",
    "print nonBritishProgrammers"
   ]
  },
  {
   "cell_type": "markdown",
   "metadata": {},
   "source": [
    "### Index\n",
    "\n",
    "Lastly, with the `index` method you can easily ask Python to find the position (index) of a given item:"
   ]
  },
  {
   "cell_type": "code",
   "execution_count": 26,
   "metadata": {
    "collapsed": false
   },
   "outputs": [
    {
     "name": "stdout",
     "output_type": "stream",
     "text": [
      "2\n"
     ]
    }
   ],
   "source": [
    "# Say you want to know in where \"Knuth\" is \n",
    "# in the list of non-British programmers...\n",
    "print nonBritishProgrammers.index(\"Knuth\")"
   ]
  },
  {
   "cell_type": "markdown",
   "metadata": {},
   "source": [
    "#### A challenge for you!"
   ]
  },
  {
   "cell_type": "markdown",
   "metadata": {},
   "source": [
    "Add the famous [Grace Hopper](https://en.wikipedia.org/wiki/Grace_Hopper) (inventress of the first compiler!) to the list of British programmers, and then print her index position:"
   ]
  },
  {
   "cell_type": "code",
   "execution_count": 27,
   "metadata": {
    "collapsed": false
   },
   "outputs": [
    {
     "ename": "SyntaxError",
     "evalue": "invalid syntax (<ipython-input-27-7ad5a11775ad>, line 1)",
     "output_type": "error",
     "traceback": [
      "\u001b[0;36m  File \u001b[0;32m\"<ipython-input-27-7ad5a11775ad>\"\u001b[0;36m, line \u001b[0;32m1\u001b[0m\n\u001b[0;31m    nonBritishProgrammers.???(\"Hopper\")\u001b[0m\n\u001b[0m                          ^\u001b[0m\n\u001b[0;31mSyntaxError\u001b[0m\u001b[0;31m:\u001b[0m invalid syntax\n"
     ]
    }
   ],
   "source": [
    "nonBritishProgrammers.???(\"Hopper\") \n",
    "print nonBritishProgrammers.???(\"Hopper\")"
   ]
  },
  {
   "cell_type": "markdown",
   "metadata": {},
   "source": [
    "### Length\n",
    "\n",
    "Cool, so those were some of the *methods you can invoke on* a list. Let's focus now on some *functions* that take lists as an _input_.\n",
    "\n",
    "With the function `len` you can immediately know the `len`-gth of a given list:"
   ]
  },
  {
   "cell_type": "code",
   "execution_count": 28,
   "metadata": {
    "collapsed": false
   },
   "outputs": [
    {
     "name": "stdout",
     "output_type": "stream",
     "text": [
      "2\n"
     ]
    }
   ],
   "source": [
    "print len(britishProgrammers)"
   ]
  },
  {
   "cell_type": "code",
   "execution_count": 32,
   "metadata": {
    "collapsed": false
   },
   "outputs": [
    {
     "name": "stdout",
     "output_type": "stream",
     "text": [
      "There are 3 elements in the list of non-British Programmers\n"
     ]
    }
   ],
   "source": [
    "length_of_list = len(nonBritishProgrammers)\n",
    "print \"There are \" + str(length_of_list) + \" elements in the list of non-British Programmers\""
   ]
  },
  {
   "cell_type": "markdown",
   "metadata": {},
   "source": [
    "Did you see the `str(length_of_list)`? There's another function! We didn't draw attention to it before, we just told you to use `str(5.0)` to convert the float `5.0` to the string `\"5.0\"`. We can tell it's a function because it uses the format `functionName(...some input...)`. So the function name is `str` (as in _convert to string_) and the input is a number (in this case it's the length of the list `nonBritishProgrammers`). So now we can easily convert between different types of data: we took an integer (you can check this by adding the following line to the code above: \n",
    "```python\n",
    "print length_of_list + 1\n",
    "```\n",
    "And then printing it out as a string. So `length_of_list` is a number, and by calling `str(length_of_list)` we changed it to a string that we could print out. Given that programmers are lazy, can you guess how you'd convert the string \"3\" to the _integer_ 3?\n",
    "\n",
    "#### A challenge for you!"
   ]
  },
  {
   "cell_type": "code",
   "execution_count": 33,
   "metadata": {
    "collapsed": false
   },
   "outputs": [
    {
     "ename": "SyntaxError",
     "evalue": "invalid syntax (<ipython-input-33-7437217d5617>, line 2)",
     "output_type": "error",
     "traceback": [
      "\u001b[0;36m  File \u001b[0;32m\"<ipython-input-33-7437217d5617>\"\u001b[0;36m, line \u001b[0;32m2\u001b[0m\n\u001b[0;31m    length_of_brits = ???(britishProgrammers)\u001b[0m\n\u001b[0m                      ^\u001b[0m\n\u001b[0;31mSyntaxError\u001b[0m\u001b[0;31m:\u001b[0m invalid syntax\n"
     ]
    }
   ],
   "source": [
    "# complete the missing bits\n",
    "length_of_brits = ???(britishProgrammers)\n",
    "print \"There are \" ??? \" British programmers.\""
   ]
  },
  {
   "cell_type": "markdown",
   "metadata": {},
   "source": [
    "### Range\n",
    "\n",
    "The function `range` is used instead to create a sequence of values. It accepts at *least one* parameter as input, and always returns a list as output. It's quite handy for instance when you need a list of ordered numbers:"
   ]
  },
  {
   "cell_type": "code",
   "execution_count": 34,
   "metadata": {
    "collapsed": false
   },
   "outputs": [
    {
     "data": {
      "text/plain": [
       "[0, 1, 2, 3, 4, 5, 6, 7, 8, 9]"
      ]
     },
     "execution_count": 34,
     "metadata": {},
     "output_type": "execute_result"
    }
   ],
   "source": [
    "range(10)"
   ]
  },
  {
   "cell_type": "code",
   "execution_count": 35,
   "metadata": {
    "collapsed": false
   },
   "outputs": [
    {
     "data": {
      "text/plain": [
       "list"
      ]
     },
     "execution_count": 35,
     "metadata": {},
     "output_type": "execute_result"
    }
   ],
   "source": [
    "# To check if the output of range()\n",
    "# is a list we can use the type() \n",
    "# function.\n",
    "type(range(10))"
   ]
  },
  {
   "cell_type": "markdown",
   "metadata": {},
   "source": [
    "Notice that before I said that it accepts \"*at least one parameter*\" as input. If you look at the ouput you'll notice that the function assumes that you want to start from 0. This is laziness again: for a lot of things that programmers do they want to start from 0 and count up to some number. So the _default_ behaviour for `range(n)` is to produce a range from 0 to _n_.\n",
    "\n",
    "To define a lower boundary for a range, you have to provide *two input parameters*:"
   ]
  },
  {
   "cell_type": "code",
   "execution_count": 36,
   "metadata": {
    "collapsed": false
   },
   "outputs": [
    {
     "data": {
      "text/plain": [
       "[5, 6, 7, 8, 9]"
      ]
     },
     "execution_count": 36,
     "metadata": {},
     "output_type": "execute_result"
    }
   ],
   "source": [
    "# See how we get a list between \n",
    "# any pair of integers?\n",
    "range(5,10)"
   ]
  },
  {
   "cell_type": "markdown",
   "metadata": {},
   "source": [
    "In fact, `range` accepts even a third parameter that allows us to specify a 'step' for the sequence:"
   ]
  },
  {
   "cell_type": "code",
   "execution_count": 37,
   "metadata": {
    "collapsed": false
   },
   "outputs": [
    {
     "data": {
      "text/plain": [
       "[-5, 0, 5, 10, 15]"
      ]
     },
     "execution_count": 37,
     "metadata": {},
     "output_type": "execute_result"
    }
   ],
   "source": [
    "# I want a sequence of all numbers \n",
    "# from -5 to 20 with a step of 5\n",
    "range(-5,20,5)"
   ]
  },
  {
   "cell_type": "markdown",
   "metadata": {},
   "source": [
    "#### A challenge for you!\n",
    "\n",
    "What do you think will be the output of this code?"
   ]
  },
  {
   "cell_type": "code",
   "execution_count": 38,
   "metadata": {
    "collapsed": false
   },
   "outputs": [
    {
     "name": "stdout",
     "output_type": "stream",
     "text": [
      "15\n"
     ]
    }
   ],
   "source": [
    "sequence_of_numbers = range(5,30,5)\n",
    "print(sequence_of_numbers[2])"
   ]
  },
  {
   "cell_type": "markdown",
   "metadata": {},
   "source": [
    "# Code (Applied Geo-example)"
   ]
  },
  {
   "cell_type": "markdown",
   "metadata": {},
   "source": [
    "Let's continue our trips around the world! This time though, we'll do things better, and instead of using a simple URL, we are going to use a real-word geographic data type, that you can use on a web-map or in your favourite GIS software.\n",
    "\n",
    "If you look down below at the `KCL_position` variable you'll see that we're assigning it an apparently complex and scary data structure.  Don't be afraid!  If you look closely enough you will notice that is just made out the \"building blocks\" that we've seen so far: `floats`, `lists`, `strings`..all wrapped comfortably in a cozy `dictionary`!\n",
    "\n",
    "This is simply  a formalised way to represent a *geographic marker* (a pin on the map!) in a format called `GeoJSON`.\n",
    "\n",
    "According to the awesome [Lizy Diamond](https://twitter.com/lyzidiamond?lang=en-gb) \n",
    "\n",
    ">[GeoJSON](http://geojson.org/geojson-spec.html) is an open and popular geographic data format commonly used in web applications. It is an extension of a format called [JSON](http://json.org), which stands for *JavaScript Object Notation*. Basically, JSON is a table turned on its side. GeoJSON extends JSON by adding a section called \"geometry\" such that you can define coordinates for the particular object (point, line, polygon, multi-polygon, etc). A point in a GeoJSON file might look like this:\n",
    "\n",
    "    {\n",
    "      \"type\": \"Feature\",\n",
    "      \"geometry\": {\n",
    "        \"type\": \"Point\",\n",
    "        \"coordinates\": [\n",
    "          -122.65335738658904,\n",
    "          45.512083676585156\n",
    "        ]\n",
    "      },\n",
    "      \"properties\": {\n",
    "        \"name\": \"Hungry Heart Cupcakes\",\n",
    "        \"address\": \"1212 SE Hawthorne Boulevard\",\n",
    "        \"website\": \"http://www.hungryheartcupcakes.com\",\n",
    "        \"gluten free\": \"no\"\n",
    "      }\n",
    "    }\n",
    "    \n",
    ">GeoJSON files have to have both a `\"geometry\"` section and a `\"properties\"` section. The `\"geometry\"` section houses the geographic information of the feature (its location and type) and the `\"properties\"` section houses all of the descriptive information about the feature (like fields in an attribute table). [Source](https://github.com/lyzidiamond/learn-geojson)\n",
    "\n",
    "\n",
    "Now, in order to have our first \"webmap\", we have to re-create such `GeoJSON` structure. \n",
    "\n",
    "As you can see there are two variables containing King's College Longitute/Latitude coordinate position. Unfortunately they are in the wrong data type. Also, the variable `longitude` is not included in the list `KCLCoords` and the list itself is not assigned as a value to the `KCLGeometry`dictionary.\n",
    "\n",
    "Take all the necessary steps to fix the code, using the functions we've seen so far.\n",
    "\n"
   ]
  },
  {
   "cell_type": "code",
   "execution_count": null,
   "metadata": {
    "collapsed": true
   },
   "outputs": [],
   "source": [
    "# don't worry about the following line\n",
    "# I'm simply requesting a module from Python\n",
    "# to have additional functions at my disposal\n",
    "# which usually are not immediately available\n",
    "import json\n",
    "\n",
    "# King's College coordinates\n",
    "# What format are they in? Does it seem appropriate?\n",
    "# How would you convert them back to numbers?\n",
    "longitude = '-0.11596798896789551'\n",
    "latitude = '51.51130657591914'\n",
    "\n",
    "# use the appropriate function to insert the item \n",
    "KCLCoords = [??? , latitude ]\n",
    "\n",
    "# how can you assign KCLCoords to the key KCLGeometry[\"coordinates\"]?\n",
    "KCLGeometry = {\n",
    "        \"type\": \"Point\",\n",
    "        \"coordinates\": ???\n",
    "      }\n",
    "\n",
    "KCL_position = {\n",
    "  \"type\": \"FeatureCollection\",\n",
    "  \"features\": [\n",
    "    {\n",
    "      \"type\": \"Feature\",\n",
    "      \"properties\": {\n",
    "        \"marker-color\": \"#7e7e7e\",\n",
    "        \"marker-size\": \"medium\",\n",
    "        \"marker-symbol\": \"building\",\n",
    "        \"name\": \"KCL\"\n",
    "      },\n",
    "      \"geometry\": KCLGeometry\n",
    "    }\n",
    "  ]\n",
    "}\n",
    "\n",
    "# OUTPUT\n",
    "# -----------------------------------------------------------\n",
    "# I'm justing using the \"imported\" module to print the output\n",
    "# in a nice and formatted way\n",
    "print(json.dumps(KCL_position, indent=4))\n",
    "# here I'm saving the variable to a file on your local machine\n",
    "with open('my-first-marker.geojson', 'w') as outfile:\n",
    "    json.dump(json.dumps(KCL_position, indent=4), outfile)"
   ]
  },
  {
   "cell_type": "markdown",
   "metadata": {},
   "source": [
    "After you've run the code, Python will save a new file called `my-first-marker.geojson` in the folder where you are running the notebook.\n",
    "Try to upload it on [this website (Geojson.io)](http://geojson.io/#map=2/20.0/0.0) and see what it shows!                                               "
   ]
  },
  {
   "cell_type": "markdown",
   "metadata": {
    "collapsed": true
   },
   "source": [
    "**Congratulations on finishing your fifth notebook!**"
   ]
  },
  {
   "cell_type": "markdown",
   "metadata": {},
   "source": [
    "\n",
    "### Further references:\n",
    "\n",
    "General list or resources\n",
    "- [Awesome list of resources](https://github.com/vinta/awesome-python)\n",
    "- [Python Docs](https://docs.python.org/2.7/tutorial/introduction.html)\n",
    "- [HitchHiker's guide to Python](http://docs.python-guide.org/en/latest/intro/learning/)\n",
    "- [Python for Informatics](http://www.pythonlearn.com/book_007.pdf)\n",
    "- [Learn Python the Hard Way - Lists](http://learnpythonthehardway.org/book/ex32.html)\n",
    "- [Learn Python the Hard Way - Dictionaries](http://learnpythonthehardway.org/book/ex39.html)\n",
    "- [CodeAcademy](https://www.codecademy.com/courses/python-beginner-en-pwmb1/0/1)\n",
    "\n"
   ]
  }
 ],
 "metadata": {
  "anaconda-cloud": {},
  "kernelspec": {
   "display_name": "Python [env]",
   "language": "python",
   "name": "Python [env]"
  },
  "language_info": {
   "codemirror_mode": {
    "name": "ipython",
    "version": 2
   },
   "file_extension": ".py",
   "mimetype": "text/x-python",
   "name": "python",
   "nbconvert_exporter": "python",
   "pygments_lexer": "ipython2",
   "version": "2.7.12"
  }
 },
 "nbformat": 4,
 "nbformat_minor": 0
}
