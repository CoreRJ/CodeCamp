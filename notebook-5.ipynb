{
 "cells": [
  {
   "cell_type": "markdown",
   "metadata": {},
   "source": [
    "# Notebook-5: Lists and Dictionaries"
   ]
  },
  {
   "cell_type": "markdown",
   "metadata": {},
   "source": [
    "### Lesson Content \n",
    "\n",
    "- Lists\n",
    "    - Indexing & Slicing\n",
    "    - List operations\n",
    "        - Addition and Mulitplication\n",
    "        - You're (not) in the list!\n",
    "    - List functions\n",
    "        - insert\n",
    "        - append\n",
    "        - index\n",
    "        - len()\n",
    "        - range()\n",
    "- Dictionaries\n",
    "    - Dictionaries Methods\n",
    "\n",
    "\n",
    "Welcome to the fifth Code Camp notebook! In this lesson we'll introduce more advanced *data types* other than the numeric (*integers* and *floats*) and textual (*strings*) that we have seen so far. \n",
    "\n",
    "These new types will allow us to express much more complex concepts with ease."
   ]
  },
  {
   "cell_type": "markdown",
   "metadata": {},
   "source": [
    "# Lists\n",
    "----\n",
    "\n",
    "A *list* (as the name implies) is effectively a collection of items, a comma-separated sequence of elements, grouped together between a pair of square brackets ( *[]* ):"
   ]
  },
  {
   "cell_type": "code",
   "execution_count": 1,
   "metadata": {
    "collapsed": false
   },
   "outputs": [
    {
     "data": {
      "text/plain": [
       "[1, 2, 4, 5]"
      ]
     },
     "execution_count": 1,
     "metadata": {},
     "output_type": "execute_result"
    }
   ],
   "source": [
    "[1,2,4,5]"
   ]
  },
  {
   "cell_type": "markdown",
   "metadata": {},
   "source": [
    "A list is a truly versatile data type: you can use it to group elements from all the other types that we have seen so far!"
   ]
  },
  {
   "cell_type": "code",
   "execution_count": 1,
   "metadata": {
    "collapsed": false
   },
   "outputs": [
    {
     "data": {
      "text/plain": [
       "['hi I am', 2312, 'mixing', 6.6, 90, 'strings, integers and floats']"
      ]
     },
     "execution_count": 1,
     "metadata": {},
     "output_type": "execute_result"
    }
   ],
   "source": [
    "['hi I am', 2312, 'mixing', 6.6, 90, 'strings, integers and floats' ]"
   ]
  },
  {
   "cell_type": "markdown",
   "metadata": {},
   "source": [
    "## Indexing & Slicing\n",
    "To access an element within a list you use an **index**. This is a new and important concept, so try to make it truly yours before moving forward in the notebook.\n",
    "\n",
    "Let's make an example. Say we want to fetch the second item in a list. We will need to access it via the *index notation* like so:"
   ]
  },
  {
   "cell_type": "code",
   "execution_count": 5,
   "metadata": {
    "collapsed": false
   },
   "outputs": [
    {
     "name": "stdout",
     "output_type": "stream",
     "text": [
      "2312\n"
     ]
    }
   ],
   "source": [
    "myList = ['hi', 2312, 'mixing', 6.6, 90, 'strings, integers and floats' ]\n",
    "secondElement =  myList[1]\n",
    "print secondElement"
   ]
  },
  {
   "cell_type": "markdown",
   "metadata": {},
   "source": [
    "See what I've done there?\n",
    "\n",
    "I've assigned to the the variable `myList` a list with 6 elements. Then I accessed its second element by writing that element's index between a pair of square brackets (next to the list's name). Lastly, I've assinged the second element to another variable called `secondElement` which I then told Python to `print`.\n",
    "\n",
    "Wait a sec- didn't I say *second* element? Why then the index is 1?\n",
    "\n",
    "Good observation! That's because list's indexes are *zero-based* (a fancy way to say that the count starts from 0 insted that from 1).\n",
    "\n",
    "To recap:"
   ]
  },
  {
   "cell_type": "code",
   "execution_count": 16,
   "metadata": {
    "collapsed": false
   },
   "outputs": [
    {
     "name": "stdout",
     "output_type": "stream",
     "text": [
      "The first element is :first\n",
      "The third element is :third\n"
     ]
    }
   ],
   "source": [
    "myNewList = ['first', 'second', 'third']\n",
    "print \"The first element is :\" + myNewList[0]\n",
    "print \"The third element is :\" + myNewList[2]"
   ]
  },
  {
   "cell_type": "markdown",
   "metadata": {},
   "source": [
    "#### A challenge for you!"
   ]
  },
  {
   "cell_type": "code",
   "execution_count": 11,
   "metadata": {
    "collapsed": false
   },
   "outputs": [
    {
     "ename": "SyntaxError",
     "evalue": "invalid syntax (<ipython-input-11-118fdbac7b25>, line 2)",
     "output_type": "error",
     "traceback": [
      "\u001b[1;36m  File \u001b[1;32m\"<ipython-input-11-118fdbac7b25>\"\u001b[1;36m, line \u001b[1;32m2\u001b[0m\n\u001b[1;33m    print \"The second element is :\" + myNewList[???]\u001b[0m\n\u001b[1;37m                                                ^\u001b[0m\n\u001b[1;31mSyntaxError\u001b[0m\u001b[1;31m:\u001b[0m invalid syntax\n"
     ]
    }
   ],
   "source": [
    "# print the second element in the list\n",
    "print \"The second element is :\" + myNewList[???]"
   ]
  },
  {
   "cell_type": "markdown",
   "metadata": {},
   "source": [
    "What happens when you try to access an element using a wrong index? Say, for instance, an index that is doesn't exist in the list. In that case Python, as usual will inform us with an explicative *error message* that we've attempted to do something wrong, pointing us to the faulty line of code."
   ]
  },
  {
   "cell_type": "code",
   "execution_count": 20,
   "metadata": {
    "collapsed": false
   },
   "outputs": [
    {
     "ename": "IndexError",
     "evalue": "list index out of range",
     "output_type": "error",
     "traceback": [
      "\u001b[0;31m---------------------------------------------------------------------------\u001b[0m",
      "\u001b[0;31mIndexError\u001b[0m                                Traceback (most recent call last)",
      "\u001b[0;32m<ipython-input-20-777fadaac723>\u001b[0m in \u001b[0;36m<module>\u001b[0;34m()\u001b[0m\n\u001b[0;32m----> 1\u001b[0;31m \u001b[0;32mprint\u001b[0m \u001b[0mmyNewList\u001b[0m\u001b[0;34m[\u001b[0m\u001b[0;36m200\u001b[0m\u001b[0;34m]\u001b[0m\u001b[0;34m\u001b[0m\u001b[0m\n\u001b[0m",
      "\u001b[0;31mIndexError\u001b[0m: list index out of range"
     ]
    }
   ],
   "source": [
    "print myNewList[200]"
   ]
  },
  {
   "cell_type": "markdown",
   "metadata": {},
   "source": [
    "#### A challenge for you!"
   ]
  },
  {
   "cell_type": "markdown",
   "metadata": {},
   "source": [
    "Do you remember the past lesson on *syntax errors* and *exceptions*? What is the error message displayed in the code above? Is it an *exception* or something's wrong with the *syntax*? Can you find the explanation for what's going in the [Official Documentation](https://www.google.ie/url?sa=t&rct=j&q=&esrc=s&source=web&cd=3&ved=0ahUKEwiN3s-0qr7OAhVGIcAKHYBLAE4QFggoMAI&url=https%3A%2F%2Fdocs.python.org%2F2%2Ftutorial%2Ferrors.html&usg=AFQjCNG6q1juN8ZVXOEqOYWxE18Cv5X_qw&sig2=o92WLjkV1PNNfgpW1w9n0g&cad=rja)? "
   ]
  },
  {
   "cell_type": "markdown",
   "metadata": {},
   "source": [
    "Notice that, even if you didn't know it, you have already been working with a similar data structure so far. *Strings* are in facts sequences themeselves, and elements within a string can be accessed too via a *zero-based index*."
   ]
  },
  {
   "cell_type": "code",
   "execution_count": 3,
   "metadata": {
    "collapsed": false
   },
   "outputs": [
    {
     "name": "stdout",
     "output_type": "stream",
     "text": [
      "A\n"
     ]
    }
   ],
   "source": [
    "myStringVariable = \"ABC\"\n",
    "print myStringVariable[0]"
   ]
  },
  {
   "cell_type": "markdown",
   "metadata": {},
   "source": [
    "If you want to access more than one item at a time, you can specify a range using  two numbers (the initial and final index position), separated by a comma.  This operation will allow you to retrieve a portion of the list. This operation is called *list slicing* (Again keep in mind that indexes start from 0!)."
   ]
  },
  {
   "cell_type": "code",
   "execution_count": 2,
   "metadata": {
    "collapsed": false
   },
   "outputs": [
    {
     "name": "stdout",
     "output_type": "stream",
     "text": [
      "THIS \n"
     ]
    }
   ],
   "source": [
    "shortSentence = \"Now I'll just print THIS word, between the 20th and the 25th character: \"\n",
    "print shortSentence[20:25] "
   ]
  },
  {
   "cell_type": "markdown",
   "metadata": {},
   "source": [
    "#### A challenge for you!"
   ]
  },
  {
   "cell_type": "code",
   "execution_count": 4,
   "metadata": {
    "collapsed": false
   },
   "outputs": [
    {
     "ename": "SyntaxError",
     "evalue": "invalid syntax (<ipython-input-4-bf9efc618009>, line 3)",
     "output_type": "error",
     "traceback": [
      "\u001b[1;36m  File \u001b[1;32m\"<ipython-input-4-bf9efc618009>\"\u001b[1;36m, line \u001b[1;32m3\u001b[0m\n\u001b[1;33m    print shortSentence2[???:???]\u001b[0m\n\u001b[1;37m                         ^\u001b[0m\n\u001b[1;31mSyntaxError\u001b[0m\u001b[1;31m:\u001b[0m invalid syntax\n"
     ]
    }
   ],
   "source": [
    "# print from the second to the fourth (included) character in the following string\n",
    "shortSentence2 = \"A12B34c7.0\"\n",
    "print shortSentence2[???:???] "
   ]
  },
  {
   "cell_type": "markdown",
   "metadata": {},
   "source": [
    "To print from a certain position onwards simply omit the final index (the revers applies to get all characters *before* a given index)"
   ]
  },
  {
   "cell_type": "code",
   "execution_count": 6,
   "metadata": {
    "collapsed": false
   },
   "outputs": [
    {
     "name": "stdout",
     "output_type": "stream",
     "text": [
      "Now I'll just print the last two words starting from the 17th position:  HERE onwards\n"
     ]
    }
   ],
   "source": [
    "stringToPrint = \"I will print from HERE onwards\"\n",
    "print \"Now I'll just print the last two words starting from the 17th position: \"+ stringToPrint[17:] "
   ]
  },
  {
   "cell_type": "markdown",
   "metadata": {},
   "source": [
    "strings have also plenty of methods that might prove to be quite handy, for a larger overview checkout [this reference](https://en.wikibooks.org/wiki/Python_Programming/Variables_and_Strings) "
   ]
  },
  {
   "cell_type": "markdown",
   "metadata": {},
   "source": [
    "## List operations\n",
    "\n",
    "As we started to see, there are certain operations that you can do with lists to manipulate their content.\n",
    "\n",
    "A good example of this is the re-assignement of an element:"
   ]
  },
  {
   "cell_type": "code",
   "execution_count": 17,
   "metadata": {
    "collapsed": false
   },
   "outputs": [
    {
     "name": "stdout",
     "output_type": "stream",
     "text": [
      "['first', 'second', 'third']\n",
      "['first', 'new element', 'third']\n"
     ]
    }
   ],
   "source": [
    "# I'm going to reassing the item in the 2nd position\n",
    "print myNewList\n",
    "myNewList[1] = 'new element'\n",
    "print myNewList"
   ]
  },
  {
   "cell_type": "markdown",
   "metadata": {},
   "source": [
    "This operation shouldn't surprise you too much. What we've done is simply accessing the item via its *index*, and setting it to a new value using the *assignement* operator (the \"=\" sign ).  It's effectively similar to assigning directly the variable contained in the list at the given index to a certain value.\n",
    "\n",
    "\n",
    "### Addition and Multiplication\n",
    "\n",
    "You can also operate on entire lists themeselves, rather than on their elements. For instance, given two lists you might want to add them "
   ]
  },
  {
   "cell_type": "code",
   "execution_count": 35,
   "metadata": {
    "collapsed": false
   },
   "outputs": [
    {
     "name": "stdout",
     "output_type": "stream",
     "text": [
      "['Babbage', 'Lovelace', 'Torvald', 'Knuth']\n"
     ]
    }
   ],
   "source": [
    "britishProgrammers = [\"Babbage\", \"Lovelace\"]\n",
    "nonBritishProgrammers = [\"Torvald\", \"Knuth\"]\n",
    "famousProgrammers = britishProgrammers + nonBritishProgrammers\n",
    "print famousProgrammers"
   ]
  },
  {
   "cell_type": "markdown",
   "metadata": {},
   "source": [
    "(you can even multiply them, although for this particular instance is kinda pointless)"
   ]
  },
  {
   "cell_type": "code",
   "execution_count": 43,
   "metadata": {
    "collapsed": false
   },
   "outputs": [
    {
     "name": "stdout",
     "output_type": "stream",
     "text": [
      "['Babbage', 'Ada Lovelace', 'Babbage', 'Ada Lovelace']\n"
     ]
    }
   ],
   "source": [
    "print britishProgrammers * 2"
   ]
  },
  {
   "cell_type": "markdown",
   "metadata": {},
   "source": [
    "#### A challenge for you!"
   ]
  },
  {
   "cell_type": "code",
   "execution_count": 27,
   "metadata": {
    "collapsed": false
   },
   "outputs": [
    {
     "ename": "SyntaxError",
     "evalue": "invalid syntax (<ipython-input-27-c5890f87e364>, line 2)",
     "output_type": "error",
     "traceback": [
      "\u001b[0;36m  File \u001b[0;32m\"<ipython-input-27-c5890f87e364>\"\u001b[0;36m, line \u001b[0;32m2\u001b[0m\n\u001b[0;31m    otherNonBritishProgrammers = [\"Wozniak\" ??? \"Van Rossum\"]\u001b[0m\n\u001b[0m                                            ^\u001b[0m\n\u001b[0;31mSyntaxError\u001b[0m\u001b[0;31m:\u001b[0m invalid syntax\n"
     ]
    }
   ],
   "source": [
    "# check the syntax to properly define a new list \n",
    "otherNonBritishProgrammers = [\"Wozniak\" ??? \"Van Rossum\"]\n",
    "# then print all the non british programmers\n",
    "print nonBritishProgrammers ??? otherNonBritishProgrammers"
   ]
  },
  {
   "cell_type": "markdown",
   "metadata": {},
   "source": [
    "###  You're (not) in the list!\n",
    "\n",
    "If you want to easily check if an item is present in a list you might want to use the **in** operator with the following format:\n",
    "\n",
    "```python\n",
    "element in list\n",
    "```\n",
    "\n",
    "The **in** operator will return `True` if the item is present, and `False` otherwise"
   ]
  },
  {
   "cell_type": "code",
   "execution_count": 30,
   "metadata": {
    "collapsed": false
   },
   "outputs": [
    {
     "name": "stdout",
     "output_type": "stream",
     "text": [
      "True\n",
      "False\n"
     ]
    }
   ],
   "source": [
    "print ('Lovelace' in britishProgrammers)\n",
    "print ('Lovelace' in nonBritishProgrammers)"
   ]
  },
  {
   "cell_type": "markdown",
   "metadata": {},
   "source": [
    "Likewise, if you want to check if an item is not present in a list, you can use the **not in ** operator who will return `True` if the item is not present, and `False` if it is present in the list (isn't it great how easily you can express such concepts in Python?)"
   ]
  },
  {
   "cell_type": "code",
   "execution_count": 31,
   "metadata": {
    "collapsed": false
   },
   "outputs": [
    {
     "name": "stdout",
     "output_type": "stream",
     "text": [
      "False\n",
      "True\n"
     ]
    }
   ],
   "source": [
    "print ('Lovelace' not in britishProgrammers)\n",
    "print ('Lovelace' not in nonBritishProgrammers)"
   ]
  },
  {
   "cell_type": "markdown",
   "metadata": {},
   "source": [
    "#### A challenge for you!"
   ]
  },
  {
   "cell_type": "code",
   "execution_count": 41,
   "metadata": {
    "collapsed": false
   },
   "outputs": [
    {
     "ename": "SyntaxError",
     "evalue": "invalid syntax (<ipython-input-41-97dff6b6d544>, line 9)",
     "output_type": "error",
     "traceback": [
      "\u001b[0;36m  File \u001b[0;32m\"<ipython-input-41-97dff6b6d544>\"\u001b[0;36m, line \u001b[0;32m9\u001b[0m\n\u001b[0;31m    if ??? in britishProgrammersNames:\u001b[0m\n\u001b[0m       ^\u001b[0m\n\u001b[0;31mSyntaxError\u001b[0m\u001b[0;31m:\u001b[0m invalid syntax\n"
     ]
    }
   ],
   "source": [
    "# Complete the missing bits\n",
    "# to  give a name to Mrs. Lovelace\n",
    "\n",
    "britishProgrammers = [\"Babbage\", \"Lovelace\"]\n",
    "britishProgrammersNames = [\"Charles\", \"Ada\"]\n",
    "\n",
    "britishProgrammers[1] = britishProgrammersNames[1] +\" \"+ britishProgrammers[1]\n",
    "\n",
    "if ??? in britishProgrammersNames:\n",
    "  print \"Mrs. \"+ ???[1] +\" is considered to be the first woman programmer\" \n",
    "else:\n",
    "  print \"Oops..name not found!\"\n"
   ]
  },
  {
   "cell_type": "markdown",
   "metadata": {},
   "source": [
    "## List functions\n",
    "\n",
    "So far we have seen some ways to operate on lists, like *indexes* and *list slicing*. There are also other ways,  like the functions `range`, `len`, `append`, `insert` and `index` you can use to manipulate lists.\n",
    "\n",
    "*SIDENOTE:* Notice that I've started to use the term *function*, which is something that we haven't really seen so far.  Don't stress too much about it (we'll cover them in a coming notebook) but, just so you know, you can think of them as mathematical functions: operators that take something in input, perform some calculation on it, and return something in output. \n",
    "\n",
    "You tell Python to *execute a function* by specifying the function's name, followed by a set of parenthesis. The parenthesis serve also to contain the optional input. The functions `range` and `len` are a good examples:\n",
    "\n",
    "```python\n",
    "function_to_be_executed( input )\n",
    "# i.e. len(britishProgrammers)\n",
    "#      range(britishProgrammers)\n",
    "\n",
    "```\n",
    "\n",
    "The functions `append`, `insert` and `index` are instead used a bit differently. They are in fact properly called *methods* of the list *class* (Again, waaaay ahed of ourselves here, but just to introduce you to two words you will come meet again in your future career as a geocomp'er). \n",
    "\n",
    "Suffice to say that, in order to use them, you always need to prepend the name of list you whish to act upon, like so:\n",
    "\n",
    "```python\n",
    "name_of_list.function_to_use( input )\n",
    "# i.e. britishProgrammers.append( \"something\" )\n",
    "```\n",
    "\n",
    "The logic being, that, since they are functions specific to a certain category of things (the class list in this case) it seems reasonable to invoke them as if they came out of the category itself. \n",
    "\n",
    "\n",
    "\n",
    "But enough with these advanced concepts, they are much easier to use in practice! Let's start by taking a closer look at list functions now."
   ]
  },
  {
   "cell_type": "markdown",
   "metadata": {},
   "source": [
    "### Append\n",
    "\n",
    "With `append` you can insert an element into a list. Remember that before we could only change the content of an item but not really *add* an item to a list (well, ok, you could technically add a one-item list to another..)"
   ]
  },
  {
   "cell_type": "code",
   "execution_count": 44,
   "metadata": {
    "collapsed": false
   },
   "outputs": [
    {
     "name": "stdout",
     "output_type": "stream",
     "text": [
      "['Babbage', 'Ada Lovelace', 'Turing']\n"
     ]
    }
   ],
   "source": [
    "britishProgrammers.append(\"Turing\")\n",
    "print britishProgrammers"
   ]
  },
  {
   "cell_type": "markdown",
   "metadata": {},
   "source": [
    "### Insert\n",
    "\n",
    "That's cool, but as you noticed `append` inserts the new item as the last element in the list. What if you want it to go somewhere else?\n",
    "\n",
    "With `insert` you can also specify a position"
   ]
  },
  {
   "cell_type": "code",
   "execution_count": 51,
   "metadata": {
    "collapsed": false
   },
   "outputs": [
    {
     "name": "stdout",
     "output_type": "stream",
     "text": [
      "['Torvald', 'Swartz', 'Swartz', 'Knuth']\n",
      "['Torvald', 'Swartz', 'Swartz', 'Swartz', 'Knuth']\n"
     ]
    }
   ],
   "source": [
    "print nonBritishProgrammers\n",
    "nonBritishProgrammers.insert(1, \"Swartz\")\n",
    "print nonBritishProgrammers"
   ]
  },
  {
   "cell_type": "markdown",
   "metadata": {},
   "source": [
    "### Index\n",
    "\n",
    "Lastly, with the `index` method you can easily ask Python which is the index position for a given item"
   ]
  },
  {
   "cell_type": "code",
   "execution_count": 52,
   "metadata": {
    "collapsed": false
   },
   "outputs": [
    {
     "name": "stdout",
     "output_type": "stream",
     "text": [
      "4\n"
     ]
    }
   ],
   "source": [
    "# Say you want to know in which position \n",
    "# is now situated the item \"Knuth\"\n",
    "print nonBritishProgrammers.index(\"Knuth\")"
   ]
  },
  {
   "cell_type": "markdown",
   "metadata": {},
   "source": [
    "#### A challenge for you!"
   ]
  },
  {
   "cell_type": "markdown",
   "metadata": {},
   "source": [
    "Add the famous [Grace Hopper](https://en.wikipedia.org/wiki/Grace_Hopper) (inventress of the first compiler!) to the list non british programmers. And then print its index"
   ]
  },
  {
   "cell_type": "code",
   "execution_count": 23,
   "metadata": {
    "collapsed": false
   },
   "outputs": [
    {
     "ename": "IndexError",
     "evalue": "list assignment index out of range",
     "output_type": "error",
     "traceback": [
      "\u001b[0;31m---------------------------------------------------------------------------\u001b[0m",
      "\u001b[0;31mIndexError\u001b[0m                                Traceback (most recent call last)",
      "\u001b[0;32m<ipython-input-23-a08d4fd47ab4>\u001b[0m in \u001b[0;36m<module>\u001b[0;34m()\u001b[0m\n\u001b[0;32m----> 1\u001b[0;31m \u001b[0mbritishProgrammers\u001b[0m\u001b[0;34m[\u001b[0m\u001b[0;36m2\u001b[0m\u001b[0;34m]\u001b[0m\u001b[0;34m=\u001b[0m\u001b[0;36m4\u001b[0m\u001b[0;34m\u001b[0m\u001b[0m\n\u001b[0m\u001b[1;32m      2\u001b[0m \u001b[0;32mprint\u001b[0m \u001b[0mbritishProgrammers\u001b[0m\u001b[0;34m\u001b[0m\u001b[0m\n",
      "\u001b[0;31mIndexError\u001b[0m: list assignment index out of range"
     ]
    }
   ],
   "source": [
    "britishProgrammers.???(\"Hopper\") \n",
    "print britishProgrammers.???(\"Hopper\")"
   ]
  },
  {
   "cell_type": "markdown",
   "metadata": {},
   "source": [
    "### len()\n",
    "\n",
    "Cool, so those were some of the *methods you can invoke on* a list. Let's focus now on some *functions* that take lists as input.\n",
    "\n",
    "With the function `len` you can immediately know the `len`-gth of a given list:"
   ]
  },
  {
   "cell_type": "code",
   "execution_count": 69,
   "metadata": {
    "collapsed": false
   },
   "outputs": [
    {
     "name": "stdout",
     "output_type": "stream",
     "text": [
      "3\n"
     ]
    }
   ],
   "source": [
    "print len(britishProgrammers)"
   ]
  },
  {
   "cell_type": "code",
   "execution_count": 70,
   "metadata": {
    "collapsed": false
   },
   "outputs": [
    {
     "name": "stdout",
     "output_type": "stream",
     "text": [
      "There are 5 elements in the list nonBritishProgrammers\n"
     ]
    }
   ],
   "source": [
    "length_of_non_brits = len(nonBritishProgrammers)\n",
    "# notice the casting from Int to Str!\n",
    "print \"There are \" + str(length_of_list) + \" elements in the list nonBritishProgrammers\""
   ]
  },
  {
   "cell_type": "markdown",
   "metadata": {},
   "source": [
    "#### A challenge for you!"
   ]
  },
  {
   "cell_type": "code",
   "execution_count": 71,
   "metadata": {
    "collapsed": false
   },
   "outputs": [
    {
     "ename": "SyntaxError",
     "evalue": "invalid syntax (<ipython-input-71-b19d9be70e14>, line 2)",
     "output_type": "error",
     "traceback": [
      "\u001b[0;36m  File \u001b[0;32m\"<ipython-input-71-b19d9be70e14>\"\u001b[0;36m, line \u001b[0;32m2\u001b[0m\n\u001b[0;31m    length_of_brits = ???(britishProgrammers)\u001b[0m\n\u001b[0m                      ^\u001b[0m\n\u001b[0;31mSyntaxError\u001b[0m\u001b[0;31m:\u001b[0m invalid syntax\n"
     ]
    }
   ],
   "source": [
    "# complete the missing bits\n",
    "length_of_brits = ???(britishProgrammers)\n",
    "print \"Is nonBritishProgrammers' length bigger than britishProgrammers? \" +  ???( length_of_non_brits > length_of_brits )"
   ]
  },
  {
   "cell_type": "markdown",
   "metadata": {},
   "source": [
    "### range()\n",
    "\n",
    "The function `range` is used instead to create a sequence of values. It accepts at *least one* parameter as input, and always returns a list as output. It's quite handy for instance when you have to type lots of sequentially ordered numbers:"
   ]
  },
  {
   "cell_type": "code",
   "execution_count": 75,
   "metadata": {
    "collapsed": false
   },
   "outputs": [
    {
     "data": {
      "text/plain": [
       "[0, 1, 2, 3, 4, 5, 6, 7, 8, 9]"
      ]
     },
     "execution_count": 75,
     "metadata": {},
     "output_type": "execute_result"
    }
   ],
   "source": [
    "range(10)"
   ]
  },
  {
   "cell_type": "code",
   "execution_count": 76,
   "metadata": {
    "collapsed": false
   },
   "outputs": [
    {
     "data": {
      "text/plain": [
       "list"
      ]
     },
     "execution_count": 76,
     "metadata": {},
     "output_type": "execute_result"
    }
   ],
   "source": [
    "# note: to check if the output of range()\n",
    "# is effectively a list, \n",
    "# we can use the type() function\n",
    "type(range(10))"
   ]
  },
  {
   "cell_type": "markdown",
   "metadata": {},
   "source": [
    "Notice that before I said that it accepts *at least* one parameter as input. If you look in fact at the ouputted numbers you'll notice that the function assumes you are starting the range from 0. To define the lower boundary of your range, use have to use *two input parameters*:"
   ]
  },
  {
   "cell_type": "code",
   "execution_count": 77,
   "metadata": {
    "collapsed": false
   },
   "outputs": [
    {
     "data": {
      "text/plain": [
       "[5, 6, 7, 8, 9]"
      ]
     },
     "execution_count": 77,
     "metadata": {},
     "output_type": "execute_result"
    }
   ],
   "source": [
    "# what is different in the ouput?\n",
    "range(5,10)"
   ]
  },
  {
   "cell_type": "markdown",
   "metadata": {},
   "source": [
    "`range` accepts even a third parameter! Which is in fact used to specify a given step for your sequence:"
   ]
  },
  {
   "cell_type": "code",
   "execution_count": 78,
   "metadata": {
    "collapsed": false
   },
   "outputs": [
    {
     "data": {
      "text/plain": [
       "[5, 10, 15]"
      ]
     },
     "execution_count": 78,
     "metadata": {},
     "output_type": "execute_result"
    }
   ],
   "source": [
    "# I want a sequence of all numbers from 5 to 20\n",
    "# with a step of 5\n",
    "range(5,20,5)"
   ]
  },
  {
   "cell_type": "markdown",
   "metadata": {},
   "source": [
    "#### A challenge for you!"
   ]
  },
  {
   "cell_type": "code",
   "execution_count": 87,
   "metadata": {
    "collapsed": false
   },
   "outputs": [
    {
     "name": "stdout",
     "output_type": "stream",
     "text": [
      "15\n"
     ]
    }
   ],
   "source": [
    "# what do you think will be the output of this code?\n",
    "sequence_of_numbers = range(5,30,5)\n",
    "print(sequence_of_numbers[2])"
   ]
  },
  {
   "cell_type": "markdown",
   "metadata": {},
   "source": [
    "# Dictionaries\n",
    "----\n",
    "\n",
    "\n",
    "Dictionaries are another kind of data structure that is frequently used in Python (truth be to told, same as lists, these concepts can be found also in other programming languages, often under a different name. For instance, structures like Python dictionaries might be somewhere else referred to as \"maps\" or \"associative arrays\").\n",
    "\n",
    "According to the [Official Docs](https://docs.python.org/2/tutorial/datastructures.html#dictionaries):\n",
    "\n",
    "> It is best to think of a dictionary as an unordered set of key: value pairs, with the requirement that the keys are unique (within one dictionary). A pair of braces creates an empty dictionary: {}\n",
    "\n",
    "Thus dictionaries are particular data strucutre that map a set of keys to a set of values like so:"
   ]
  },
  {
   "cell_type": "code",
   "execution_count": 94,
   "metadata": {
    "collapsed": false
   },
   "outputs": [
    {
     "name": "stdout",
     "output_type": "stream",
     "text": [
      "{'secondKey': 'second value', 8.0: [5, 'jon'], 3: True, 'firstKey': 'value'}\n"
     ]
    }
   ],
   "source": [
    "myDict = {\"firstKey\": \"value\",\n",
    "          \"secondKey\": \"second value\",\n",
    "          3: True,\n",
    "          8.0: [5, 'jon'] \n",
    "         }\n",
    "print myDict"
   ]
  },
  {
   "cell_type": "markdown",
   "metadata": {},
   "source": [
    "As you can see every kind of data type can go into a dictionary. The only constrain that the key type should always be *immutable* (which basically means that you can use as keys any data type you've seen so far, apart from lists and dictionaries themeselves - for more on the subject of (im)mutability checkout [this SO answer](http://stackoverflow.com/a/8059504) )."
   ]
  },
  {
   "cell_type": "code",
   "execution_count": 93,
   "metadata": {
    "collapsed": false
   },
   "outputs": [
    {
     "ename": "TypeError",
     "evalue": "unhashable type: 'list'",
     "output_type": "error",
     "traceback": [
      "\u001b[0;31m---------------------------------------------------------------------------\u001b[0m",
      "\u001b[0;31mTypeError\u001b[0m                                 Traceback (most recent call last)",
      "\u001b[0;32m<ipython-input-93-ec5f3725560a>\u001b[0m in \u001b[0;36m<module>\u001b[0;34m()\u001b[0m\n\u001b[1;32m      1\u001b[0m \u001b[0;31m# this will result in an error\u001b[0m\u001b[0;34m\u001b[0m\u001b[0;34m\u001b[0m\u001b[0m\n\u001b[0;32m----> 2\u001b[0;31m \u001b[0mmyFaultyDict\u001b[0m \u001b[0;34m=\u001b[0m \u001b[0;34m{\u001b[0m\u001b[0;34m[\u001b[0m\u001b[0;34m\"firstKey\"\u001b[0m\u001b[0;34m,\u001b[0m \u001b[0;36m4\u001b[0m\u001b[0;34m]\u001b[0m\u001b[0;34m:\u001b[0m \u001b[0;34m\"value\"\u001b[0m\u001b[0;34m,\u001b[0m \u001b[0;34m\"secondKey\"\u001b[0m\u001b[0;34m:\u001b[0m \u001b[0;34m\"second value\"\u001b[0m\u001b[0;34m,\u001b[0m \u001b[0;36m3\u001b[0m\u001b[0;34m:\u001b[0m \u001b[0mTrue\u001b[0m\u001b[0;34m,\u001b[0m \u001b[0;36m8.0\u001b[0m\u001b[0;34m:\u001b[0m \u001b[0;34m[\u001b[0m\u001b[0;36m5\u001b[0m\u001b[0;34m,\u001b[0m \u001b[0;34m'jon'\u001b[0m\u001b[0;34m]\u001b[0m \u001b[0;34m}\u001b[0m\u001b[0;34m\u001b[0m\u001b[0m\n\u001b[0m",
      "\u001b[0;31mTypeError\u001b[0m: unhashable type: 'list'"
     ]
    }
   ],
   "source": [
    "# this will result in an error\n",
    "myFaultyDict = {[\"firstKey\", 4]: \"value\", \"secondKey\": \"second value\", 3: True, 8.0: [5, 'jon'] }"
   ]
  },
  {
   "cell_type": "markdown",
   "metadata": {},
   "source": [
    "Similarly to lists, accessing an element in a dictionary is done specifying an index within a pair of square brackets (*[]*). The difference is that the index is not the position of the element, but rather the *key* in the *key:value* pair.\n",
    "\n",
    "(SIDENOTE: You can, in a similar way, think of lists as dictionaries with integers as keys!)"
   ]
  },
  {
   "cell_type": "code",
   "execution_count": 95,
   "metadata": {
    "collapsed": false
   },
   "outputs": [
    {
     "name": "stdout",
     "output_type": "stream",
     "text": [
      "second value\n"
     ]
    }
   ],
   "source": [
    "print myDict[\"secondKey\"]"
   ]
  },
  {
   "cell_type": "markdown",
   "metadata": {},
   "source": [
    "#### A challenge for you!"
   ]
  },
  {
   "cell_type": "code",
   "execution_count": 98,
   "metadata": {
    "collapsed": false
   },
   "outputs": [
    {
     "ename": "SyntaxError",
     "evalue": "invalid syntax (<ipython-input-98-b74321b67a60>, line 4)",
     "output_type": "error",
     "traceback": [
      "\u001b[0;36m  File \u001b[0;32m\"<ipython-input-98-b74321b67a60>\"\u001b[0;36m, line \u001b[0;32m4\u001b[0m\n\u001b[0;31m    print myDict[???]\u001b[0m\n\u001b[0m                 ^\u001b[0m\n\u001b[0;31mSyntaxError\u001b[0m\u001b[0;31m:\u001b[0m invalid syntax\n"
     ]
    }
   ],
   "source": [
    "# print the value of the third key\n",
    "# hint: remember that is not a string, \n",
    "# so there's no need to use the quotes (\"\")\n",
    "print myDict[???]"
   ]
  },
  {
   "cell_type": "markdown",
   "metadata": {},
   "source": [
    "Even when it comes to error messages, dicts and lists behave similarly. If you try to access a dict using a missing key, Python raises an *exception* (What is the name of the exception? Can you find it the Official Docs?):"
   ]
  },
  {
   "cell_type": "code",
   "execution_count": 99,
   "metadata": {
    "collapsed": false
   },
   "outputs": [
    {
     "ename": "KeyError",
     "evalue": "99",
     "output_type": "error",
     "traceback": [
      "\u001b[0;31m---------------------------------------------------------------------------\u001b[0m",
      "\u001b[0;31mKeyError\u001b[0m                                  Traceback (most recent call last)",
      "\u001b[0;32m<ipython-input-99-3abdb049536e>\u001b[0m in \u001b[0;36m<module>\u001b[0;34m()\u001b[0m\n\u001b[0;32m----> 1\u001b[0;31m \u001b[0;32mprint\u001b[0m \u001b[0mmyDict\u001b[0m\u001b[0;34m[\u001b[0m\u001b[0;36m99\u001b[0m\u001b[0;34m]\u001b[0m\u001b[0;34m\u001b[0m\u001b[0m\n\u001b[0m",
      "\u001b[0;31mKeyError\u001b[0m: 99"
     ]
    }
   ],
   "source": [
    "print myDict[99]"
   ]
  },
  {
   "cell_type": "markdown",
   "metadata": {},
   "source": [
    "#### A challenge for you!"
   ]
  },
  {
   "cell_type": "code",
   "execution_count": 121,
   "metadata": {
    "collapsed": false
   },
   "outputs": [
    {
     "name": "stdout",
     "output_type": "stream",
     "text": [
      "first\n"
     ]
    }
   ],
   "source": [
    "# let's dive deeper into dict indexing - inception style!\n",
    "# what is going to printed as output?\n",
    "# NOTE: I apologize in advance,\n",
    "# this is the purposefully both the most convoluted \n",
    "# and the most pointless\n",
    "# dictionary ever\n",
    "inceptionDict = {\n",
    "    2: \"first\",\n",
    "    \"second\": 2,\n",
    "    True: False,\n",
    "    99: [9.0, \"beep\", \"boop\"],\n",
    "    13:2,\n",
    "    14:13\n",
    "}\n",
    "\n",
    "print inceptionDict[inceptionDict[inceptionDict[14]]]"
   ]
  },
  {
   "cell_type": "markdown",
   "metadata": {},
   "source": [
    "Like list, you can check the presence/absence of a value in a dictionary, using the *in* / *not in* operators."
   ]
  },
  {
   "cell_type": "code",
   "execution_count": 124,
   "metadata": {
    "collapsed": false
   },
   "outputs": [
    {
     "name": "stdout",
     "output_type": "stream",
     "text": [
      "True\n",
      "False\n"
     ]
    }
   ],
   "source": [
    "print \"second\" in inceptionDict\n",
    "print True not in inceptionDict"
   ]
  },
  {
   "cell_type": "markdown",
   "metadata": {},
   "source": [
    "Compared to lists though, dictionaries have the dedicated *get() method* which allows not only to fetch the *value* indexed by the corresponding *key*, but also to specify a predefined value, in case the key does not exist:"
   ]
  },
  {
   "cell_type": "code",
   "execution_count": 126,
   "metadata": {
    "collapsed": false
   },
   "outputs": [
    {
     "name": "stdout",
     "output_type": "stream",
     "text": [
      "this is the pre-defined output value in case something goes wrong\n"
     ]
    }
   ],
   "source": [
    "print inceptionDict.get(\"non_existing_key\", \"this is the pre-defined output value in case something goes wrong\" )"
   ]
  },
  {
   "cell_type": "markdown",
   "metadata": {},
   "source": [
    "### Dictionary Methods\n",
    "\n",
    "We are going to see in the next notebook how to programmatically access values in a dictionary. For now, suffice to say that also dicts have (again, similarly to lists) *methods* you can *invoke on them*.\n",
    "\n",
    "Say you want to get all the *keys*. Just use:"
   ]
  },
  {
   "cell_type": "code",
   "execution_count": 1,
   "metadata": {
    "collapsed": false
   },
   "outputs": [
    {
     "name": "stdout",
     "output_type": "stream",
     "text": [
      "['Charles', 'Alan', 'Ada']\n"
     ]
    }
   ],
   "source": [
    "dictionary = {\n",
    "    \"Charles\": \"Babbage\",\n",
    "    \"Ada\": \"Lovelace\",\n",
    "    \"Alan\":\"Turing\"\n",
    "}\n",
    "\n",
    "print dictionary.keys()"
   ]
  },
  {
   "cell_type": "markdown",
   "metadata": {},
   "source": [
    "Can you guess what is the *method* name for accessing the values?"
   ]
  },
  {
   "cell_type": "code",
   "execution_count": 2,
   "metadata": {
    "collapsed": false
   },
   "outputs": [
    {
     "name": "stdout",
     "output_type": "stream",
     "text": [
      "['Babbage', 'Turing', 'Lovelace']\n"
     ]
    }
   ],
   "source": [
    "# you guessed right..it's values()!\n",
    "print dictionary.values()"
   ]
  },
  {
   "cell_type": "markdown",
   "metadata": {},
   "source": [
    "The last method I'll show you is the *items()*. We'll use it properly in the future, but anyhow, you can invoke it to access all the *key-value pairings* in a dictionary: "
   ]
  },
  {
   "cell_type": "code",
   "execution_count": 4,
   "metadata": {
    "collapsed": false
   },
   "outputs": [
    {
     "name": "stdout",
     "output_type": "stream",
     "text": [
      "[('Charles', 'Babbage'), ('Alan', 'Turing'), ('Ada', 'Lovelace')]\n"
     ]
    }
   ],
   "source": [
    "# NOTE: the output is a list of key-value pairings\n",
    "print dictionary.items()"
   ]
  },
  {
   "cell_type": "markdown",
   "metadata": {},
   "source": [
    "# Code (Applied Geo-example)"
   ]
  },
  {
   "cell_type": "markdown",
   "metadata": {},
   "source": [
    "Let's continue our trips around the world! This time though, we'll do things better, and instead of using a simple URL, we are going to use a real-word geographic data type, that you can use on a web-map or in your favourite GIS software.\n",
    "\n",
    "If you look down below at the `KCL_position` variable you'll see that we're assigning it an apparently complex and scary data structure.  Don't be afraid!  If you look closely enough you will notice that is just made out the \"building blocks\" that we've seen so far: `floats`, `lists`, `strings`..all wrapped comfortably in a cozy `dictionary`!\n",
    "\n",
    "This is simply  a formalised way to represent a *geographic marker* (a pin on the map!) in a format called `GeoJSON`.\n",
    "\n",
    "According to the awesome [Lizy Diamond](https://twitter.com/lyzidiamond?lang=en-gb) \n",
    "\n",
    ">[GeoJSON](http://geojson.org/geojson-spec.html) is an open and popular geographic data format commonly used in web applications. It is an extension of a format called [JSON](http://json.org), which stands for *JavaScript Object Notation*. Basically, JSON is a table turned on its side. GeoJSON extends JSON by adding a section called \"geometry\" such that you can define coordinates for the particular object (point, line, polygon, multi-polygon, etc). A point in a GeoJSON file might look like this:\n",
    "\n",
    "    {\n",
    "      \"type\": \"Feature\",\n",
    "      \"geometry\": {\n",
    "        \"type\": \"Point\",\n",
    "        \"coordinates\": [\n",
    "          -122.65335738658904,\n",
    "          45.512083676585156\n",
    "        ]\n",
    "      },\n",
    "      \"properties\": {\n",
    "        \"name\": \"Hungry Heart Cupcakes\",\n",
    "        \"address\": \"1212 SE Hawthorne Boulevard\",\n",
    "        \"website\": \"http://www.hungryheartcupcakes.com\",\n",
    "        \"gluten free\": \"no\"\n",
    "      }\n",
    "    }\n",
    "    \n",
    ">GeoJSON files have to have both a `\"geometry\"` section and a `\"properties\"` section. The `\"geometry\"` section houses the geographic information of the feature (its location and type) and the `\"properties\"` section houses all of the descriptive information about the feature (like fields in an attribute table). [Source](https://github.com/lyzidiamond/learn-geojson)\n",
    "\n",
    "\n",
    "Now, in order to have our first \"webmap\", we have to re-create such `GeoJSON` structure. \n",
    "\n",
    "As you can see there are two variables containing King's College Longitute/Latitude coordinate position. Unfortunately they are in the wrong data type. Also, the variable `longitude` is not included in the list `KCLCoords` and the list itself is not assigned as a value to the `KCLGeometry`dictionary.\n",
    "\n",
    "Take all the necessary steps to fix the code, using the functions we've seen so far.\n",
    "\n"
   ]
  },
  {
   "cell_type": "code",
   "execution_count": null,
   "metadata": {
    "collapsed": true
   },
   "outputs": [],
   "source": [
    "# don't worry about the following line\n",
    "# I'm simply requesting a module from Python\n",
    "# to have additional functions at my disposal\n",
    "# which usually are not immediately available\n",
    "import json\n",
    "\n",
    "# King's College coordinates\n",
    "# What format are they in? Does it seem appropriate?\n",
    "# How would you convert them back to numbers?\n",
    "longitude = '-0.11596798896789551'\n",
    "latitude = '51.51130657591914'\n",
    "\n",
    "# use the appropriate function to insert the item \n",
    "KCLCoords = [??? , latitude ]\n",
    "\n",
    "# how can you assign KCLCoords to the key KCLGeometry[\"coordinates\"]?\n",
    "KCLGeometry = {\n",
    "        \"type\": \"Point\",\n",
    "        \"coordinates\": ???\n",
    "      }\n",
    "\n",
    "KCL_position = {\n",
    "  \"type\": \"FeatureCollection\",\n",
    "  \"features\": [\n",
    "    {\n",
    "      \"type\": \"Feature\",\n",
    "      \"properties\": {\n",
    "        \"marker-color\": \"#7e7e7e\",\n",
    "        \"marker-size\": \"medium\",\n",
    "        \"marker-symbol\": \"building\",\n",
    "        \"name\": \"KCL\"\n",
    "      },\n",
    "      \"geometry\": KCLGeometry\n",
    "    }\n",
    "  ]\n",
    "}\n",
    "\n",
    "# OUTPUT\n",
    "# -----------------------------------------------------------\n",
    "# I'm justing using the \"imported\" module to print the output\n",
    "# in a nice and formatted way\n",
    "print(json.dumps(KCL_position, indent=4))\n",
    "# here I'm saving the variable to a file on your local machine\n",
    "with open('my-first-marker.geojson', 'w') as outfile:\n",
    "    json.dump(json.dumps(KCL_position, indent=4), outfile)"
   ]
  },
  {
   "cell_type": "markdown",
   "metadata": {},
   "source": [
    "After you've run the code, Python will save a new file called `my-first-marker.geojson` in the folder where you are running the notebook.\n",
    "Try to upload it on [this website (Geojson.io)](http://geojson.io/#map=2/20.0/0.0) and see what it shows!                                               "
   ]
  },
  {
   "cell_type": "markdown",
   "metadata": {
    "collapsed": true
   },
   "source": [
    "**Congratulations on finishing your fifth notebook!**"
   ]
  },
  {
   "cell_type": "markdown",
   "metadata": {},
   "source": [
    "\n",
    "### Further references:\n",
    "\n",
    "General list or resources\n",
    "- [Awesome list of resources](https://github.com/vinta/awesome-python)\n",
    "- [Python Docs](https://docs.python.org/2.7/tutorial/introduction.html)\n",
    "- [HitchHiker's guide to Python](http://docs.python-guide.org/en/latest/intro/learning/)\n",
    "- [Python for Informatics](http://www.pythonlearn.com/book_007.pdf)\n",
    "- [Learn Python the Hard Way - Lists](http://learnpythonthehardway.org/book/ex32.html)\n",
    "- [Learn Python the Hard Way - Dictionaries](http://learnpythonthehardway.org/book/ex39.html)\n",
    "- [CodeAcademy](https://www.codecademy.com/courses/python-beginner-en-pwmb1/0/1)\n",
    "\n"
   ]
  }
 ],
 "metadata": {
  "anaconda-cloud": {},
  "kernelspec": {
   "display_name": "Python [Root]",
   "language": "python",
   "name": "Python [Root]"
  },
  "language_info": {
   "codemirror_mode": {
    "name": "ipython",
    "version": 2
   },
   "file_extension": ".py",
   "mimetype": "text/x-python",
   "name": "python",
   "nbconvert_exporter": "python",
   "pygments_lexer": "ipython2",
   "version": "2.7.12"
  }
 },
 "nbformat": 4,
 "nbformat_minor": 0
}
