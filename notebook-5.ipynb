{
 "cells": [
  {
   "cell_type": "markdown",
   "metadata": {},
   "source": [
    "# Notebook-5: Lists and Dictionaries"
   ]
  },
  {
   "cell_type": "markdown",
   "metadata": {},
   "source": [
    "### Lesson Content \n",
    "\n",
    "- Lists\n",
    "    - Operations\n",
    "    - Functions\n",
    "- Dictionaries\n",
    "- Introduction to recursion\n",
    "\n",
    "Welcome to the fifth Code Camp notebook! In this lesson we'll introduce more advanced *data types* other than the numeric (*integers* and *floats*) and textual (*strings*) that we have seen so far. \n",
    "\n",
    "These new types will allow us to express much more complex concepts with ease."
   ]
  },
  {
   "cell_type": "markdown",
   "metadata": {},
   "source": [
    "# Lists\n",
    "----\n",
    "\n",
    "A *list* (as the name implies) is effectively a list of items, or better yet, a comma-separated sequence of elements grouped together between a pair of square brackets ( *[]* ):"
   ]
  },
  {
   "cell_type": "code",
   "execution_count": 1,
   "metadata": {
    "collapsed": false
   },
   "outputs": [
    {
     "data": {
      "text/plain": [
       "[1, 2, 4, 5]"
      ]
     },
     "execution_count": 1,
     "metadata": {},
     "output_type": "execute_result"
    }
   ],
   "source": [
    "[1,2,4,5]"
   ]
  },
  {
   "cell_type": "markdown",
   "metadata": {},
   "source": [
    "A list is a truly versatile datatype: you can put all of the type that we have seen so far in it!"
   ]
  },
  {
   "cell_type": "code",
   "execution_count": 1,
   "metadata": {
    "collapsed": false
   },
   "outputs": [
    {
     "data": {
      "text/plain": [
       "['hi I am', 2312, 'mixing', 6.6, 90, 'strings, integers and floats']"
      ]
     },
     "execution_count": 1,
     "metadata": {},
     "output_type": "execute_result"
    }
   ],
   "source": [
    "['hi I am', 2312, 'mixing', 6.6, 90, 'strings, integers and floats' ]"
   ]
  },
  {
   "cell_type": "markdown",
   "metadata": {},
   "source": [
    "To access an element within a list you use an **index**. This is a new and important concept, so try to make it truly yours before moving forward in the notebook.\n",
    "\n",
    "Let's make an example. Say we want to fetch the second item in a list. We will need to access it via the *index notation* like so:"
   ]
  },
  {
   "cell_type": "code",
   "execution_count": 5,
   "metadata": {
    "collapsed": false
   },
   "outputs": [
    {
     "name": "stdout",
     "output_type": "stream",
     "text": [
      "2312\n"
     ]
    }
   ],
   "source": [
    "myList = ['hi', 2312, 'mixing', 6.6, 90, 'strings, integers and floats' ]\n",
    "secondElement =  myList[1]\n",
    "print secondElement"
   ]
  },
  {
   "cell_type": "markdown",
   "metadata": {},
   "source": [
    "See what I've done there?\n",
    "\n",
    "I've assigned to the the variable `myList` a list with 6 elements. Then I accessed its second element by writing that element's index between a pair of square brackets (next to the list's name). Lastly, I've assinged the second element to another variable called `secondElement` which I then told Python to `print`.\n",
    "\n",
    "Wait a sec- didn't I say *second* element? Why then the index is 1?\n",
    "\n",
    "Good observation! That's because list's indexes are *zero-based* (a fancy way to say that the count starts from 0 insted that from 1).\n",
    "\n",
    "To recap:"
   ]
  },
  {
   "cell_type": "code",
   "execution_count": 2,
   "metadata": {
    "collapsed": false
   },
   "outputs": [
    {
     "name": "stdout",
     "output_type": "stream",
     "text": [
      "The first element is :first\n",
      "The third element is :third\n"
     ]
    }
   ],
   "source": [
    "myNewList = ['first', 'second', 'third']\n",
    "print \"The first element is :\" + myNewList[0]\n",
    "print \"The third element is :\" + myNewList[2]"
   ]
  },
  {
   "cell_type": "markdown",
   "metadata": {},
   "source": [
    "#### A challenge for you!"
   ]
  },
  {
   "cell_type": "code",
   "execution_count": 11,
   "metadata": {
    "collapsed": false
   },
   "outputs": [
    {
     "ename": "SyntaxError",
     "evalue": "invalid syntax (<ipython-input-11-118fdbac7b25>, line 2)",
     "output_type": "error",
     "traceback": [
      "\u001b[1;36m  File \u001b[1;32m\"<ipython-input-11-118fdbac7b25>\"\u001b[1;36m, line \u001b[1;32m2\u001b[0m\n\u001b[1;33m    print \"The second element is :\" + myNewList[???]\u001b[0m\n\u001b[1;37m                                                ^\u001b[0m\n\u001b[1;31mSyntaxError\u001b[0m\u001b[1;31m:\u001b[0m invalid syntax\n"
     ]
    }
   ],
   "source": [
    "# print the second element in the list\n",
    "print \"The second element is :\" + myNewList[???]"
   ]
  },
  {
   "cell_type": "markdown",
   "metadata": {},
   "source": [
    "Notice that, even if you didn't know it, you have already been working with a similar data structure so far. *Strings* are in facts sequences themeselves, and elements within a string can be accessed as well via a *zero-based index*."
   ]
  },
  {
   "cell_type": "code",
   "execution_count": 3,
   "metadata": {
    "collapsed": false
   },
   "outputs": [
    {
     "name": "stdout",
     "output_type": "stream",
     "text": [
      "A\n"
     ]
    }
   ],
   "source": [
    "myStringVariable = \"ABC\"\n",
    "print myStringVariable[0]"
   ]
  },
  {
   "cell_type": "markdown",
   "metadata": {},
   "source": [
    "If you want to access more than single items in a list, you can specify a range with  two numbers (the initial and final index position), separated by a comma.  This operation will allow you to retrieve a portion of the list (that's called *list slicing*).\n",
    "\n",
    "Again keep in mind that indexes start from 0!"
   ]
  },
  {
   "cell_type": "code",
   "execution_count": 3,
   "metadata": {
    "collapsed": false
   },
   "outputs": [
    {
     "name": "stdout",
     "output_type": "stream",
     "text": [
      "THIS \n"
     ]
    }
   ],
   "source": [
    "shortSentence = \"Now I'll just print THIS word, between the 20th and the 25th character: \"\n",
    "print shortSentence[20:25] "
   ]
  },
  {
   "cell_type": "markdown",
   "metadata": {},
   "source": [
    "#### A challenge for you!"
   ]
  },
  {
   "cell_type": "code",
   "execution_count": 4,
   "metadata": {
    "collapsed": false
   },
   "outputs": [
    {
     "ename": "SyntaxError",
     "evalue": "invalid syntax (<ipython-input-4-bf9efc618009>, line 3)",
     "output_type": "error",
     "traceback": [
      "\u001b[1;36m  File \u001b[1;32m\"<ipython-input-4-bf9efc618009>\"\u001b[1;36m, line \u001b[1;32m3\u001b[0m\n\u001b[1;33m    print shortSentence2[???:???]\u001b[0m\n\u001b[1;37m                         ^\u001b[0m\n\u001b[1;31mSyntaxError\u001b[0m\u001b[1;31m:\u001b[0m invalid syntax\n"
     ]
    }
   ],
   "source": [
    "# print from the second to the fourth (included) character in the following string\n",
    "shortSentence2 = \"A12B34c7.0\"\n",
    "print shortSentence2[???:???] "
   ]
  },
  {
   "cell_type": "markdown",
   "metadata": {},
   "source": [
    "To print from a certain position onwards simply omit the final index (the revers applies to get all characters *before* a given index)"
   ]
  },
  {
   "cell_type": "code",
   "execution_count": null,
   "metadata": {
    "collapsed": true
   },
   "outputs": [],
   "source": [
    "print \"Now I'll just print the last word starting from the 8th position: \"+ shortSentence[7:] "
   ]
  },
  {
   "cell_type": "markdown",
   "metadata": {},
   "source": [
    "strings have also plenty methods that might prove to be quite handy, for a larger overview checkout [this reference](https://en.wikibooks.org/wiki/Python_Programming/Variables_and_Strings) "
   ]
  },
  {
   "cell_type": "markdown",
   "metadata": {},
   "source": [
    "## Operations\n",
    "\n",
    "reassign element\n",
    "add list to list\n",
    "elemen IN list\n",
    "elemen NOT IN list\n",
    "\n",
    "es: What is the result of this code?\n",
    "nums = [10, 9, 8, 7, 6, 5]\n",
    "nums[0] = nums[1] - 5\n",
    "if 4 in nums:\n",
    "  print(nums[3])\n",
    "else:\n",
    "  print(nums[4])\n",
    "\n",
    "\n",
    "append\n",
    "insert\n",
    "index\n"
   ]
  },
  {
   "cell_type": "markdown",
   "metadata": {},
   "source": [
    "reassign element\n",
    "add list to list\n",
    "elemen IN list\n",
    "elemen NOT IN list\n",
    "\n",
    "es: What is the result of this code?\n",
    "nums = [10, 9, 8, 7, 6, 5]\n",
    "nums[0] = nums[1] - 5\n",
    "if 4 in nums:\n",
    "  print(nums[3])\n",
    "else:\n",
    "  print(nums[4])\n",
    "  \n",
    "  \n"
   ]
  },
  {
   "cell_type": "markdown",
   "metadata": {},
   "source": [
    "## Functions\n",
    "\n",
    "append\n",
    "insert\n",
    "index\n",
    "\n",
    "range with 1 2 3 arguments\n",
    "What is the result of this code?\n",
    "nums = list(range(3, 15, 3))\n",
    "print(nums[2])\n"
   ]
  },
  {
   "cell_type": "markdown",
   "metadata": {},
   "source": [
    "# Dictionaries\n",
    "----\n",
    "\n"
   ]
  },
  {
   "cell_type": "markdown",
   "metadata": {},
   "source": [
    "# Introduction to recursion"
   ]
  },
  {
   "cell_type": "markdown",
   "metadata": {},
   "source": [
    "# Code (Applied Geo-Example)\n",
    "---\n",
    "\n",
    "The aim of the excercise is to build a tiny program that allows a user to choose a given London borough from a list, and get in return both its total population and a link to a OpenStreetMap that pin points its location.\n",
    "\n",
    "We are going to introduce a function called `input` that, as the name implies, takes an input from the user (interactively, that is!). We'll use it to interact with the user of our program. The input is going to be saved in a variable called `user_input`.\n",
    "\n",
    "I've provided a basic scaffolding of the code. It covers the case where the user choses the City borough, or inputs something wrong. Complete the script to cover the remaining cases using the scaffolded code.\n",
    "\n",
    "HINT: You will need to use `elif` statements to check for the various cases that use user might input.\n",
    "\n"
   ]
  },
  {
   "cell_type": "code",
   "execution_count": 2,
   "metadata": {
    "collapsed": false
   },
   "outputs": [
    {
     "name": "stdout",
     "output_type": "stream",
     "text": [
      "\n",
      "Choose a neighbourhood by type the corresponding number:\n",
      "1- City of London\n",
      "2- Lambeth\n",
      "3- Camden\n",
      "4- Hackney\n",
      "3\n"
     ]
    }
   ],
   "source": [
    "# some initial configuration to make every work\n",
    "import sys\n",
    "reload(sys)\n",
    "sys.setdefaultencoding(\"utf-8\")\n",
    "\n",
    "# variable with the City's total population\n",
    "city_of_London = 7.375\n",
    "# City's map marker\n",
    "city_coords = \"http://www.openstreetmap.org/?mlat=51.5151&mlon=-0.0933#map=14/51.5151/-0.0933\"\n",
    "\n",
    "# Other use cases\n",
    "# camden = 220.338\n",
    "# camden_coords = \"http://www.openstreetmap.org/?mlat=51.5424&mlon=-0.2252#map=12/51.5424/-0.2252\"\n",
    "# hackney = 246.270\n",
    "# hackney_coords = \"http://www.openstreetmap.org/?mlat=51.5432&mlon=-0.0709#map=13/51.5432/-0.0709\"\n",
    "# lambeth = 303.086\n",
    "# lambeth_coords = http://www.openstreetmap.org/?mlat=51.5013&mlon=-0.1172#map=13/51.5013/-0.1172\n",
    "\n",
    "# Let's ask the user for some input\n",
    "# and store his answer\n",
    "user_input = input(\"\"\"\n",
    "Choose a neighbourhood by type the corresponding number:\n",
    "1- City of London\n",
    "2- Lambeth\n",
    "3- Camden\n",
    "4- Hackney\n",
    "\"\"\")\n",
    "\n",
    "# Arbitrarily assign case 1 to City of London borough\n",
    "if user_input == 1:    \n",
    "    choosen_borough = city_of_London\n",
    "    borough_coordinates = city_coords \n",
    "    # print the output\n",
    "    # notice we are casting the user answer to string\n",
    "    print \"You have choosen number : \"+ str(user_input)\n",
    "    print \"The corresponding borough has a population of \"+ str(choosen_borough) +\" thousand people\"\n",
    "    print \"Visit the borough clicking here: \" + borough_coordinates\n",
    "# ---------------\n",
    "# add more cases here...\n",
    "# ---------------\n",
    "else:\n",
    "    print \"That's not in my system. Please try again!\"\n",
    "\n",
    "\n",
    "\n"
   ]
  },
  {
   "cell_type": "markdown",
   "metadata": {
    "collapsed": true
   },
   "source": [
    "**Congratulations on finishing your third lesson, and enjoy your trip to the beautiful Null Island!*** \n",
    "\n",
    "\n"
   ]
  },
  {
   "cell_type": "markdown",
   "metadata": {},
   "source": [
    "\n",
    "### Further references:\n",
    "\n",
    "General list or resources\n",
    "- [Awesome list of resources](https://github.com/vinta/awesome-python)\n",
    "- [Python Docs](https://docs.python.org/2.7/tutorial/introduction.html)\n",
    "- [HitchHiker's guide to Python](http://docs.python-guide.org/en/latest/intro/learning/)\n",
    "- [Python for Informatics](http://www.pythonlearn.com/book_007.pdf)\n",
    "- [Learn Python the Hard Way - Lists](http://learnpythonthehardway.org/book/ex32.html)\n",
    "- [Learn Python the Hard Way - Dictionaries](http://learnpythonthehardway.org/book/ex39.html)\n",
    "- [CodeAcademy](https://www.codecademy.com/courses/python-beginner-en-pwmb1/0/1)\n",
    "\n"
   ]
  }
 ],
 "metadata": {
  "anaconda-cloud": {},
  "kernelspec": {
   "display_name": "Python [Root]",
   "language": "python",
   "name": "Python [Root]"
  },
  "language_info": {
   "codemirror_mode": {
    "name": "ipython",
    "version": 2
   },
   "file_extension": ".py",
   "mimetype": "text/x-python",
   "name": "python",
   "nbconvert_exporter": "python",
   "pygments_lexer": "ipython2",
   "version": "2.7.12"
  }
 },
 "nbformat": 4,
 "nbformat_minor": 0
}
