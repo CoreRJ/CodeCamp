{
 "cells": [
  {
   "cell_type": "markdown",
   "metadata": {},
   "source": [
    "# Notebook-2: The Basics\n",
    "   "
   ]
  },
  {
   "cell_type": "markdown",
   "metadata": {},
   "source": [
    "## Lesson Topics: \n",
    "\n",
    "- Simple operations in Python \n",
    "    - Numeric Operations\n",
    "    - String Operations\n",
    "- What is a variable? \n",
    "\n",
    "\n",
    "Welcome!\n",
    "As you've seen in the first notebook, in order to run Python programs (*scripts*) you can use the *Python Interpreter*.\n",
    "\n",
    "In this first lesson we are going to use it to perform simple operations, like numeric calculations that you would normally do on a calculator, and slightly more advanced operations on text words.\n",
    "\n",
    "As we progress trough the excercises we'll encounter some programming concepts. At this stage don't worry too much about memorizing all of them, they will eventually come natural. Just keep them in mind when reading the examples and try to apply them while doing the excercises."
   ]
  },
  {
   "cell_type": "markdown",
   "metadata": {},
   "source": [
    "### Simple Operations\n",
    "\n",
    "#### Numeric Operations\n",
    "\n",
    "You can easily use Python to compute simple numerical operations, like **sum** and **subtraction**"
   ]
  },
  {
   "cell_type": "code",
   "execution_count": 11,
   "metadata": {
    "collapsed": false
   },
   "outputs": [
    {
     "data": {
      "text/plain": [
       "11"
      ]
     },
     "execution_count": 11,
     "metadata": {},
     "output_type": "execute_result"
    }
   ],
   "source": [
    "3-2 + 10"
   ]
  },
  {
   "cell_type": "markdown",
   "metadata": {},
   "source": [
    "or **multiplication**"
   ]
  },
  {
   "cell_type": "code",
   "execution_count": 12,
   "metadata": {
    "collapsed": false
   },
   "outputs": [
    {
     "data": {
      "text/plain": [
       "-4"
      ]
     },
     "execution_count": 12,
     "metadata": {},
     "output_type": "execute_result"
    }
   ],
   "source": [
    "3* 2 -10"
   ]
  },
  {
   "cell_type": "markdown",
   "metadata": {},
   "source": [
    "and you can use parenthesis to logically divide the order of operations"
   ]
  },
  {
   "cell_type": "code",
   "execution_count": 13,
   "metadata": {
    "collapsed": false
   },
   "outputs": [
    {
     "data": {
      "text/plain": [
       "-24"
      ]
     },
     "execution_count": 13,
     "metadata": {},
     "output_type": "execute_result"
    }
   ],
   "source": [
    "3 * (2 - 10)"
   ]
  },
  {
   "cell_type": "markdown",
   "metadata": {},
   "source": [
    "however pay attention when performing a **division**. The remainder of the operation is in fact normally retained:"
   ]
  },
  {
   "cell_type": "code",
   "execution_count": 37,
   "metadata": {
    "collapsed": false
   },
   "outputs": [
    {
     "data": {
      "text/plain": [
       "2"
      ]
     },
     "execution_count": 37,
     "metadata": {},
     "output_type": "execute_result"
    }
   ],
   "source": [
    "5 / 2"
   ]
  },
  {
   "cell_type": "markdown",
   "metadata": {},
   "source": [
    "As you can see we used the *backslash (\\\\)* to perform a division without remainder. To get the remainder you need to use a different symbol, the *modulo (%) operator*. According in fact to the [Python Documentation](https://docs.python.org/2.7/reference/expressions.html)\n",
    "\n",
    ">The % (modulo) operator yields the remainder from the division of the first argument by the second.\n",
    "\n",
    "Using the modulo operator will return the reminder\n"
   ]
  },
  {
   "cell_type": "code",
   "execution_count": 36,
   "metadata": {
    "collapsed": false
   },
   "outputs": [
    {
     "data": {
      "text/plain": [
       "1"
      ]
     },
     "execution_count": 36,
     "metadata": {},
     "output_type": "execute_result"
    }
   ],
   "source": [
    "5%2  "
   ]
  },
  {
   "cell_type": "markdown",
   "metadata": {},
   "source": [
    "If the division yelds no remainder the operation will return a value of 0"
   ]
  },
  {
   "cell_type": "code",
   "execution_count": 10,
   "metadata": {
    "collapsed": false
   },
   "outputs": [
    {
     "data": {
      "text/plain": [
       "0"
      ]
     },
     "execution_count": 10,
     "metadata": {},
     "output_type": "execute_result"
    }
   ],
   "source": [
    "4%2"
   ]
  },
  {
   "cell_type": "markdown",
   "metadata": {},
   "source": [
    "Also pay attention when dividing by zero. Python won't be able to compute any value and will thus return an *error*"
   ]
  },
  {
   "cell_type": "code",
   "execution_count": 14,
   "metadata": {
    "collapsed": false
   },
   "outputs": [
    {
     "ename": "ZeroDivisionError",
     "evalue": "integer division or modulo by zero",
     "output_type": "error",
     "traceback": [
      "\u001b[1;31m---------------------------------------------------------------------------\u001b[0m",
      "\u001b[1;31mZeroDivisionError\u001b[0m                         Traceback (most recent call last)",
      "\u001b[1;32m<ipython-input-14-7c45be91a17d>\u001b[0m in \u001b[0;36m<module>\u001b[1;34m()\u001b[0m\n\u001b[1;32m----> 1\u001b[1;33m \u001b[1;33m(\u001b[0m\u001b[1;36m30\u001b[0m \u001b[1;33m+\u001b[0m \u001b[1;36m2\u001b[0m \u001b[1;33m)\u001b[0m \u001b[1;33m/\u001b[0m \u001b[1;36m0\u001b[0m\u001b[1;33m\u001b[0m\u001b[0m\n\u001b[0m",
      "\u001b[1;31mZeroDivisionError\u001b[0m: integer division or modulo by zero"
     ]
    }
   ],
   "source": [
    "(30 + 2 ) / 0"
   ]
  },
  {
   "cell_type": "markdown",
   "metadata": {},
   "source": [
    "An *error message* is displayed specifying what went wrong in the operation. Don't worry about it for the moment being, more on that in a further lesson. "
   ]
  },
  {
   "cell_type": "markdown",
   "metadata": {},
   "source": [
    "What happens when you want to express quantities that are not *integers* (i.e. \"whole\" numbers that also include negative numbers like -1, 56, -34 ...) ?\n",
    "\n",
    "You will need to use a *float* number, like 7.0, 156.34, 66.6 ...\n",
    "\n",
    "Any operation involving a mix of *floats* and *integers* will always yeld a *float*."
   ]
  },
  {
   "cell_type": "code",
   "execution_count": 18,
   "metadata": {
    "collapsed": false
   },
   "outputs": [
    {
     "data": {
      "text/plain": [
       "28.0"
      ]
     },
     "execution_count": 18,
     "metadata": {},
     "output_type": "execute_result"
    }
   ],
   "source": [
    "7 * 4.0"
   ]
  },
  {
   "cell_type": "code",
   "execution_count": 19,
   "metadata": {
    "collapsed": false
   },
   "outputs": [
    {
     "data": {
      "text/plain": [
       "3.0"
      ]
     },
     "execution_count": 19,
     "metadata": {},
     "output_type": "execute_result"
    }
   ],
   "source": [
    "21.0 / 7"
   ]
  },
  {
   "cell_type": "code",
   "execution_count": 20,
   "metadata": {
    "collapsed": false
   },
   "outputs": [
    {
     "data": {
      "text/plain": [
       "9.0"
      ]
     },
     "execution_count": 20,
     "metadata": {},
     "output_type": "execute_result"
    }
   ],
   "source": [
    "6.0 + 3"
   ]
  },
  {
   "cell_type": "markdown",
   "metadata": {},
   "source": [
    "The reason for this is that Python is *implicitly* converting (i.e. *casting*) the numbers betweenn the two different *data types*. This is not Python's normal beaviour as usually you would explicitly tell him to do so. Again, this is a topic of a further lesson.\n",
    "\n",
    "\n",
    "Same as the difference between the *modulo operator* and the simple division, this might seem a bit too pedantic and irrelvant. But imagine if you were programming a banking application: you would definitely pay attention to all those decimals!\n",
    "\n"
   ]
  },
  {
   "cell_type": "markdown",
   "metadata": {},
   "source": [
    "Lastly, you can perform **exponentiation** using two asterisks (instead of one, which is used for multiplication)"
   ]
  },
  {
   "cell_type": "code",
   "execution_count": 38,
   "metadata": {
    "collapsed": false
   },
   "outputs": [
    {
     "data": {
      "text/plain": [
       "16"
      ]
     },
     "execution_count": 38,
     "metadata": {},
     "output_type": "execute_result"
    }
   ],
   "source": [
    "2 ** 4"
   ]
  },
  {
   "cell_type": "markdown",
   "metadata": {},
   "source": [
    "with this exponentiation operator you can of course calculate the root of a number"
   ]
  },
  {
   "cell_type": "code",
   "execution_count": 39,
   "metadata": {
    "collapsed": false
   },
   "outputs": [
    {
     "data": {
      "text/plain": [
       "2.0"
      ]
     },
     "execution_count": 39,
     "metadata": {},
     "output_type": "execute_result"
    }
   ],
   "source": [
    "4 ** (0.5)"
   ]
  },
  {
   "cell_type": "markdown",
   "metadata": {},
   "source": [
    "although Python has a handy *module* with plenty of already defined *functions* for your convenience."
   ]
  },
  {
   "cell_type": "code",
   "execution_count": 40,
   "metadata": {
    "collapsed": false
   },
   "outputs": [
    {
     "data": {
      "text/plain": [
       "2.0"
      ]
     },
     "execution_count": 40,
     "metadata": {},
     "output_type": "execute_result"
    }
   ],
   "source": [
    "import math\n",
    "math.sqrt(4)"
   ]
  },
  {
   "cell_type": "markdown",
   "metadata": {},
   "source": [
    "Don't worry about what's happening in this line :\n",
    "\n",
    "```python\n",
    "import math\n",
    "```\n",
    "\n",
    "I'm simply importing a *module* called `math`, and we'll talk more about that later on."
   ]
  },
  {
   "cell_type": "markdown",
   "metadata": {},
   "source": [
    "#### String Operations\n",
    "\n",
    "If you want to represent text in Python you'll need to use *strings*, which is really a fancy word to say a *sequence of characters* within quotes (single or double quotation marks).\n",
    "\n",
    "(Side Note: From here on we'll be using the `print` command. That is just a way to tell the Python interpreter to output somthing on the console for us to see.)"
   ]
  },
  {
   "cell_type": "code",
   "execution_count": 41,
   "metadata": {
    "collapsed": false
   },
   "outputs": [
    {
     "name": "stdout",
     "output_type": "stream",
     "text": [
      "I'm a string of text!\n",
      "Me too! *&($£(£_@~{}|?<>$)\n"
     ]
    }
   ],
   "source": [
    "print \"I'm a string of text!\"\n",
    "print \"Me too! *&($£(£_@~{}|?<>$)\""
   ]
  },
  {
   "cell_type": "markdown",
   "metadata": {
    "collapsed": true
   },
   "source": [
    "be aware though that while you can technically use single quotes, it is generally better to use double quotes as a way to prevent errors if a single quote is contained in text phrase"
   ]
  },
  {
   "cell_type": "code",
   "execution_count": 131,
   "metadata": {
    "collapsed": false
   },
   "outputs": [
    {
     "name": "stdout",
     "output_type": "stream",
     "text": [
      "I'm contained within double quotes. I'll be grand\n"
     ]
    }
   ],
   "source": [
    "print \"I'm contained within double quotes. I'll be grand\"\n"
   ]
  },
  {
   "cell_type": "code",
   "execution_count": 132,
   "metadata": {
    "collapsed": false
   },
   "outputs": [
    {
     "ename": "SyntaxError",
     "evalue": "invalid syntax (<ipython-input-132-d7b5be628e8f>, line 1)",
     "output_type": "error",
     "traceback": [
      "\u001b[1;36m  File \u001b[1;32m\"<ipython-input-132-d7b5be628e8f>\"\u001b[1;36m, line \u001b[1;32m1\u001b[0m\n\u001b[1;33m    print 'I'm sourrounded by single quotes. I'm splitted into different strings resulting in error'\u001b[0m\n\u001b[1;37m             ^\u001b[0m\n\u001b[1;31mSyntaxError\u001b[0m\u001b[1;31m:\u001b[0m invalid syntax\n"
     ]
    }
   ],
   "source": [
    "print 'I'm sourrounded by single quotes. I'm splitted into different strings resulting in error'"
   ]
  },
  {
   "cell_type": "code",
   "execution_count": 134,
   "metadata": {
    "collapsed": false
   },
   "outputs": [
    {
     "name": "stdout",
     "output_type": "stream",
     "text": [
      "But you can escape single quotes using the backslash like so: I'm escaping by single quotes. yay!\n"
     ]
    }
   ],
   "source": [
    "print 'But you can escape single quotes using the backslash like so: I\\'m escaping by single quotes. yay!'"
   ]
  },
  {
   "cell_type": "markdown",
   "metadata": {},
   "source": [
    "to avoid to manually specify the *escaping character for a newline (\\\\n)* you can *wrap* your text in *three quotes*, and Python will add the escaping character for you (pay attention to the output phrase)."
   ]
  },
  {
   "cell_type": "code",
   "execution_count": 1,
   "metadata": {
    "collapsed": false
   },
   "outputs": [
    {
     "name": "stdout",
     "output_type": "stream",
     "text": [
      "Hi\n",
      "this time, \n",
      "I won't need those annoying newline characters\n"
     ]
    }
   ],
   "source": [
    "print \"\"\"Hi\n",
    "this time, \n",
    "I won't need those annoying newline characters\"\"\""
   ]
  },
  {
   "cell_type": "markdown",
   "metadata": {},
   "source": [
    "Note by the way that is also a string:"
   ]
  },
  {
   "cell_type": "code",
   "execution_count": 124,
   "metadata": {
    "collapsed": false
   },
   "outputs": [],
   "source": [
    "print \"2016\" "
   ]
  },
  {
   "cell_type": "markdown",
   "metadata": {},
   "source": [
    "it's simply a string of numeric characters!"
   ]
  },
  {
   "cell_type": "markdown",
   "metadata": {},
   "source": [
    "Same as *numeric types* you can also perform operations on strings.\n",
    "\n",
    "You can for instance add them, with an operation called **concatenation**"
   ]
  },
  {
   "cell_type": "code",
   "execution_count": 48,
   "metadata": {
    "collapsed": false
   },
   "outputs": [
    {
     "name": "stdout",
     "output_type": "stream",
     "text": [
      "Hey, looks like I'm adding 6 stringstogether\n"
     ]
    }
   ],
   "source": [
    "print \"Hey, looks like \" + \"I'm \" + \"adding \"+ \"6\" +\" strings\" + \"together\""
   ]
  },
  {
   "cell_type": "markdown",
   "metadata": {},
   "source": [
    "To perform a concatenation simply use the *plus* operator (like you would do to add two numbers).\n",
    "\n",
    "If you use the *multiplication* operator on a string and an integer at the same time, you will multiply the string times the value of the integer"
   ]
  },
  {
   "cell_type": "code",
   "execution_count": 49,
   "metadata": {
    "collapsed": false
   },
   "outputs": [
    {
     "name": "stdout",
     "output_type": "stream",
     "text": [
      "I like Python a lot!!!\n"
     ]
    }
   ],
   "source": [
    "print \"I like Python a lot\" + \"!\" * 3"
   ]
  },
  {
   "cell_type": "markdown",
   "metadata": {},
   "source": [
    "of course be aware that is valid only between a string and an integer. This won't work (can you guess why?)"
   ]
  },
  {
   "cell_type": "code",
   "execution_count": 50,
   "metadata": {
    "collapsed": false
   },
   "outputs": [
    {
     "ename": "TypeError",
     "evalue": "can't multiply sequence by non-int of type 'str'",
     "output_type": "error",
     "traceback": [
      "\u001b[1;31m---------------------------------------------------------------------------\u001b[0m",
      "\u001b[1;31mTypeError\u001b[0m                                 Traceback (most recent call last)",
      "\u001b[1;32m<ipython-input-50-fa0232d6aa06>\u001b[0m in \u001b[0;36m<module>\u001b[1;34m()\u001b[0m\n\u001b[1;32m----> 1\u001b[1;33m \u001b[1;32mprint\u001b[0m \u001b[1;34m\"5\"\u001b[0m \u001b[1;33m*\u001b[0m \u001b[1;34m\"2\"\u001b[0m\u001b[1;33m\u001b[0m\u001b[0m\n\u001b[0m",
      "\u001b[1;31mTypeError\u001b[0m: can't multiply sequence by non-int of type 'str'"
     ]
    }
   ],
   "source": [
    "print \"5\" * \"2\""
   ]
  },
  {
   "cell_type": "markdown",
   "metadata": {},
   "source": [
    "### What is a variable?\n",
    "\n",
    "Ok, now that we've established the basis of the language, let's start with a first programming concepts, that of   **variable**.\n",
    "\n",
    "The usual definition that you might have come across (especially if you have studied other programming languages before) is that of a [variable as \"a box\"](https://www.youtube.com/watch?v=V0aBwgLRNXI) containing values, as a metaphor to represent the computer's memory cell holding a certain value your variable is referring to.\n",
    "\n",
    "e.g. :\n",
    "\n",
    "```python\n",
    "#program code:\n",
    "#-------------\n",
    "variable1 = 1\n",
    "\n",
    "# computer memory:\n",
    "#-----------------\n",
    "# variable1  --refers-to--> |1| \n",
    "# with | | being a cell in the computer memory\n",
    "```\n",
    "While this metaphor is easy to grasp, in Python it's a bit misleading. As the excellent [\"Other Languages have names\"](http://python.net/~goodger/projects/pycon/2007/idiomatic/handout.html#other-languages-have-variables) articles points out in fact, Python variables are more akin to \"tags\" that can be attached to values, rather than boxes where you can put stuff in.\n",
    "\n",
    "Consider this:"
   ]
  },
  {
   "cell_type": "code",
   "execution_count": 82,
   "metadata": {
    "collapsed": false
   },
   "outputs": [
    {
     "name": "stdout",
     "output_type": "stream",
     "text": [
      "1\n"
     ]
    }
   ],
   "source": [
    "myFirstVariable = 1\n",
    "print myFirstVariable\n"
   ]
  },
  {
   "cell_type": "code",
   "execution_count": 83,
   "metadata": {
    "collapsed": false
   },
   "outputs": [
    {
     "name": "stdout",
     "output_type": "stream",
     "text": [
      "1\n"
     ]
    }
   ],
   "source": [
    "mySecondVariable = myFirstVariable\n",
    "print mySecondVariable"
   ]
  },
  {
   "cell_type": "markdown",
   "metadata": {},
   "source": [
    "They have the same value!\n",
    "That's expected as both tags are attached to the same value.\n",
    "\n",
    "But what happens when I change the first variable `myFirstVariable`? Will the second change as well? "
   ]
  },
  {
   "cell_type": "code",
   "execution_count": 84,
   "metadata": {
    "collapsed": false
   },
   "outputs": [
    {
     "name": "stdout",
     "output_type": "stream",
     "text": [
      "2\n",
      "1\n"
     ]
    }
   ],
   "source": [
    "myFirstVariable = 2\n",
    "print myFirstVariable\n",
    "print mySecondVariable\n"
   ]
  },
  {
   "cell_type": "markdown",
   "metadata": {},
   "source": [
    "Oops!\n",
    "the second variable `mySecondVariable` didn't change at all, as it is still attached to the first value. \n",
    "Only `mySecondVariable` has been removed from the first and attached to the second value.\n",
    "\n",
    "As the [Python Programming Wikibook explains](https://en.wikibooks.org/wiki/Python_Programming/Data_Types) when you assing a variable you are just pointing this variable to an object (a value) which is stored somewhere in the memory."
   ]
  },
  {
   "cell_type": "markdown",
   "metadata": {},
   "source": [
    "Always keep in mind that Python variable act as tags. Hence when assigning new values to already *declared* variables (i.e. variables that already exist in your code) you are not overwriting the old values but simply \"moving\" the tag from one value to another.\n",
    "\n",
    "That's why in Python variables have a `name`, a `data-type` and a `value`.\n",
    "\n",
    "|       Name      | Data Type | Value |\n",
    "|:---------------:|:---------:|:-----:|\n",
    "| myFirstVariable | integer   | 1     |"
   ]
  },
  {
   "cell_type": "markdown",
   "metadata": {},
   "source": [
    "How do you choose you variables name in Python?  Here's a short list of name-ruling conventions:\n",
    "\n",
    "- names may contain letters and/or numbers\n",
    "- names cannot begin with a number\n",
    "- names may contain an underscore ( _ )\n",
    "- names can be of any length\n",
    "- you cannot use Python keywords"
   ]
  },
  {
   "cell_type": "markdown",
   "metadata": {},
   "source": [
    "As such this will work fine"
   ]
  },
  {
   "cell_type": "code",
   "execution_count": 62,
   "metadata": {
    "collapsed": false
   },
   "outputs": [
    {
     "name": "stdout",
     "output_type": "stream",
     "text": [
      "Merkatoor\n"
     ]
    }
   ],
   "source": [
    "famous_geographer = \"Merkatoor\"\n",
    "print famous_geographer"
   ]
  },
  {
   "cell_type": "markdown",
   "metadata": {},
   "source": [
    "but this will return an error!"
   ]
  },
  {
   "cell_type": "code",
   "execution_count": 63,
   "metadata": {
    "collapsed": false
   },
   "outputs": [
    {
     "ename": "SyntaxError",
     "evalue": "invalid syntax (<ipython-input-63-8f87904a7b8b>, line 1)",
     "output_type": "error",
     "traceback": [
      "\u001b[1;36m  File \u001b[1;32m\"<ipython-input-63-8f87904a7b8b>\"\u001b[1;36m, line \u001b[1;32m1\u001b[0m\n\u001b[1;33m    1st_geographic_projection =  \"\"\" Merkatoor's most famous Geographic Projection\u001b[0m\n\u001b[1;37m                            ^\u001b[0m\n\u001b[1;31mSyntaxError\u001b[0m\u001b[1;31m:\u001b[0m invalid syntax\n"
     ]
    }
   ],
   "source": [
    "1st_geographic_projection =  \"\"\" Merkatoor's most famous Geographic Projection \n",
    "is a cylindrical map projection \n",
    "that retains the ability\n",
    "to ability to represent lines of constant course (loxodromes)\"\"\"\n",
    "\n",
    "print 1st_geographic_projection"
   ]
  },
  {
   "cell_type": "markdown",
   "metadata": {},
   "source": [
    "Also, Python is case-sensitive! Which means that `this_var` and `This_var` are two different variables (although their *content* is the same!)"
   ]
  },
  {
   "cell_type": "code",
   "execution_count": 59,
   "metadata": {
    "collapsed": false
   },
   "outputs": [],
   "source": [
    "this_var = \"Merkatoor\"\n",
    "This_var = \"Merkatoor\"\n"
   ]
  },
  {
   "cell_type": "markdown",
   "metadata": {},
   "source": [
    "As for many issues realted to Python's *style* is good practice to always refer to [the offical PEP 8 -- Style Guide for Python Code](https://www.python.org/dev/peps/pep-0008/#naming-conventions)"
   ]
  },
  {
   "cell_type": "markdown",
   "metadata": {},
   "source": [
    "For more examples on Python variabes check out also [OpenTechSchool's intro to Python](http://opentechschool.github.io/python-beginners/en/variables.html)"
   ]
  },
  {
   "cell_type": "markdown",
   "metadata": {},
   "source": [
    "## Code (general excercises)\n",
    "\n",
    "Now that we've had a taste of the fantastic Python programming world, let's solidy our newly acquired skills with some excercises.\n",
    "\n",
    "The structure of the excercises will be in the following format (also for the following notebooks):\n",
    "\n",
    "- **General Purpouse Exercises**\n",
    "    - **Code from Scratch**: you will need to write the appropriate code yourself, looking at the examples previously defined in the lesson\n",
    "    - **Supported Code**: fill in the *gaps (???)* the missing parts of code to make it work.\n",
    "    - **Broken Code**: replace the broken bits of code with the right ones.\n",
    "- **Applied Geo-Example**: an applied example that will gradually introduce you to geographical analysis problems and/or methodologies in python. \n",
    "\n"
   ]
  },
  {
   "cell_type": "markdown",
   "metadata": {},
   "source": [
    "#### Code from scratch\n",
    "    "
   ]
  },
  {
   "cell_type": "code",
   "execution_count": 3,
   "metadata": {
    "collapsed": false
   },
   "outputs": [
    {
     "name": "stdout",
     "output_type": "stream",
     "text": [
      "Здравствуйте! My name is Sputnik 1\n",
      "Sputnik 1 was the first artificial Earth satellite, launched from the Soviet Union on the 4th of October, 1957.\n"
     ]
    }
   ],
   "source": [
    "# Es.1 \n",
    "#------\n",
    "#look at the following example:\n",
    "old_satellite = 'Sputnik 1'\n",
    "old_satellite_descritpion = \" was the first artificial Earth satellite, launched from the Soviet Union on the 4th of October, 1957.\"\n",
    "print \"Здравствуйте! My name is \" + old_satellite \n",
    "print old_satellite + old_satellite_descritpion\n",
    "\n",
    "# similar to the example above\n",
    "# define a variable named 'new_satellite' with value 'landsat'\n",
    "# try to print its name\n",
    "# then try to concatenate its name with another variable description of your choice, and print them.\n",
    "\n",
    "\n"
   ]
  },
  {
   "cell_type": "markdown",
   "metadata": {},
   "source": [
    "#### Supported code"
   ]
  },
  {
   "cell_type": "code",
   "execution_count": 4,
   "metadata": {
    "collapsed": false
   },
   "outputs": [
    {
     "ename": "SyntaxError",
     "evalue": "invalid syntax (<ipython-input-4-0b3fcd03fff4>, line 12)",
     "output_type": "error",
     "traceback": [
      "\u001b[1;36m  File \u001b[1;32m\"<ipython-input-4-0b3fcd03fff4>\"\u001b[1;36m, line \u001b[1;32m12\u001b[0m\n\u001b[1;33m    pr???nt(\"Hello there \" + s???(new_satellite) )\u001b[0m\n\u001b[1;37m      ^\u001b[0m\n\u001b[1;31mSyntaxError\u001b[0m\u001b[1;31m:\u001b[0m invalid syntax\n"
     ]
    }
   ],
   "source": [
    "# replace the questions marks \"???\"  in the following exercise \n",
    "# with the appropriate code to make it work\n",
    "\n",
    "\n",
    "#Es.2\n",
    "#----\n",
    "\n",
    "# Landsat is a bit generic, the correct name is Landsat 8.\n",
    "# How would you put together this two different Data Types?\n",
    "# Remember what we've seen about casting?\n",
    "\n",
    "pr???nt(\"Hello there \" + s???(new_satellite) )"
   ]
  },
  {
   "cell_type": "code",
   "execution_count": 5,
   "metadata": {
    "collapsed": false
   },
   "outputs": [
    {
     "ename": "SyntaxError",
     "evalue": "invalid syntax (<ipython-input-5-fcef6bc4636c>, line 10)",
     "output_type": "error",
     "traceback": [
      "\u001b[1;36m  File \u001b[1;32m\"<ipython-input-5-fcef6bc4636c>\"\u001b[1;36m, line \u001b[1;32m10\u001b[0m\n\u001b[1;33m    diameter_inches = diameter_cm ??? cm2inches\u001b[0m\n\u001b[1;37m                                  ^\u001b[0m\n\u001b[1;31mSyntaxError\u001b[0m\u001b[1;31m:\u001b[0m invalid syntax\n"
     ]
    }
   ],
   "source": [
    "#Es.3\n",
    "#-----\n",
    "# According to its Wikipedia page\n",
    "# Sputnik 1 was a 58 cm diameter polished metal sphere\n",
    "# If a cm = 0.393700787 inches\n",
    "# what was its diameter in inches?\n",
    "\n",
    "diameter_cm = 58\n",
    "cm2inches = 0.393700787\n",
    "diameter_inches = diameter_cm ??? cm2inches\n",
    "print diameter_inches"
   ]
  },
  {
   "cell_type": "code",
   "execution_count": 6,
   "metadata": {
    "collapsed": false
   },
   "outputs": [
    {
     "ename": "SyntaxError",
     "evalue": "invalid syntax (<ipython-input-6-a2fe0ec6ee05>, line 10)",
     "output_type": "error",
     "traceback": [
      "\u001b[1;36m  File \u001b[1;32m\"<ipython-input-6-a2fe0ec6ee05>\"\u001b[1;36m, line \u001b[1;32m10\u001b[0m\n\u001b[1;33m    volume =  (4/3) ??? PI ??? (radius_cm  ??? 3 )\u001b[0m\n\u001b[1;37m                    ^\u001b[0m\n\u001b[1;31mSyntaxError\u001b[0m\u001b[1;31m:\u001b[0m invalid syntax\n"
     ]
    }
   ],
   "source": [
    "#Es.4\n",
    "#----\n",
    "# what was its volume (in cubic cm)?\n",
    "# NOTE: on the following line I'm simply \"importing\" the math module \n",
    "# and assigning to a variable PI the value of pi (3.14...)\n",
    "import math\n",
    "PI = math.pi\n",
    "\n",
    "radius_cm = diameter_cm/2\n",
    "volume =  (4/3) ??? PI ??? (radius_cm  ??? 3 )\n",
    "print volume"
   ]
  },
  {
   "cell_type": "markdown",
   "metadata": {},
   "source": [
    "#### Broken code"
   ]
  },
  {
   "cell_type": "code",
   "execution_count": 7,
   "metadata": {
    "collapsed": false
   },
   "outputs": [
    {
     "ename": "NameError",
     "evalue": "name 'new_satellite' is not defined",
     "output_type": "error",
     "traceback": [
      "\u001b[1;31m---------------------------------------------------------------------------\u001b[0m",
      "\u001b[1;31mNameError\u001b[0m                                 Traceback (most recent call last)",
      "\u001b[1;32m<ipython-input-7-1d985ecea27f>\u001b[0m in \u001b[0;36m<module>\u001b[1;34m()\u001b[0m\n\u001b[0;32m      5\u001b[0m       \u001b[1;36m770\u001b[0m \u001b[1;33m+\u001b[0m\u001b[1;33m\u001b[0m\u001b[0m\n\u001b[0;32m      6\u001b[0m       \u001b[1;34m\" to \"\u001b[0m \u001b[1;33m+\u001b[0m\u001b[1;33m\u001b[0m\u001b[0m\n\u001b[1;32m----> 7\u001b[1;33m       \u001b[1;36m900\u001b[0m \u001b[1;33m+\u001b[0m\u001b[1;33m\u001b[0m\u001b[0m\n\u001b[0m\u001b[0;32m      8\u001b[0m       \" nanometers.\" )\n",
      "\u001b[1;31mNameError\u001b[0m: name 'new_satellite' is not defined"
     ]
    }
   ],
   "source": [
    "# mmh..something's broken in the following line of code. \n",
    "# can you spot the error(s)?\n",
    "# HINT: remember what we said about different data types...\n",
    "print(new_satellite + \"has a Near Infrared (NI), \\\n",
    "which band captures light in the wavelength from \"+\n",
    "      770 +\n",
    "      \" to \" +\n",
    "      900 +\n",
    "      \" nanometers.\" )\n"
   ]
  },
  {
   "cell_type": "markdown",
   "metadata": {},
   "source": [
    "### Code (Applied Geo-example)"
   ]
  },
  {
   "cell_type": "markdown",
   "metadata": {},
   "source": [
    "In this excercise you'll dip a toe in the wonderful world of web maps!\n",
    "\n",
    "Don't worry too much about the apparently complex data structure assigned to the variable `KCL_position`. That is simply a way to represent a *geographic marker* (a pin on the map!) in a format called `GeoJSON`.\n",
    "\n",
    "According to the awesome [Lizy Diamond](https://twitter.com/lyzidiamond?lang=en-gb) \n",
    "\n",
    ">[GeoJSON](http://geojson.org/geojson-spec.html) is an open and popular geographic data format commonly used in web applications. It is an extension of a format called [JSON](http://json.org), which stands for *JavaScript Object Notation*. Basically, JSON is a table turned on its side. GeoJSON extends JSON by adding a section called \"geometry\" such that you can define coordinates for the particular object (point, line, polygon, multi-polygon, etc). A point in a GeoJSON file might look like this:\n",
    "\n",
    "    {\n",
    "      \"type\": \"Feature\",\n",
    "      \"geometry\": {\n",
    "        \"type\": \"Point\",\n",
    "        \"coordinates\": [\n",
    "          -122.65335738658904,\n",
    "          45.512083676585156\n",
    "        ]\n",
    "      },\n",
    "      \"properties\": {\n",
    "        \"name\": \"Hungry Heart Cupcakes\",\n",
    "        \"address\": \"1212 SE Hawthorne Boulevard\",\n",
    "        \"website\": \"http://www.hungryheartcupcakes.com\",\n",
    "        \"gluten free\": \"no\"\n",
    "      }\n",
    "    }\n",
    "    \n",
    ">GeoJSON files have to have both a `\"geometry\"` section and a `\"properties\"` section. The `\"geometry\"` section houses the geographic information of the feature (its location and type) and the `\"properties\"` section houses all of the descriptive information about the feature (like fields in an attribute table). [Source](https://github.com/lyzidiamond/learn-geojson)\n",
    "\n",
    "\n",
    "Now, as you can see there are two variables containing King's College Longitute/Latitude coordinate position. Unfortunately they are in the wrong data type. \n",
    "\n",
    "*Cast* them in the appropriate data format within the variable `KCL_Position`.\n",
    "\n"
   ]
  },
  {
   "cell_type": "code",
   "execution_count": 27,
   "metadata": {
    "collapsed": false
   },
   "outputs": [
    {
     "name": "stdout",
     "output_type": "stream",
     "text": [
      "{\n",
      "    \"type\": \"FeatureCollection\", \n",
      "    \"features\": [\n",
      "        {\n",
      "            \"geometry\": {\n",
      "                \"type\": \"Point\", \n",
      "                \"coordinates\": [\n",
      "                    \"-0.11596798896789551\", \n",
      "                    \"51.51130657591914\"\n",
      "                ]\n",
      "            }, \n",
      "            \"type\": \"Feature\", \n",
      "            \"properties\": {\n",
      "                \"marker-color\": \"#7e7e7e\", \n",
      "                \"name\": \"KCL\", \n",
      "                \"marker-symbol\": \"building\", \n",
      "                \"marker-size\": \"medium\"\n",
      "            }\n",
      "        }\n",
      "    ]\n",
      "}\n"
     ]
    }
   ],
   "source": [
    "# don't worry about the following line\n",
    "# same as the last excercise, I'm requesting an additional module from Python\n",
    "import json\n",
    "\n",
    "# King's College coordinates\n",
    "# What format are they in? Does it seem appropriate?\n",
    "# How would you convert them back to numbers\n",
    "longitude = '-0.11596798896789551'\n",
    "latitude = '51.51130657591914'\n",
    "\n",
    "# King's College marker\n",
    "KCL_position = {\n",
    "  \"type\": \"FeatureCollection\",\n",
    "  \"features\": [\n",
    "    {\n",
    "      \"type\": \"Feature\",\n",
    "      \"properties\": {\n",
    "        \"marker-color\": \"#7e7e7e\",\n",
    "        \"marker-size\": \"medium\",\n",
    "        \"marker-symbol\": \"building\",\n",
    "        \"name\": \"KCL\"\n",
    "      },\n",
    "      \"geometry\": {\n",
    "        \"type\": \"Point\",\n",
    "        \"coordinates\": [\n",
    "         longitude , \n",
    "          latitude\n",
    "        ]\n",
    "      }\n",
    "    }\n",
    "  ]\n",
    "}\n",
    "\n",
    "#I'm justing using the \"imported\" module to print the output\n",
    "# in a nice and formatted way\n",
    "print(json.dumps(KCL_position, indent=4))\n",
    "\n",
    "#saving the variable to a file on your local machine\n",
    "with open('my-first-marker.geojson', 'w') as outfile:\n",
    "    json.dump(json.dumps(KCL_position, indent=4), outfile)"
   ]
  },
  {
   "cell_type": "markdown",
   "metadata": {},
   "source": [
    "After you've run the code, you'll have a new file `my-first-marker.geojson` in the folder where you are running the notebook.\n",
    "Try to upload it on [this website (Geojson.io)](http://geojson.io/#map=2/20.0/0.0) and see what it shows!\n",
    "                                                \n",
    "**Congratulations on your finishing first lesson and welcome to the wonderful world of Geography!**"
   ]
  },
  {
   "cell_type": "markdown",
   "metadata": {},
   "source": [
    "### Further references:\n",
    "\n",
    "For the most curious among you.\n",
    "\n",
    "On this lesson's topic:\n",
    "- [StackOverflow: In Python, why can a function modify some arguments as perceived by the caller, but not others?](http://stackoverflow.com/questions/575196/in-python-why-can-a-function-modify-some-arguments-as-perceived-by-the-caller)\n",
    "- [StackOverflow: Is it possible only to declare a variable without assigning any value in Python?](http://stackoverflow.com/questions/664294/is-it-possible-only-to-declare-a-variable-without-assigning-any-value-in-python)\n",
    "- [YouTube Video 1](https://www.youtube.com/watch?v=D48iCw3WWpI)\n",
    "- [YouTube Video 2 (*slightly* longer)](https://www.youtube.com/watch?v=rkx5_MRAV3A)\n",
    "\n",
    "General list or resources\n",
    "- [Awesome list of resources](https://github.com/vinta/awesome-python)\n",
    "- [Python Docs](https://docs.python.org/2.7/tutorial/introduction.html)\n",
    "- [HitchHiker's guide to Python](http://docs.python-guide.org/en/latest/intro/learning/)\n",
    "- [Python for Informatics](http://www.pythonlearn.com/book_007.pdf)\n",
    "- [Learn Python the Hard Way](http://learnpythonthehardway.org/book/)\n",
    "- [CodeAcademy](https://www.codecademy.com/learn/python)\n",
    "\n"
   ]
  }
 ],
 "metadata": {
  "anaconda-cloud": {},
  "kernelspec": {
   "display_name": "Python [Root]",
   "language": "python",
   "name": "Python [Root]"
  },
  "language_info": {
   "codemirror_mode": {
    "name": "ipython",
    "version": 2
   },
   "file_extension": ".py",
   "mimetype": "text/x-python",
   "name": "python",
   "nbconvert_exporter": "python",
   "pygments_lexer": "ipython2",
   "version": "2.7.12"
  }
 },
 "nbformat": 4,
 "nbformat_minor": 0
}
