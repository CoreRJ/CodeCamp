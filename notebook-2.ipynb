{
 "cells": [
  {
   "cell_type": "markdown",
   "metadata": {},
   "source": [
    "# Notebook-2: The Basics\n",
    "   "
   ]
  },
  {
   "cell_type": "markdown",
   "metadata": {},
   "source": [
    "### Lesson Topics: \n",
    "\n",
    "- Python syntax\n",
    "- What is a variable? \n",
    "- Simple operations (addition, concatenation, division modulo).\n",
    "- Introduction to errors. \n",
    "- Reserved words\n"
   ]
  },
  {
   "cell_type": "markdown",
   "metadata": {},
   "source": [
    "#### Python Syntax\n",
    "\n",
    "Python is CASE sensitive\n",
    "• statements (“logical lines”) end with a newline (i.e., press the return or enter key)\n",
    "• multi-line statements can be used by putting a backslash (\\) at the end of a continuing line\n",
    "• multiple statements can be included on one line if they are separated by a semi-colon (;)\n",
    "• long expressions, enclosed in parentheses, curly brackets or square brackets, can be\n",
    "continued across multiple lines without needing the \\’s\n",
    "• comments start with #\n",
    "• punctuation is really important!\n",
    "• whitespace matters! (more on this later)\n",
    "• files are typically named ending in .py, e.g., hello.py"
   ]
  },
  {
   "cell_type": "markdown",
   "metadata": {},
   "source": [
    "### Code (general excercises)\n",
    "\n",
    "\n"
   ]
  },
  {
   "cell_type": "markdown",
   "metadata": {},
   "source": [
    "#### code from scratch\n",
    "    "
   ]
  },
  {
   "cell_type": "code",
   "execution_count": 9,
   "metadata": {
    "collapsed": true
   },
   "outputs": [],
   "source": [
    "# define a variable named 'satellite' with value 'landsat'\n",
    "satellite = 'landsat'"
   ]
  },
  {
   "cell_type": "markdown",
   "metadata": {},
   "source": [
    "#### supported code"
   ]
  },
  {
   "cell_type": "code",
   "execution_count": 7,
   "metadata": {
    "collapsed": false
   },
   "outputs": [
    {
     "ename": "NameError",
     "evalue": "name 'pr_nt' is not defined",
     "output_type": "error",
     "traceback": [
      "\u001b[1;31m---------------------------------------------------------------------------\u001b[0m",
      "\u001b[1;31mNameError\u001b[0m                                 Traceback (most recent call last)",
      "\u001b[1;32m<ipython-input-7-96671c6511c4>\u001b[0m in \u001b[0;36m<module>\u001b[1;34m()\u001b[0m\n\u001b[0;32m      1\u001b[0m \u001b[1;31m# fill up the gaps \"__\"  in the following example to make the code work\u001b[0m\u001b[1;33m\u001b[0m\u001b[1;33m\u001b[0m\u001b[0m\n\u001b[0;32m      2\u001b[0m \u001b[0msatellite\u001b[0m \u001b[1;33m=\u001b[0m \u001b[1;34m'landsat'\u001b[0m\u001b[1;33m\u001b[0m\u001b[0m\n\u001b[1;32m----> 3\u001b[1;33m \u001b[0mpr_nt\u001b[0m\u001b[1;33m(\u001b[0m\u001b[1;34m\"Hello\"\u001b[0m \u001b[1;33m+\u001b[0m \u001b[0msatellite\u001b[0m\u001b[1;33m)\u001b[0m\u001b[1;33m\u001b[0m\u001b[0m\n\u001b[0m",
      "\u001b[1;31mNameError\u001b[0m: name 'pr_nt' is not defined"
     ]
    }
   ],
   "source": [
    "# fill up the gaps \"__\"  in the following example to make the code work\n",
    "satellite = 'landsat'\n",
    "pr_nt(\"Hello\" + satellite)"
   ]
  },
  {
   "cell_type": "markdown",
   "metadata": {},
   "source": [
    "#### broken code"
   ]
  },
  {
   "cell_type": "code",
   "execution_count": 8,
   "metadata": {
    "collapsed": false
   },
   "outputs": [
    {
     "ename": "TypeError",
     "evalue": "cannot concatenate 'str' and 'int' objects",
     "output_type": "error",
     "traceback": [
      "\u001b[1;31m---------------------------------------------------------------------------\u001b[0m",
      "\u001b[1;31mTypeError\u001b[0m                                 Traceback (most recent call last)",
      "\u001b[1;32m<ipython-input-8-2010b3ea846c>\u001b[0m in \u001b[0;36m<module>\u001b[1;34m()\u001b[0m\n\u001b[1;32m----> 1\u001b[1;33m \u001b[1;32mprint\u001b[0m\u001b[1;33m(\u001b[0m\u001b[0msatellite\u001b[0m \u001b[1;33m+\u001b[0m \u001b[1;34m\"Near Infrared (NI) band captures light in the wavelength from\"\u001b[0m\u001b[1;33m+\u001b[0m \u001b[1;36m770\u001b[0m \u001b[1;33m+\u001b[0m\u001b[1;34m\" to \"\u001b[0m\u001b[1;33m+\u001b[0m \u001b[1;36m900\u001b[0m\u001b[1;33m+\u001b[0m\u001b[1;34m\" nanometers.\"\u001b[0m \u001b[1;33m)\u001b[0m\u001b[1;33m\u001b[0m\u001b[0m\n\u001b[0m",
      "\u001b[1;31mTypeError\u001b[0m: cannot concatenate 'str' and 'int' objects"
     ]
    }
   ],
   "source": [
    "# mmh..something's broken in the following line of code. \n",
    "# can you spot the error(s)?\n",
    "# HINT: remember what we said about different data types...\n",
    "print(satellite + \"Near Infrared (NI) band captures light in the wavelength from\"+ 770 +\" to \"+ 900+\" nanometers.\" )\n"
   ]
  },
  {
   "cell_type": "markdown",
   "metadata": {},
   "source": [
    "### Code (Applied Geo-example)"
   ]
  },
  {
   "cell_type": "markdown",
   "metadata": {},
   "source": [
    "Further references:\n",
    "\n",
    "<!--\n",
    "- [Awesome list of resources](https://github.com/vinta/awesome-python)\n",
    "- [HitchHiker's guide to Python](http://docs.python-guide.org/en/latest/intro/learning/)\n",
    "- [Python for Informatics](http://www.pythonlearn.com/book_007.pdf)\n",
    "- [StackOverflow: In Python, why can a function modify some arguments as perceived by the caller, but not others?](http://stackoverflow.com/questions/575196/in-python-why-can-a-function-modify-some-arguments-as-perceived-by-the-caller)\n",
    "- [Learn Python the Hard Way](http://learnpythonthehardway.org/book/)\n",
    "- [CodeAcademy](https://www.codecademy.com/learn/python)\n",
    "-->\n",
    "\n",
    "- [StackOverflow: Is it possible only to declare a variable without assigning any value in Python?](http://stackoverflow.com/questions/664294/is-it-possible-only-to-declare-a-variable-without-assigning-any-value-in-python)\n",
    "- [\"Other Languages have names\"](http://python.net/~goodger/projects/pycon/2007/idiomatic/handout.html#other-languages-have-variables)\n",
    "- [Python Docs](https://docs.python.org/2.7/tutorial/introduction.html)\n",
    "- [OpenTechSchool](http://opentechschool.github.io/python-beginners/en/variables.html)\n",
    "- [YouTube Video 1](https://www.youtube.com/watch?v=D48iCw3WWpI)\n",
    "- [YouTube Video 2 (*slightly* longer)](https://www.youtube.com/watch?v=rkx5_MRAV3A)\n"
   ]
  },
  {
   "cell_type": "markdown",
   "metadata": {},
   "source": [
    "- [asdsa](#)\n",
    "- [asdsa](#)\n",
    "Further references:\n",
    "    \n",
    "- [Python for Informatics](http://www.pythonlearn.com/book_007.pdf)\n",
    "    - [StackOverflow 1](http://stackoverflow.com/questions/664294/is-it-possible-only-to-declare-a-variable-without-assigning-any-value-in-python)\n",
    "    - [StackOverflow 1](http://stackoverflow.com/questions/575196/in-python-why-can-a-function-modify-some-arguments-as-perceived-by-the-caller)\n",
    "    - [\"Other Languages have names\"](http://python.net/~goodger/projects/pycon/2007/idiomatic/handout.html#other-languages-have-variables)\n",
    "    - [Python Docs](https://docs.python.org/2.7/tutorial/introduction.html)\n",
    "    - [Learn Python the Hard Way](http://learnpythonthehardway.org/book/)\n",
    "    - [CodeAcademy](https://www.codecademy.com/learn/python)\n",
    "    - [OpenTechSchool](http://opentechschool.github.io/python-beginners/en/variables.html)\n",
    "    - [YouTube Video 1](https://www.youtube.com/watch?v=D48iCw3WWpI)\n",
    "    - [YouTube Video 2 (*slightly* longer)](https://www.youtube.com/watch?v=rkx5_MRAV3A)\n",
    "    - [Awesome list of resources](https://github.com/vinta/awesome-python)\n",
    "    - [HitchHiker's guide to Python](http://docs.python-guide.org/en/latest/intro/learning/)"
   ]
  },
  {
   "cell_type": "code",
   "execution_count": null,
   "metadata": {},
   "outputs": [],
   "source": []
  }
 ],
 "metadata": {
  "kernelspec": {
   "display_name": "Python 2",
   "language": "python",
   "name": "python2"
  },
  "language_info": {
   "codemirror_mode": {
    "name": "ipython",
    "version": 2
   },
   "file_extension": ".py",
   "mimetype": "text/x-python",
   "name": "python",
   "nbconvert_exporter": "python",
   "pygments_lexer": "ipython2",
   "version": "2.7.11"
  }
 },
 "nbformat": 4,
 "nbformat_minor": 0
}
