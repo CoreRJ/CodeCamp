{
 "cells": [
  {
   "cell_type": "markdown",
   "metadata": {},
   "source": [
    "# Notebook-4 Truth & Conditions"
   ]
  },
  {
   "cell_type": "markdown",
   "metadata": {},
   "source": [
    "### Lesson Content \n",
    "\n",
    "- Comparisons\n",
    "    - Booleans\n",
    "    - \"Not equal\" operator\n",
    "    - \"< > <= >=\" operators\n",
    "- Conditions pt.1\n",
    "    - IF       \n",
    "    - ELSE \n",
    "    - ELIF\n",
    "- Boolean Logic\n",
    "    - AND\n",
    "    - OR\n",
    "    - NOT\n",
    "\n",
    "Welcome to the fourth Code Camp notebook! In this lesson we'll learn how to compare sutff (like numerical quantities but also words and strings) via *Comparison Operators*. \n",
    "\n",
    "We'll also see how to express logical concepts like: \" `if` this condition is `True`, then do something...\". These concepts will serve you to model in your code different possibilities and let it run to accordingly. They will also serve to perform assertions and to test if certain conditions have been met or not."
   ]
  },
  {
   "cell_type": "markdown",
   "metadata": {},
   "source": [
    "# Comparisons\n",
    "----\n",
    "\n",
    "\n",
    "## Booleans\n",
    "\n",
    "The most basic form of comparison is to test if something is `True` of `False`. To do so we'll have to quickly introduce another *data type*, the **Boolean** different from the numerical (*floats* and *integers*) or textual (*strings*) types we have seen so far.\n",
    "\n",
    "A *boolean* can only assume either one of two values: `True` or `False`."
   ]
  },
  {
   "cell_type": "code",
   "execution_count": 2,
   "metadata": {
    "collapsed": false
   },
   "outputs": [
    {
     "ename": "TypeError",
     "evalue": "cannot concatenate 'str' and 'bool' objects",
     "output_type": "error",
     "traceback": [
      "\u001b[0;31m---------------------------------------------------------------------------\u001b[0m",
      "\u001b[0;31mTypeError\u001b[0m                                 Traceback (most recent call last)",
      "\u001b[0;32m<ipython-input-2-957c1934eb68>\u001b[0m in \u001b[0;36m<module>\u001b[0;34m()\u001b[0m\n\u001b[1;32m      1\u001b[0m \u001b[0mmyBoolean\u001b[0m \u001b[0;34m=\u001b[0m \u001b[0mTrue\u001b[0m\u001b[0;34m\u001b[0m\u001b[0m\n\u001b[0;32m----> 2\u001b[0;31m \u001b[0;32mprint\u001b[0m \u001b[0;34m\"This is going to be :\"\u001b[0m \u001b[0;34m+\u001b[0m \u001b[0mmyBoolean\u001b[0m\u001b[0;34m\u001b[0m\u001b[0m\n\u001b[0m",
      "\u001b[0;31mTypeError\u001b[0m: cannot concatenate 'str' and 'bool' objects"
     ]
    }
   ],
   "source": [
    "myBoolean = True\n",
    "print \"This is going to be :\" + myBoolean"
   ]
  },
  {
   "cell_type": "markdown",
   "metadata": {},
   "source": [
    "To compare two booleans we'll use the *equality comparison operator (==)*, which returns `True` if the equality condition holds.\n",
    "\n",
    "Pay attention to the fact that it has two, not one, equals signs! If you remenber in fact, one equal sign is used to assign values to variables."
   ]
  },
  {
   "cell_type": "code",
   "execution_count": 3,
   "metadata": {
    "collapsed": false
   },
   "outputs": [
    {
     "name": "stdout",
     "output_type": "stream",
     "text": [
      "False\n"
     ]
    }
   ],
   "source": [
    "# this (=) assigns a value to a variable\n",
    "truthVariable = True\n",
    "falseVariable = False\n",
    "# this (==) compares two variables\n",
    "print truthVariable == falseVariable"
   ]
  },
  {
   "cell_type": "code",
   "execution_count": 21,
   "metadata": {
    "collapsed": false
   },
   "outputs": [
    {
     "name": "stdout",
     "output_type": "stream",
     "text": [
      "False\n"
     ]
    }
   ],
   "source": [
    "britishCapital = \"London\"\n",
    "frenchCapital = \"Paris\"\n",
    "print britishCapital == frenchCapital"
   ]
  },
  {
   "cell_type": "markdown",
   "metadata": {},
   "source": [
    "#### A challenge for you!"
   ]
  },
  {
   "cell_type": "code",
   "execution_count": 5,
   "metadata": {
    "collapsed": false
   },
   "outputs": [
    {
     "name": "stdout",
     "output_type": "stream",
     "text": [
      "False\n"
     ]
    }
   ],
   "source": [
    "# Is this going to be True?\n",
    "print 2 == 34"
   ]
  },
  {
   "cell_type": "markdown",
   "metadata": {},
   "source": [
    "What if you want to check if two things are *different* rather than equal? Well then you'll need to use the *Not Equal (!=)* operator, which returns `True` when there's no equality between the conditons you are comparing."
   ]
  },
  {
   "cell_type": "code",
   "execution_count": 6,
   "metadata": {
    "collapsed": false
   },
   "outputs": [
    {
     "name": "stdout",
     "output_type": "stream",
     "text": [
      "True\n"
     ]
    }
   ],
   "source": [
    "# This time python is going to print True,\n",
    "# since we are comparing different things\n",
    "# using the Not Equal operator!\n",
    "print truthVariable != falseVariable"
   ]
  },
  {
   "cell_type": "markdown",
   "metadata": {},
   "source": [
    "## Comparison Operators"
   ]
  },
  {
   "cell_type": "markdown",
   "metadata": {},
   "source": [
    "Ok, that's all and well but it allows us only to check if things are \"black or white\" so to speak..What if you want to compare if things are bigger (or smaller)?\n",
    "\n",
    "You will need these set of operators:\n",
    "\n",
    "| Operator Name | Symbol             | Description                                     |\n",
    "|---------------|--------------------|-------------------------------------------------|\n",
    "| A > B         | Greater Than       | Returns true if A is bigger than B              |\n",
    "| A < B         | Less Than          | Returns true if A is smaller than B             |\n",
    "| A >= B        | Greater Equal Than | Returns true if A is bigger  than or equal to B |\n",
    "| A >= B        | Less  EqualThan    | Returns true if A is bigger than or equal to B  |"
   ]
  },
  {
   "cell_type": "code",
   "execution_count": 7,
   "metadata": {
    "collapsed": false
   },
   "outputs": [
    {
     "name": "stdout",
     "output_type": "stream",
     "text": [
      "False\n",
      "True\n"
     ]
    }
   ],
   "source": [
    "# consider this example\n",
    "print 7 > 7.0\n",
    "print 7 >= 7.0"
   ]
  },
  {
   "cell_type": "markdown",
   "metadata": {},
   "source": [
    "#### A challenge for you!"
   ]
  },
  {
   "cell_type": "code",
   "execution_count": 11,
   "metadata": {
    "collapsed": false
   },
   "outputs": [
    {
     "name": "stdout",
     "output_type": "stream",
     "text": [
      "True\n"
     ]
    }
   ],
   "source": [
    "# Fix this code so that it returns True\n",
    "firstVariable = 89.0\n",
    "secondVariable = 9\n",
    "\n",
    "prit firstVariable % 80 ??? secondVar"
   ]
  },
  {
   "cell_type": "code",
   "execution_count": 18,
   "metadata": {
    "collapsed": false
   },
   "outputs": [
    {
     "ename": "SyntaxError",
     "evalue": "invalid syntax (<ipython-input-18-0ec714188a84>, line 2)",
     "output_type": "error",
     "traceback": [
      "\u001b[0;36m  File \u001b[0;32m\"<ipython-input-18-0ec714188a84>\"\u001b[0;36m, line \u001b[0;32m2\u001b[0m\n\u001b[0;31m    print \"This is going to be : \"+ ???( 90 ??? (firstVariable) )\u001b[0m\n\u001b[0m                                    ^\u001b[0m\n\u001b[0;31mSyntaxError\u001b[0m\u001b[0;31m:\u001b[0m invalid syntax\n"
     ]
    }
   ],
   "source": [
    "# Do the same here and then print the ouput using casting (str() function)\n",
    "print \"This is going to be : \"+ ???( 90 ??? (firstVariable) ) \n"
   ]
  },
  {
   "cell_type": "markdown",
   "metadata": {},
   "source": [
    "# Conditions\n",
    "----\n",
    "\n",
    "When you want to check if a certain condition holds, same as in plain English, you will need to use a *statement* (i.e. [everything that makes up a code line (or several)](https://stackoverflow.com/questions/4728073/what-is-the-difference-between-an-expression-and-a-statement-in-python) ), check  `if` that condition is met or `else`...\n",
    "\n",
    "## IF condition\n",
    "\n",
    "Let's start with a basic `if` statement. In Python you will express it like so:\n",
    "\n",
    "```python\n",
    "if conditon-to-check:\n",
    "   statement\n",
    "```\n",
    "\n",
    "notice we *indented* the `statement` line. This is Python's way to define a *block of code* (other languages such as C/C++ use curly braces {} ). Don't worry about it, just remember to end an  `if` statement with a colon (:), and to indent the line after it.\n",
    "\n",
    "SIDENOTE: How much should you indent? Although the [official specification ](https://www.python.org/dev/peps/pep-0008/#tabs-or-spaces) from Guido Van Rossum (Python's creator) specifies to *4 spaces*, people sometimes indent using *one tab* (technically though [the only *true* constrain is to indent the same number of times in the same statement](http://stackoverflow.com/questions/1125653/python-4-whitespaces-indention-why) ). \n",
    "This apparently trivial issue, and the the two opposing camps debating it (the *4 spaces* vs *one tab* camps) are such a famous aspect of the programming world to be even recently featured in a [famous sit-com](https://en.wikipedia.org/wiki/Silicon_Valley_(TV_series)): \n",
    "\n",
    "<a href=\"http://www.youtube.com/watch?feature=player_embedded&v=cowtgmZuai0\" target=\"_blank\"><img src=\"http://img.youtube.com/vi/cowtgmZuai0/0.jpg\" \n",
    "alt=\"Silicon Valley\" width=\"480\" height=\"360\" border=\"10\" /></a>"
   ]
  },
  {
   "cell_type": "code",
   "execution_count": 29,
   "metadata": {
    "collapsed": false
   },
   "outputs": [
    {
     "name": "stdout",
     "output_type": "stream",
     "text": [
      "London is larger than Paris\n"
     ]
    }
   ],
   "source": [
    "# Let's make an example\n",
    "londonPopulation = 8.6\n",
    "parisPopulation = 2.4 \n",
    "\n",
    "if londonPopulation > parisPopulation:\n",
    "    print \"London is larger than Paris\""
   ]
  },
  {
   "cell_type": "markdown",
   "metadata": {},
   "source": [
    "#### A challenge for you!"
   ]
  },
  {
   "cell_type": "code",
   "execution_count": 32,
   "metadata": {
    "collapsed": false
   },
   "outputs": [
    {
     "name": "stdout",
     "output_type": "stream",
     "text": [
      "8.6is bigger than 2 million people\n",
      "8.6is smaller than 10 million people\n"
     ]
    }
   ],
   "source": [
    "# What would this code print?\n",
    "if londonPopulation > 2:\n",
    "    print str(londonPopulation) + \"is bigger than 2 million people\"\n",
    "if londonPopulation < 10:\n",
    "    print str(londonPopulation) + \"is smaller than 10 million people\""
   ]
  },
  {
   "cell_type": "code",
   "execution_count": 33,
   "metadata": {
    "collapsed": false
   },
   "outputs": [
    {
     "ename": "SyntaxError",
     "evalue": "invalid syntax (<ipython-input-33-b04f53fad963>, line 3)",
     "output_type": "error",
     "traceback": [
      "\u001b[0;36m  File \u001b[0;32m\"<ipython-input-33-b04f53fad963>\"\u001b[0;36m, line \u001b[0;32m3\u001b[0m\n\u001b[0;31m    if (londonPopulation % 8) != 6 ???\u001b[0m\n\u001b[0m                                   ^\u001b[0m\n\u001b[0;31mSyntaxError\u001b[0m\u001b[0;31m:\u001b[0m invalid syntax\n"
     ]
    }
   ],
   "source": [
    "# complete the missing parts\n",
    "# also fixing the broken bits\n",
    "if (londonPopulation % 8) != 6 ???\n",
    "print \"Good job\""
   ]
  },
  {
   "cell_type": "markdown",
   "metadata": {},
   "source": [
    "## ELSE condition\n",
    "\n",
    "When you want to check if a second alternative is present you can use the `else` statement (always following a first `if`)."
   ]
  },
  {
   "cell_type": "code",
   "execution_count": 34,
   "metadata": {
    "collapsed": false
   },
   "outputs": [
    {
     "name": "stdout",
     "output_type": "stream",
     "text": [
      "The largest city is London\n"
     ]
    }
   ],
   "source": [
    "# Let's make an example\n",
    "newyorkPopulation = 8.4 \n",
    "\n",
    "if londonPopulation < newyorkPopulation:\n",
    "    largestCity = 'New York' \n",
    "else:\n",
    "    largestCity = \"London\"\n",
    "    \n",
    "print \"The largest city is \"+ largestCity "
   ]
  },
  {
   "cell_type": "markdown",
   "metadata": {},
   "source": [
    "As you can see from the example above, the `if else` statement allows us to account for multiple outcomes when checking the logic of a program.\n",
    "\n",
    "Notice how the syntax is similar to the `if` statement: use the colon, and indent.\n",
    "\n",
    "Also pay attention to the fact that not *all* of our code has run. In fact, only the block after the block that evaluated to `True` (a.k.a. the second - the `else` block) was run. Hence why the `largestCity` variable was assigned to \"London\". After the `if else` sequence the code goes back to its normal flow, and all the successive lines will be executed.\n",
    "\n",
    "The `if else` statement is thus akin to forking path: Your code can take one road or the other, but never both at the same time."
   ]
  },
  {
   "cell_type": "markdown",
   "metadata": {},
   "source": [
    "#### A challenge for you!"
   ]
  },
  {
   "cell_type": "code",
   "execution_count": 35,
   "metadata": {
    "collapsed": false
   },
   "outputs": [
    {
     "ename": "SyntaxError",
     "evalue": "invalid syntax (<ipython-input-35-bd5f6d73612e>, line 4)",
     "output_type": "error",
     "traceback": [
      "\u001b[0;36m  File \u001b[0;32m\"<ipython-input-35-bd5f6d73612e>\"\u001b[0;36m, line \u001b[0;32m4\u001b[0m\n\u001b[0;31m    if londonPopulation <= mythreshold ???\u001b[0m\n\u001b[0m                                       ^\u001b[0m\n\u001b[0;31mSyntaxError\u001b[0m\u001b[0;31m:\u001b[0m invalid syntax\n"
     ]
    }
   ],
   "source": [
    "# What will be the output of the code?\n",
    "# Complete it and then run it!\n",
    "mythreshold = 10\n",
    "if londonPopulation <= mythreshold ???\n",
    "    print largestCity + \"is below my threshold\"\n",
    "???:\n",
    "    print largestCity + \"is above my threshold\"\n",
    "    \n",
    "print \"And now back to normal code execution \""
   ]
  },
  {
   "cell_type": "markdown",
   "metadata": {},
   "source": [
    "## ELIF condition\n",
    "\n",
    "Once again so far so good. But what happens when you need to check multiple cases? Well, then you can use a sequence of *statements* that sounds like \"IF this happens do this, ELSE IF this second condition holds do that, ELSE IF a third condition is true perform this other ELSE do finally this...\"\n",
    "\n",
    "The operator we are going to use is `elif`, a shortened version of ELSE IF.\n"
   ]
  },
  {
   "cell_type": "code",
   "execution_count": 39,
   "metadata": {
    "collapsed": false
   },
   "outputs": [
    {
     "name": "stdout",
     "output_type": "stream",
     "text": [
      "London pop. is not equal to 34\n",
      "And now back to normal code execution \n"
     ]
    }
   ],
   "source": [
    "# Like so:\n",
    "myUpperBoundary = 12\n",
    "myLowerBoundary = 2\n",
    "if londonPopulation >= myUpperBoundary:\n",
    "    print largestCity + \"is below my upper threshold\"\n",
    "elif londonPopulation <= myLowerBoundary:\n",
    "    print largestCity + \"is above my lower threshold\"\n",
    "else londonPopulation != 34: \n",
    "    print largestCity + \" pop. is not equal to 34\"\n",
    "    \n",
    "print \"And now back to normal code execution \""
   ]
  },
  {
   "cell_type": "markdown",
   "metadata": {},
   "source": [
    "#### A challenge for you!"
   ]
  },
  {
   "cell_type": "code",
   "execution_count": 35,
   "metadata": {
    "collapsed": false
   },
   "outputs": [
    {
     "ename": "SyntaxError",
     "evalue": "invalid syntax (<ipython-input-35-bd5f6d73612e>, line 4)",
     "output_type": "error",
     "traceback": [
      "\u001b[0;36m  File \u001b[0;32m\"<ipython-input-35-bd5f6d73612e>\"\u001b[0;36m, line \u001b[0;32m4\u001b[0m\n\u001b[0;31m    if londonPopulation <= mythreshold ???\u001b[0m\n\u001b[0m                                       ^\u001b[0m\n\u001b[0;31mSyntaxError\u001b[0m\u001b[0;31m:\u001b[0m invalid syntax\n"
     ]
    }
   ],
   "source": [
    "# What will be the output of the code?\n",
    "# Complete the missing bits and then run the code!\n",
    "londonPopulation = 10\n",
    "??? londonPopulation <= 9:\n",
    "    print \"first case\"\n",
    "??? londonPopulation > 99: \n",
    "    print \"second case\"\n",
    "??? londonPopulation == 4:\n",
    "    print \"third case\"\"\n",
    "??? londonPopulation != 8.6???\n",
    "    print \"fourh case - you can go on adding more cases if you want!\"\n",
    "\n",
    "print \"Well, looks like none of the above statements were true!\""
   ]
  },
  {
   "cell_type": "markdown",
   "metadata": {},
   "source": [
    "# Boolean Logic\n",
    "----\n",
    "\n",
    "Apart from comparing stuff, Python (and other programming languages as well) allow you to express more complex ideas torugh what is called Boolean Logic (named after a branch of [Linear Algebra](https://en.wikipedia.org/wiki/Boolean_algebra) first introduced by the British mathematician George Boole). \n",
    "\n",
    "In Python there are [three boolean logic opertors](https://docs.python.org/2/library/stdtypes.html#boolean-operations-and-or-not) (in ascending order of priority): `or`, `and`, and `not`.\n",
    "\n",
    "Take a look at these Venn diagrams (source: [Wikimedia Commons](https://en.wikipedia.org/wiki/File:Vennandornot.svg)) that express the three respective algebraic operations:  conjunction (and), disjunction (or), and complement (not).\n",
    "\n",
    "![venn](img/venn.png)\n",
    "\n",
    "\n",
    "\n",
    "## AND \n",
    "\n",
    "The `and` operator, like in plain English, is used when two conditions must hold at the same time. It thus takes two arguments, and returns `True` if, and only if, both of them are `True`. Otherwise it returns `False`."
   ]
  },
  {
   "cell_type": "code",
   "execution_count": 47,
   "metadata": {
    "collapsed": false
   },
   "outputs": [
    {
     "name": "stdout",
     "output_type": "stream",
     "text": [
      "Both conditions are true!\n"
     ]
    }
   ],
   "source": [
    "condition1 = 2<4\n",
    "condition2 = (6/3) == 2\n",
    "if (condition1) and (condition2):\n",
    "    print \"Both conditions are true!\"\n",
    "else:\n",
    "    print \"mmh..something's wrong\""
   ]
  },
  {
   "cell_type": "markdown",
   "metadata": {},
   "source": [
    "## OR \n",
    "\n",
    "The `or` operator is used to represent the case when, out of two conditions *either (or both!)* are  `True`. If this happens, the operator returns `True`. If both are `False` it evalutes to  `False`."
   ]
  },
  {
   "cell_type": "code",
   "execution_count": 50,
   "metadata": {
    "collapsed": false
   },
   "outputs": [
    {
     "name": "stdout",
     "output_type": "stream",
     "text": [
      "mmh..they must be false at the same time\n"
     ]
    }
   ],
   "source": [
    "condition1 = 2<4\n",
    "condition2 = (6/3) != 2\n",
    "if (condition1) or (condition2):\n",
    "    print \"Either (or both) conditions are true!\"\n",
    "else:\n",
    "    print \"mmh..they must be false at the same time\""
   ]
  },
  {
   "cell_type": "markdown",
   "metadata": {},
   "source": [
    "#### A challange for you!"
   ]
  },
  {
   "cell_type": "code",
   "execution_count": 51,
   "metadata": {
    "collapsed": false
   },
   "outputs": [
    {
     "ename": "SyntaxError",
     "evalue": "invalid syntax (<ipython-input-51-5a9697b50cae>, line 8)",
     "output_type": "error",
     "traceback": [
      "\u001b[0;36m  File \u001b[0;32m\"<ipython-input-51-5a9697b50cae>\"\u001b[0;36m, line \u001b[0;32m8\u001b[0m\n\u001b[0;31m    elif:\u001b[0m\n\u001b[0m        ^\u001b[0m\n\u001b[0;31mSyntaxError\u001b[0m\u001b[0;31m:\u001b[0m invalid syntax\n"
     ]
    }
   ],
   "source": [
    "# Try to change the values of conditions\n",
    "# and see the different outcomes\n",
    "# but before fix the Syntax Errors and the Exceptions!\n",
    "condition1 = 2<4\n",
    "condition2 ??? (6/3) != 2\n",
    "if (condition1) ??? (condition2):\n",
    "    print \"Either (or both) conditions are true!\"\n",
    "elif:\n",
    "print \"mmh..they must be false at the same time\""
   ]
  },
  {
   "cell_type": "markdown",
   "metadata": {},
   "source": [
    "## NOT \n",
    "\n",
    "Lastly, similar to Boolean Algebra's complement operation, the `not` operator allows you to invert the value of a Boolean type (i.e. effectively transforming a `True` in a `False` and vice-versa)."
   ]
  },
  {
   "cell_type": "code",
   "execution_count": 52,
   "metadata": {
    "collapsed": false
   },
   "outputs": [
    {
     "name": "stdout",
     "output_type": "stream",
     "text": [
      "False\n"
     ]
    }
   ],
   "source": [
    "# Like so:\n",
    "conditionInverted  = not (2 == 2)\n",
    "print conditionInverted"
   ]
  },
  {
   "cell_type": "markdown",
   "metadata": {},
   "source": [
    "#### A challange for you!"
   ]
  },
  {
   "cell_type": "code",
   "execution_count": 54,
   "metadata": {
    "collapsed": false
   },
   "outputs": [
    {
     "name": "stdout",
     "output_type": "stream",
     "text": [
      "I'm True\n"
     ]
    }
   ],
   "source": [
    "# Can you guess the result of this code?\n",
    "if not conditionInverted:\n",
    "   print(\"I'm True\")\n",
    "elif not (4%3  != 1):\n",
    "   print(\"2\")\n",
    "else:\n",
    "   print(\"99\" == str(99)+1)"
   ]
  },
  {
   "cell_type": "markdown",
   "metadata": {},
   "source": [
    "# Code (Applied Geo-Example)\n",
    "---\n",
    "\n",
    "The aim of the excercise is to build a tiny program that allows a user to choose a given London borough from a list, and get in return both its total population and a link to a OpenStreetMap that pin points its location.\n",
    "\n",
    "We are going to introduce a function called `input` that, as the name implies, takes an input from the user (interactively, that is!). We'll use it to interact with the user of our program. The input is going to be saved in a variable called `user_input`.\n",
    "\n",
    "I've provided a basic scaffolding of the code. It covers the case where the user choses the City borough, or inputs something wrong. Complete the script to cover the remaining cases using the scaffolded code.\n",
    "\n",
    "HINT: You will need to use `elif` statements to check for the various cases that use user might input.\n",
    "\n"
   ]
  },
  {
   "cell_type": "code",
   "execution_count": 2,
   "metadata": {
    "collapsed": false
   },
   "outputs": [
    {
     "name": "stdout",
     "output_type": "stream",
     "text": [
      "\n",
      "Choose a neighbourhood by type the corresponding number:\n",
      "1- City of London\n",
      "2- Lambeth\n",
      "3- Camden\n",
      "4- Hackney\n",
      "3\n"
     ]
    }
   ],
   "source": [
    "# some initial configuration to make every work\n",
    "import sys\n",
    "reload(sys)\n",
    "sys.setdefaultencoding(\"utf-8\")\n",
    "\n",
    "# variable with the City's total population\n",
    "city_of_London = 7.375\n",
    "# City's map marker\n",
    "city_coords = \"http://www.openstreetmap.org/?mlat=51.5151&mlon=-0.0933#map=14/51.5151/-0.0933\"\n",
    "\n",
    "# Other use cases\n",
    "# camden = 220.338\n",
    "# camden_coords = \"http://www.openstreetmap.org/?mlat=51.5424&mlon=-0.2252#map=12/51.5424/-0.2252\"\n",
    "# hackney = 246.270\n",
    "# hackney_coords = \"http://www.openstreetmap.org/?mlat=51.5432&mlon=-0.0709#map=13/51.5432/-0.0709\"\n",
    "# lambeth = 303.086\n",
    "# lambeth_coords = http://www.openstreetmap.org/?mlat=51.5013&mlon=-0.1172#map=13/51.5013/-0.1172\n",
    "\n",
    "# Let's ask the user for some input\n",
    "# and store his answer\n",
    "user_input = input(\"\"\"\n",
    "Choose a neighbourhood by type the corresponding number:\n",
    "1- City of London\n",
    "2- Lambeth\n",
    "3- Camden\n",
    "4- Hackney\n",
    "\"\"\")\n",
    "\n",
    "# Arbitrarily assign case 1 to City of London borough\n",
    "if user_input == 1:    \n",
    "    choosen_borough = city_of_London\n",
    "    borough_coordinates = city_coords \n",
    "    # print the output\n",
    "    # notice we are casting the user answer to string\n",
    "    print \"You have choosen number : \"+ str(user_input)\n",
    "    print \"The corresponding borough has a population of \"+ str(choosen_borough) +\" thousand people\"\n",
    "    print \"Visit the borough clicking here: \" + borough_coordinates\n",
    "# ---------------\n",
    "# add more cases here...\n",
    "# ---------------\n",
    "else:\n",
    "    print \"That's not in my system. Please try again!\"\n",
    "\n",
    "\n",
    "\n"
   ]
  },
  {
   "cell_type": "markdown",
   "metadata": {
    "collapsed": true
   },
   "source": [
    "**Congratulations on finishing your third lesson, and enjoy your trip to the beautiful Null Island!*** \n",
    "\n",
    "\n"
   ]
  }
 ],
 "metadata": {
  "anaconda-cloud": {},
  "kernelspec": {
   "display_name": "Python 2",
   "language": "python",
   "name": "python2"
  },
  "language_info": {
   "codemirror_mode": {
    "name": "ipython",
    "version": 2
   },
   "file_extension": ".py",
   "mimetype": "text/x-python",
   "name": "python",
   "nbconvert_exporter": "python",
   "pygments_lexer": "ipython2",
   "version": "2.7.11"
  }
 },
 "nbformat": 4,
 "nbformat_minor": 0
}
