{
 "cells": [
  {
   "cell_type": "markdown",
   "metadata": {},
   "source": [
    "# Notebook-6: Loops and Iteration"
   ]
  },
  {
   "cell_type": "markdown",
   "metadata": {},
   "source": [
    "\n",
    "### Lesson Content \n",
    "\n",
    "- Range\n",
    "- While Loop\n",
    "- For Loop    \n",
    "    - For in loop\n",
    "    - Iteration by Sequence Index\n",
    "\n",
    "\n",
    "Welcome to the sixth Code Camp notebook! In this lesson we cover the concept of *iteration*, which is basically the idea of repeating the same set of instructions until a certain condition is met (i.e. you reached the given number of times). This sequence of instructions is also called a *loop*.   \n",
    "\n",
    "This is an extremely important and powerful concept, as it allows us to finally *automate* tasks! Remeber that a foundamental feature of programmers is that they are *lazy* (refresh [Larry Wall's *\"Three Virtues\"*](www.threevirtues.com) that we saw in the first notebook!) . The more you can delegate to the machine and avoid repeating boring and repetitive tasks yourself, the better it is!\n",
    "\n",
    "Of course, as the fantastic [Randall Munroe](https://xkcd.com/about/) likes to remind us, reality begs to differ..\n",
    "![xkcd-automation](img/automation.png)\n",
    "\n"
   ]
  },
  {
   "cell_type": "markdown",
   "metadata": {},
   "source": [
    "# Range\n",
    "----\n",
    "\n",
    "Although not an iteration operator itself, the function `range` is often used in combination whith other operators in a *loop*. \n",
    "\n",
    "The `range` function is similar to the function *`len()`* that you've seen in the previous notebook: you call it by calling its name follwed by a set of parenthesis and passing within those parenthesis some input that you want it to elaborate."
   ]
  },
  {
   "cell_type": "code",
   "execution_count": 3,
   "metadata": {
    "collapsed": false
   },
   "outputs": [
    {
     "data": {
      "text/plain": [
       "3"
      ]
     },
     "execution_count": 3,
     "metadata": {},
     "output_type": "execute_result"
    }
   ],
   "source": [
    "# remeber len()? what does it do?\n",
    "len( [2,\"hallo\", 9.0] )"
   ]
  },
  {
   "cell_type": "markdown",
   "metadata": {},
   "source": [
    "The function `range` is used instead to create a sequence of values. It accepts at *least one* parameter as input, and always returns a list as output. It's quite handy for instance when you have to type lots of sequentially ordered numbers:"
   ]
  },
  {
   "cell_type": "code",
   "execution_count": 4,
   "metadata": {
    "collapsed": false
   },
   "outputs": [
    {
     "data": {
      "text/plain": [
       "[0, 1, 2, 3, 4, 5, 6, 7, 8, 9]"
      ]
     },
     "execution_count": 4,
     "metadata": {},
     "output_type": "execute_result"
    }
   ],
   "source": [
    "range(10)"
   ]
  },
  {
   "cell_type": "code",
   "execution_count": null,
   "metadata": {
    "collapsed": true
   },
   "outputs": [],
   "source": [
    "# note: to check if the output of range()\n",
    "# is effectively a list, \n",
    "# we can use the type() function\n",
    "type(range(10))"
   ]
  },
  {
   "cell_type": "markdown",
   "metadata": {},
   "source": [
    "Notice that before I said that it accepts *at least* one parameter as input. If you look in fact at the ouputted numbers you'll notice that the function assumes you are starting the range from 0. To define the lower boundary of your range, use have to use *two input parameters*:"
   ]
  },
  {
   "cell_type": "code",
   "execution_count": 5,
   "metadata": {
    "collapsed": false
   },
   "outputs": [
    {
     "data": {
      "text/plain": [
       "[5, 6, 7, 8, 9]"
      ]
     },
     "execution_count": 5,
     "metadata": {},
     "output_type": "execute_result"
    }
   ],
   "source": [
    "# what is different in the ouput?\n",
    "range(5,10)"
   ]
  },
  {
   "cell_type": "markdown",
   "metadata": {},
   "source": [
    "`range` accepts even a third parameter! Which is in fact used to specify a given step for your sequence:"
   ]
  },
  {
   "cell_type": "code",
   "execution_count": 6,
   "metadata": {
    "collapsed": false
   },
   "outputs": [
    {
     "data": {
      "text/plain": [
       "[5, 10, 15]"
      ]
     },
     "execution_count": 6,
     "metadata": {},
     "output_type": "execute_result"
    }
   ],
   "source": [
    "# I want a sequence of all numbers from 5 to 20\n",
    "# with a step of 5\n",
    "range(5,20,5)"
   ]
  },
  {
   "cell_type": "markdown",
   "metadata": {},
   "source": [
    "#### A challenge for you!"
   ]
  },
  {
   "cell_type": "code",
   "execution_count": 2,
   "metadata": {
    "collapsed": false
   },
   "outputs": [
    {
     "name": "stdout",
     "output_type": "stream",
     "text": [
      "15\n"
     ]
    }
   ],
   "source": [
    "# what do you think will be the output of this code?\n",
    "sequence_of_numbers = range(5,30,5)\n",
    "print(sequence_of_numbers[2])"
   ]
  },
  {
   "cell_type": "markdown",
   "metadata": {},
   "source": [
    "## WHILE Loop\n",
    "\n",
    "Remeber `if` statements? As we saw in notebook-4, when the Python interpreter finds an  `if` statement in your code, it checks if the specified condition evalutes to `True`. If it does it runs the *indented* block following it with the caveat that block of code is only run once.\n",
    "\n",
    "Using the `while` statement instead, as long as the condition evalutes to `True`, the block of code is run again and again.\n",
    "\n",
    "This allows us to finally do some interesting stuff:"
   ]
  },
  {
   "cell_type": "code",
   "execution_count": 31,
   "metadata": {
    "collapsed": false
   },
   "outputs": [
    {
     "name": "stdout",
     "output_type": "stream",
     "text": [
      "The counter is at: 1\n",
      "The counter is at: 2\n",
      "The counter is at: 3\n",
      "The counter is at: 4\n",
      "The counter is at: 5\n",
      "The counter is at: 6\n",
      "The counter is at: 7\n",
      "The counter is at: 8\n",
      "The counter is at: 9\n",
      "The counter is at: 10\n",
      "The while ended. Back to the rest of the code exection\n"
     ]
    }
   ],
   "source": [
    "myVariable = \"The counter is at: \"\n",
    "counter = 1\n",
    "while counter <= 10:\n",
    "    print myVariable + str(counter)\n",
    "    counter += 1\n",
    "    \n",
    "print \"The while ended. Back to the rest of the code exection\"\n"
   ]
  },
  {
   "cell_type": "markdown",
   "metadata": {},
   "source": [
    "If that looks confusing, don't worry! It's perfectly normal as that's your first example of *iteration*. Congrats!\n",
    "\n",
    "Let's take a deeper look:\n",
    "- first of all we defined a variable named `myVariable` with a string of text as value.\n",
    "- Then we defined a variable `counter` and we assigned it the value of 1. \n",
    "- Then we used the `while` statement to check if the value of `counter` was less then 10. \n",
    "- Since that condition evaluated to `True`, we added 1 to `counter` and then printed the value of `myVariable`. \n",
    "- This procedure has been run by Python *until* the `while` statement returned a `False`.\n",
    "- After that Python simply continued to execute the code outside the `while`*block*\n",
    "\n",
    "The fundamental idea is thus: *until this condition hold, repeat the instruction*.\n",
    "\n",
    "A usually confusing step while learning loops, is the fact that the value of `counter` is increasing. Remeber that we are starting the instruction from the beginning of the while *block*. So the first time that we hit it, `counter` has value of 1, but the second...it will be equal to 2, as we increased its value in the while *block* and then jumped back to the beginning of the block. At the beginning of the third iteration it will have thus value of 3, while at its end it will be incremented to 4. And so on...\n",
    "\n",
    "\n",
    "CAVEAT: pay attention to `while` *loops* as they can potentially run forever (as long as the condition they are evaluating is `True`) maxing out your machine's memory.\n",
    "\n",
    "```python\n",
    "# don't run this!\n",
    "# or if you do, save everything first\n",
    "# and then be prepared to stop the code execution manually \n",
    "# (usually by pressing CTRL+D or Cmd+D)\n",
    "# in the terminale/console\n",
    "while True:\n",
    "    print \"Forever Loop! Yeeee!\"\n",
    "```\n",
    "\n",
    "\n"
   ]
  },
  {
   "cell_type": "markdown",
   "metadata": {},
   "source": [
    "#### A challenge for you!"
   ]
  },
  {
   "cell_type": "code",
   "execution_count": 32,
   "metadata": {
    "collapsed": false
   },
   "outputs": [
    {
     "ename": "SyntaxError",
     "evalue": "invalid syntax (<ipython-input-32-7890a1c2975e>, line 5)",
     "output_type": "error",
     "traceback": [
      "\u001b[0;36m  File \u001b[0;32m\"<ipython-input-32-7890a1c2975e>\"\u001b[0;36m, line \u001b[0;32m5\u001b[0m\n\u001b[0;31m    while ??? <+ 10:\u001b[0m\n\u001b[0m          ^\u001b[0m\n\u001b[0;31mSyntaxError\u001b[0m\u001b[0;31m:\u001b[0m invalid syntax\n"
     ]
    }
   ],
   "source": [
    "# Complete the code to run a while loop\n",
    "# that prints only odd numbers \n",
    "otherCounter = 1\n",
    "onlyOddNumbers = \"This is a odd number: \"\n",
    "while ??? <= 10:\n",
    "    print onlyOddNumbers + str(otherCounter)\n",
    "    ??? += 2"
   ]
  },
  {
   "cell_type": "markdown",
   "metadata": {},
   "source": [
    "You can also run `while` loops decrementally until they meet a certain condition"
   ]
  },
  {
   "cell_type": "code",
   "execution_count": 14,
   "metadata": {
    "collapsed": false
   },
   "outputs": [
    {
     "name": "stdout",
     "output_type": "stream",
     "text": [
      "10\n",
      "9\n",
      "8\n",
      "7\n",
      "6\n",
      "5\n",
      "4\n",
      "3\n",
      "2\n",
      "1\n"
     ]
    }
   ],
   "source": [
    "# note that in this example I'm just using the counter\n",
    "# and no other variables\n",
    "myThirdCounter = 10\n",
    "while myThirdCounter != 0:\n",
    "    print myThirdCounter\n",
    "    myThirdCounter -= 1\n",
    "\n"
   ]
  },
  {
   "cell_type": "markdown",
   "metadata": {},
   "source": [
    "To interrupt prematurely the execution of a while loop you can use the **`break`** statement"
   ]
  },
  {
   "cell_type": "code",
   "execution_count": 15,
   "metadata": {
    "collapsed": false
   },
   "outputs": [
    {
     "name": "stdout",
     "output_type": "stream",
     "text": [
      "1\n",
      "2\n",
      "3\n",
      "4\n",
      "time to escape this madness!\n"
     ]
    }
   ],
   "source": [
    "myFourthCounter = 1\n",
    "while myFourthCounter < 10:\n",
    "    print myFourthCounter\n",
    "    myFourthCounter += 1\n",
    "    if myFourthCounter == 5:\n",
    "        print \"time to escape this madness!\"\n",
    "        break"
   ]
  },
  {
   "cell_type": "markdown",
   "metadata": {},
   "source": [
    "Similarly, to continue the exection of a `while` loop use the **`continue`** statement. It will keep it going no matter what. This allows us to express some pretty powerful concepts. In the following example for instance I'm going to skip all even numbers, and print `WOOT!` if I hit a lucky 7 (or any number divisible by 7). To avoid crashing the Jupyter Notebook I'll `break` out code execution after hitting the 21<sup>st</sup> iteration."
   ]
  },
  {
   "cell_type": "code",
   "execution_count": 3,
   "metadata": {
    "collapsed": false
   },
   "outputs": [
    {
     "name": "stdout",
     "output_type": "stream",
     "text": [
      "A\n"
     ]
    }
   ],
   "source": [
    "# note that from now on I'll use simple names\n",
    "# like i or j\n",
    "# for variables that are only used as counters within loops\n",
    "# this is a stylistic convention to write more concise code\n",
    "\n",
    "i = 0\n",
    "while True:\n",
    "   i = i +1\n",
    "   if i % 2 == 0:\n",
    "      continue\n",
    "   if (i == 7) or (i % 7 == 0):\n",
    "      print \"WOOT!\"\n",
    "   if i == 21:\n",
    "      break\n",
    "   print i"
   ]
  },
  {
   "cell_type": "markdown",
   "metadata": {},
   "source": [
    "#### A challenge for you!"
   ]
  },
  {
   "cell_type": "code",
   "execution_count": 4,
   "metadata": {
    "collapsed": false
   },
   "outputs": [
    {
     "ename": "SyntaxError",
     "evalue": "invalid syntax (<ipython-input-4-bf9efc618009>, line 3)",
     "output_type": "error",
     "traceback": [
      "\u001b[1;36m  File \u001b[1;32m\"<ipython-input-4-bf9efc618009>\"\u001b[1;36m, line \u001b[1;32m3\u001b[0m\n\u001b[1;33m    print shortSentence2[???:???]\u001b[0m\n\u001b[1;37m                         ^\u001b[0m\n\u001b[1;31mSyntaxError\u001b[0m\u001b[1;31m:\u001b[0m invalid syntax\n"
     ]
    }
   ],
   "source": [
    "# fix the code below\n",
    "# and use it to print only even numbers under 22\n",
    "i = 0\n",
    "while True:\n",
    "   i = i +1\n",
    "   if i % 2 != 0:\n",
    "      ???  \n",
    "   if i == 22:\n",
    "      ???\n",
    "   print i"
   ]
  },
  {
   "cell_type": "markdown",
   "metadata": {},
   "source": [
    "What you just saw with the `while` statement is effectively a way of iterating, i.e. of repeating a certain set of instruction until a given condition is met (in the previous case, until the counter variable remained smaller than the one we were checking it against). \n",
    "\n",
    "And we can use to our advantage, to retrieve for instance all the elements in a list"
   ]
  },
  {
   "cell_type": "code",
   "execution_count": 4,
   "metadata": {
    "collapsed": false
   },
   "outputs": [
    {
     "name": "stdout",
     "output_type": "stream",
     "text": [
      "lovelace was a british computer scientist\n",
      "turing was a british computer scientist\n"
     ]
    }
   ],
   "source": [
    "# remember our friends, the british computer scientists?\n",
    "britishCompList = [\"babbage\", \"lovelace\", \"turing\"]\n",
    "\n",
    "counter = 1\n",
    "# this is the condition python is going to check against\n",
    "stoppingCondition = len(britishCompList)\n",
    "\n",
    "while counter < stoppingCondition:\n",
    "    print britishCompList[counter] + \" was a british computer scientist\"\n",
    "# don't forget to increment the counter!!!\n",
    "    counter +=1"
   ]
  },
  {
   "cell_type": "markdown",
   "metadata": {},
   "source": [
    "Wow, lot of stuff in that chunk of code, eh? Well, once again, take a deep breath and go through it line by line.\n",
    "\n",
    "The important bits are:\n",
    "- notice that this time we used the `len` of `britishCompList` as stopping condition, instead of specifying ourselves a number.\n",
    "-  we accessed the items in the list with a regular index, like we have done in the past. The difference is that this time the index was the variable `counter`, as at each iteration `counter` assumes the value of 0, 1 ... until the stopping condition is met. This is equivalent to writing :\n",
    "\n",
    "```python\n",
    "print britishCompList[0]  # on the first iteration\n",
    "print britishCompList[1]  # on the second iteration\n",
    "```\n"
   ]
  },
  {
   "cell_type": "markdown",
   "metadata": {},
   "source": [
    "#### A challenge for you!"
   ]
  },
  {
   "cell_type": "markdown",
   "metadata": {},
   "source": [
    "But..wait a second..what about the great Babbage? Why isn't his name displayed? Certainly not because he's not worth to mention! Can you spot the reason why the iteration skipped him? \n",
    "HINT: check (using `print`) the values of `counter` and `britishCompList`. What is the condition we are asking Python to ask if it `True`?"
   ]
  },
  {
   "cell_type": "markdown",
   "metadata": {},
   "source": [
    "#### A challenge for you!"
   ]
  },
  {
   "cell_type": "code",
   "execution_count": 14,
   "metadata": {
    "collapsed": false
   },
   "outputs": [
    {
     "name": "stdout",
     "output_type": "stream",
     "text": [
      "These are geniuses too! Torvald\n",
      "These are geniuses too! Knuth\n",
      "These are geniuses too! Swartz\n"
     ]
    }
   ],
   "source": [
    "# complete the following code\n",
    "counter = ???\n",
    "nonBritishProgrammers = [\"Torvald\", \"Knuth\", \"Swartz\"]\n",
    "stoppingCondition = len(nonBritishProgrammers)\n",
    "\n",
    "while counter < stoppingCondition :\n",
    "    print \"These are geniuses too! \" + nonBritishProgrammers[counter]\n",
    "#  always remember to increment the counter!!!\n",
    "    counter +=1"
   ]
  },
  {
   "cell_type": "markdown",
   "metadata": {},
   "source": [
    "*CAVEAT*: An important condition to remember when iterating over a list is thus that lists are *zero-indexed*! If if you start you counter from 1 you will certainly miss the first item in the list (which has an index of 0). \n",
    "\n",
    "But watch out! There's more:"
   ]
  },
  {
   "cell_type": "markdown",
   "metadata": {},
   "source": [
    "#### A challenge for you!"
   ]
  },
  {
   "cell_type": "code",
   "execution_count": 17,
   "metadata": {
    "collapsed": false
   },
   "outputs": [
    {
     "name": "stdout",
     "output_type": "stream",
     "text": [
      "These are geniuses too! Torvald\n",
      "These are geniuses too! Knuth\n",
      "These are geniuses too! Swartz\n"
     ]
    }
   ],
   "source": [
    "# Can you guess why I needed to \n",
    "# subtract -1 to the list's len?\n",
    "# HINT: Check again the condition. Is the same as before?\n",
    "counter = 0\n",
    "nonBritishProgrammers = [\"Torvald\", \"Knuth\", \"Swartz\"]\n",
    "stoppingCondition = len(nonBritishProgrammers) -1\n",
    "\n",
    "while counter <= stoppingCondition :\n",
    "    print \"These are geniuses too! \" + nonBritishProgrammers[counter]\n",
    "#  always remember to increment the counter!!!\n",
    "    counter +=1"
   ]
  },
  {
   "cell_type": "markdown",
   "metadata": {},
   "source": [
    "## FOR Loop\n",
    "\n",
    "\n",
    "By jove! What a verbose way of iterating, with all those counters and things. Especially considering how terse Python's language usually is! Surely there must be another way, isn't it?\n",
    "\n",
    "You guessed right, my friend! Let me introduce you to the `for in` statement:"
   ]
  },
  {
   "cell_type": "code",
   "execution_count": 5,
   "metadata": {
    "collapsed": false
   },
   "outputs": [
    {
     "name": "stdout",
     "output_type": "stream",
     "text": [
      "babbage\n",
      "lovelace\n",
      "turing\n"
     ]
    }
   ],
   "source": [
    "for programmer in britishCompList:\n",
    "    print programmer"
   ]
  },
  {
   "cell_type": "markdown",
   "metadata": {},
   "source": [
    "As you can see, the `for in` statement is much more concise: You simply tell Python to repeat a certain instruction (print the item in the previous example) *for AN ITEM in A SEQUENCE*.\n",
    "Python will stop automatically when the sequence is finished, without you having to worry about specifying the stopping condition (like instead you would normally do in `while` loop).\n",
    "\n",
    "Notice also that we didn't have to correctly initialise the counter value, and that its value is automtically the element in the list for the current iteration index, i.e.:\n",
    "\n",
    "The biggest difference between a `while` and a `for` loop is thus not simply stylistic! But also conceptual.  Let me recap with another example:"
   ]
  },
  {
   "cell_type": "code",
   "execution_count": 19,
   "metadata": {
    "collapsed": false
   },
   "outputs": [
    {
     "name": "stdout",
     "output_type": "stream",
     "text": [
      "Element number 0\n",
      "Element number 1\n",
      "Element number 2\n",
      "Element number 3\n",
      "Element number 4\n"
     ]
    }
   ],
   "source": [
    "# WHILE LOOP\n",
    "whileCounter = 0\n",
    "myList = [0,1,2,3,4]\n",
    "stoppingCondition = len(myList)\n",
    "while whileCounter < stoppingCondition:\n",
    "    print \"Element number\", myList[whileCounter]\n",
    "    whileCounter +=1 "
   ]
  },
  {
   "cell_type": "code",
   "execution_count": 20,
   "metadata": {
    "collapsed": false
   },
   "outputs": [
    {
     "name": "stdout",
     "output_type": "stream",
     "text": [
      "Element number 0\n",
      "Element number 1\n",
      "Element number 2\n",
      "Element number 3\n",
      "Element number 4\n"
     ]
    }
   ],
   "source": [
    "for element in myList:\n",
    "     print \"Element number\", element"
   ]
  },
  {
   "cell_type": "markdown",
   "metadata": {},
   "source": [
    "See how the value of `myList[whileCounter]` and that of `element` in the two loops are the same? That's precisely because Python is doing the indexing job for you behind the scenes! But it's not \n",
    "\n",
    "So when should you use a `while loop` and when a `for loop`? Check out these resources\n",
    "#links to so"
   ]
  },
  {
   "cell_type": "markdown",
   "metadata": {},
   "source": [
    "#### A challenge for you!"
   ]
  },
  {
   "cell_type": "code",
   "execution_count": 23,
   "metadata": {
    "collapsed": false
   },
   "outputs": [
    {
     "ename": "SyntaxError",
     "evalue": "invalid syntax (<ipython-input-23-551c47de1836>, line 4)",
     "output_type": "error",
     "traceback": [
      "\u001b[0;36m  File \u001b[0;32m\"<ipython-input-23-551c47de1836>\"\u001b[0;36m, line \u001b[0;32m4\u001b[0m\n\u001b[0;31m    for ??? in numbers:\u001b[0m\n\u001b[0m        ^\u001b[0m\n\u001b[0;31mSyntaxError\u001b[0m\u001b[0;31m:\u001b[0m invalid syntax\n"
     ]
    }
   ],
   "source": [
    "# print only the odd numbers in the list\n",
    "# HINT: remember the modulo operator?\n",
    "numbers = [1,2,3,4,5,6,7,8,9,10]\n",
    "for ??? in numbers:\n",
    "    if (??? % 2):\n",
    "        print ???"
   ]
  },
  {
   "cell_type": "markdown",
   "metadata": {},
   "source": [
    "Now, as we are *lazy* programmers, let's repeat the above example combining the `range` function with a `for` loop. It will save us the hassle of typing all those numbers!"
   ]
  },
  {
   "cell_type": "code",
   "execution_count": 24,
   "metadata": {
    "collapsed": false
   },
   "outputs": [
    {
     "name": "stdout",
     "output_type": "stream",
     "text": [
      "0\n",
      "1\n",
      "2\n",
      "3\n",
      "4\n",
      "5\n",
      "6\n",
      "7\n",
      "8\n",
      "9\n"
     ]
    }
   ],
   "source": [
    "for i in range(10):\n",
    "    print i"
   ]
  },
  {
   "cell_type": "code",
   "execution_count": 30,
   "metadata": {
    "collapsed": false
   },
   "outputs": [
    {
     "name": "stdout",
     "output_type": "stream",
     "text": [
      "Charles\n",
      "Alan\n",
      "Ada\n"
     ]
    }
   ],
   "source": [
    "dictionary = {\n",
    "    \"Charles\": \"Babbage\",\n",
    "    \"Ada\": \"Lovelace\",\n",
    "    \"Alan\":\"Turing\"\n",
    "}\n",
    "for key,value in dictionary.iteritems():\n",
    "    print key"
   ]
  },
  {
   "cell_type": "markdown",
   "metadata": {},
   "source": [
    "# Code (Applied Geo-example)"
   ]
  },
  {
   "cell_type": "markdown",
   "metadata": {},
   "source": [
    "Let's continue our trips around the world! This time though, we'll do things better, and instead of using a simple URL, we are going to use a real-word geographic data type, that you can use on a web-map or in your favourite GIS software.\n",
    "\n",
    "If you look down below at the `KCL_position` variable you'll see that we're assigning it an apparently complex and scary data structure.  Don't be afraid!  If you look closely enough you will notice that is just made out the \"building blocks\" that we've seen so far: `floats`, `lists`, `strings`..all wrapped comfortably in a cozy `dictionary`!\n",
    "\n",
    "This is simply  a formalised way to represent a *geographic marker* (a pin on the map!) in a format called `GeoJSON`.\n",
    "\n",
    "According to the awesome [Lizy Diamond](https://twitter.com/lyzidiamond?lang=en-gb) \n",
    "\n",
    ">[GeoJSON](http://geojson.org/geojson-spec.html) is an open and popular geographic data format commonly used in web applications. It is an extension of a format called [JSON](http://json.org), which stands for *JavaScript Object Notation*. Basically, JSON is a table turned on its side. GeoJSON extends JSON by adding a section called \"geometry\" such that you can define coordinates for the particular object (point, line, polygon, multi-polygon, etc). A point in a GeoJSON file might look like this:\n",
    "\n",
    "    {\n",
    "      \"type\": \"Feature\",\n",
    "      \"geometry\": {\n",
    "        \"type\": \"Point\",\n",
    "        \"coordinates\": [\n",
    "          -122.65335738658904,\n",
    "          45.512083676585156\n",
    "        ]\n",
    "      },\n",
    "      \"properties\": {\n",
    "        \"name\": \"Hungry Heart Cupcakes\",\n",
    "        \"address\": \"1212 SE Hawthorne Boulevard\",\n",
    "        \"website\": \"http://www.hungryheartcupcakes.com\",\n",
    "        \"gluten free\": \"no\"\n",
    "      }\n",
    "    }\n",
    "    \n",
    ">GeoJSON files have to have both a `\"geometry\"` section and a `\"properties\"` section. The `\"geometry\"` section houses the geographic information of the feature (its location and type) and the `\"properties\"` section houses all of the descriptive information about the feature (like fields in an attribute table). [Source](https://github.com/lyzidiamond/learn-geojson)\n",
    "\n",
    "\n",
    "Now, in order to have our first \"webmap\", we have to re-create such `GeoJSON` structure. \n",
    "\n",
    "As you can see there are two variables containing King's College Longitute/Latitude coordinate position. Unfortunately they are in the wrong data type. Also, the variable `longitude` is not included in the list `KCLCoords` and the list itself is not assigned as a value to the `KCLGeometry`dictionary.\n",
    "\n",
    "Take all the necessary steps to fix the code, using the functions we've seen so far.\n",
    "\n"
   ]
  },
  {
   "cell_type": "code",
   "execution_count": null,
   "metadata": {
    "collapsed": true
   },
   "outputs": [],
   "source": [
    "# don't worry about the following line\n",
    "# I'm simply requesting a module from Python\n",
    "# to have additional functions at my disposal\n",
    "# which usually are not immediately available\n",
    "import json\n",
    "\n",
    "# King's College coordinates\n",
    "# What format are they in? Does it seem appropriate?\n",
    "# How would you convert them back to numbers?\n",
    "longitude = '-0.11596798896789551'\n",
    "latitude = '51.51130657591914'\n",
    "\n",
    "# use the appropriate function to insert the item \n",
    "KCLCoords = [??? , latitude ]\n",
    "\n",
    "# how can you assign KCLCoords to the key KCLGeometry[\"coordinates\"]?\n",
    "KCLGeometry = {\n",
    "        \"type\": \"Point\",\n",
    "        \"coordinates\": ???\n",
    "      }\n",
    "\n",
    "KCL_position = {\n",
    "  \"type\": \"FeatureCollection\",\n",
    "  \"features\": [\n",
    "    {\n",
    "      \"type\": \"Feature\",\n",
    "      \"properties\": {\n",
    "        \"marker-color\": \"#7e7e7e\",\n",
    "        \"marker-size\": \"medium\",\n",
    "        \"marker-symbol\": \"building\",\n",
    "        \"name\": \"KCL\"\n",
    "      },\n",
    "      \"geometry\": KCLGeometry\n",
    "    }\n",
    "  ]\n",
    "}\n",
    "\n",
    "# OUTPUT\n",
    "# -----------------------------------------------------------\n",
    "# I'm justing using the \"imported\" module to print the output\n",
    "# in a nice and formatted way\n",
    "print(json.dumps(KCL_position, indent=4))\n",
    "# here I'm saving the variable to a file on your local machine\n",
    "with open('my-first-marker.geojson', 'w') as outfile:\n",
    "    json.dump(json.dumps(KCL_position, indent=4), outfile)"
   ]
  },
  {
   "cell_type": "markdown",
   "metadata": {},
   "source": [
    "After you've run the code, Python will save a new file called `my-first-marker.geojson` in the folder where you are running the notebook.\n",
    "Try to upload it on [this website (Geojson.io)](http://geojson.io/#map=2/20.0/0.0) and see what it shows!                                               "
   ]
  },
  {
   "cell_type": "markdown",
   "metadata": {
    "collapsed": true
   },
   "source": [
    "**Congratulations on finishing your fifth notebook!**"
   ]
  },
  {
   "cell_type": "markdown",
   "metadata": {},
   "source": [
    "\n",
    "### Further references:\n",
    "\n",
    "General list or resources\n",
    "- [Awesome list of resources](https://github.com/vinta/awesome-python)\n",
    "- [Python Docs](https://docs.python.org/2.7/tutorial/introduction.html)\n",
    "- [HitchHiker's guide to Python](http://docs.python-guide.org/en/latest/intro/learning/)\n",
    "- [Python for Informatics](http://www.pythonlearn.com/book_007.pdf)\n",
    "- [Learn Python the Hard Way - Lists](http://learnpythonthehardway.org/book/ex32.html)\n",
    "- [Learn Python the Hard Way - Dictionaries](http://learnpythonthehardway.org/book/ex39.html)\n",
    "- [CodeAcademy](https://www.codecademy.com/courses/python-beginner-en-pwmb1/0/1)\n",
    "\n"
   ]
  }
 ],
 "metadata": {
  "anaconda-cloud": {},
  "kernelspec": {
   "display_name": "Python [Root]",
   "language": "python",
   "name": "Python [Root]"
  },
  "language_info": {
   "codemirror_mode": {
    "name": "ipython",
    "version": 2
   },
   "file_extension": ".py",
   "mimetype": "text/x-python",
   "name": "python",
   "nbconvert_exporter": "python",
   "pygments_lexer": "ipython2",
   "version": "2.7.12"
  }
 },
 "nbformat": 4,
 "nbformat_minor": 0
}
